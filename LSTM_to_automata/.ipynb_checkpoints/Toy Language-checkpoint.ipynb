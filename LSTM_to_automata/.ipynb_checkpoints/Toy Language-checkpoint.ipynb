{
 "cells": [
  {
   "cell_type": "code",
   "execution_count": 4,
   "metadata": {
    "collapsed": true
   },
   "outputs": [],
   "source": [
    "import numpy as np\n",
    "import torch\n",
    "import torch.nn as nn\n",
    "from torch.autograd import Variable\n",
    "import torch.nn.functional as F\n",
    "import torch.optim as optim"
   ]
  },
  {
   "cell_type": "markdown",
   "metadata": {},
   "source": [
    "# Create Toy Language"
   ]
  },
  {
   "cell_type": "code",
   "execution_count": 5,
   "metadata": {},
   "outputs": [
    {
     "name": "stdout",
     "output_type": "stream",
     "text": [
      "(18, 18)\n"
     ]
    }
   ],
   "source": [
    "alphabet = [\"(\", \")\"]\n",
    "def random_sentence():\n",
    "    sentence = \"(\"\n",
    "    depth = 1\n",
    "    for j in range(500):\n",
    "        if depth == 0:\n",
    "            if np.random.binomial(1, 0.8) == 1:\n",
    "                sentence += \"(\"\n",
    "                depth += 1\n",
    "            else:\n",
    "                sentence += \"E\"\n",
    "                break\n",
    "        elif depth > 0:\n",
    "            if np.random.binomial(1, 0.4) == 1:\n",
    "                sentence += \"(\"\n",
    "                depth +=1\n",
    "            else:\n",
    "                sentence += \")\"\n",
    "                depth -= 1\n",
    "    return sentence\n",
    "\n",
    "random_sentence()\n",
    "\n",
    "def trainingExample():\n",
    "    text = random_sentence()\n",
    "    return Variable(text2input(text[:-1])), Variable(text2target(text))\n",
    "\n",
    "\n",
    "def text2input(text):\n",
    "    dict_trad = {\"(\" : 0, \")\":1, \"E\":2}\n",
    "    train_vec = torch.zeros(len(text) , 1, 3)\n",
    "    for i, char in enumerate(text):\n",
    "        train_vec[i][0][dict_trad[char]] = 1\n",
    "\n",
    "        \n",
    "    return train_vec\n",
    "\n",
    "def text2target(text):\n",
    "    dict_trad = {\"(\" : 0, \")\":1, \"E\":2}\n",
    "    target_list = [dict_trad[char] for char in text[1:]]\n",
    "    return torch.LongTensor(target_list)\n",
    "\n",
    "a = trainingExample()\n",
    "print(len(a[0]), len(a[1]))"
   ]
  },
  {
   "cell_type": "markdown",
   "metadata": {},
   "source": [
    "# Importing model"
   ]
  },
  {
   "cell_type": "code",
   "execution_count": 6,
   "metadata": {
    "collapsed": true
   },
   "outputs": [],
   "source": [
    "#from model import RNN\n",
    "class RNN(nn.Module):\n",
    "    def __init__(self, input_size, hidden_size, output_size, n_layers=1):\n",
    "        super(RNN, self).__init__()\n",
    "        self.hidden_size = hidden_size\n",
    "        self.n_layers = n_layers\n",
    "        #self.encoder = nn.Embedding(input_size, hidden_size)\n",
    "        self.lstm = nn.LSTM(input_size, hidden_size, n_layers, dropout=0.1)\n",
    "        self.lin = nn.Linear(hidden_size, output_size)\n",
    "        #self.i2o = nn.Linear(n_categories + input_size + hidden_size, output_size)\n",
    "        #self.o2o = nn.Linear(hidden_size + output_size, output_size)\n",
    "        #self.softmax = nn.LogSoftmax()\n",
    "\n",
    "    def forward(self, input, hidden):\n",
    "        #hidden = self.i2h(input_combined)\n",
    "        #output = self.i2o(input_combined)\n",
    "        #output_combined = torch.cat((hidden, output), 1)\n",
    "        output, hidden = self.lstm(input.view(len(input), 1, -1), hidden)\n",
    "        output = self.lin(output.view(1, -1))\n",
    "        #output = self.softmax(output)\n",
    "        return output, hidden\n",
    "\n",
    "\n",
    "    def initHidden(self):\n",
    "        # Before we've done anything, we dont have any hidden state.\n",
    "        # Refer to the Pytorch documentation to see exactly\n",
    "        # why they have this dimensionality.\n",
    "        # The axes semantics are (num_layers, minibatch_size, hidden_dim)\n",
    "        return (Variable(torch.zeros(self.n_layers, 1, self.hidden_size)),\n",
    "                Variable(torch.zeros(self.n_layers, 1, self.hidden_size)))"
   ]
  },
  {
   "cell_type": "code",
   "execution_count": 8,
   "metadata": {},
   "outputs": [
    {
     "name": "stdout",
     "output_type": "stream",
     "text": [
      "3\n"
     ]
    }
   ],
   "source": [
    "hidden_size = 20\n",
    "input_size = 3\n",
    "print(input_size)\n",
    "rnn = RNN(input_size, hidden_size, input_size)"
   ]
  },
  {
   "cell_type": "markdown",
   "metadata": {},
   "source": [
    "# Training the model"
   ]
  },
  {
   "cell_type": "code",
   "execution_count": 9,
   "metadata": {},
   "outputs": [],
   "source": [
    "from training_func import training_iters"
   ]
  },
  {
   "cell_type": "code",
   "execution_count": 10,
   "metadata": {
    "collapsed": true
   },
   "outputs": [],
   "source": [
    "import time, math"
   ]
  },
  {
   "cell_type": "code",
   "execution_count": 11,
   "metadata": {
    "collapsed": true
   },
   "outputs": [],
   "source": [
    "def clip_grad_norm(parameters, max_norm, norm_type=2):\n",
    "    \"\"\" trucate gradient so that its norm stays lower than max_norm\"\"\"\n",
    "    parameters = list(filter(lambda p: p.grad is not None, parameters))\n",
    "    max_norm = float(max_norm)\n",
    "    norm_type = float(norm_type)\n",
    "    total_norm = 0\n",
    "    for p in parameters:\n",
    "        param_norm = p.grad.data.norm(norm_type)\n",
    "        total_norm += param_norm ** norm_type\n",
    "    total_norm = total_norm ** (1 / norm_type)\n",
    "    clip_coef = max_norm / (total_norm + 1e-6)\n",
    "    if clip_coef < 1:\n",
    "        for p in parameters:\n",
    "            p.grad.data.mul_(clip_coef)\n",
    "    return total_norm"
   ]
  },
  {
   "cell_type": "code",
   "execution_count": 12,
   "metadata": {
    "collapsed": true
   },
   "outputs": [],
   "source": [
    "def timeSince(since):\n",
    "    \"\"\" display time in a human-readable way\"\"\"\n",
    "    now = time.time()\n",
    "    s = now - since\n",
    "    m = math.floor(s / 60)\n",
    "    s -= m * 60\n",
    "    return '%dm %ds' % (m, s)"
   ]
  },
  {
   "cell_type": "code",
   "execution_count": 10,
   "metadata": {
    "collapsed": true
   },
   "outputs": [],
   "source": [
    "def train_vanilla(data_list, rnn, criterion, optimizer):\n",
    "    \"\"\"train a simple LSTM (without username) on one batch of passwords.\n",
    "        data_list should be a list of tuple of the form (password_tensor, target_tensor)\n",
    "    \"\"\"\n",
    "    rnn.train()\n",
    "    optimizer.zero_grad()\n",
    "    loss = 0\n",
    "    for password_line_tensor, target_line_tensor in data_list:\n",
    "        hidden_password = rnn.initHidden()\n",
    "\n",
    "        for i in range(password_line_tensor.size()[0]):\n",
    "            output, hidden_password = rnn(password_line_tensor[i], hidden_password)\n",
    "            loss += criterion(output, target_line_tensor[i])\n",
    "\n",
    "    loss.backward()\n",
    "    clip_grad_norm(rnn.parameters(), 3)\n",
    "    optimizer.step()\n",
    "\n",
    "    return output, loss.data[0] / sum([a.size()[0] for a,b in data_list])"
   ]
  },
  {
   "cell_type": "code",
   "execution_count": 11,
   "metadata": {
    "collapsed": true
   },
   "outputs": [],
   "source": [
    "def training_iters_vanilla(n_iters, batch_size, rnn, examplesFunction, criterion=nn.CrossEntropyLoss(), optimizer_name=\"SGD\", print_every=100, plot_every=50,\n",
    "                   lr=0.01, momentum=0.001):\n",
    "    \"\"\"\n",
    "    Train 1 LSTM  by generating examples according to examplesFunction and feeding these examples to train_vanilla\n",
    "\n",
    "    :param n_iters: number of training on batch\n",
    "    :param batch_size:\n",
    "    :param rnn: instance of the class RNN_VANILLA or similar\n",
    "    :param examplesFunction: should return (password_tensor, target_tensor)\n",
    "    :param criterion: pytorch-compatible loss function\n",
    "    :param optimizer_name: \"Adadeta, SGD or Adam for now\n",
    "    :param print_every: the mean loss is printed every print_every batch\n",
    "    :param plot_every: the mean loss is saved for plotting every plot_every batch\n",
    "    :param lr:\n",
    "    :param momentum: only for SGD\n",
    "    :return: list of batch losses to plot\n",
    "    \"\"\"\n",
    "    try:\n",
    "        optimizer_dict = {\"Adadelta\": optim.Adadelta(rnn.parameters()),\n",
    "                          \"SGD\": optim.SGD(rnn.parameters(), lr, momentum),\n",
    "                          \"Adam\": optim.Adam(rnn.parameters(), lr)}\n",
    "        optimizer = optimizer_dict[optimizer_name]\n",
    "        n_iters = n_iters\n",
    "        all_losses = []\n",
    "        total_loss_for_plot = 0  # Reset every plot_every iters\n",
    "        total_loss_for_print = 0\n",
    "        rnn.train()\n",
    "        start = time.time()\n",
    "\n",
    "        for iter in range(1, n_iters + 1):\n",
    "            data_list = [examplesFunction() for _ in range(batch_size)]\n",
    "            output, loss = train_vanilla(data_list, rnn=rnn,  criterion=criterion, optimizer=optimizer)\n",
    "            total_loss_for_print += loss\n",
    "            total_loss_for_plot += loss\n",
    "\n",
    "            if iter % print_every == 0:\n",
    "                print('%s (%d %d%%) %.4f' % (timeSince(start), iter, float(iter) / n_iters * 100, total_loss_for_print / print_every))\n",
    "                total_loss_for_print = 0\n",
    "            if iter % plot_every == 0:\n",
    "                all_losses.append(total_loss_for_plot / plot_every)\n",
    "                total_loss_for_plot = 0\n",
    "\n",
    "        return all_losses\n",
    "    except KeyboardInterrupt:\n",
    "        plt.figure()\n",
    "        plt.plot(all_losses)\n",
    "        plt.show()\n",
    "        return all_losses"
   ]
  },
  {
   "cell_type": "code",
   "execution_count": 12,
   "metadata": {},
   "outputs": [
    {
     "ename": "NameError",
     "evalue": "global name 'plt' is not defined",
     "output_type": "error",
     "traceback": [
      "\u001b[0;31m---------------------------------------------------------------------------\u001b[0m",
      "\u001b[0;31mNameError\u001b[0m                                 Traceback (most recent call last)",
      "\u001b[0;32m<ipython-input-12-865f7bb0052f>\u001b[0m in \u001b[0;36m<module>\u001b[0;34m()\u001b[0m\n\u001b[1;32m      2\u001b[0m \u001b[0mbatch_size\u001b[0m \u001b[0;34m=\u001b[0m \u001b[0;36m16\u001b[0m\u001b[0;34m\u001b[0m\u001b[0m\n\u001b[1;32m      3\u001b[0m \u001b[0mcriterion\u001b[0m \u001b[0;34m=\u001b[0m \u001b[0mnn\u001b[0m\u001b[0;34m.\u001b[0m\u001b[0mCrossEntropyLoss\u001b[0m\u001b[0;34m(\u001b[0m\u001b[0mweight\u001b[0m\u001b[0;34m=\u001b[0m\u001b[0mtorch\u001b[0m\u001b[0;34m.\u001b[0m\u001b[0mFloatTensor\u001b[0m\u001b[0;34m(\u001b[0m\u001b[0;34m[\u001b[0m\u001b[0;36m1\u001b[0m\u001b[0;34m,\u001b[0m \u001b[0;36m1\u001b[0m\u001b[0;34m,\u001b[0m \u001b[0;36m1\u001b[0m\u001b[0;34m]\u001b[0m\u001b[0;34m)\u001b[0m\u001b[0;34m)\u001b[0m\u001b[0;34m\u001b[0m\u001b[0m\n\u001b[0;32m----> 4\u001b[0;31m \u001b[0mall_losses\u001b[0m \u001b[0;34m=\u001b[0m \u001b[0mtraining_iters_vanilla\u001b[0m\u001b[0;34m(\u001b[0m\u001b[0mn_iters\u001b[0m\u001b[0;34m,\u001b[0m \u001b[0mbatch_size\u001b[0m\u001b[0;34m,\u001b[0m \u001b[0mrnn\u001b[0m\u001b[0;34m,\u001b[0m \u001b[0mtrainingExample\u001b[0m\u001b[0;34m,\u001b[0m \u001b[0mcriterion\u001b[0m\u001b[0;34m,\u001b[0m \u001b[0moptimizer_name\u001b[0m\u001b[0;34m=\u001b[0m\u001b[0;34m\"Adadelta\"\u001b[0m\u001b[0;34m,\u001b[0m \u001b[0mprint_every\u001b[0m \u001b[0;34m=\u001b[0m \u001b[0;36m50\u001b[0m\u001b[0;34m,\u001b[0m \u001b[0mplot_every\u001b[0m \u001b[0;34m=\u001b[0m \u001b[0;36m25\u001b[0m\u001b[0;34m)\u001b[0m\u001b[0;34m\u001b[0m\u001b[0m\n\u001b[0m",
      "\u001b[0;32m<ipython-input-11-d607669bb575>\u001b[0m in \u001b[0;36mtraining_iters_vanilla\u001b[0;34m(n_iters, batch_size, rnn, examplesFunction, criterion, optimizer_name, print_every, plot_every, lr, momentum)\u001b[0m\n\u001b[1;32m     43\u001b[0m         \u001b[0;32mreturn\u001b[0m \u001b[0mall_losses\u001b[0m\u001b[0;34m\u001b[0m\u001b[0m\n\u001b[1;32m     44\u001b[0m     \u001b[0;32mexcept\u001b[0m \u001b[0mKeyboardInterrupt\u001b[0m\u001b[0;34m:\u001b[0m\u001b[0;34m\u001b[0m\u001b[0m\n\u001b[0;32m---> 45\u001b[0;31m         \u001b[0mplt\u001b[0m\u001b[0;34m.\u001b[0m\u001b[0mfigure\u001b[0m\u001b[0;34m(\u001b[0m\u001b[0;34m)\u001b[0m\u001b[0;34m\u001b[0m\u001b[0m\n\u001b[0m\u001b[1;32m     46\u001b[0m         \u001b[0mplt\u001b[0m\u001b[0;34m.\u001b[0m\u001b[0mplot\u001b[0m\u001b[0;34m(\u001b[0m\u001b[0mall_losses\u001b[0m\u001b[0;34m)\u001b[0m\u001b[0;34m\u001b[0m\u001b[0m\n\u001b[1;32m     47\u001b[0m         \u001b[0mplt\u001b[0m\u001b[0;34m.\u001b[0m\u001b[0mshow\u001b[0m\u001b[0;34m(\u001b[0m\u001b[0;34m)\u001b[0m\u001b[0;34m\u001b[0m\u001b[0m\n",
      "\u001b[0;31mNameError\u001b[0m: global name 'plt' is not defined"
     ]
    }
   ],
   "source": [
    "n_iters = 100000\n",
    "batch_size = 16\n",
    "criterion = nn.CrossEntropyLoss(weight=torch.FloatTensor([1, 1, 1]))\n",
    "all_losses = training_iters_vanilla(n_iters, batch_size, rnn, trainingExample, criterion, optimizer_name=\"Adadelta\", print_every = 50, plot_every = 25)"
   ]
  },
  {
   "cell_type": "markdown",
   "metadata": {},
   "source": [
    "# Saving the networks states"
   ]
  },
  {
   "cell_type": "code",
   "execution_count": 8,
   "metadata": {
    "collapsed": true
   },
   "outputs": [],
   "source": [
    "word_list = [random_sentence() for _ in range(5000)]"
   ]
  },
  {
   "cell_type": "code",
   "execution_count": 9,
   "metadata": {
    "collapsed": true
   },
   "outputs": [],
   "source": [
    "word_list = sorted(word_list)"
   ]
  },
  {
   "cell_type": "code",
   "execution_count": 10,
   "metadata": {
    "collapsed": true
   },
   "outputs": [],
   "source": [
    "def array_in_array_list(array, array_list):\n",
    "    for array2 in array_list:\n",
    "        if (array == array2).all():\n",
    "            return True\n",
    "    return False"
   ]
  },
  {
   "cell_type": "code",
   "execution_count": 19,
   "metadata": {
    "collapsed": true
   },
   "outputs": [],
   "source": [
    "def array_close_to_array_list(array, array_list, input_size, distance, output_threshold, hidden_threshold):\n",
    "    for array2 in array_list:\n",
    "        if (distance(array[:input_size], array2[:input_size]) < output_threshold and \n",
    "        distance(array[input_size:], array2[input_size:]) < hidden_threshold):\n",
    "            return True\n",
    "    return False"
   ]
  },
  {
   "cell_type": "code",
   "execution_count": 12,
   "metadata": {
    "collapsed": true
   },
   "outputs": [],
   "source": [
    "import cPickle"
   ]
  },
  {
   "cell_type": "code",
   "execution_count": 336,
   "metadata": {
    "collapsed": true
   },
   "outputs": [
    {
     "name": "stdout",
     "output_type": "stream",
     "text": [
      "0\n",
      "('nb_states_saved', 0)\n",
      "('nb_states_saved', 2100)\n",
      "('nb_states_saved', 14200)\n",
      "('nb_states_saved', 15800)\n",
      "('nb_states_saved', 16400)\n",
      "('nb_states_saved', 20900)\n",
      "('nb_states_saved', 23900)\n",
      "('nb_states_saved', 28100)\n",
      "('nb_states_saved', 29500)\n",
      "1000\n",
      "('nb_states_saved', 35100)\n",
      "('nb_states_saved', 35300)\n",
      "('nb_states_saved', 35600)\n",
      "('nb_states_saved', 37200)\n",
      "('nb_states_saved', 38400)\n",
      "('nb_states_saved', 39000)\n",
      "('nb_states_saved', 42400)\n",
      "('nb_states_saved', 44100)\n",
      "('nb_states_saved', 49100)\n",
      "2000\n",
      "('nb_states_saved', 53300)\n",
      "('nb_states_saved', 54300)\n",
      "('nb_states_saved', 55300)\n",
      "('nb_states_saved', 57300)\n",
      "('nb_states_saved', 60100)\n",
      "('nb_states_saved', 71100)\n",
      "3000\n",
      "('nb_states_saved', 78400)\n",
      "('nb_states_saved', 82300)\n",
      "('nb_states_saved', 82600)\n",
      "('nb_states_saved', 82900)\n",
      "('nb_states_saved', 83300)\n",
      "('nb_states_saved', 91400)\n",
      "('nb_states_saved', 97900)\n",
      "('nb_states_saved', 101600)\n",
      "4000\n",
      "CPU times: user 3h 20min 5s, sys: 35.8 s, total: 3h 20min 41s\n",
      "Wall time: 13min 3s\n"
     ]
    }
   ],
   "source": [
    "%%time\n",
    "hidden_state_file = open(\"/pickle2/hidden_state_file_toy_language_new\", \"a\")\n",
    "try:\n",
    "    state_string = \"\"\n",
    "    rnn.eval()\n",
    "    list_to_check_unicity = list()\n",
    "    nb_states_saved = 0\n",
    "    last_nb_saved = -1\n",
    "    for i, password in enumerate(word_list):\n",
    "        if i % 1000 == 0:\n",
    "            print(i)\n",
    "        if nb_states_saved % 100 == 0 and nb_states_saved != last_nb_saved:\n",
    "            last_nb_saved = nb_states_saved\n",
    "            print(\"nb_states_saved\", nb_states_saved)\n",
    "        password_tensor = Variable(text2input(password))\n",
    "        hidden = rnn.initHidden()\n",
    "        for j, char_as_vect in enumerate(password_tensor):\n",
    "            output, hidden = rnn(char_as_vect, hidden)\n",
    "            output = F.softmax(output)\n",
    "            to_save = np.concatenate((output.data.numpy().reshape(-1), hidden[0].data.numpy().reshape(-1), hidden[1].data.numpy().reshape(-1)))\n",
    "            if not(array_in_array_list(to_save, list_to_check_unicity)):\n",
    "                state_string += cPickle.dumps(to_save, protocol=cPickle.HIGHEST_PROTOCOL) + \"\\nNEW_TUPLE\\n\"\n",
    "                nb_states_saved += 1\n",
    "            list_to_check_unicity.append(to_save)\n",
    "            if len(list_to_check_unicity) > 500:\n",
    "                list_to_check_unicity.pop(0)\n",
    "            if len(state_string) > 1000000:\n",
    "                hidden_state_file.write(state_string)\n",
    "                state_string = \"\"\n",
    "except KeyboardInterrupt:\n",
    "    hidden_state_file.close()\n",
    "    try:\n",
    "        print(i, j)\n",
    "    except:\n",
    "        pass\n",
    "    \n",
    "hidden_state_file.close()"
   ]
  },
  {
   "cell_type": "code",
   "execution_count": null,
   "metadata": {},
   "outputs": [
    {
     "name": "stdout",
     "output_type": "stream",
     "text": [
      "0\n",
      "('nb_states_saved', 0)\n",
      "('nb_states_saved', 1100)\n",
      "('nb_states_saved', 4200)\n",
      "('nb_states_saved', 4400)\n",
      "('nb_states_saved', 6500)\n",
      "('nb_states_saved', 13200)\n",
      "('nb_states_saved', 17500)\n",
      "('nb_states_saved', 18800)\n",
      "1000\n",
      "('nb_states_saved', 26900)\n",
      "('nb_states_saved', 27300)\n",
      "('nb_states_saved', 27600)\n",
      "('nb_states_saved', 29700)\n",
      "('nb_states_saved', 30400)\n",
      "('nb_states_saved', 41300)\n",
      "2000\n",
      "('nb_states_saved', 42500)\n",
      "('nb_states_saved', 45000)\n",
      "('nb_states_saved', 45900)\n",
      "('nb_states_saved', 50400)\n",
      "('nb_states_saved', 56700)\n",
      "('nb_states_saved', 58900)\n",
      "('nb_states_saved', 61000)\n",
      "('nb_states_saved', 62900)\n",
      "3000\n",
      "('nb_states_saved', 70300)\n",
      "('nb_states_saved', 70800)\n",
      "('nb_states_saved', 71300)\n",
      "('nb_states_saved', 79400)\n",
      "('nb_states_saved', 80500)\n",
      "('nb_states_saved', 83900)\n",
      "4000\n",
      "CPU times: user 3h 24min 33s, sys: 49 s, total: 3h 25min 22s\n",
      "Wall time: 23min 37s\n"
     ]
    }
   ],
   "source": [
    "%%time\n",
    "hidden_state_file = open(\"/pickle2/hidden_state_file_toy_language_primary_cluster1\", \"a\")\n",
    "try:\n",
    "    state_string = \"\"\n",
    "    rnn.eval()\n",
    "    list_to_check_unicity = list()\n",
    "    nb_states_saved = 0\n",
    "    last_nb_saved = -1\n",
    "    for i, password in enumerate(word_list):\n",
    "        if i % 1000 == 0:\n",
    "            print(i)\n",
    "        if nb_states_saved % 100 == 0 and nb_states_saved != last_nb_saved:\n",
    "            last_nb_saved = nb_states_saved\n",
    "            print(\"nb_states_saved\", nb_states_saved)\n",
    "        password_tensor = Variable(text2input(password))\n",
    "        hidden = rnn.initHidden()\n",
    "        for j, char_as_vect in enumerate(password_tensor):\n",
    "            output, hidden = rnn(char_as_vect, hidden)\n",
    "            output = F.softmax(output)\n",
    "            to_save = np.concatenate((output.data.numpy().reshape(-1), hidden[0].data.numpy().reshape(-1), hidden[1].data.numpy().reshape(-1)))\n",
    "            if not(array_close_to_array_list(to_save, list_to_check_unicity, 3, euclidian_distance, 1e-3, 0.5)):\n",
    "                state_string += cPickle.dumps(to_save, protocol=cPickle.HIGHEST_PROTOCOL) + \"\\nNEW_TUPLE\\n\"\n",
    "                nb_states_saved += 1\n",
    "            list_to_check_unicity.append(to_save)\n",
    "            if len(list_to_check_unicity) > 500:\n",
    "                list_to_check_unicity.pop(0)\n",
    "            if len(state_string) > 1000000:\n",
    "                hidden_state_file.write(state_string)\n",
    "                state_string = \"\"\n",
    "except KeyboardInterrupt:\n",
    "    hidden_state_file.close()\n",
    "    try:\n",
    "        print(i, j)\n",
    "    except:\n",
    "        pass\n",
    "    \n",
    "hidden_state_file.close()"
   ]
  },
  {
   "cell_type": "code",
   "execution_count": 2,
   "metadata": {
    "collapsed": true
   },
   "outputs": [],
   "source": [
    "import sqlite3"
   ]
  },
  {
   "cell_type": "code",
   "execution_count": null,
   "metadata": {},
   "outputs": [
    {
     "name": "stdout",
     "output_type": "stream",
     "text": [
      "0\n",
      "('nb_states_saved', 0)\n",
      "('nb_states_saved', 4000)\n",
      "('nb_states_saved', 4500)\n",
      "('nb_states_saved', 5600)\n"
     ]
    }
   ],
   "source": [
    "%%time\n",
    "hidden_state_file = open(\"/pickle2/hidden_state_file_toy_language_primary_cluster2\", \"a\")\n",
    "try:\n",
    "    state_string = \"\"\n",
    "    rnn.eval()\n",
    "    list_to_check_unicity = list()\n",
    "    nb_states_saved = 0\n",
    "    last_nb_saved = -1\n",
    "    for i, password in enumerate(word_list):\n",
    "        if i % 1000 == 0:\n",
    "            print(i)\n",
    "        if nb_states_saved % 100 == 0 and nb_states_saved != last_nb_saved:\n",
    "            last_nb_saved = nb_states_saved\n",
    "            print(\"nb_states_saved\", nb_states_saved)\n",
    "        password_tensor = Variable(text2input(password))\n",
    "        hidden = rnn.initHidden()\n",
    "        for j, char_as_vect in enumerate(password_tensor):\n",
    "            output, hidden = rnn(char_as_vect, hidden)\n",
    "            output = F.softmax(output)\n",
    "            to_save = np.concatenate((output.data.numpy().reshape(-1), hidden[0].data.numpy().reshape(-1), hidden[1].data.numpy().reshape(-1)))\n",
    "            if not(array_close_to_array_list(to_save, list_to_check_unicity, 3, euclidian_distance, 1e-4, 0.1)):\n",
    "                state_string += cPickle.dumps(to_save, protocol=cPickle.HIGHEST_PROTOCOL) + \"\\nNEW_TUPLE\\n\"\n",
    "                nb_states_saved += 1\n",
    "            list_to_check_unicity.append(to_save)\n",
    "            if len(list_to_check_unicity) > 500:\n",
    "                list_to_check_unicity.pop(0)\n",
    "            if len(state_string) > 1000000:\n",
    "                hidden_state_file.write(state_string)\n",
    "                state_string = \"\"\n",
    "except KeyboardInterrupt:\n",
    "    hidden_state_file.close()\n",
    "    try:\n",
    "        print(i, j)\n",
    "    except:\n",
    "        pass\n",
    "    \n",
    "hidden_state_file.close()"
   ]
  },
  {
   "cell_type": "code",
   "execution_count": 20,
   "metadata": {
    "collapsed": true
   },
   "outputs": [],
   "source": [
    "file_ = open(\"/pickle2/hidden_state_file_toy_language_primary_cluster1\", \"w\")\n",
    "file_.write(\"\")\n",
    "file_.close()"
   ]
  },
  {
   "cell_type": "code",
   "execution_count": null,
   "metadata": {
    "collapsed": true
   },
   "outputs": [],
   "source": [
    "import cPickle"
   ]
  },
  {
   "cell_type": "code",
   "execution_count": null,
   "metadata": {
    "collapsed": true
   },
   "outputs": [],
   "source": [
    "read_hidden_state_file = open(\"/pickle2/hidden_state_file_toy_language\", \"r\")\n",
    "\n",
    "\n",
    "brute_list = read_hidden_state_file.readlines()\n",
    "\n",
    "picklised_tuple_list = list()\n",
    "current_string = \"\"\n",
    "for line in brute_list:\n",
    "    if line != \"NEW_TUPLE\\n\":\n",
    "        current_string += line\n",
    "    else:\n",
    "        picklised_tuple_list.append(current_string)\n",
    "        current_string = \"\"\n",
    "\n",
    "input_size = 3\n",
    "hidden_size = 20\n",
    "\n",
    "tuple_list = [cPickle.loads(a) for a in picklised_tuple_list[1:]]\n",
    "\n",
    "state_list = [(Variable(torch.from_numpy(tuple[:input_size]).view(1, 1, -1)), (Variable(torch.from_numpy(tuple[input_size: input_size + hidden_size]).view(1, 1, -1)), Variable(torch.from_numpy(tuple[input_size + hidden_size:]).view(1, 1, -1)))) for tuple in tuple_list]\n",
    "\n",
    "output_list = [state[:input_size] for state in tuple_list]\n",
    "\n",
    "output_matrix = np.matrix(output_list)\n",
    "\n",
    "read_hidden_state_file.close()\n",
    "\n",
    "brute_list = 0, 0\n",
    "\n",
    "picklised_tuple_list = 0"
   ]
  },
  {
   "cell_type": "markdown",
   "metadata": {},
   "source": [
    "# Clustering the states"
   ]
  },
  {
   "cell_type": "code",
   "execution_count": 14,
   "metadata": {
    "collapsed": true
   },
   "outputs": [],
   "source": [
    "def hellinger(p, q):\n",
    "    return np.sqrt(np.sum((np.sqrt(p) - np.sqrt(q))**2)) / np.sqrt(2)\n",
    "\n",
    "def KL_divergence(p, q):\n",
    "    return np.sum(p * np.log(p / q.astype(float)))\n",
    "\n",
    "def JS_divergence(p, q):\n",
    "    \"\"\" turn KL divergence into a metric (symetric and triangular inequality)\"\"\"\n",
    "    m = (p + q) / float(2)\n",
    "    return 0.5 * KL_divergence(p, m) + 0.5 * KL_divergence(q, m)"
   ]
  },
  {
   "cell_type": "code",
   "execution_count": 15,
   "metadata": {
    "collapsed": true
   },
   "outputs": [],
   "source": [
    "def euclidian_distance(state1, state2):\n",
    "    \"\"\"on vectorized states\"\"\"\n",
    "    return (torch.from_numpy(state1).float() - torch.from_numpy(state2).float()).norm(2)"
   ]
  },
  {
   "cell_type": "code",
   "execution_count": 16,
   "metadata": {
    "collapsed": true
   },
   "outputs": [],
   "source": [
    "def log_euclidian_distance(state1, state2):\n",
    "    epsilon_array = np.array([1E-10 for _ in range(len(state1))])\n",
    "    state1 = np.log(state1 + epsilon_array)\n",
    "    state2 = np.log(state2 + epsilon_array)\n",
    "    return euclidian_distance(state1, state2)"
   ]
  },
  {
   "cell_type": "code",
   "execution_count": 21,
   "metadata": {
    "collapsed": true
   },
   "outputs": [],
   "source": [
    "import sklearn.cluster"
   ]
  },
  {
   "cell_type": "code",
   "execution_count": 22,
   "metadata": {
    "collapsed": true
   },
   "outputs": [],
   "source": [
    "import multiprocessing as mp"
   ]
  },
  {
   "cell_type": "code",
   "execution_count": 23,
   "metadata": {
    "collapsed": true
   },
   "outputs": [],
   "source": [
    "def aux1_discretize(coord, indice, list_, min_, bin_size, nb_bins):\n",
    "    \"\"\" auxiliary function for multiprocessing. Compute\n",
    "     the discretized version of a vector given the min_ and the bin_size of this coord\"\"\"\n",
    "    vect = list_[indice]\n",
    "    value = vect[coord]\n",
    "    for k in range(nb_bins):\n",
    "        if value >= min_ + k * bin_size and value <= min_ + (k + 1) * bin_size + 1E-8:\n",
    "            return min_ + (k + 0.5) * bin_size\n",
    "def discretize_mp(tuple_list, nb_bins_per_output_coord, nb_bins_per_hidden_coord, input_size):\n",
    "    \"\"\" Discretize/round the coordinate of the saved states of a LSTM (i.e put close coordinate in the same bins)\"\"\"\n",
    "    pool = mp.Pool(processes=24)\n",
    "    output_list = [state[:input_size] for state in tuple_list]\n",
    "    hidden_list = [state[input_size:] for state in tuple_list]\n",
    "\n",
    "    bins_list_output = [[i for i in range(input_size)] for _ in output_list]\n",
    "    bins_list_hidden = [[i for i in range(len(hidden_list[0]))] for _ in hidden_list]\n",
    "    discretized_ouput_list = [[i for i in range(input_size)] for _ in output_list]\n",
    "    discretized_hidden_list = [[i for i in range(len(hidden_list[0]))] for _ in hidden_list]\n",
    "    for output_coord in range(input_size):\n",
    "        max_ =  max([output[output_coord] for output in output_list])\n",
    "        min_ = min([output[output_coord] for output in output_list])\n",
    "        bin_size = (max_ - min_) / float(nb_bins_per_output_coord) \n",
    "        new_coords = [pool.apply(aux1_discretize, args=(output_coord, indice, output_list, min_, bin_size, nb_bins_per_output_coord)) for indice in range(len(output_list))]\n",
    "        for k in range(len(new_coords)):\n",
    "            discretized_ouput_list[k][output_coord] = new_coords[k]\n",
    "            \n",
    "    for i in range(len(discretized_ouput_list)):                                                                                                                                                                                                                                                                                                                                                                                                                                                                                                                                                                                                                                                                                                                                                                                                                                                                                                                                                                                                                                                                                                                                                                                                                                                                                                                                  \n",
    "        discretized_ouput_list[i] = np.array(discretized_ouput_list[i])\n",
    "    # make discretized vectors unique (i.e cluster)\n",
    "    list_indices_output_cluster = list()\n",
    "    unique_list = list()\n",
    "    for i, discrete_output in enumerate(discretized_ouput_list):\n",
    "        n =  where_array_in_array_list(discrete_output, unique_list)\n",
    "        if n < 0:\n",
    "            unique_list.append(discrete_output)\n",
    "            list_indices_output_cluster.append([i])\n",
    "        else:\n",
    "            list_indices_output_cluster[n].append(i)\n",
    "    for ar in unique_list:\n",
    "        for nb in ar:\n",
    "            if nb > 1:\n",
    "                print(nb, \"VOILA\")\n",
    "                \n",
    "    for hidden_coord in range(len(hidden_list[0])):\n",
    "        max_ =  max([hidden[hidden_coord] for hidden in hidden_list])\n",
    "        min_ = min([hidden[hidden_coord] for hidden in hidden_list])\n",
    "        bin_size = (max_ - min_) / float(nb_bins_per_hidden_coord) \n",
    "        for i in range(len(hidden_list)):\n",
    "            new_coords = [pool.apply(aux1_discretize, args=(hidden_coord, indice, hidden_list, min_, bin_size, nb_bins_per_hidden_coord)) for indice in range(len(hidden_list))]\n",
    "        for k in range(len(new_coords)):\n",
    "            discretized_hidden_list[k][hidden_coord] = new_coords[k]\n",
    "            \n",
    "    for i in range(len(discretized_hidden_list)):\n",
    "        discretized_hidden_list[i] = np.array(discretized_hidden_list[i])\n",
    "        \n",
    "    list_subcluster_centers = [list() for _ in range(len(list_indices_output_cluster))]\n",
    "    for i in range(len(list_indices_output_cluster)):\n",
    "        for indice in list_indices_output_cluster[i]:\n",
    "            if where_array_in_array_list(discretized_hidden_list[indice], list_subcluster_centers[i]) < 0:\n",
    "                list_subcluster_centers[i].append(discretized_hidden_list[indice])\n",
    "    \n",
    "    return np.array(unique_list), list_subcluster_centers\n",
    "            \n",
    "            "
   ]
  },
  {
   "cell_type": "code",
   "execution_count": 24,
   "metadata": {},
   "outputs": [],
   "source": [
    "def discretize(tuple_list, nb_bins_per_output_coord, nb_bins_per_hidden_coord, input_size):\n",
    "    \"\"\" Discretize/round the coordinate of the saved states of a LSTM (i.e put close coordinate in the same bins)\"\"\"\n",
    "    output_list = [state[:input_size] for state in tuple_list]\n",
    "    hidden_list = [state[input_size:] for state in tuple_list]\n",
    "\n",
    "    bins_list_output = [[i for i in range(input_size)] for _ in output_list]\n",
    "    bins_list_hidden = [[i for i in range(len(hidden_list[0]))] for _ in hidden_list]\n",
    "    discretized_ouput_list = [[i for i in range(input_size)] for _ in output_list]\n",
    "    discretized_hidden_list = [[i for i in range(len(hidden_list[0]))] for _ in hidden_list]\n",
    "    for output_coord in range(input_size):\n",
    "        max_ =  max([output[output_coord] for output in output_list])\n",
    "        min_ = min([output[output_coord] for output in output_list])\n",
    "        bin_size = (max_ - min_) / float(nb_bins_per_output_coord) \n",
    "        for i in range(len(output_list)):\n",
    "            output = output_list[i]\n",
    "            value = output[output_coord]\n",
    "            for k in range(nb_bins_per_output_coord):\n",
    "                if value >= min_ + k * bin_size and value <= min_ + (k + 1) * bin_size + 1E-8:\n",
    "                    bins_list_output[i][output_coord] = k\n",
    "                    discretized_ouput_list[i][output_coord] = min_ + (k + 0.5) * bin_size\n",
    "                    break\n",
    "\n",
    "                        \n",
    "    for i in range(len(discretized_ouput_list)):                                                                                                                                                                                                                                                                                                                                                                                                                                                                                                                                                                                                                                                                                                                                                                                                                                                                                                                                                                                                                                                                                                                                                                                                                                                                                                                                  \n",
    "        discretized_ouput_list[i] = np.array(discretized_ouput_list[i])\n",
    "    list_indices_output_cluster = list()\n",
    "    unique_list = list()\n",
    "    for i, discrete_output in enumerate(discretized_ouput_list):\n",
    "        n =  where_array_in_array_list(discrete_output, unique_list)\n",
    "        if n < 0:\n",
    "            unique_list.append(discrete_output)\n",
    "            list_indices_output_cluster.append([i])\n",
    "        else:\n",
    "            list_indices_output_cluster[n].append(i)\n",
    "    for ar in unique_list:\n",
    "        for nb in ar:\n",
    "            if nb > 1:\n",
    "                print(nb, \"VOILA\")\n",
    "    for hidden_coord in range(len(hidden_list[0])):\n",
    "        max_ =  max([hidden[hidden_coord] for hidden in hidden_list])\n",
    "        min_ = min([hidden[hidden_coord] for hidden in hidden_list])\n",
    "        bin_size = (max_ - min_) / float(nb_bins_per_hidden_coord) \n",
    "        for i in range(len(hidden_list)):\n",
    "            hidden = hidden_list[i]\n",
    "            value = hidden[hidden_coord]\n",
    "            for k in range(nb_bins_per_hidden_coord):\n",
    "                if value >= min_ + k * bin_size and value <= min_ + (k + 1) * bin_size + 1E-8:\n",
    "                    bins_list_hidden[i][hidden_coord] = k\n",
    "                    discretized_hidden_list[i][hidden_coord] = min_ + (k + 0.5) * bin_size\n",
    "                    break\n",
    "    for i in range(len(discretized_hidden_list)):\n",
    "        discretized_hidden_list[i] = np.array(discretized_hidden_list[i])\n",
    "        \n",
    "    list_subcluster_centers = [list() for _ in range(len(list_indices_output_cluster))]\n",
    "    for i in range(len(list_indices_output_cluster)):\n",
    "        for indice in list_indices_output_cluster[i]:\n",
    "            if where_array_in_array_list(discretized_hidden_list[indice], list_subcluster_centers[i]) < 0:\n",
    "                list_subcluster_centers[i].append(discretized_hidden_list[indice])\n",
    "    \n",
    "    return np.array(unique_list), list_subcluster_centers\n",
    "            \n",
    "        "
   ]
  },
  {
   "cell_type": "code",
   "execution_count": 25,
   "metadata": {
    "collapsed": true
   },
   "outputs": [],
   "source": [
    "def where_array_in_array_list(array, array_list):\n",
    "    for i, array2 in enumerate(array_list):\n",
    "        if (array == array2).all():\n",
    "            return i\n",
    "    return -1"
   ]
  },
  {
   "cell_type": "code",
   "execution_count": 26,
   "metadata": {},
   "outputs": [],
   "source": [
    "def unique(list_of_array):\n",
    "    unique_list = list()\n",
    "    for array in list_of_array:\n",
    "        if not array_in_array_list(array, unique_list):\n",
    "            unique_list.append(array)\n",
    "    return unique_list"
   ]
  },
  {
   "cell_type": "code",
   "execution_count": 32,
   "metadata": {
    "collapsed": true
   },
   "outputs": [
    {
     "ename": "KeyboardInterrupt",
     "evalue": "",
     "output_type": "error",
     "traceback": [
      "\u001b[0;31m---------------------------------------------------------------------------\u001b[0m",
      "\u001b[0;31mKeyboardInterrupt\u001b[0m                         Traceback (most recent call last)",
      "\u001b[0;32m<ipython-input-32-87e4df1e232f>\u001b[0m in \u001b[0;36m<module>\u001b[0;34m()\u001b[0m\n\u001b[0;32m----> 1\u001b[0;31m \u001b[0mget_ipython\u001b[0m\u001b[0;34m(\u001b[0m\u001b[0;34m)\u001b[0m\u001b[0;34m.\u001b[0m\u001b[0mrun_cell_magic\u001b[0m\u001b[0;34m(\u001b[0m\u001b[0;34mu'time'\u001b[0m\u001b[0;34m,\u001b[0m \u001b[0;34mu''\u001b[0m\u001b[0;34m,\u001b[0m \u001b[0;34mu'list_centers_first_clusters, list_subclusters_centers = discretize(tuple_list, 3, 2, 3)'\u001b[0m\u001b[0;34m)\u001b[0m\u001b[0;34m\u001b[0m\u001b[0m\n\u001b[0m",
      "\u001b[0;32m/usr/local/lib/python2.7/dist-packages/IPython/core/interactiveshell.pyc\u001b[0m in \u001b[0;36mrun_cell_magic\u001b[0;34m(self, magic_name, line, cell)\u001b[0m\n\u001b[1;32m   2113\u001b[0m             \u001b[0mmagic_arg_s\u001b[0m \u001b[0;34m=\u001b[0m \u001b[0mself\u001b[0m\u001b[0;34m.\u001b[0m\u001b[0mvar_expand\u001b[0m\u001b[0;34m(\u001b[0m\u001b[0mline\u001b[0m\u001b[0;34m,\u001b[0m \u001b[0mstack_depth\u001b[0m\u001b[0;34m)\u001b[0m\u001b[0;34m\u001b[0m\u001b[0m\n\u001b[1;32m   2114\u001b[0m             \u001b[0;32mwith\u001b[0m \u001b[0mself\u001b[0m\u001b[0;34m.\u001b[0m\u001b[0mbuiltin_trap\u001b[0m\u001b[0;34m:\u001b[0m\u001b[0;34m\u001b[0m\u001b[0m\n\u001b[0;32m-> 2115\u001b[0;31m                 \u001b[0mresult\u001b[0m \u001b[0;34m=\u001b[0m \u001b[0mfn\u001b[0m\u001b[0;34m(\u001b[0m\u001b[0mmagic_arg_s\u001b[0m\u001b[0;34m,\u001b[0m \u001b[0mcell\u001b[0m\u001b[0;34m)\u001b[0m\u001b[0;34m\u001b[0m\u001b[0m\n\u001b[0m\u001b[1;32m   2116\u001b[0m             \u001b[0;32mreturn\u001b[0m \u001b[0mresult\u001b[0m\u001b[0;34m\u001b[0m\u001b[0m\n\u001b[1;32m   2117\u001b[0m \u001b[0;34m\u001b[0m\u001b[0m\n",
      "\u001b[0;32m<decorator-gen-59>\u001b[0m in \u001b[0;36mtime\u001b[0;34m(self, line, cell, local_ns)\u001b[0m\n",
      "\u001b[0;32m/usr/local/lib/python2.7/dist-packages/IPython/core/magic.pyc\u001b[0m in \u001b[0;36m<lambda>\u001b[0;34m(f, *a, **k)\u001b[0m\n\u001b[1;32m    186\u001b[0m     \u001b[0;31m# but it's overkill for just that one bit of state.\u001b[0m\u001b[0;34m\u001b[0m\u001b[0;34m\u001b[0m\u001b[0m\n\u001b[1;32m    187\u001b[0m     \u001b[0;32mdef\u001b[0m \u001b[0mmagic_deco\u001b[0m\u001b[0;34m(\u001b[0m\u001b[0marg\u001b[0m\u001b[0;34m)\u001b[0m\u001b[0;34m:\u001b[0m\u001b[0;34m\u001b[0m\u001b[0m\n\u001b[0;32m--> 188\u001b[0;31m         \u001b[0mcall\u001b[0m \u001b[0;34m=\u001b[0m \u001b[0;32mlambda\u001b[0m \u001b[0mf\u001b[0m\u001b[0;34m,\u001b[0m \u001b[0;34m*\u001b[0m\u001b[0ma\u001b[0m\u001b[0;34m,\u001b[0m \u001b[0;34m**\u001b[0m\u001b[0mk\u001b[0m\u001b[0;34m:\u001b[0m \u001b[0mf\u001b[0m\u001b[0;34m(\u001b[0m\u001b[0;34m*\u001b[0m\u001b[0ma\u001b[0m\u001b[0;34m,\u001b[0m \u001b[0;34m**\u001b[0m\u001b[0mk\u001b[0m\u001b[0;34m)\u001b[0m\u001b[0;34m\u001b[0m\u001b[0m\n\u001b[0m\u001b[1;32m    189\u001b[0m \u001b[0;34m\u001b[0m\u001b[0m\n\u001b[1;32m    190\u001b[0m         \u001b[0;32mif\u001b[0m \u001b[0mcallable\u001b[0m\u001b[0;34m(\u001b[0m\u001b[0marg\u001b[0m\u001b[0;34m)\u001b[0m\u001b[0;34m:\u001b[0m\u001b[0;34m\u001b[0m\u001b[0m\n",
      "\u001b[0;32m/usr/local/lib/python2.7/dist-packages/IPython/core/magics/execution.pyc\u001b[0m in \u001b[0;36mtime\u001b[0;34m(self, line, cell, local_ns)\u001b[0m\n\u001b[1;32m   1178\u001b[0m         \u001b[0;32melse\u001b[0m\u001b[0;34m:\u001b[0m\u001b[0;34m\u001b[0m\u001b[0m\n\u001b[1;32m   1179\u001b[0m             \u001b[0mst\u001b[0m \u001b[0;34m=\u001b[0m \u001b[0mclock2\u001b[0m\u001b[0;34m(\u001b[0m\u001b[0;34m)\u001b[0m\u001b[0;34m\u001b[0m\u001b[0m\n\u001b[0;32m-> 1180\u001b[0;31m             \u001b[0;32mexec\u001b[0m\u001b[0;34m(\u001b[0m\u001b[0mcode\u001b[0m\u001b[0;34m,\u001b[0m \u001b[0mglob\u001b[0m\u001b[0;34m,\u001b[0m \u001b[0mlocal_ns\u001b[0m\u001b[0;34m)\u001b[0m\u001b[0;34m\u001b[0m\u001b[0m\n\u001b[0m\u001b[1;32m   1181\u001b[0m             \u001b[0mend\u001b[0m \u001b[0;34m=\u001b[0m \u001b[0mclock2\u001b[0m\u001b[0;34m(\u001b[0m\u001b[0;34m)\u001b[0m\u001b[0;34m\u001b[0m\u001b[0m\n\u001b[1;32m   1182\u001b[0m             \u001b[0mout\u001b[0m \u001b[0;34m=\u001b[0m \u001b[0mNone\u001b[0m\u001b[0;34m\u001b[0m\u001b[0m\n",
      "\u001b[0;32m<timed exec>\u001b[0m in \u001b[0;36m<module>\u001b[0;34m()\u001b[0m\n",
      "\u001b[0;32m<ipython-input-28-8dca4392199b>\u001b[0m in \u001b[0;36mdiscretize\u001b[0;34m(tuple_list, nb_bins_per_output_coord, nb_bins_per_hidden_coord, input_size)\u001b[0m\n\u001b[1;32m     57\u001b[0m             \u001b[0mvalue\u001b[0m \u001b[0;34m=\u001b[0m \u001b[0mhidden\u001b[0m\u001b[0;34m[\u001b[0m\u001b[0mhidden_coord\u001b[0m\u001b[0;34m]\u001b[0m\u001b[0;34m\u001b[0m\u001b[0m\n\u001b[1;32m     58\u001b[0m             \u001b[0;32mfor\u001b[0m \u001b[0mk\u001b[0m \u001b[0;32min\u001b[0m \u001b[0mrange\u001b[0m\u001b[0;34m(\u001b[0m\u001b[0mnb_bins_per_hidden_coord\u001b[0m\u001b[0;34m)\u001b[0m\u001b[0;34m:\u001b[0m\u001b[0;34m\u001b[0m\u001b[0m\n\u001b[0;32m---> 59\u001b[0;31m                 \u001b[0;32mif\u001b[0m \u001b[0mvalue\u001b[0m \u001b[0;34m>=\u001b[0m \u001b[0mmin_\u001b[0m \u001b[0;34m+\u001b[0m \u001b[0mk\u001b[0m \u001b[0;34m*\u001b[0m \u001b[0mbin_size\u001b[0m \u001b[0;32mand\u001b[0m \u001b[0mvalue\u001b[0m \u001b[0;34m<=\u001b[0m \u001b[0mmin_\u001b[0m \u001b[0;34m+\u001b[0m \u001b[0;34m(\u001b[0m\u001b[0mk\u001b[0m \u001b[0;34m+\u001b[0m \u001b[0;36m1\u001b[0m\u001b[0;34m)\u001b[0m \u001b[0;34m*\u001b[0m \u001b[0mbin_size\u001b[0m\u001b[0;34m:\u001b[0m\u001b[0;34m\u001b[0m\u001b[0m\n\u001b[0m\u001b[1;32m     60\u001b[0m                     \u001b[0mbins_list_hidden\u001b[0m\u001b[0;34m[\u001b[0m\u001b[0mi\u001b[0m\u001b[0;34m]\u001b[0m\u001b[0;34m[\u001b[0m\u001b[0mhidden_coord\u001b[0m\u001b[0;34m]\u001b[0m \u001b[0;34m=\u001b[0m \u001b[0mk\u001b[0m\u001b[0;34m\u001b[0m\u001b[0m\n\u001b[1;32m     61\u001b[0m                     \u001b[0mdiscretized_hidden_list\u001b[0m\u001b[0;34m[\u001b[0m\u001b[0mi\u001b[0m\u001b[0;34m]\u001b[0m\u001b[0;34m[\u001b[0m\u001b[0mhidden_coord\u001b[0m\u001b[0;34m]\u001b[0m \u001b[0;34m=\u001b[0m \u001b[0mmin_\u001b[0m \u001b[0;34m+\u001b[0m \u001b[0;34m(\u001b[0m\u001b[0mk\u001b[0m \u001b[0;34m+\u001b[0m \u001b[0;36m0.5\u001b[0m\u001b[0;34m)\u001b[0m \u001b[0;34m*\u001b[0m \u001b[0mbin_size\u001b[0m\u001b[0;34m\u001b[0m\u001b[0m\n",
      "\u001b[0;31mKeyboardInterrupt\u001b[0m: "
     ]
    }
   ],
   "source": [
    "%%time\n",
    "list_centers_first_clusters, list_subclusters_centers = discretize(tuple_list, 3, 2, 3)"
   ]
  },
  {
   "cell_type": "code",
   "execution_count": null,
   "metadata": {},
   "outputs": [],
   "source": [
    "\n",
    "list_centers_first_clusters, list_subclusters_centers = discretize_mp(tuple_list, 3, 3, 3)"
   ]
  },
  {
   "cell_type": "code",
   "execution_count": 27,
   "metadata": {},
   "outputs": [],
   "source": [
    "def kmeans_clustering(tuple_list, n_clusters_output, size_clusters_hidden):\n",
    "    \"\"\"the network \"states\" to be clustered are composed of a probability distribution (for the next character)\n",
    "    and of a memory state (hidden and cell state). We first cluster states based on their probability distrib\n",
    "    and then we subcluster each cluster obtained according to their memory state\"\"\"\n",
    "    \n",
    "    state_list = [(Variable(torch.from_numpy(tuple[:input_size]).view(1, 1, -1)), (Variable(torch.from_numpy(tuple[input_size: input_size + hidden_size]).view(1, 1, -1)), Variable(torch.from_numpy(tuple[input_size + hidden_size:]).view(1, 1, -1)))) for tuple in tuple_list]\n",
    "    output_list = [state[:input_size] for state in tuple_list]\n",
    "    output_matrix = np.matrix(output_list)\n",
    "    # Cluster according to output\n",
    "    kmeans = sklearn.cluster.KMeans(n_clusters = n_clusters_output, n_jobs=-1).fit(output_matrix) \n",
    "    list_indices_first_clusters = [[i for i in range(len(tuple_list)) if kmeans.labels_[i]==cluster] for cluster in np.unique(kmeans.labels_)]\n",
    "    hidden_states_per_output_cluster_list = [[tuple_list[i][input_size:] for i in cluster] for cluster in list_indices_first_clusters]\n",
    "    #list_indices_final_clusters = list() #save in which cluster are each original state (mostly to check clustering correctness)\n",
    "    #list_centers_final_clusters = list() #save the cluster centers (i.e the states of the finite automaton)\n",
    "    list_centers_first_clusters = kmeans.cluster_centers_\n",
    "    list_subclusters_centers = list()\n",
    "    # Subcluster according to memory \n",
    "    for i, output_cluster in enumerate(hidden_states_per_output_cluster_list):\n",
    "        matrix = np.matrix(output_cluster)\n",
    "        kmeans_i = sklearn.cluster.KMeans(n_clusters = max(len(output_cluster) / size_clusters_hidden, 1), n_jobs=-1).fit(matrix)\n",
    "        list_subclusters_centers.append(kmeans_i.cluster_centers_)\n",
    "        #list_indices_hidden_cluster_in_output_cluster = [[j for j in range(len(output_cluster)) if kmeans_i.labels_[j]==cluster] for cluster in np.unique(kmeans_i.labels_)]\n",
    "        #list_indices_final_clusters.extend([[list_indices_first_clusters[i][j] for j in hidden_cluster] for hidden_cluster in list_indices_hidden_cluster_in_output_cluster])\n",
    "        #output_cluster_centers = [np.mean([tuple_list[list_indices_first_clusters[i][k]][:input_size] for k in list_indices_hidden_cluster_in_output_cluster[l]], axis=0) for l in range(len(list_indices_hidden_cluster_in_output_cluster))]\n",
    "        #list_centers_final_clusters.extend([(output_cluster_centers[k], kmeans_i.cluster_centers_[k]) for k in range(len(output_cluster_centers))])\n",
    "    return list_subclusters_centers, list_centers_first_clusters"
   ]
  },
  {
   "cell_type": "code",
   "execution_count": 29,
   "metadata": {},
   "outputs": [],
   "source": [
    "def get_mini_batch_from_database(file_to_read, batch_size):\n",
    "    \"\"\"\n",
    "    Get a batch from the file_to_read (in the order of the file)\n",
    "    Returns : a sklearn_compatible matrix of the batch\n",
    "    \"\"\"\n",
    "    batch = list()\n",
    "    for _ in range(batch_size):\n",
    "        picklised_example = \"\"\n",
    "        for i in range(1000):\n",
    "            picklised_line = file_to_read.readline()\n",
    "            if picklised_line != \"NEW_TUPLE\\n\":\n",
    "                picklised_example += picklised_line\n",
    "            else:\n",
    "                batch.append(cPickle.loads(picklised_line))\n",
    "                break\n",
    "    return batch\n",
    "    \n",
    "    "
   ]
  },
  {
   "cell_type": "code",
   "execution_count": 31,
   "metadata": {
    "collapsed": true
   },
   "outputs": [],
   "source": [
    "import cPickle"
   ]
  },
  {
   "cell_type": "code",
   "execution_count": null,
   "metadata": {},
   "outputs": [],
   "source": [
    "file_to_read = open(\"/pickle2/hidden_state_file_toy_language\", \"r\")\n",
    "get_mini_batch_from_database(file_to_read, 3)"
   ]
  },
  {
   "cell_type": "code",
   "execution_count": null,
   "metadata": {
    "collapsed": true
   },
   "outputs": [],
   "source": [
    "def mini_batch_kmeans_clustering(tuple_list, n_clusters_output, size_clusters_hidden):\n",
    "    "
   ]
  },
  {
   "cell_type": "code",
   "execution_count": 262,
   "metadata": {},
   "outputs": [],
   "source": [
    "list_subclusters_centers, list_centers_first_clusters = kmeans_clustering(tuple_list, 10, 100)"
   ]
  },
  {
   "cell_type": "code",
   "execution_count": 263,
   "metadata": {},
   "outputs": [
    {
     "data": {
      "text/plain": [
       "[325, 231, 381, 20, 164, 106, 17, 604, 10, 59]"
      ]
     },
     "execution_count": 263,
     "metadata": {},
     "output_type": "execute_result"
    }
   ],
   "source": [
    "[len(a) for a in list_subclusters_centers]"
   ]
  },
  {
   "cell_type": "code",
   "execution_count": 264,
   "metadata": {},
   "outputs": [
    {
     "data": {
      "text/plain": [
       "10"
      ]
     },
     "execution_count": 264,
     "metadata": {},
     "output_type": "execute_result"
    }
   ],
   "source": [
    "len(list_subclusters_centers)"
   ]
  },
  {
   "cell_type": "code",
   "execution_count": 265,
   "metadata": {},
   "outputs": [
    {
     "data": {
      "text/plain": [
       "191.69999999999999"
      ]
     },
     "execution_count": 265,
     "metadata": {},
     "output_type": "execute_result"
    }
   ],
   "source": [
    "np.mean([len(a) for a in list_subclusters_centers]) "
   ]
  },
  {
   "cell_type": "code",
   "execution_count": 266,
   "metadata": {},
   "outputs": [
    {
     "name": "stdout",
     "output_type": "stream",
     "text": [
      "[[  4.26793814e-01   5.71573019e-01   1.63282827e-03]\n",
      " [  8.09937537e-01   1.56054497e-02   1.74462467e-01]\n",
      " [  3.80979717e-01   6.17719471e-01   1.30129419e-03]\n",
      " [  5.29722393e-01   4.41987157e-01   2.82904524e-02]\n",
      " [  3.44334066e-01   6.54592454e-01   1.07363984e-03]\n",
      " [  4.64577705e-01   5.31836569e-01   3.58571298e-03]\n",
      " [  7.28628159e-01   1.36409134e-01   1.34961903e-01]\n",
      " [  4.05459046e-01   5.93073726e-01   1.46647356e-03]\n",
      " [  6.24219298e-01   3.03297698e-01   7.24831522e-02]\n",
      " [  2.96210706e-01   7.03025937e-01   7.63256103e-04]]\n"
     ]
    }
   ],
   "source": [
    "print(list_centers_first_clusters)"
   ]
  },
  {
   "cell_type": "code",
   "execution_count": 267,
   "metadata": {},
   "outputs": [],
   "source": [
    "#list_final_clusters2 = np.vstack(list_final_clusters)"
   ]
  },
  {
   "cell_type": "code",
   "execution_count": 268,
   "metadata": {
    "collapsed": true
   },
   "outputs": [],
   "source": [
    "import networkx as nx"
   ]
  },
  {
   "cell_type": "code",
   "execution_count": 270,
   "metadata": {},
   "outputs": [],
   "source": [
    "automata2 = nx.MultiDiGraph()"
   ]
  },
  {
   "cell_type": "code",
   "execution_count": 271,
   "metadata": {},
   "outputs": [],
   "source": [
    "for i in range(len(list_subclusters_centers)):\n",
    "    for j in range(len(list_subclusters_centers[i])):\n",
    "        automata2.add_node((i, j))"
   ]
  },
  {
   "cell_type": "code",
   "execution_count": 272,
   "metadata": {},
   "outputs": [],
   "source": [
    "automata2.add_node(-1)"
   ]
  },
  {
   "cell_type": "code",
   "execution_count": 273,
   "metadata": {
    "collapsed": true
   },
   "outputs": [],
   "source": [
    "char_vect = ['(', ')', 'E']"
   ]
  },
  {
   "cell_type": "code",
   "execution_count": 274,
   "metadata": {},
   "outputs": [],
   "source": [
    "def closest_to(vect, list_vect, distance=euclidian_distance):\n",
    "    return np.argmin([distance(vect, vect2) for vect2 in list_vect])"
   ]
  },
  {
   "cell_type": "code",
   "execution_count": 275,
   "metadata": {
    "collapsed": true
   },
   "outputs": [],
   "source": [
    "def distances_closest(vect, list_vect, n_closest, distance=euclidian_distance):\n",
    "    distance_list = [distance(vect, vect2) for vect2 in list_vect]\n",
    "    indices_closest = np.argsort(distance_list)[:n_closest]\n",
    "    distances_closest = np.array(distance_list)[indices_closest]\n",
    "    return indices_closest, distances_closest\n",
    "    "
   ]
  },
  {
   "cell_type": "code",
   "execution_count": 276,
   "metadata": {},
   "outputs": [
    {
     "data": {
      "text/plain": [
       "1918"
      ]
     },
     "execution_count": 276,
     "metadata": {},
     "output_type": "execute_result"
    }
   ],
   "source": [
    "len(list(automata2.nodes()))"
   ]
  },
  {
   "cell_type": "code",
   "execution_count": 277,
   "metadata": {
    "collapsed": true
   },
   "outputs": [],
   "source": [
    "import sys\n",
    "sys.setrecursionlimit(10000)"
   ]
  },
  {
   "cell_type": "code",
   "execution_count": 278,
   "metadata": {},
   "outputs": [],
   "source": [
    "def add_transition_closest_log(automata, rnn, start_node, start_output, start_hidden, list_subclusters_centers, list_first_clusters_centers,n_rec=0):\n",
    "    \"\"\"\n",
    "    Create the transitions between the finite automaton states according to the rnn.\n",
    "    (the rnn tells from wich memory state to which memory state we should go after a character).\n",
    "    \"\"\"\n",
    "    n_rec +=1\n",
    "    if n_rec > 7000:\n",
    "        return\n",
    "    result_list = list()\n",
    "\n",
    "    for i, proba in enumerate(start_output):\n",
    "        char_as_vect = Variable(text2input(char_vect[i]))\n",
    "        hidden_state = (Variable(torch.from_numpy(start_hidden[:hidden_size]).view(1, 1, -1)).float(), Variable(torch.from_numpy(start_hidden[hidden_size:]).view(1, 1, -1).float()))\n",
    "        output, new_hidden = rnn(char_as_vect, hidden_state)\n",
    "        output = F.softmax(output)\n",
    "        output = output.data.numpy()\n",
    "        new_hidden = np.concatenate((new_hidden[0].data.numpy(), new_hidden[1].data.numpy()))\n",
    "        index_closest_output = closest_to(output, list_first_clusters_centers, euclidian_distance)\n",
    "        index_closest_hidden = closest_to(new_hidden, list_subclusters_centers[index_closest_output], euclidian_distance)\n",
    "        cluster_output = list_first_clusters_centers[index_closest_output]\n",
    "        cluster_hidden = list_subclusters_centers[index_closest_output][index_closest_hidden]\n",
    "        new_node = (index_closest_output, index_closest_hidden)\n",
    "        add_node = True\n",
    "        data = automata.get_edge_data(start_node, new_node)\n",
    "        if data:\n",
    "            if char_vect[i] in [d[\"label\"] for d in data.values()]:\n",
    "                add_node = False\n",
    "\n",
    "        if add_node:\n",
    "            automata.add_edge(start_node, new_node, label=char_vect[i], weight=float(np.exp(proba)))\n",
    "            add_transition_closest_log(automata, rnn, new_node, cluster_output, cluster_hidden, list_subclusters_centers, list_first_clusters_centers, n_rec)\n",
    "\n",
    "\n",
    "\n",
    "\n",
    "            "
   ]
  },
  {
   "cell_type": "code",
   "execution_count": 279,
   "metadata": {},
   "outputs": [],
   "source": [
    "def add_transition_closest(automata, rnn, start_node, start_output, start_hidden, list_subclusters_centers, list_first_clusters_centers,n_rec=0):\n",
    "    \"\"\"\n",
    "    Create the transitions between the finite automaton states according to the rnn.\n",
    "    (the rnn tells from wich memory state to which memory state we should go after a character).\n",
    "    \"\"\"\n",
    "    n_rec +=1\n",
    "    if n_rec > 7000:\n",
    "        return\n",
    "    result_list = list()\n",
    "\n",
    "    for i, proba in enumerate(start_output):\n",
    "        char_as_vect = Variable(text2input(char_vect[i]))\n",
    "        hidden_state = (Variable(torch.from_numpy(start_hidden[:hidden_size]).view(1, 1, -1)).float(), Variable(torch.from_numpy(start_hidden[hidden_size:]).view(1, 1, -1).float()))\n",
    "        output, new_hidden = rnn(char_as_vect, hidden_state)\n",
    "        output = F.softmax(output)\n",
    "        output = output.data.numpy()\n",
    "        new_hidden = np.concatenate((new_hidden[0].data.numpy(), new_hidden[1].data.numpy()))\n",
    "        index_closest_output = closest_to(output, list_first_clusters_centers, euclidian_distance)\n",
    "        index_closest_hidden = closest_to(new_hidden, list_subclusters_centers[index_closest_output], euclidian_distance)\n",
    "        cluster_output = list_first_clusters_centers[index_closest_output]\n",
    "        cluster_hidden = list_subclusters_centers[index_closest_output][index_closest_hidden]\n",
    "        new_node = (index_closest_output, index_closest_hidden)\n",
    "        add_node = True\n",
    "        data = automata.get_edge_data(start_node, new_node)\n",
    "        if data:\n",
    "            if char_vect[i] in [d[\"label\"] for d in data.values()]:\n",
    "                add_node = False\n",
    "        \n",
    "        if add_node:\n",
    "            automata.add_edge(start_node, new_node, label=char_vect[i], weight=float(proba))\n",
    "            add_transition_closest(automata, rnn, new_node, cluster_output, cluster_hidden, list_subclusters_centers, list_first_clusters_centers, n_rec)\n",
    "\n",
    "\n",
    "            \n",
    "        \n",
    "        "
   ]
  },
  {
   "cell_type": "markdown",
   "metadata": {
    "collapsed": true
   },
   "source": [
    "def add_transition_nuanced(automata, rnn, start_node, start_output, start_hidden, n_rec=0):\n",
    "    \"\"\"\n",
    "    same that add_transition_closest but instead of making transitions from one memory state to the closest\n",
    "    after one character, we make several transition to the closest memory_states (with the transition probability weighted)\n",
    "    by the states distance\n",
    "    NOT USED\n",
    "    \"\"\"\n",
    "    n_rec +=1\n",
    "    if n_rec > 700:\n",
    "        return\n",
    "    result_list = list()\n",
    "    print(start_output)\n",
    "    for i, proba in enumerate(start_output):\n",
    "        char_as_vect = Variable(text2input(char_vect[i]))\n",
    "        hidden_state = (Variable(torch.from_numpy(start_hidden[:hidden_size]).view(1, 1, -1)).float(), Variable(torch.from_numpy(start_hidden[hidden_size:]).view(1, 1, -1).float()))\n",
    "        output, new_hidden = rnn(char_as_vect, hidden_state)\n",
    "        output = F.softmax(output)\n",
    "        output = output.data.numpy()\n",
    "        new_hidden = np.concatenate((new_hidden[0].data.numpy(), new_hidden[1].data.numpy()))\n",
    "        indices_closest_output, distances_closest_output = distances_closest(output, list_center_first_clusters, 3) #first we cluster by output\n",
    "        proba_closest_output = (1 / distances_closest_output)**2\n",
    "        proba_closest_output /= np.sum(proba_closest_output)\n",
    "        #print(distances_closest_output)\n",
    "        #print(proba_closest_output)\n",
    "        for k, indice_cluster_output in enumerate(indices_closest_output):\n",
    "            new_cluster = list_final_clusters[indice_cluster_output]\n",
    "            new_cluster_proba = proba_closest_output[i]\n",
    "            indices_closest_hidden, distances_closest_hidden = distances_closest(new_hidden, new_cluster, 1)\n",
    "            proba_closest_hidden = (1 / distances_closest_hidden)**2\n",
    "            proba_closest_hidden /= np.sum(proba_closest_hidden)\n",
    "            for j, indice_cluster_hidden in enumerate(indices_closest_hidden):a\n",
    "                new_node = (indice_cluster_output, indice_cluster_hidden)\n",
    "                final_proba = proba * new_cluster_proba * proba_closest_hidden[j]\n",
    "                cluster_output = list_center_first_clusters[indice_cluster_output]\n",
    "                cluster_hidden = list_final_clusters[indice_cluster_output][indice_cluster_hidden]\n",
    "                if new_node not in automata.neighbors(start_node) and final_proba > 0:\n",
    "                    automata.add_edge(start_node, new_node, label=char_vect[i], weight=float(final_proba))\n",
    "                    add_transition_nuanced(automata, rnn, new_node, cluster_output, cluster_hidden, n_rec)\n"
   ]
  },
  {
   "cell_type": "code",
   "execution_count": 280,
   "metadata": {},
   "outputs": [],
   "source": [
    "add_transition_closest(automata2, rnn, -1, np.array((1., 0, 0)), np.zeros(40).astype(float), list_subclusters_centers, list_centers_first_clusters)"
   ]
  },
  {
   "cell_type": "code",
   "execution_count": 259,
   "metadata": {},
   "outputs": [],
   "source": [
    "add_transition_closest_log(automata2, rnn, -1, np.array((0, -np.inf, -np.inf)), np.zeros(40).astype(float), list_subclusters_centers, list_centers_first_clusters)"
   ]
  },
  {
   "cell_type": "markdown",
   "metadata": {},
   "source": [
    "add_transition_nuanced(automata, rnn, -1, np.array((1., 0, 0)), np.zeros(40).astype(float), 0)"
   ]
  },
  {
   "cell_type": "markdown",
   "metadata": {},
   "source": [
    "add_transition_closest_log(automata_log, rnn, -1, np.array((1., 0, 0)), np.zeros(40).astype(float))"
   ]
  },
  {
   "cell_type": "code",
   "execution_count": 281,
   "metadata": {},
   "outputs": [
    {
     "name": "stdout",
     "output_type": "stream",
     "text": [
      "Name: \n",
      "Type: MultiDiGraph\n",
      "Number of nodes: 1918\n",
      "Number of edges: 4650\n",
      "Average in degree:   2.4244\n",
      "Average out degree:   2.4244\n"
     ]
    }
   ],
   "source": [
    "print(nx.info(automata2))"
   ]
  },
  {
   "cell_type": "code",
   "execution_count": 282,
   "metadata": {},
   "outputs": [],
   "source": [
    "l = [len(list(automata2.neighbors((node)))) for node in automata2.nodes()]"
   ]
  },
  {
   "cell_type": "code",
   "execution_count": 283,
   "metadata": {},
   "outputs": [],
   "source": [
    "l = np.array(l)"
   ]
  },
  {
   "cell_type": "code",
   "execution_count": 284,
   "metadata": {},
   "outputs": [
    {
     "data": {
      "text/plain": [
       "368"
      ]
     },
     "execution_count": 284,
     "metadata": {},
     "output_type": "execute_result"
    }
   ],
   "source": [
    "sum(l==0)"
   ]
  },
  {
   "cell_type": "code",
   "execution_count": 287,
   "metadata": {},
   "outputs": [
    {
     "name": "stdout",
     "output_type": "stream",
     "text": [
      "nb visited nodes : 7\n",
      "longueur : 11\n",
      "()()()()()E\n"
     ]
    },
    {
     "ename": "NameError",
     "evalue": "name 'is_correct' is not defined",
     "output_type": "error",
     "traceback": [
      "\u001b[0;31m---------------------------------------------------------------------------\u001b[0m",
      "\u001b[0;31mNameError\u001b[0m                                 Traceback (most recent call last)",
      "\u001b[0;32m<ipython-input-287-5c54caf95e96>\u001b[0m in \u001b[0;36m<module>\u001b[0;34m()\u001b[0m\n\u001b[1;32m      2\u001b[0m \u001b[0;32mprint\u001b[0m\u001b[0;34m(\u001b[0m\u001b[0;34m\"longueur : {}\"\u001b[0m\u001b[0;34m.\u001b[0m\u001b[0mformat\u001b[0m\u001b[0;34m(\u001b[0m\u001b[0mlen\u001b[0m\u001b[0;34m(\u001b[0m\u001b[0mres\u001b[0m\u001b[0;34m)\u001b[0m\u001b[0;34m)\u001b[0m\u001b[0;34m)\u001b[0m\u001b[0;34m\u001b[0m\u001b[0m\n\u001b[1;32m      3\u001b[0m \u001b[0;32mprint\u001b[0m\u001b[0;34m(\u001b[0m\u001b[0mres\u001b[0m\u001b[0;34m)\u001b[0m\u001b[0;34m\u001b[0m\u001b[0m\n\u001b[0;32m----> 4\u001b[0;31m \u001b[0;32mprint\u001b[0m\u001b[0;34m(\u001b[0m\u001b[0mis_correct\u001b[0m\u001b[0;34m(\u001b[0m\u001b[0mres\u001b[0m\u001b[0;34m)\u001b[0m\u001b[0;34m)\u001b[0m\u001b[0;34m\u001b[0m\u001b[0m\n\u001b[0m",
      "\u001b[0;31mNameError\u001b[0m: name 'is_correct' is not defined"
     ]
    }
   ],
   "source": [
    "res = generate_from_automata(automata2, print_nb_visited_nodes=True)\n",
    "print(\"longueur : {}\".format(len(res)))\n",
    "print(res)\n",
    "print(is_correct(res))"
   ]
  },
  {
   "cell_type": "code",
   "execution_count": 289,
   "metadata": {},
   "outputs": [],
   "source": [
    "from sklearn import decomposition\n",
    "import matplotlib.pyplot as plt"
   ]
  },
  {
   "cell_type": "code",
   "execution_count": 150,
   "metadata": {
    "collapsed": true
   },
   "outputs": [],
   "source": [
    "from mpl_toolkits.mplot3d import Axes3D"
   ]
  },
  {
   "cell_type": "code",
   "execution_count": 290,
   "metadata": {},
   "outputs": [],
   "source": [
    "color_list = [\"blue\", \"red\", \"yellow\", \"black\", \"goldenrod\", \"green\", \"pink\", \"purple\"]"
   ]
  },
  {
   "cell_type": "code",
   "execution_count": 291,
   "metadata": {
    "collapsed": true
   },
   "outputs": [],
   "source": [
    "from matplotlib import cm"
   ]
  },
  {
   "cell_type": "code",
   "execution_count": 292,
   "metadata": {},
   "outputs": [
    {
     "data": {
      "image/png": "[encoded data removed]",
      "text/plain": [
       "<matplotlib.figure.Figure at 0x7f5208f38c90>"
      ]
     },
     "metadata": {},
     "output_type": "display_data"
    }
   ],
   "source": [
    "pca = decomposition.PCA(n_components=2)\n",
    "\n",
    "reduced_sample_matrix = pca.fit_transform(output_matrix)\n",
    "\n",
    "dim1, dim2 = reduced_sample_matrix[:, 0], reduced_sample_matrix[:, 1]\n",
    "plt.scatter(dim1, dim2, s=0.5, alpha=0.5)\n",
    "plt.show()"
   ]
  },
  {
   "cell_type": "code",
   "execution_count": 304,
   "metadata": {},
   "outputs": [
    {
     "data": {
      "image/png": "[encoded data removed]",
      "text/plain": [
       "<matplotlib.figure.Figure at 0x7f52abcc43d0>"
      ]
     },
     "metadata": {},
     "output_type": "display_data"
    }
   ],
   "source": [
    "pca = decomposition.PCA(n_components=2)\n",
    "\n",
    "reduced_sample_matrix = pca.fit_transform(output_matrix)\n",
    "\n",
    "matrix = discretize(reduced_sample_matrix, 10, 3, len(reduced_sample_matrix[0]))[0]\n",
    "dim1, dim2 = matrix[:, 0], matrix[:, 1]\n",
    "plt.scatter(dim1, dim2, s=2, alpha=1)\n",
    "plt.show()"
   ]
  },
  {
   "cell_type": "code",
   "execution_count": 300,
   "metadata": {},
   "outputs": [
    {
     "data": {
      "image/png": "[encoded data removed]",
      "text/plain": [
       "<matplotlib.figure.Figure at 0x7f52abc50690>"
      ]
     },
     "metadata": {},
     "output_type": "display_data"
    }
   ],
   "source": [
    "plt.scatter(dim1, dim2, s=2, alpha=1)\n",
    "plt.show()"
   ]
  },
  {
   "cell_type": "code",
   "execution_count": 69,
   "metadata": {},
   "outputs": [],
   "source": [
    "kmeans = sklearn.cluster.KMeans(n_clusters = 10, n_jobs=-1).fit(np.log(output_matrix))"
   ]
  },
  {
   "cell_type": "code",
   "execution_count": 70,
   "metadata": {},
   "outputs": [
    {
     "data": {
      "image/png": "[encoded data removed]",
      "text/plain": [
       "<matplotlib.figure.Figure at 0x7fbbeab89790>"
      ]
     },
     "metadata": {},
     "output_type": "display_data"
    }
   ],
   "source": [
    "for i in range(15):\n",
    "    dim1 = reduced_sample_matrix[kmeans.labels_==i][:, 0]\n",
    "    dim2 = reduced_sample_matrix[kmeans.labels_==i][:, 1]\n",
    "    plt.scatter(dim1, dim2, c=cm.Accent(i), s=0.5, alpha=0.5)\n",
    "plt.show()"
   ]
  },
  {
   "cell_type": "code",
   "execution_count": 383,
   "metadata": {},
   "outputs": [],
   "source": [
    "def test_distance(state_list, vectorized_state_list,  distance=euclidian_distance, verification_distance=JS_divergence, n_examples=10, numpy=False):\n",
    "    distance_list = list()\n",
    "    verification_distance_list = list()\n",
    "    hidden_size = 20\n",
    "    for i in range(n_examples):\n",
    "        index1 = np.random.choice([i for i in range(len(vectorized_state_list))], replace=False)  #be careful if n_example > len(state_list)\n",
    "        index2 = np.random.choice([i for i in range(len(vectorized_state_list))], replace=False)\n",
    "        hidden1 = state_list[index1][1]\n",
    "        hidden2 = state_list[index2][1]\n",
    "        #print(F.softmax(hidden1[0].view(-1)), vectorized_state_list[index1][:hidden_size])\n",
    "        #print(F.softmax(hidden1[1].view(-1)), vectorized_state_list[index1][hidden_size:])\n",
    "        #hidden1 = (Variable(torch.from_numpy(vectorized_state_list[index1][:hidden_size]).view(1, 1, -1)), Variable(torch.from_numpy(vectorized_state_list[index1][hidden_size:]).view(1, 1, -1)))\n",
    "        #hidden2 = (Variable(torch.from_numpy(vectorized_state_list[index2][:hidden_size]).view(1, 1, -1)), Variable(torch.from_numpy(vectorized_state_list[index2][hidden_size:]).view(1, 1, -1)))\n",
    "        if numpy:\n",
    "            distance_list.append(distance(vectorized_state_list[index1], vectorized_state_list[index2]))\n",
    "        else:\n",
    "            distance_list.append(distance(torch.cat((hidden1[0].data, hidden1[1].data)), torch.cat((hidden2[0].data, hidden2[1].data))))\n",
    "        l = list()\n",
    "        for char in char_vect:\n",
    "            input_tensor = Variable(text2input(char))\n",
    "            output1, new_hidden1 = rnn(input_tensor,hidden1)\n",
    "            output2, new_hidden2 = rnn(input_tensor, hidden2)\n",
    "            output1, output2 = F.softmax(output1), F.softmax(output2)\n",
    "            l.append(verification_distance(output1.data.numpy(), output2.data.numpy()))\n",
    "        verification_distance_list.append(np.mean(l))\n",
    "    plt.scatter(distance_list, verification_distance_list)\n",
    "    plt.show()\n",
    "    return distance_list, verification_distance_list"
   ]
  },
  {
   "cell_type": "code",
   "execution_count": 320,
   "metadata": {
    "collapsed": true
   },
   "outputs": [],
   "source": [
    "softmaxed_hidden_states_list = [F.softmax(Variable(torch.from_numpy(state[20:]))).data.numpy() for state in vectorized_hidden_states_list]"
   ]
  },
  {
   "cell_type": "markdown",
   "metadata": {},
   "source": [
    "# Sampling the output of the trained network"
   ]
  },
  {
   "cell_type": "code",
   "execution_count": 20,
   "metadata": {
    "collapsed": true
   },
   "outputs": [],
   "source": [
    "char_vect = [\"(\", \")\", \"E\"]"
   ]
  },
  {
   "cell_type": "code",
   "execution_count": 187,
   "metadata": {
    "collapsed": true
   },
   "outputs": [],
   "source": [
    "def sample2(rnn, start, temp, encoder=None, username=None, username_vect=None, return_proba=False, coef_if_start_token=2, max_length=1000):\n",
    "    \"\"\" adaptation of sample function on passwords. Useful to get proba etc\"\"\"\n",
    "    if return_proba and temp != 1:\n",
    "        print(\"Warning : temperature != 1 means returned proba not accurate\")\n",
    "    rnn.eval()\n",
    "    hidden = rnn.initHidden()\n",
    "    if encoder:\n",
    "        encoder.eval()\n",
    "    if username:\n",
    "        hidden_username = encoder.initHidden()\n",
    "        username_tensor = Variable(text2input(username))\n",
    "        for i in range(username_tensor.size()[0]):\n",
    "            output, hidden_username = encoder(username_tensor[i], hidden_username)\n",
    "\n",
    "        username_vect = hidden_username[0][-1]\n",
    "    start_input = Variable(text2input(start))\n",
    "    if len(start_input) > 1:\n",
    "        for i in range(len(start_input) - 1):\n",
    "            output, hidden = rnn(username_vect, start_input[i], hidden)\n",
    "\n",
    "    input = start_input[-1]\n",
    "    sample_proba = 1\n",
    "\n",
    "    output_text = start\n",
    "\n",
    "    for i in range(max_length):\n",
    "        if not username_vect:\n",
    "            output, hidden = rnn(input, hidden)\n",
    "        else:\n",
    "            output, hidden = rnn(username_vect, input, hidden)\n",
    "        output = output.data.view(-1)\n",
    "        output_distrib = F.softmax(Variable((output - torch.ones(output.size()[0]) * torch.mean(output)) / temp))\n",
    "        topi = torch.multinomial(output_distrib, 1)[0].data[0]\n",
    "        sample_proba *= output_distrib[topi].data[0]\n",
    "\n",
    "        # topi = output.data.topk(1)[1][0][0]\n",
    "    \n",
    "        char = char_vect[topi]\n",
    "        output_text += char\n",
    "        input = Variable(text2input(char)) \n",
    "        if topi == len(char_vect) - 1:\n",
    "            break\n",
    "        if i == max_length - 1:\n",
    "            print(\"STOPPED\")\n",
    "    if not return_proba:\n",
    "        return output_text\n",
    "    else:\n",
    "        return output_text, sample_proba"
   ]
  },
  {
   "cell_type": "code",
   "execution_count": 203,
   "metadata": {},
   "outputs": [
    {
     "name": "stdout",
     "output_type": "stream",
     "text": [
      "('()()(())()()(())(())E', 1.6142139343791028e-05)\n",
      "Maximum depth : 2\n",
      "This sample is correct : True\n"
     ]
    }
   ],
   "source": [
    "sample_text, proba = sample2(rnn, \"(\", 1, return_proba=True)\n",
    "print(sample_text, proba)\n",
    "print(\"This sample is correct : {}\".format(is_correct(sample_text)))"
   ]
  },
  {
   "cell_type": "code",
   "execution_count": 8,
   "metadata": {},
   "outputs": [
    {
     "name": "stdout",
     "output_type": "stream",
     "text": [
      "STOP\n",
      "()()E\n",
      "Maximum depth : 1\n",
      "This sample is correct : True\n"
     ]
    }
   ],
   "source": [
    "max_length = 1000\n",
    "\n",
    "\n",
    "def sample(rnn, start, temp):\n",
    "    list_trad = [\"(\", \")\", \"E\"]\n",
    "    rnn.eval()\n",
    "    hidden = rnn.initHidden()\n",
    "\n",
    "    start_input = Variable(text2input(start))\n",
    "    if len(start_input) > 1:\n",
    "        for i in range(len(start_input) - 1):\n",
    "            output, hidden = rnn(start_input[i], hidden)\n",
    "            \n",
    "    input = start_input[-1]\n",
    "   \n",
    "    \n",
    "    output_text = start\n",
    "    \n",
    "    for i in range(max_length):\n",
    "        output, hidden = rnn(input, hidden)\n",
    "        output_distrib = (output.data.view(-1) / temp).exp()\n",
    "        \n",
    "        topi = torch.multinomial(output_distrib, 1)[0]\n",
    "        #topi = output.data.topk(1)[1][0][0]\n",
    "        if topi == 2:\n",
    "            print(\"STOP\")\n",
    "            output_text += list_trad[topi]\n",
    "            break\n",
    "        else:\n",
    "            char = list_trad[topi]\n",
    "            output_text += char\n",
    "            input = Variable(text2input(char))\n",
    "    return output_text\n",
    "\n",
    "# Get multiple samples from one category and multiple starting letters\n",
    "def samples():\n",
    "    print(sample())\n",
    "    \n",
    "def is_correct(text):\n",
    "    if text[-1] != \"E\":\n",
    "        print(\"No EOS\")\n",
    "        return False\n",
    "    else:\n",
    "        max_depth = 0\n",
    "        depth = 0\n",
    "        for char in text[:-1]:\n",
    "            if char == \"(\":\n",
    "                depth +=1\n",
    "            elif char == \")\":\n",
    "                depth -= 1\n",
    "            else:\n",
    "                print(\"Unknow character\")\n",
    "                return False\n",
    "            if depth < 0:\n",
    "                print(\"Negative depth\")\n",
    "                return False\n",
    "            if depth > max_depth:\n",
    "                max_depth = depth\n",
    "    \n",
    "        if depth == 0:\n",
    "            print(\"Maximum depth : {}\".format(max_depth))\n",
    "            return True\n",
    "        else:\n",
    "            print(\"Maximum depth : {}\".format(max_depth))\n",
    "            print(\"Missing {} closing brakets\".format(depth))\n",
    "            return False\n",
    "    \n",
    "#print(df[df.columns[8]][1])\n",
    "sample_text = sample(rnn, \"(\", 0.6)\n",
    "print(sample_text)\n",
    "print(\"This sample is correct : {}\".format(is_correct(sample_text)))"
   ]
  },
  {
   "cell_type": "code",
   "execution_count": 28,
   "metadata": {
    "collapsed": true
   },
   "outputs": [
    {
     "name": "stdout",
     "output_type": "stream",
     "text": [
      "57\n",
      "(0, 0.01743602752685547)\n",
      "(1, 0.030920028686523438)\n",
      "(2, 0.04367494583129883)\n",
      "(3, 0.060441017150878906)\n",
      "(4, 0.0742490291595459)\n",
      "(5, 0.08819699287414551)\n",
      "(6, 0.1017770767211914)\n",
      "(7, 0.11537003517150879)\n",
      "(8, 0.12908196449279785)\n",
      "(9, 0.14242005348205566)\n",
      "(10, 0.1555631160736084)\n",
      "(11, 0.16895008087158203)\n",
      "(12, 0.18254399299621582)\n",
      "(13, 0.19388294219970703)\n",
      "(14, 0.20609211921691895)\n",
      "(15, 0.2201240062713623)\n",
      "(16, 0.2342360019683838)\n",
      "(17, 0.2478039264678955)\n",
      "(18, 0.2614419460296631)\n",
      "(19, 0.2742040157318115)\n",
      "(20, 0.2878711223602295)\n",
      "(21, 0.29962897300720215)\n",
      "(22, 0.3096129894256592)\n",
      "(23, 0.319598913192749)\n",
      "(24, 0.32961606979370117)\n",
      "(25, 0.33964991569519043)\n",
      "(26, 0.34950995445251465)\n",
      "(27, 0.36101794242858887)\n",
      "(28, 0.37459611892700195)\n",
      "(29, 0.3884010314941406)\n",
      "(30, 0.4021310806274414)\n",
      "(31, 0.4173309803009033)\n",
      "(32, 0.43132495880126953)\n",
      "(33, 0.4451029300689697)\n",
      "(34, 0.4585111141204834)\n",
      "(35, 0.4723799228668213)\n",
      "(36, 0.48578500747680664)\n",
      "(37, 0.4986569881439209)\n",
      "(38, 0.5124061107635498)\n",
      "(39, 0.5233719348907471)\n",
      "(40, 0.5336720943450928)\n",
      "(41, 0.5440471172332764)\n",
      "(42, 0.5543539524078369)\n",
      "(43, 0.5646231174468994)\n",
      "(44, 0.5748140811920166)\n",
      "(45, 0.5850400924682617)\n",
      "(46, 0.5953090190887451)\n",
      "(47, 0.6055779457092285)\n",
      "(48, 0.6158349514007568)\n",
      "(49, 0.6320149898529053)\n",
      "(50, 0.646064043045044)\n",
      "(51, 0.6598470211029053)\n",
      "(52, 0.6736409664154053)\n",
      "(53, 0.6874339580535889)\n",
      "(54, 0.7008540630340576)\n",
      "(55, 0.7141649723052979)\n",
      "(56, 0.7275910377502441)\n",
      "(57, 0.7409589290618896)\n",
      "(58, 0.7543721199035645)\n",
      "(59, 0.7677099704742432)\n",
      "(60, 0.7823739051818848)\n",
      "(61, 0.7956650257110596)\n",
      "(62, 0.8091630935668945)\n",
      "(63, 0.8194160461425781)\n",
      "(64, 0.829664945602417)\n",
      "(65, 0.8485209941864014)\n",
      "(66, 0.8667550086975098)\n",
      "(67, 0.8820409774780273)\n",
      "(68, 0.8925979137420654)\n",
      "(69, 0.9029860496520996)\n",
      "(70, 0.9133660793304443)\n",
      "(71, 0.9265730381011963)\n",
      "(72, 0.9398279190063477)\n",
      "(73, 0.9503130912780762)\n",
      "(74, 0.9611809253692627)\n",
      "(75, 0.9753351211547852)\n",
      "(76, 0.989192008972168)\n",
      "(77, 1.0025300979614258)\n",
      "(78, 1.0163381099700928)\n",
      "(79, 1.0301330089569092)\n",
      "(80, 1.0439460277557373)\n",
      "(81, 1.0632390975952148)\n",
      "(82, 1.0820870399475098)\n",
      "(83, 1.0996589660644531)\n",
      "(84, 1.118030071258545)\n",
      "(85, 1.135599136352539)\n",
      "(86, 1.1558220386505127)\n",
      "(87, 1.1684150695800781)\n",
      "(88, 1.1789629459381104)\n",
      "(89, 1.1894519329071045)\n",
      "(90, 1.2014150619506836)\n",
      "(91, 1.2124369144439697)\n",
      "(92, 1.2229869365692139)\n",
      "(93, 1.2366669178009033)\n",
      "(94, 1.249871015548706)\n",
      "(95, 1.2655940055847168)\n",
      "(96, 1.2795119285583496)\n",
      "(97, 1.2922799587249756)\n",
      "(98, 1.305915117263794)\n",
      "(99, 1.3196649551391602)\n",
      "(100, 1.3331780433654785)\n",
      "(101, 1.346606969833374)\n",
      "(102, 1.3601760864257812)\n",
      "(103, 1.3736090660095215)\n",
      "(104, 1.3873279094696045)\n",
      "(105, 1.4008510112762451)\n",
      "(106, 1.4130189418792725)\n",
      "(107, 1.4231901168823242)\n",
      "(108, 1.4357690811157227)\n",
      "(109, 1.4493250846862793)\n",
      "(110, 1.4627339839935303)\n",
      "(111, 1.4780120849609375)\n",
      "(112, 1.4918370246887207)\n",
      "(113, 1.5055100917816162)\n",
      "(114, 1.5192360877990723)\n",
      "(115, 1.5332229137420654)\n",
      "(116, 1.5467619895935059)\n",
      "(117, 1.5602900981903076)\n",
      "(118, 1.5737380981445312)\n",
      "(119, 1.5870060920715332)\n",
      "(120, 1.6005709171295166)\n",
      "(121, 1.6134729385375977)\n",
      "(122, 1.6270349025726318)\n",
      "(123, 1.6405889987945557)\n",
      "(124, 1.6538050174713135)\n",
      "(125, 1.667344093322754)\n",
      "(126, 1.6829581260681152)\n",
      "(127, 1.696721076965332)\n",
      "(128, 1.7091660499572754)\n",
      "(129, 1.7227520942687988)\n",
      "(130, 1.7361629009246826)\n",
      "(131, 1.7495031356811523)\n",
      "(132, 1.7627320289611816)\n",
      "(133, 1.7761521339416504)\n",
      "(134, 1.787398099899292)\n",
      "(135, 1.7971110343933105)\n",
      "(136, 1.806762933731079)\n",
      "(137, 1.8164300918579102)\n",
      "(138, 1.8265960216522217)\n",
      "(139, 1.8367950916290283)\n",
      "(140, 1.846998929977417)\n",
      "(141, 1.8571350574493408)\n",
      "(142, 1.8673460483551025)\n",
      "(143, 1.8775429725646973)\n",
      "(144, 1.895477056503296)\n",
      "(145, 1.907052993774414)\n",
      "(146, 1.9172420501708984)\n",
      "(147, 1.9274780750274658)\n",
      "(148, 1.9398081302642822)\n",
      "(149, 1.9534659385681152)\n",
      "(150, 1.9671790599822998)\n",
      "(151, 1.9809460639953613)\n",
      "(152, 1.994683027267456)\n",
      "(153, 2.0077579021453857)\n",
      "(154, 2.0212600231170654)\n",
      "(155, 2.0348799228668213)\n",
      "(156, 2.0470519065856934)\n",
      "(157, 2.061052083969116)\n",
      "(158, 2.075032949447632)\n",
      "(159, 2.0891220569610596)\n",
      "(160, 2.107621908187866)\n",
      "(161, 2.1264500617980957)\n",
      "(162, 2.1434481143951416)\n",
      "(163, 2.161858081817627)\n",
      "(164, 2.179917097091675)\n",
      "(165, 2.198946952819824)\n",
      "(166, 2.2139511108398438)\n",
      "(167, 2.2242839336395264)\n",
      "(168, 2.2345640659332275)\n",
      "(169, 2.2449381351470947)\n",
      "(170, 2.2567031383514404)\n",
      "(171, 2.2697699069976807)\n",
      "(172, 2.2835299968719482)\n",
      "(173, 2.2975029945373535)\n",
      "(174, 2.314513921737671)\n",
      "(175, 2.330811023712158)\n",
      "(176, 2.3478450775146484)\n",
      "(177, 2.3612899780273438)\n",
      "(178, 2.3750240802764893)\n",
      "(179, 2.388719081878662)\n",
      "(180, 2.4054341316223145)\n",
      "(181, 2.4182679653167725)\n",
      "(182, 2.4319300651550293)\n",
      "(183, 2.445902109146118)\n",
      "(184, 2.4597949981689453)\n",
      "(185, 2.473323106765747)\n",
      "(186, 2.48677396774292)\n",
      "(187, 2.4989800453186035)\n",
      "(188, 2.5088260173797607)\n",
      "(189, 2.522320032119751)\n",
      "(190, 2.534433126449585)\n",
      "(191, 2.547008991241455)\n",
      "(192, 2.5607481002807617)\n",
      "(193, 2.574476957321167)\n",
      "(194, 2.587989091873169)\n",
      "(195, 2.601396083831787)\n",
      "(196, 2.614828109741211)\n",
      "(197, 2.6276650428771973)\n",
      "(198, 2.6381800174713135)\n",
      "(199, 2.6511600017547607)\n",
      "(200, 2.6650071144104004)\n",
      "(201, 2.678770065307617)\n",
      "(202, 2.6924679279327393)\n",
      "(203, 2.7061879634857178)\n",
      "(204, 2.7199089527130127)\n",
      "(205, 2.735502004623413)\n",
      "(206, 2.74943208694458)\n",
      "(207, 2.7626891136169434)\n",
      "(208, 2.7764389514923096)\n",
      "(209, 2.7892420291900635)\n",
      "(210, 2.802570104598999)\n",
      "(211, 2.816096067428589)\n",
      "(212, 2.8296051025390625)\n",
      "(213, 2.8431239128112793)\n",
      "(214, 2.856653928756714)\n",
      "(215, 2.8700599670410156)\n",
      "(216, 2.883476972579956)\n",
      "(217, 2.896868944168091)\n",
      "(218, 2.910228967666626)\n",
      "(219, 2.923454999923706)\n",
      "(220, 2.938430070877075)\n",
      "(221, 2.9502761363983154)\n",
      "(222, 2.960175037384033)\n",
      "(223, 2.969870090484619)\n",
      "(224, 2.979526996612549)\n",
      "(225, 2.989366054534912)\n",
      "(226, 2.9990220069885254)\n",
      "(227, 3.0086669921875)\n",
      "(228, 3.0183329582214355)\n",
      "(229, 3.028032064437866)\n",
      "(230, 3.037708044052124)\n",
      "(231, 3.0474700927734375)\n",
      "(232, 3.0572690963745117)\n",
      "(233, 3.0673739910125732)\n",
      "(234, 3.077141046524048)\n",
      "(235, 3.086899995803833)\n"
     ]
    },
    {
     "ename": "ValueError",
     "evalue": "too many values to unpack",
     "output_type": "error",
     "traceback": [
      "\u001b[0;31m---------------------------------------------------------------------------\u001b[0m",
      "\u001b[0;31mValueError\u001b[0m                                Traceback (most recent call last)",
      "\u001b[0;32m<ipython-input-28-0c70d3bf0a07>\u001b[0m in \u001b[0;36m<module>\u001b[0;34m()\u001b[0m\n\u001b[1;32m     61\u001b[0m \u001b[0mtext\u001b[0m \u001b[0;34m=\u001b[0m \u001b[0;34m\"()()()((((())(())(()()))(())())()))((((()(())()((())))(()))((())((()())(((()((())(())(()(((()))()())())()((()())(((()(())()((()))()()()((()()(()()()()())()(())())(((()(()()(())(()())())())()(())()))(())(())())()())(())()()))(())(()))()E\"\u001b[0m\u001b[0;34m\u001b[0m\u001b[0m\n\u001b[1;32m     62\u001b[0m \u001b[0mtext2input\u001b[0m\u001b[0;34m(\u001b[0m\u001b[0mtext\u001b[0m\u001b[0;34m)\u001b[0m\u001b[0;34m\u001b[0m\u001b[0m\n\u001b[0;32m---> 63\u001b[0;31m \u001b[0mactivation_list\u001b[0m\u001b[0;34m,\u001b[0m \u001b[0mcell_state_list\u001b[0m \u001b[0;34m=\u001b[0m \u001b[0mvisualize\u001b[0m\u001b[0;34m(\u001b[0m\u001b[0mrnn\u001b[0m\u001b[0;34m,\u001b[0m \u001b[0mVariable\u001b[0m\u001b[0;34m(\u001b[0m\u001b[0mtext2input\u001b[0m\u001b[0;34m(\u001b[0m\u001b[0mtext\u001b[0m\u001b[0;34m)\u001b[0m\u001b[0;34m)\u001b[0m\u001b[0;34m,\u001b[0m \u001b[0mneurons\u001b[0m\u001b[0;34m)\u001b[0m\u001b[0;34m[\u001b[0m\u001b[0;36m1\u001b[0m\u001b[0;34m]\u001b[0m\u001b[0;34m\u001b[0m\u001b[0m\n\u001b[0m",
      "\u001b[0;31mValueError\u001b[0m: too many values to unpack"
     ]
    }
   ],
   "source": [
    "import time\n",
    "\n",
    "def list_weight_by_layer(rnn):\n",
    "\n",
    "    i = 0\n",
    "    weight_ih_l = list()\n",
    "    weight_hh_l = list()\n",
    "    bias_ih_l = list()\n",
    "    bias_hh_l = list()\n",
    "    while True:\n",
    "        try:\n",
    "                weight_ih_l.append(eval(\"rnn.lstm.weight_ih_l\" + str(i)))\n",
    "                weight_hh_l.append(eval(\"rnn.lstm.weight_hh_l\" + str(i)))\n",
    "                bias_ih_l.append(eval(\"rnn.lstm.bias_ih_l\" + str(i)))\n",
    "                bias_hh_l.append(eval(\"rnn.lstm.bias_hh_l\" + str(i)))\n",
    "        except:\n",
    "            break\n",
    "        i += 1\n",
    "    \n",
    "    return weight_ih_l, weight_hh_l, bias_ih_l, bias_hh_l\n",
    "def visualize(rnn, input_tensor, neurons):\n",
    "    gate_dict = {\"input\":0, \"forget\":1, \"output\":3}\n",
    "    hidden = rnn.initHidden()\n",
    "    activation_list = [[] for i in range(len(neurons))]\n",
    "    start = time.time()\n",
    "    list_paramaters = list_weight_by_layer(rnn)\n",
    "    for i in range(input_tensor.size()[0]):\n",
    "        former_hidden = hidden\n",
    "        output, hidden = rnn(input_tensor[i], hidden)\n",
    "        for j, neuron in enumerate(neurons):\n",
    "            gate = gate_dict[neuron[\"gate\"]]\n",
    "            layer = neuron[\"layer\"]\n",
    "            index = neuron[\"index\"]\n",
    "\n",
    "            # W_igate contains 4 concatained matrix Wii, Wfi, Wgi, Woi ! Same for other weight and bias\n",
    "            W_igate = list_paramaters[0][layer]\n",
    "\n",
    "            W_hgate = list_paramaters[1][layer]\n",
    "\n",
    "            b_igate = list_paramaters[2][layer]\n",
    "\n",
    "            b_hgate = list_paramaters[3][layer]\n",
    "\n",
    "\n",
    "            if layer == 0:\n",
    "                input_part = torch.mm(W_igate, input_tensor[i].view(-1, 1)) + b_igate\n",
    "            else:\n",
    "                input_part = torch.mm(W_igate, Variable(former_hidden[0][layer - 1].data.view(-1, 1)))\n",
    "            hidden_part = Variable(torch.from_numpy(np.dot(W_hgate.data.numpy(), former_hidden[0][layer].data.view(-1, 1).numpy())))\n",
    "            activation = F.sigmoid(input_part + hidden_part)[gate * rnn.hidden_size + index]\n",
    "            \n",
    "            activation_list[j].append(activation.data.numpy()[0])\n",
    "        print(i, time.time() - start)\n",
    "    return input_tensor, activation_list\n",
    "            \n",
    "    \n",
    "gate_list = [\"forget\", \"input\", \"output\"]\n",
    "neurons = [{\"gate\":\"forget\", \"layer\":1, \"index\":10}]\n",
    "neurons =[{\"gate\":gate, \"layer\":layer, \"index\":index} for gate in gate_list for layer in range(rnn.n_layers) for index in range(rnn.hidden_size - 1)]\n",
    "print(len(neurons))\n",
    "text = \"()()()((((())(())(()()))(())())()))((((()(())()((())))(()))((())((()())(((()((())(())(()(((()))()())())()((()())(((()(())()((()))()()()((()()(()()()()())()(())())(((()(()()(())(()())())())()(())()))(())(())())()())(())()()))(())(()))()E\"\n",
    "text2input(text)\n",
    "activation_list, cell_state_list = visualize(rnn, Variable(text2input(text)), neurons)[1]"
   ]
  },
  {
   "cell_type": "code",
   "execution_count": 43,
   "metadata": {},
   "outputs": [
    {
     "data": {
      "image/png": "[encoded data removed]",
      "text/plain": [
       "<matplotlib.figure.Figure at 0x7f6b86f0a650>"
      ]
     },
     "metadata": {},
     "output_type": "display_data"
    }
   ],
   "source": [
    "import matplotlib.pyplot as plt\n",
    "from matplotlib import cm\n",
    "\n",
    "def show_space(text):\n",
    "    new_text = \"\"\n",
    "    for letter in text:\n",
    "        if letter == \" \":\n",
    "            new_text += \"_\"\n",
    "        else:\n",
    "            new_text += letter\n",
    "    return new_text\n",
    "\n",
    "def text_color_map(text, value_list):\n",
    "    char_limit = 80\n",
    "    x_scale = 12\n",
    "    y_scale = 10\n",
    "    plt.figure(figsize=(x_scale, y_scale))\n",
    "    plt.axis(\"off\")\n",
    "    letter_size = 40\n",
    "    reset_corrector = 0\n",
    "    y_default_pos = 10\n",
    "    for i in range(len(text)):\n",
    "        letter = text[i]\n",
    "        value = value_list[i]\n",
    "        x_pos = (i - reset_corrector)  * 1E-2 *  letter_size / x_scale\n",
    "        y_pos = y_default_pos * 3E-2 *  letter_size / y_scale\n",
    "        if i - reset_corrector < char_limit:\n",
    "            plt.text(x_pos , y_pos, letter, size = letter_size, color = cm.cool(value))\n",
    "        else:\n",
    "            reset_corrector = i\n",
    "            y_default_pos -= 1\n",
    "            x_pos = 0\n",
    "            y_pos = y_default_pos * 3E-2 *  letter_size / y_scale\n",
    "            plt.text(x_pos , y_pos, letter, size = letter_size, color = cm.cool(value))\n",
    "    \n",
    "\n",
    "text_color_map(show_space(text), activation_list[12])"
   ]
  },
  {
   "cell_type": "code",
   "execution_count": 29,
   "metadata": {},
   "outputs": [],
   "source": [
    "def compute_depth_list(text):\n",
    "    depth = 0\n",
    "    depth_list = list()\n",
    "    for char in text:\n",
    "        if char == \"(\":\n",
    "            depth += 1\n",
    "        if char == \")\":\n",
    "            depth -= 1\n",
    "        if char == \"E\":\n",
    "            break\n",
    "        depth_list.append(depth)\n",
    "    return depth_list\n",
    "\n",
    "def correlation(ar1, ar2):\n",
    "    m = np.zeros((2, len(ar1)))\n",
    "    m[0] = ar1\n",
    "    m[1] = ar2\n",
    "    return np.corrcoef(m)[0][1]\n",
    "\n",
    "\n",
    "\n",
    "#compute_depth_list(text)"
   ]
  },
  {
   "cell_type": "code",
   "execution_count": 31,
   "metadata": {},
   "outputs": [],
   "source": [
    "open_mask = [i for i in range(len(text)) if text[i]==\"(\"]\n",
    "close_mask = [i for i in range(len(text)) if text[i]==\")\"]\n",
    "ar = np.argsort([np.sum(np.array(neuron)[open_mask]) / np.sum(np.array(neuron)[close_mask])  for neuron in activation_list])[::-1]"
   ]
  },
  {
   "cell_type": "code",
   "execution_count": 32,
   "metadata": {},
   "outputs": [
    {
     "data": {
      "text/plain": [
       "array([53, 21, 42, 34, 49,  4, 10, 23, 33, 11,  6, 29, 52, 15, 30, 40, 48,\n",
       "       26, 12,  0, 13, 14,  2, 18, 31, 56, 44, 51, 17, 46,  8, 54,  9,  3,\n",
       "       37, 19, 38, 35, 41, 47,  7, 32, 28, 22, 25, 36, 27, 45, 55, 16,  1,\n",
       "       20, 50, 39, 43, 24,  5])"
      ]
     },
     "execution_count": 32,
     "metadata": {},
     "output_type": "execute_result"
    }
   ],
   "source": [
    "ar"
   ]
  },
  {
   "cell_type": "code",
   "execution_count": 33,
   "metadata": {},
   "outputs": [
    {
     "data": {
      "text/plain": [
       "array([ 0.59796547,  0.59257416,  0.42002673,  0.40193521,  0.39536439,\n",
       "        0.37221878,  0.36560357,  0.36446306,  0.34657731,  0.34233361,\n",
       "        0.3216103 ,  0.30136377,  0.28467602,  0.27174168,  0.26070355,\n",
       "        0.25910006,  0.25637748,  0.24961326,  0.23484554,  0.223671  ,\n",
       "        0.21781137,  0.21718719,  0.21122112,  0.20591886,  0.19526065,\n",
       "        0.1854989 ,  0.17655347,  0.17629947,  0.17519393,  0.16138477,\n",
       "        0.16040571,  0.16026228,  0.1525884 ,  0.09642829,  0.0860421 ,\n",
       "        0.08389484,  0.07939702,  0.03626946,  0.02600528,  0.00938741,\n",
       "       -0.09575724, -0.09647878, -0.15469526, -0.17137092, -0.18316677,\n",
       "       -0.24146384, -0.24259528, -0.2472274 , -0.2510684 , -0.26014216,\n",
       "       -0.27492763, -0.29013834, -0.29535137, -0.3142738 , -0.32752194,\n",
       "       -0.33018298, -0.35764836])"
      ]
     },
     "execution_count": 33,
     "metadata": {},
     "output_type": "execute_result"
    }
   ],
   "source": [
    "depth_list = compute_depth_list(text)\n",
    "l2 = np.argsort([correlation(neuron[:-1], depth_list) for neuron in activation_list])[::-1]\n",
    "np.sort([correlation(neuron[:-1], depth_list) for neuron in activation_list])[::-1]"
   ]
  },
  {
   "cell_type": "code",
   "execution_count": 34,
   "metadata": {},
   "outputs": [
    {
     "data": {
      "text/plain": [
       "array([12, 31, 16, 54, 52,  7, 14, 17, 13, 18])"
      ]
     },
     "execution_count": 34,
     "metadata": {},
     "output_type": "execute_result"
    }
   ],
   "source": [
    "l2[:10]"
   ]
  },
  {
   "cell_type": "markdown",
   "metadata": {
    "scrolled": true
   },
   "source": [
    "# Saving the network"
   ]
  },
  {
   "cell_type": "code",
   "execution_count": 614,
   "metadata": {
    "collapsed": true
   },
   "outputs": [],
   "source": [
    "states = rnn.state_dict()\n",
    "\n",
    "save_states_to = open(\"rnn_toy_language_torch2.0\", \"wb\")\n",
    "tab = (3, rnn.hidden_size, 3)\n",
    "\n",
    "torch.save(states, save_states_to)"
   ]
  },
  {
   "cell_type": "markdown",
   "metadata": {},
   "source": [
    "# Retrieving the network"
   ]
  },
  {
   "cell_type": "code",
   "execution_count": 7,
   "metadata": {},
   "outputs": [
    {
     "data": {
      "text/plain": [
       "RNN (\n",
       "  (lstm): LSTM(3, 20, dropout=0.1)\n",
       "  (lin): Linear (20 -> 3)\n",
       ")"
      ]
     },
     "execution_count": 7,
     "metadata": {},
     "output_type": "execute_result"
    }
   ],
   "source": [
    "tab = (3, 20, 3)\n",
    "\n",
    "saved_to = open(\"rnn_toy_language_torch\", \"rb\")\n",
    "\n",
    "rnn = RNN(tab[0], tab[1], tab[2])\n",
    "\n",
    "rnn.load_state_dict(torch.load(saved_to))\n",
    "\n",
    "rnn.eval()"
   ]
  },
  {
   "cell_type": "code",
   "execution_count": null,
   "metadata": {
    "collapsed": true
   },
   "outputs": [],
   "source": []
  }
 ],
 "metadata": {
  "kernelspec": {
   "display_name": "Python 2",
   "language": "python",
   "name": "python2"
  },
  "language_info": {
   "codemirror_mode": {
    "name": "ipython",
    "version": 2
   },
   "file_extension": ".py",
   "mimetype": "text/x-python",
   "name": "python",
   "nbconvert_exporter": "python",
   "pygments_lexer": "ipython2",
   "version": "2.7.14"
  }
 },
 "nbformat": 4,
 "nbformat_minor": 1
}
