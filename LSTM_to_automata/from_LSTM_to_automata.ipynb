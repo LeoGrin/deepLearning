{
 "cells": [
  {
   "cell_type": "code",
   "execution_count": 1,
   "metadata": {
    "collapsed": true
   },
   "outputs": [],
   "source": [
    "# Import data"
   ]
  },
  {
   "cell_type": "code",
   "execution_count": 3,
   "metadata": {
    "collapsed": true
   },
   "outputs": [],
   "source": [
    "import pandas as pd\n",
    "import numpy as np\n",
    "import cPickle\n",
    "import pickle"
   ]
  },
  {
   "cell_type": "code",
   "execution_count": 4,
   "metadata": {
    "collapsed": true
   },
   "outputs": [],
   "source": [
    "lines =open(\"database.txt\").read().strip().split('\\n')"
   ]
  },
  {
   "cell_type": "code",
   "execution_count": 5,
   "metadata": {
    "collapsed": true
   },
   "outputs": [],
   "source": [
    "saved_indices = open(\"save_indices\", \"rb\")\n",
    "indices = pickle.load(saved_indices)"
   ]
  },
  {
   "cell_type": "markdown",
   "metadata": {},
   "source": [
    "indices = np.array([i for i in range(len(lines))])\n",
    "np.random.shuffle(indices)\n",
    "to_save_indices = open(\"save_indices\", \"wb\")\n",
    "pickle.dump(indices, to_save_indices)\n",
    "\n",
    "to_save_indices.close()"
   ]
  },
  {
   "cell_type": "code",
   "execution_count": 6,
   "metadata": {
    "collapsed": true
   },
   "outputs": [],
   "source": [
    "lines = np.array(lines)\n",
    "lines = lines[indices]"
   ]
  },
  {
   "cell_type": "code",
   "execution_count": 7,
   "metadata": {
    "collapsed": true
   },
   "outputs": [],
   "source": [
    "train_lines = lines[: int(len(lines) * 0.8)]\n",
    "test_lines = lines[int(len(lines) * 0.8):]"
   ]
  },
  {
   "cell_type": "markdown",
   "metadata": {},
   "source": [
    "# Extract random examples for training"
   ]
  },
  {
   "cell_type": "code",
   "execution_count": 8,
   "metadata": {
    "collapsed": true
   },
   "outputs": [],
   "source": [
    "from basic_functions import *"
   ]
  },
  {
   "cell_type": "code",
   "execution_count": 9,
   "metadata": {},
   "outputs": [
    {
     "data": {
      "text/plain": [
       "('jborms', 'goldstar')"
      ]
     },
     "execution_count": 9,
     "metadata": {},
     "output_type": "execute_result"
    }
   ],
   "source": [
    "randomExample(train_lines, True)"
   ]
  },
  {
   "cell_type": "code",
   "execution_count": 10,
   "metadata": {
    "collapsed": true
   },
   "outputs": [],
   "source": [
    "import torch\n",
    "import torch.nn as nn\n",
    "from torch.autograd import Variable\n",
    "import torch.nn.functional as F\n",
    "import torch.optim as optim"
   ]
  },
  {
   "cell_type": "code",
   "execution_count": 11,
   "metadata": {
    "collapsed": true
   },
   "outputs": [],
   "source": [
    "char_vect = np.array(['j', 'a', 'k', 'c', 'i', 'e', '\\r', 'm', 'l', 'x', 'f', 'z', 'b', 'o', 'r', 'g', 'h', 'p',\n",
    " 'n' ,'d' ,'1', '2' ,'8' ,'7' ,'3', 't', '4', 'y' ,'5' ,'0','9', 's', '6', 'u', 'P', 'G',\n",
    " 'w' ,'v' ,'q', 'N', 'W' ,'T' ,'H', 'A', 'B', '.', 'L', 'X' ,'I' ,'#' ,'V' ,'C' ,'R', 'D',\n",
    " 'F' ,'E' ,'Q' ,'M' ,'-' ,'_' ,'Y' ,'Z', 'K' ,'J' ,'O' ,'S' ,'U' ,'*', '%' ,'?' ,'!', '&',\n",
    " '$' ,'@' ,'=' ,';' ,' ', '\\\\', '`' ,'\\x03', '|', '+', \"'\", '^', '[', '}', '~', '(', '\\xaa',\n",
    " '\\xbb' ,']', '/', '\\xac' ,')', ':' ,'{' ,'\\xe9' ,'\\xbc', '\\x0f' ,'>', '<' ,'\\xa6',\n",
    " '\\x02' ,'\\x17', '\\x07'])"
   ]
  },
  {
   "cell_type": "markdown",
   "metadata": {},
   "source": [
    "# Build models"
   ]
  },
  {
   "cell_type": "code",
   "execution_count": 12,
   "metadata": {
    "collapsed": true
   },
   "outputs": [],
   "source": [
    "\n",
    "class RNN2(nn.Module):\n",
    "    def __init__(self, input_size, hidden_size, output_size, n_layers=1):\n",
    "        super(RNN2, self).__init__()\n",
    "        self.hidden_size = hidden_size\n",
    "        self.n_layers = n_layers\n",
    "        #self.encoder = nn.Embedding(input_size, hidden_size)\n",
    "        self.lstm = nn.LSTM(input_size, hidden_size, n_layers, dropout=0.1)\n",
    "        self.lin = nn.Linear(hidden_size, output_size)\n",
    "        #self.i2o = nn.Linear(n_categories + input_size + hidden_size, output_size)\n",
    "        #self.o2o = nn.Linear(hidden_size + output_size, output_size)\n",
    "        #self.softmax = nn.LogSoftmax()\n",
    "\n",
    "    def forward(self, input, hidden):\n",
    "        #hidden = self.i2h(input_combined)\n",
    "        #output = self.i2o(input_combined)\n",
    "        #output_combined = torch.cat((hidden, output), 1)\n",
    "        output, hidden = self.lstm(input.view(len(input), 1, -1), hidden)\n",
    "        output = self.lin(output.view(1, -1))\n",
    "        #output = self.softmax(output)\n",
    "        return output, hidden\n",
    "\n",
    "\n",
    "    def initHidden(self):\n",
    "        # Before we've done anything, we dont have any hidden state.\n",
    "        # Refer to the Pytorch documentation to see exactly\n",
    "        # why they have this dimensionality.\n",
    "        # The axes semantics are (num_layers, minibatch_size, hidden_dim)\n",
    "        return (Variable(torch.zeros(self.n_layers, 1, self.hidden_size)),\n",
    "                Variable(torch.zeros(self.n_layers, 1, self.hidden_size)))"
   ]
  },
  {
   "cell_type": "code",
   "execution_count": 13,
   "metadata": {
    "collapsed": true
   },
   "outputs": [],
   "source": [
    "class USERNAME_ENCODER(nn.Module):\n",
    "    def __init__(self, input_size, hidden_size , n_layers=1):\n",
    "        super(USERNAME_ENCODER, self).__init__()\n",
    "        self.hidden_size = hidden_size\n",
    "        self.n_layers = n_layers\n",
    "        #self.encoder = nn.Embedding(input_size, hidden_size)\n",
    "        self.lstm = nn.LSTM(input_size, hidden_size, n_layers, dropout=0.1)\n",
    "        #self.i2o = nn.Linear(n_categories + input_size + hidden_size, output_size)\n",
    "        #self.o2o = nn.Linear(hidden_size + output_size, output_size)\n",
    "        #self.softmax = nn.LogSoftmax()\n",
    "\n",
    "    def forward(self, input, hidden):\n",
    "        #hidden = self.i2h(input_combined)\n",
    "        #output = self.i2o(input_combined)\n",
    "        #output_combined = torch.cat((hidden, output), 1)\n",
    "        output, hidden = self.lstm(input.view(len(input), 1, -1), hidden)\n",
    "        #output = self.softmax(output)\n",
    "        return output, hidden\n",
    "\n",
    "\n",
    "    def initHidden(self):\n",
    "        # Before we've done anything, we dont have any hidden state.\n",
    "        # Refer to the Pytorch documentation to see exactly\n",
    "        # why they have this dimensionality.\n",
    "        # The axes semantics are (num_layers, minibatch_size, hidden_dim)\n",
    "        return (Variable(torch.zeros(self.n_layers, 1, self.hidden_size)),\n",
    "                Variable(torch.zeros(self.n_layers, 1, self.hidden_size)))"
   ]
  },
  {
   "cell_type": "code",
   "execution_count": 14,
   "metadata": {
    "collapsed": true
   },
   "outputs": [],
   "source": [
    "class RNN_WITH_USERNAME(nn.Module):\n",
    "    def __init__(self, input_size, hidden_size_encoded_username, hidden_size, output_size, n_layers=1):\n",
    "        super(RNN_WITH_USERNAME, self).__init__()\n",
    "        self.hidden_size = hidden_size\n",
    "        self.n_layers = n_layers\n",
    "        #self.encoder = nn.Embedding(input_size, hidden_size)\n",
    "        self.lstm = nn.LSTM(hidden_size_encoded_username + input_size, hidden_size, n_layers, dropout=0.1)\n",
    "        self.lin = nn.Linear(hidden_size, output_size)\n",
    "        #self.i2o = nn.Linear(n_categories + input_size + hidden_size, output_size)\n",
    "        #self.o2o = nn.Linear(hidden_size + output_size, output_size)\n",
    "        #self.softmax = nn.LogSoftmax()\n",
    "\n",
    "    def forward(self, username_tensor, input_tensor, hidden):\n",
    "        #hidden = self.i2h(input_combined)\n",
    "        #output = self.i2o(input_combined)\n",
    "        input_combined = torch.cat((username_tensor, input_tensor), 1)\n",
    "        output, hidden = self.lstm(input_combined.view(len(input_combined), 1, -1), hidden)\n",
    "        output = self.lin(F.dropout(output.view(1, -1), 0.1, training=self.training))\n",
    "        #output = self.softmax(output)\n",
    "        return output, hidden\n",
    "\n",
    "\n",
    "    def initHidden(self):\n",
    "        # Before we've done anything, we dont have any hidden state.\n",
    "        # Refer to the Pytorch documentation to see exactly\n",
    "        # why they have this dimensionality.\n",
    "        # The axes semantics are (num_layers, minibatch_size, hidden_dim)\n",
    "        return (Variable(torch.zeros(self.n_layers, 1, self.hidden_size)),\n",
    "                Variable(torch.zeros(self.n_layers, 1, self.hidden_size)))"
   ]
  },
  {
   "cell_type": "markdown",
   "metadata": {},
   "source": [
    "# Retrieving the network"
   ]
  },
  {
   "cell_type": "code",
   "execution_count": 15,
   "metadata": {
    "collapsed": true
   },
   "outputs": [],
   "source": [
    "import cPickle"
   ]
  },
  {
   "cell_type": "code",
   "execution_count": 16,
   "metadata": {
    "collapsed": true
   },
   "outputs": [],
   "source": [
    "def retrieve(rnn_object, file_name_rnn, file_name_parameters, file_name_encoder=None, encoder_object=None):\n",
    "    saved_params = open(file_name_parameters, \"rb\")\n",
    "    saved_rnn = open(file_name_rnn, \"rb\")\n",
    "    params = cPickle.load(saved_params)\n",
    "    if not encoder_object:\n",
    "        rnn = rnn_object(params[\"input_size\"], params[\"hidden_size\"], params[\"input_size\"])\n",
    "    else:\n",
    "        saved_encoder = open(file_name_encoder, 'rb') \n",
    "        rnn = rnn_object(params[\"input_size\"], params[\"encoder_hidden_size\"], params[\"rnn_hidden_size\"], params[\"input_size\"], 1)  #TODO : n_layers change\n",
    "        encoder = encoder_object(params[\"input_size\"], params[\"encoder_hidden_size\"], 1)\n",
    "        encoder.load_state_dict(torch.load(saved_encoder))\n",
    "        saved_encoder.close()\n",
    "    rnn.load_state_dict(torch.load(saved_rnn))\n",
    "    saved_rnn.close()\n",
    "    saved_params.close()\n",
    "    return rnn if not encoder_object else (rnn, encoder)\n",
    "\n",
    "rnn_with_username, username_encoder = retrieve(RNN_WITH_USERNAME, \"rnn_with_username\", \"saved_parameters_rnn_with_username\", \"username_encoder\", USERNAME_ENCODER)\n",
    "rnn_vanilla = retrieve(RNN2, \"rnn_vanilla\", \"saved_parameters_vanilla_network\")"
   ]
  },
  {
   "cell_type": "markdown",
   "metadata": {},
   "source": [
    "# Convert the LSTM to an automaton "
   ]
  },
  {
   "cell_type": "markdown",
   "metadata": {},
   "source": [
    " ## Are hidden_states robust to noise ?"
   ]
  },
  {
   "cell_type": "code",
   "execution_count": 27,
   "metadata": {
    "collapsed": true
   },
   "outputs": [],
   "source": [
    "l_mean_h = list()\n",
    "l_mean_c = list()\n",
    "for state in state_list:\n",
    "    a, b = state[1][0].data.numpy(), state[1][1].data.numpy()\n",
    "    l_mean_h.append(np.mean(np.abs(a)))\n",
    "    l_mean_c.append(np.mean(np.abs(b)))"
   ]
  },
  {
   "cell_type": "code",
   "execution_count": 28,
   "metadata": {
    "collapsed": true
   },
   "outputs": [],
   "source": [
    "mean_c = np.mean(l_mean_c)\n",
    "mean_h = np.mean(l_mean_h)"
   ]
  },
  {
   "cell_type": "code",
   "execution_count": 29,
   "metadata": {
    "collapsed": true
   },
   "outputs": [],
   "source": [
    "def hellinger(p, q):\n",
    "    return np.sqrt(np.sum((np.sqrt(p) - np.sqrt(q))**2)) / np.sqrt(2)\n",
    "\n",
    "def KL_divergence(p, q):\n",
    "    return np.sum(p * np.log(p / q.astype(float)))\n",
    "\n",
    "def JS_divergence(p, q):\n",
    "    \"\"\" turn KL divergence into a metric (symetric and triangular inequality)\"\"\"\n",
    "    m = (p + q) / float(2)\n",
    "    return 0.5 * KL_divergence(p, m) + 0.5 * KL_divergence(q, m)"
   ]
  },
  {
   "cell_type": "code",
   "execution_count": 33,
   "metadata": {
    "collapsed": true
   },
   "outputs": [],
   "source": [
    "def noisify(vector, scale, noise_type=\"normal\"):\n",
    "    noise = np.random.normal(scale=scale, size=vector.size())\n",
    "    if type(vector) == Variable:\n",
    "        return vector + Variable(torch.FloatTensor(noise))\n",
    "    if type(vector) == torch.FloatTensor:\n",
    "        return vector + torch.FloatTensor(noise)"
   ]
  },
  {
   "cell_type": "code",
   "execution_count": 36,
   "metadata": {},
   "outputs": [
    {
     "name": "stdout",
     "output_type": "stream",
     "text": [
      "CPU times: user 16 ms, sys: 4 ms, total: 20 ms\n",
      "Wall time: 127 ms\n"
     ]
    }
   ],
   "source": [
    "%%time\n",
    "input_tensor = Variable(text2input(\" \")[-1])\n",
    "hidden = state_list[140][1]\n",
    "hidden_with_noise = (noisify(hidden[0], 0.2), noisify(hidden[1], 0.2))\n",
    "output, new_hidden = rnn_vanilla(input_tensor, hidden)\n",
    "output_after_noise, new_hidden_after_noise = rnn_vanilla(input_tensor, hidden_with_noise)"
   ]
  },
  {
   "cell_type": "code",
   "execution_count": 37,
   "metadata": {
    "collapsed": true
   },
   "outputs": [],
   "source": [
    "output, output_after_noise = F.softmax(output), F.softmax(output_after_noise)"
   ]
  },
  {
   "cell_type": "code",
   "execution_count": 38,
   "metadata": {},
   "outputs": [
    {
     "data": {
      "text/plain": [
       "0.1711351441001086"
      ]
     },
     "execution_count": 38,
     "metadata": {},
     "output_type": "execute_result"
    }
   ],
   "source": [
    "KL_divergence(output.data.numpy(), output_after_noise.data.numpy())"
   ]
  },
  {
   "cell_type": "code",
   "execution_count": 39,
   "metadata": {},
   "outputs": [
    {
     "data": {
      "text/plain": [
       "0.1967698747513254"
      ]
     },
     "execution_count": 39,
     "metadata": {},
     "output_type": "execute_result"
    }
   ],
   "source": [
    "hellinger(output.data.numpy(), output_after_noise.data.numpy())"
   ]
  },
  {
   "cell_type": "code",
   "execution_count": 41,
   "metadata": {},
   "outputs": [
    {
     "name": "stdout",
     "output_type": "stream",
     "text": [
      "CPU times: user 29min 57s, sys: 6.72 s, total: 30min 4s\n",
      "Wall time: 2min 49s\n"
     ]
    }
   ],
   "source": [
    "%%time\n",
    "noise_list = [0.005 * i for i in range(20)]\n",
    "percentage_hidden_noise_list = [(noise / mean_h) * 100 for noise in noise_list]\n",
    "percentage_cell_noise_list = [(noise / mean_c) * 100 for noise in noise_list]\n",
    "KL_list = list()\n",
    "hellinger_list = list()\n",
    "JS_list = list()\n",
    "for noise in noise_list:\n",
    "    KL = list()\n",
    "    helling = list()\n",
    "    JS = list()\n",
    "    for state in state_list[:100]:\n",
    "        for char in np.random.choice(char_vect, 10):\n",
    "            input_tensor = Variable(text2input(\" \")[-1])\n",
    "            hidden = state_list[100][1]\n",
    "            hidden_with_noise = (noisify(hidden[0], noise), noisify(hidden[1], noise))\n",
    "            output, new_hidden = rnn_vanilla(input_tensor, hidden)\n",
    "            output_after_noise, new_hidden_after_noise = rnn_vanilla(input_tensor, hidden_with_noise)\n",
    "            output, output_after_noise = F.softmax(output), F.softmax(output_after_noise)\n",
    "            KL.append(KL_divergence(output.data.numpy(), output_after_noise.data.numpy()))\n",
    "            helling.append(hellinger(output.data.numpy(), output_after_noise.data.numpy()))\n",
    "            JS.append(JS_divergence(output.data.numpy(), output_after_noise.data.numpy()))\n",
    "    KL_list.append(KL)\n",
    "    hellinger_list.append(helling)\n",
    "    JS_list.append(JS)"
   ]
  },
  {
   "cell_type": "code",
   "execution_count": 43,
   "metadata": {
    "collapsed": true
   },
   "outputs": [],
   "source": [
    "mean_KL_list = [np.mean(l) for l in KL_list]\n",
    "mean_hellinger_list = [np.mean(l) for l in hellinger_list]\n",
    "mean_JS_list = [np.mean(l) for l in JS_list]\n",
    "lower_bound_KL_list = [np.mean(l) - np.std(l) for l in KL_list]\n",
    "higher_bound_KL_list = [np.mean(l) + np.std(l) for l in KL_list]\n",
    "lower_bound_JS_list = [np.mean(l) - np.std(l) for l in JS_list]\n",
    "higher_bound_JS_list = [np.mean(l) + np.std(l) for l in JS_list]\n",
    "lower_bound_hellinger_list = [np.mean(l) - np.std(l) for l in hellinger_list]\n",
    "higher_bound_hellinger_list = [np.mean(l) + np.std(l) for l in hellinger_list]"
   ]
  },
  {
   "cell_type": "code",
   "execution_count": 44,
   "metadata": {},
   "outputs": [
    {
     "data": {
      "image/png": "[encoded data removed]",
      "text/plain": [
       "<matplotlib.figure.Figure at 0x7fb95223bed0>"
      ]
     },
     "metadata": {},
     "output_type": "display_data"
    }
   ],
   "source": [
    "plt.plot(percentage_hidden_noise_list, mean_KL_list)\n",
    "plt.plot(percentage_hidden_noise_list, lower_bound_KL_list, \"--\")\n",
    "plt.plot(percentage_hidden_noise_list, higher_bound_KL_list, \"--\")\n",
    "plt.show()"
   ]
  },
  {
   "cell_type": "code",
   "execution_count": 45,
   "metadata": {},
   "outputs": [
    {
     "data": {
      "image/png": "[encoded data removed]",
      "text/plain": [
       "<matplotlib.figure.Figure at 0x7fb95205cfd0>"
      ]
     },
     "metadata": {},
     "output_type": "display_data"
    }
   ],
   "source": [
    "plt.plot(percentage_hidden_noise_list, mean_JS_list)\n",
    "plt.plot(percentage_hidden_noise_list, lower_bound_JS_list, \"--\")\n",
    "plt.plot(percentage_hidden_noise_list, higher_bound_JS_list, \"--\")\n",
    "plt.show()"
   ]
  },
  {
   "cell_type": "code",
   "execution_count": 46,
   "metadata": {},
   "outputs": [
    {
     "data": {
      "image/png": "[encoded data removed]",
      "text/plain": [
       "<matplotlib.figure.Figure at 0x7fb95210b550>"
      ]
     },
     "metadata": {},
     "output_type": "display_data"
    }
   ],
   "source": [
    "plt.plot(percentage_hidden_noise_list, mean_hellinger_list)\n",
    "plt.plot(percentage_hidden_noise_list, lower_bound_hellinger_list, \"--\")\n",
    "plt.plot(percentage_hidden_noise_list, higher_bound_hellinger_list, \"--\")\n",
    "plt.show()"
   ]
  },
  {
   "cell_type": "markdown",
   "metadata": {},
   "source": [
    "## Collect LSTM memory states when it goes through our database"
   ]
  },
  {
   "cell_type": "code",
   "execution_count": 17,
   "metadata": {
    "collapsed": true
   },
   "outputs": [],
   "source": [
    "word_list = list()\n",
    "for couple in train_lines:\n",
    "    try:\n",
    "        word = couple.split(\"\\t\")[1][:-1]\n",
    "        if len(word) > 1:\n",
    "            word_list.append(couple.split(\"\\t\")[1][:-1])\n",
    "    except:\n",
    "        continue\n",
    "#word_list = sorted(word_list)"
   ]
  },
  {
   "cell_type": "code",
   "execution_count": 18,
   "metadata": {
    "collapsed": true
   },
   "outputs": [],
   "source": [
    "def equal(var1, var2):\n",
    "    return (var1.data == var2.data).all()"
   ]
  },
  {
   "cell_type": "code",
   "execution_count": 58,
   "metadata": {
    "collapsed": true
   },
   "outputs": [
    {
     "name": "stdout",
     "output_type": "stream",
     "text": [
      "incroyable2\n",
      "incroyable2\n",
      "incroyable2\n",
      "incroyable2\n",
      "incroyable2\n",
      "incroyable2\n",
      "incroyable2\n",
      "incroyable2\n",
      "incroyable2\n",
      "incroyable2\n",
      "incroyable2\n",
      "incroyable2\n",
      "incroyable2\n",
      "('infernal1369', 'infernal1237')\n",
      "('', 0)\n",
      "('HEYYY', 4584)\n",
      "incroyable\n",
      "('infernal1369', 'infernal1237')\n",
      "('i', 1)\n",
      "('HEYYY', 4584)\n",
      "incroyable\n",
      "('infernal1369', 'infernal1237')\n",
      "('in', 2)\n",
      "('HEYYY', 4584)\n",
      "incroyable\n",
      "('infernal1369', 'infernal1237')\n",
      "('inf', 3)\n",
      "('HEYYY', 4584)\n",
      "incroyable\n",
      "('infernal1369', 'infernal1237')\n",
      "('infe', 4)\n",
      "('HEYYY', 4584)\n",
      "incroyable\n",
      "('infernal1369', 'infernal1237')\n",
      "('infer', 5)\n",
      "('HEYYY', 4584)\n",
      "incroyable\n",
      "('infernal1369', 'infernal1237')\n",
      "('infern', 6)\n",
      "('HEYYY', 4584)\n",
      "incroyable\n",
      "('infernal1369', 'infernal1237')\n",
      "('inferna', 7)\n",
      "('HEYYY', 4584)\n",
      "incroyable\n",
      "('infernal1369', 'infernal1237')\n",
      "('infernal', 8)\n",
      "('HEYYY', 4584)\n",
      "incroyable\n",
      "('infernal1369', 'infernal1237')\n",
      "('infernal1', 9)\n",
      "('HEYYY', 4584)\n",
      "incroyable\n",
      "('infernal1369', 'infernal1237')\n",
      "('infernal13', 10)\n",
      "('HEYYY', 4584)\n",
      "incroyable\n",
      "('infernal1369', 'infernal1237')\n",
      "('infernal136', 11)\n",
      "('HEYYY', 4584)\n",
      "incroyable\n",
      "('infernal1369', 'infernal1237')\n",
      "('infernal1369', 12)\n",
      "('HEYYY', 4584)\n",
      "incroyable\n",
      "('infernal666', 'infernal1369')\n",
      "('', 0)\n",
      "('HEYYY', 4584)\n",
      "incroyable\n",
      "('infernal666', 'infernal1369')\n",
      "('i', 1)\n",
      "('HEYYY', 4584)\n",
      "incroyable\n",
      "('infernal666', 'infernal1369')\n",
      "('in', 2)\n",
      "('HEYYY', 4584)\n",
      "incroyable\n",
      "('infernal666', 'infernal1369')\n",
      "('inf', 3)\n",
      "('HEYYY', 4584)\n",
      "incroyable\n",
      "('infernal666', 'infernal1369')\n",
      "('infe', 4)\n",
      "('HEYYY', 4584)\n",
      "incroyable\n",
      "('infernal666', 'infernal1369')\n",
      "('infer', 5)\n",
      "('HEYYY', 4584)\n",
      "incroyable\n",
      "('infernal666', 'infernal1369')\n",
      "('infern', 6)\n",
      "('HEYYY', 4584)\n",
      "incroyable\n",
      "('infernal666', 'infernal1369')\n",
      "('inferna', 7)\n",
      "('HEYYY', 4584)\n",
      "incroyable\n",
      "('infernal666', 'infernal1369')\n",
      "('infernal', 8)\n",
      "('HEYYY', 4584)\n",
      "incroyable\n",
      "('infernal666', 'infernal1369')\n",
      "('infernal6', 9)\n",
      "('HEYYY', 4584)\n",
      "incroyable\n",
      "('infernal666', 'infernal1369')\n",
      "('infernal66', 10)\n",
      "('HEYYY', 4584)\n",
      "incroyable\n",
      "('infernal666', 'infernal1369')\n",
      "('infernal666', 11)\n",
      "('HEYYY', 4584)\n",
      "incroyable\n",
      "('infernal666', 'infernal666')\n",
      "('', 0)\n",
      "('HEYYY', 4584)\n",
      "incroyable\n",
      "('infernal666', 'infernal666')\n",
      "('i', 1)\n",
      "('HEYYY', 4584)\n",
      "incroyable\n",
      "('infernal666', 'infernal666')\n",
      "('in', 2)\n",
      "('HEYYY', 4584)\n",
      "incroyable\n",
      "('infernal666', 'infernal666')\n",
      "('inf', 3)\n",
      "('HEYYY', 4584)\n",
      "incroyable\n",
      "('infernal666', 'infernal666')\n",
      "('infe', 4)\n",
      "('HEYYY', 4584)\n",
      "incroyable\n",
      "('infernal666', 'infernal666')\n",
      "('infer', 5)\n",
      "('HEYYY', 4584)\n",
      "incroyable\n",
      "('infernal666', 'infernal666')\n",
      "('infern', 6)\n",
      "('HEYYY', 4584)\n",
      "incroyable\n",
      "('infernal666', 'infernal666')\n",
      "('inferna', 7)\n",
      "('HEYYY', 4584)\n",
      "incroyable\n",
      "('infernal666', 'infernal666')\n",
      "('infernal', 8)\n",
      "('HEYYY', 4584)\n",
      "incroyable\n",
      "('infernal666', 'infernal666')\n",
      "('infernal6', 9)\n",
      "('HEYYY', 4584)\n",
      "incroyable\n",
      "('infernal666', 'infernal666')\n",
      "('infernal66', 10)\n",
      "('HEYYY', 4584)\n",
      "incroyable\n",
      "('infernal666', 'infernal666')\n",
      "('infernal666', 11)\n",
      "('HEYYY', 4584)\n",
      "incroyable\n",
      "('infernal_87', 'infernal666')\n",
      "('', 0)\n",
      "('HEYYY', 4584)\n",
      "incroyable\n",
      "('infernal_87', 'infernal666')\n",
      "('i', 1)\n",
      "('HEYYY', 4584)\n",
      "incroyable\n",
      "('infernal_87', 'infernal666')\n",
      "('in', 2)\n",
      "('HEYYY', 4584)\n",
      "incroyable\n",
      "('infernal_87', 'infernal666')\n",
      "('inf', 3)\n",
      "('HEYYY', 4584)\n",
      "incroyable\n",
      "('infernal_87', 'infernal666')\n",
      "('infe', 4)\n",
      "('HEYYY', 4584)\n",
      "incroyable\n",
      "('infernal_87', 'infernal666')\n",
      "('infer', 5)\n",
      "('HEYYY', 4584)\n",
      "incroyable\n",
      "('infernal_87', 'infernal666')\n",
      "('infern', 6)\n",
      "('HEYYY', 4584)\n",
      "incroyable\n",
      "('infernal_87', 'infernal666')\n",
      "('inferna', 7)\n",
      "('HEYYY', 4584)\n",
      "incroyable\n",
      "('infernal_87', 'infernal666')\n",
      "('infernal', 8)\n",
      "('HEYYY', 4584)\n",
      "incroyable\n",
      "('infernal_87', 'infernal666')\n",
      "('infernal_', 9)\n",
      "('HEYYY', 4584)\n",
      "incroyable\n",
      "('infernal_87', 'infernal666')\n",
      "('infernal_8', 10)\n",
      "('HEYYY', 4584)\n",
      "incroyable\n",
      "('infernal_87', 'infernal666')\n",
      "('infernal_87', 11)\n",
      "('HEYYY', 4584)\n",
      "incroyable\n",
      "('infernalis', 'infernal_87')\n",
      "('', 0)\n",
      "('HEYYY', 4584)\n",
      "incroyable\n",
      "('infernalis', 'infernal_87')\n",
      "('i', 1)\n",
      "('HEYYY', 4584)\n",
      "incroyable\n",
      "('infernalis', 'infernal_87')\n",
      "('in', 2)\n",
      "('HEYYY', 4584)\n",
      "incroyable\n",
      "('infernalis', 'infernal_87')\n",
      "('inf', 3)\n",
      "('HEYYY', 4584)\n",
      "incroyable\n",
      "('infernalis', 'infernal_87')\n",
      "('infe', 4)\n",
      "('HEYYY', 4584)\n",
      "incroyable\n",
      "('infernalis', 'infernal_87')\n",
      "('infer', 5)\n",
      "('HEYYY', 4584)\n",
      "incroyable\n",
      "('infernalis', 'infernal_87')\n",
      "('infern', 6)\n",
      "('HEYYY', 4584)\n",
      "incroyable\n",
      "('infernalis', 'infernal_87')\n",
      "('inferna', 7)\n",
      "('HEYYY', 4584)\n",
      "incroyable\n",
      "('infernalis', 'infernal_87')\n",
      "('infernal', 8)\n",
      "('HEYYY', 4584)\n",
      "incroyable\n",
      "('infernalis', 'infernal_87')\n",
      "('infernali', 9)\n",
      "('HEYYY', 4584)\n",
      "incroyable\n",
      "('infernalis', 'infernal_87')\n",
      "('infernalis', 10)\n",
      "('HEYYY', 4584)\n",
      "incroyable\n",
      "('infernally', 'infernalis')\n",
      "('', 0)\n",
      "('HEYYY', 4584)\n",
      "incroyable\n",
      "('infernally', 'infernalis')\n",
      "('i', 1)\n",
      "('HEYYY', 4584)\n",
      "ISDHGFUFHSDJFHDJFHSDJFHSDFJHSDJFH\n",
      "('infernally', 'infernalis')\n",
      "('in', 2)\n",
      "('HEYYY', 4584)\n",
      "incroyable\n",
      "('infernally', 'infernalis')\n",
      "('inf', 3)\n",
      "('HEYYY', 4584)\n",
      "incroyable\n",
      "('infernally', 'infernalis')\n",
      "('infe', 4)\n",
      "('HEYYY', 4584)\n",
      "incroyable\n",
      "('infernally', 'infernalis')\n",
      "('infer', 5)\n",
      "('HEYYY', 4584)\n",
      "incroyable\n",
      "('infernally', 'infernalis')\n",
      "('infern', 6)\n",
      "('HEYYY', 4584)\n",
      "incroyable\n",
      "('infernally', 'infernalis')\n",
      "('inferna', 7)\n",
      "('HEYYY', 4584)\n",
      "incroyable\n",
      "('infernally', 'infernalis')\n",
      "('infernal', 8)\n",
      "('HEYYY', 4584)\n",
      "incroyable\n",
      "('infernally', 'infernalis')\n",
      "('infernall', 9)\n",
      "('HEYYY', 4584)\n",
      "incroyable\n",
      "('infernally', 'infernalis')\n",
      "('infernally', 10)\n",
      "('HEYYY', 4584)\n",
      "incroyable\n",
      "('infernalmajesty', 'infernally')\n",
      "('', 0)\n",
      "('HEYYY', 4584)\n",
      "incroyable\n",
      "('infernalmajesty', 'infernally')\n",
      "('i', 1)\n",
      "('HEYYY', 4584)\n",
      "ISDHGFUFHSDJFHDJFHSDJFHSDFJHSDJFH\n",
      "('infernalmajesty', 'infernally')\n",
      "('in', 2)\n",
      "('HEYYY', 4584)\n",
      "incroyable\n",
      "('infernalmajesty', 'infernally')\n",
      "('inf', 3)\n",
      "('HEYYY', 4584)\n",
      "incroyable\n",
      "('infernalmajesty', 'infernally')\n",
      "('infe', 4)\n",
      "('HEYYY', 4584)\n",
      "incroyable\n",
      "('infernalmajesty', 'infernally')\n",
      "('infer', 5)\n",
      "('HEYYY', 4584)\n",
      "incroyable\n",
      "('infernalmajesty', 'infernally')\n",
      "('infern', 6)\n",
      "('HEYYY', 4584)\n",
      "incroyable\n",
      "('infernalmajesty', 'infernally')\n",
      "('inferna', 7)\n",
      "('HEYYY', 4584)\n",
      "incroyable\n",
      "('infernalmajesty', 'infernally')\n",
      "('infernal', 8)\n",
      "('HEYYY', 4584)\n",
      "incroyable\n",
      "('infernalmajesty', 'infernally')\n",
      "('infernalm', 9)\n",
      "('HEYYY', 4584)\n",
      "incroyable\n",
      "('infernalmajesty', 'infernally')\n",
      "('infernalma', 10)\n",
      "('HEYYY', 4584)\n",
      "incroyable\n",
      "('infernalmajesty', 'infernally')\n",
      "('infernalmaj', 11)\n",
      "('HEYYY', 4584)\n",
      "incroyable\n",
      "('infernalmajesty', 'infernally')\n",
      "('infernalmaje', 12)\n",
      "('HEYYY', 4584)\n",
      "incroyable\n",
      "('infernalmajesty', 'infernally')\n",
      "('infernalmajes', 13)\n",
      "('HEYYY', 4584)\n",
      "incroyable\n",
      "('infernalmajesty', 'infernally')\n",
      "('infernalmajest', 14)\n",
      "('HEYYY', 4584)\n",
      "incroyable\n",
      "('infernalmajesty', 'infernally')\n",
      "('infernalmajesty', 15)\n",
      "('HEYYY', 4584)\n",
      "incroyable\n",
      "('infernaltin', 'infernalmajesty')\n",
      "('', 0)\n",
      "('HEYYY', 4584)\n",
      "incroyable\n",
      "('infernaltin', 'infernalmajesty')\n",
      "('i', 1)\n",
      "('HEYYY', 4584)\n",
      "incroyable\n",
      "('infernaltin', 'infernalmajesty')\n",
      "('in', 2)\n",
      "('HEYYY', 4584)\n",
      "incroyable\n",
      "('infernaltin', 'infernalmajesty')\n",
      "('inf', 3)\n",
      "('HEYYY', 4584)\n",
      "incroyable\n",
      "('infernaltin', 'infernalmajesty')\n",
      "('infe', 4)\n",
      "('HEYYY', 4584)\n",
      "incroyable\n",
      "('infernaltin', 'infernalmajesty')\n",
      "('infer', 5)\n",
      "('HEYYY', 4584)\n",
      "incroyable\n",
      "('infernaltin', 'infernalmajesty')\n",
      "('infern', 6)\n",
      "('HEYYY', 4584)\n",
      "incroyable\n",
      "('infernaltin', 'infernalmajesty')\n",
      "('inferna', 7)\n",
      "('HEYYY', 4584)\n",
      "incroyable\n",
      "('infernaltin', 'infernalmajesty')\n",
      "('infernal', 8)\n",
      "('HEYYY', 4584)\n",
      "incroyable\n",
      "('infernaltin', 'infernalmajesty')\n",
      "('infernalt', 9)\n",
      "('HEYYY', 4584)\n",
      "incroyable\n",
      "('infernaltin', 'infernalmajesty')\n",
      "('infernalti', 10)\n",
      "('HEYYY', 4584)\n",
      "incroyable\n",
      "('infernaltin', 'infernalmajesty')\n",
      "('infernaltin', 11)\n",
      "('HEYYY', 4584)\n",
      "incroyable\n",
      "('infernalvfhbz', 'infernaltin')\n",
      "('', 0)\n",
      "('HEYYY', 4584)\n",
      "incroyable\n",
      "('infernalvfhbz', 'infernaltin')\n",
      "('i', 1)\n",
      "('HEYYY', 4584)\n",
      "incroyable\n",
      "('infernalvfhbz', 'infernaltin')\n",
      "('in', 2)\n",
      "('HEYYY', 4584)\n",
      "incroyable\n",
      "('infernalvfhbz', 'infernaltin')\n",
      "('inf', 3)\n",
      "('HEYYY', 4584)\n",
      "incroyable\n",
      "('infernalvfhbz', 'infernaltin')\n",
      "('infe', 4)\n",
      "('HEYYY', 4584)\n",
      "incroyable\n",
      "('infernalvfhbz', 'infernaltin')\n",
      "('infer', 5)\n",
      "('HEYYY', 4584)\n",
      "incroyable\n",
      "('infernalvfhbz', 'infernaltin')\n",
      "('infern', 6)\n",
      "('HEYYY', 4584)\n",
      "incroyable\n",
      "('infernalvfhbz', 'infernaltin')\n",
      "('inferna', 7)\n",
      "('HEYYY', 4584)\n",
      "incroyable\n",
      "('infernalvfhbz', 'infernaltin')\n",
      "('infernal', 8)\n",
      "('HEYYY', 4584)\n",
      "incroyable\n",
      "('infernalvfhbz', 'infernaltin')\n",
      "('infernalv', 9)\n",
      "('HEYYY', 4584)\n",
      "incroyable\n",
      "('infernalvfhbz', 'infernaltin')\n",
      "('infernalvf', 10)\n",
      "('HEYYY', 4584)\n",
      "incroyable\n",
      "('infernalvfhbz', 'infernaltin')\n",
      "('infernalvfh', 11)\n",
      "('HEYYY', 4584)\n",
      "incroyable\n",
      "('infernalvfhbz', 'infernaltin')\n",
      "('infernalvfhb', 12)\n",
      "('HEYYY', 4584)\n",
      "incroyable\n",
      "('infernalvfhbz', 'infernaltin')\n",
      "('infernalvfhbz', 13)\n",
      "('HEYYY', 4584)\n",
      "incroyable\n"
     ]
    }
   ],
   "source": [
    "\n",
    "state_list_fast = [(0, rnn_vanilla.initHidden())]\n",
    "rnn_vanilla.eval()\n",
    "reduced_word_list = word_list[5000000: 5000010]\n",
    "for i, word in enumerate(reduced_word_list):\n",
    "    word_tensor = Variable(text2input(word))\n",
    "    hidden = rnn_vanilla.initHidden()\n",
    "    for j, char_as_vect in enumerate(word_tensor):\n",
    "        if i >= 1:\n",
    "            saved_output, saved_hidden = state_list[- (len(reduced_word_list[i -1]) + 2)][:2] # to check if the hidden state is the same (i.e if the prefix is the same)\n",
    "            #print(hidden[0],  saved_hidden[0])\n",
    "            if equal(saved_hidden[0], hidden[0]) and equal(saved_hidden[1], hidden[1]):\n",
    "                saved_output2, saved_hidden2 = state_list[- (len(reduced_word_list[i -1]) + 1)][:2]  # to replace the output and hidden state\n",
    "                output, hidden = saved_output2, saved_hidden2\n",
    "            else:\n",
    "                output, hidden = rnn_vanilla(char_as_vect, hidden)\n",
    "                output = F.softmax(output)\n",
    "        else:\n",
    "            output, hidden = rnn_vanilla(char_as_vect, hidden)\n",
    "            output = F.softmax(output)\n",
    "        state_list_fast.append((output, hidden))\n",
    "l = state_list_fast"
   ]
  },
  {
   "cell_type": "code",
   "execution_count": 19,
   "metadata": {
    "collapsed": true
   },
   "outputs": [],
   "source": [
    "def array_in_array_list(array, array_list):\n",
    "    for array2 in array_list:\n",
    "        if (array == array2).all():\n",
    "            return True\n",
    "    return False"
   ]
  },
  {
   "cell_type": "code",
   "execution_count": 20,
   "metadata": {
    "collapsed": true
   },
   "outputs": [],
   "source": [
    "import cPickle"
   ]
  },
  {
   "cell_type": "code",
   "execution_count": 21,
   "metadata": {
    "collapsed": true
   },
   "outputs": [],
   "source": [
    "word_list = sorted(word_list)"
   ]
  },
  {
   "cell_type": "code",
   "execution_count": 22,
   "metadata": {
    "collapsed": true
   },
   "outputs": [],
   "source": [
    "import time"
   ]
  },
  {
   "cell_type": "code",
   "execution_count": 23,
   "metadata": {
    "collapsed": true
   },
   "outputs": [],
   "source": [
    "#previous save : to word 2 606 914, 12900 state saved (+ environ 15000)"
   ]
  },
  {
   "cell_type": "markdown",
   "metadata": {
    "collapsed": true
   },
   "source": [
    "#### Save our states"
   ]
  },
  {
   "cell_type": "code",
   "execution_count": null,
   "metadata": {},
   "outputs": [],
   "source": [
    "%%time\n",
    "threshold = 1E-5\n",
    "hidden_state_file = open(\"/pickle2/hidden_state_file2\", \"a\")\n",
    "try:\n",
    "    state_string = \"\"\n",
    "    rnn_vanilla.eval()\n",
    "    list_to_check_unicity = list()\n",
    "    nb_states_saved = 0\n",
    "    last_nb_states_saved = -1\n",
    "    for i, word in enumerate(word_list[6823244:]):\n",
    "        if i % 100000 == 0:\n",
    "            print(i)\n",
    "        if nb_states_saved % 300 == 0 and nb_states_saved != last_nb_states_saved:\n",
    "            last_nb_states_saved = nb_states_saved\n",
    "            print(\"nb_states_saved\", nb_states_saved)\n",
    "        word_tensor = Variable(text2input(word))\n",
    "        hidden = rnn_vanilla.initHidden()\n",
    "        proba = 1\n",
    "        for j, char_as_vect in enumerate(word_tensor):\n",
    "            if j > 0:\n",
    "                k = char_as_vect.data.topk(1)[1][0][0]\n",
    "                proba *= output[:, k].data[0]\n",
    "                if proba < threshold :\n",
    "                    break\n",
    "            output, hidden = rnn_vanilla(char_as_vect, hidden)\n",
    "            output = F.softmax(output)\n",
    "            to_save = np.concatenate((output.data.numpy().reshape(-1), hidden[0].data.numpy().reshape(-1), hidden[1].data.numpy().reshape(-1)))\n",
    "            if not(array_in_array_list(to_save, list_to_check_unicity)):\n",
    "                state_string += cPickle.dumps(to_save, protocol=cPickle.HIGHEST_PROTOCOL) + \"\\nNEW_TUPLE\\n\"\n",
    "                nb_states_saved += 1\n",
    "            list_to_check_unicity.append(to_save)\n",
    "            if len(list_to_check_unicity) > 35:\n",
    "                list_to_check_unicity.pop(0)\n",
    "            if len(state_string) > 300000:\n",
    "                hidden_state_file.write(state_string)\n",
    "                state_string = \"\"\n",
    "except KeyboardInterrupt:\n",
    "    hidden_state_file.close()\n",
    "    try:\n",
    "        print(i, j)\n",
    "    except:\n",
    "        pass\n",
    "    \n",
    "hidden_state_file.close()"
   ]
  },
  {
   "cell_type": "code",
   "execution_count": 87,
   "metadata": {
    "collapsed": true
   },
   "outputs": [],
   "source": [
    "hidden_state_file2 = open(\"/pickle2/hidden_state_file2\", \"w\")"
   ]
  },
  {
   "cell_type": "code",
   "execution_count": 88,
   "metadata": {
    "collapsed": true
   },
   "outputs": [],
   "source": [
    "hidden_state_file2.write(\"\")"
   ]
  },
  {
   "cell_type": "code",
   "execution_count": 89,
   "metadata": {
    "collapsed": true
   },
   "outputs": [],
   "source": [
    "hidden_state_file2.close()"
   ]
  },
  {
   "cell_type": "markdown",
   "metadata": {},
   "source": [
    "### Retrieve states from file"
   ]
  },
  {
   "cell_type": "code",
   "execution_count": 18,
   "metadata": {
    "collapsed": true
   },
   "outputs": [],
   "source": [
    "import os\n",
    "import pickle"
   ]
  },
  {
   "cell_type": "code",
   "execution_count": 19,
   "metadata": {
    "collapsed": true
   },
   "outputs": [],
   "source": [
    "read_hidden_state_file = open(\"/pickle2/hidden_state_file\", \"r\")"
   ]
  },
  {
   "cell_type": "code",
   "execution_count": 20,
   "metadata": {},
   "outputs": [
    {
     "name": "stdout",
     "output_type": "stream",
     "text": [
      "CPU times: user 3.47 s, sys: 652 ms, total: 4.12 s\n",
      "Wall time: 4.2 s\n"
     ]
    }
   ],
   "source": [
    "%%time\n",
    "brute_list = [read_hidden_state_file.readline() for _ in range(10000000)]"
   ]
  },
  {
   "cell_type": "code",
   "execution_count": 21,
   "metadata": {
    "collapsed": true
   },
   "outputs": [],
   "source": [
    "picklised_tuple_list = list()\n",
    "current_string = \"\"\n",
    "for line in brute_list:\n",
    "    if line != \"NEW_TUPLE\\n\":\n",
    "        current_string += line\n",
    "    else:\n",
    "        picklised_tuple_list.append(current_string)\n",
    "        current_string = \"\"\n",
    "        "
   ]
  },
  {
   "cell_type": "code",
   "execution_count": 22,
   "metadata": {
    "collapsed": true
   },
   "outputs": [],
   "source": [
    "tuple_list = [pickle.loads(a) for a in picklised_tuple_list[1:]]\n",
    "\n",
    "state_list = [(Variable(tuple[0]), (Variable(tuple[1][0]), Variable(tuple[1][1]))) for tuple in tuple_list]\n",
    "\n",
    "state_list = [(Variable(tuple[0]), (Variable(tuple[1][0]), Variable(tuple[1][1]))) for tuple in tuple_list]\n",
    "\n",
    "read_hidden_state_file.close()\n",
    "\n",
    "tuple_list, brute_list = 0, 0\n",
    "\n",
    "picklised_tuple_list = 0"
   ]
  },
  {
   "cell_type": "markdown",
   "metadata": {},
   "source": [
    "#### remove copy (my mistake)"
   ]
  },
  {
   "cell_type": "code",
   "execution_count": 2,
   "metadata": {
    "collapsed": true
   },
   "outputs": [],
   "source": [
    "read_hidden_state_file = open(\"/pickle2/hidden_state_file\", \"r\")"
   ]
  },
  {
   "cell_type": "code",
   "execution_count": null,
   "metadata": {},
   "outputs": [],
   "source": [
    "%%time\n",
    "brute_list = read_hidden_state_file.readlines()"
   ]
  },
  {
   "cell_type": "code",
   "execution_count": null,
   "metadata": {
    "collapsed": true
   },
   "outputs": [],
   "source": []
  },
  {
   "cell_type": "markdown",
   "metadata": {},
   "source": [
    "## Select relevant states"
   ]
  },
  {
   "cell_type": "code",
   "execution_count": 113,
   "metadata": {
    "collapsed": true
   },
   "outputs": [],
   "source": [
    "sample_matrix = make_sklearn_compatible_matrix([tensor.numpy() for tensor in vectorized_state_list])"
   ]
  },
  {
   "cell_type": "code",
   "execution_count": 161,
   "metadata": {},
   "outputs": [
    {
     "data": {
      "text/plain": [
       "(45849, 2048)"
      ]
     },
     "execution_count": 161,
     "metadata": {},
     "output_type": "execute_result"
    }
   ],
   "source": [
    "sample_matrix.shape"
   ]
  },
  {
   "cell_type": "code",
   "execution_count": 162,
   "metadata": {
    "collapsed": true
   },
   "outputs": [],
   "source": [
    "from sklearn import decomposition"
   ]
  },
  {
   "cell_type": "code",
   "execution_count": 163,
   "metadata": {},
   "outputs": [
    {
     "data": {
      "image/png": "[encoded data removed]",
      "text/plain": [
       "<matplotlib.figure.Figure at 0x7fc39f6c82d0>"
      ]
     },
     "metadata": {},
     "output_type": "display_data"
    }
   ],
   "source": [
    "\n",
    "pca = decomposition.PCA(n_components=2)\n",
    "\n",
    "reduced_sample_matrix = pca.fit_transform(sample_matrix)\n",
    "\n",
    "dim1, dim2 = reduced_sample_matrix[:, 0], reduced_sample_matrix[:, 1]\n",
    "plt.scatter(dim1, dim2, s=0.5, alpha=0.5)\n",
    "plt.show()"
   ]
  },
  {
   "cell_type": "markdown",
   "metadata": {},
   "source": [
    "### Create a distance between hidden states"
   ]
  },
  {
   "cell_type": "code",
   "execution_count": 92,
   "metadata": {
    "collapsed": true
   },
   "outputs": [],
   "source": [
    "def vectorize_state_with_softmax(state, with_output=False):\n",
    "    \"\"\"take a state of the form (output, (hidden, cell)) as input.\n",
    "        Softmax cell state and hidden states to use JS divergence on it\n",
    "        WARNING : Compatible only with distance on proba distrib (e.g JS_div)\"\"\"\n",
    "    hidden, cell = state[1]\n",
    "    hidden, cell = F.softmax(hidden.view(-1)).data.numpy(), F.softmax(cell.view(-1)).data.numpy()\n",
    "    return np.concatenate((hidden, cell))"
   ]
  },
  {
   "cell_type": "code",
   "execution_count": 77,
   "metadata": {
    "collapsed": true
   },
   "outputs": [],
   "source": [
    "def vectorize_state_without_softmax(state):\n",
    "    \"\"\"take a state of the form (output, (hidden, cell)) as input.\n",
    "    returns tensor\"\"\"\n",
    "    hidden, cell = state[1]\n",
    "    hidden, cell = hidden.data.view(-1), cell.data.view(-1)\n",
    "    return torch.cat((hidden, cell))"
   ]
  },
  {
   "cell_type": "code",
   "execution_count": 78,
   "metadata": {
    "collapsed": true
   },
   "outputs": [],
   "source": [
    "def make_sklearn_compatible_matrix(vectorized_state_list):\n",
    "    return np.matrix(vectorized_state_list)"
   ]
  },
  {
   "cell_type": "code",
   "execution_count": 79,
   "metadata": {
    "collapsed": true
   },
   "outputs": [],
   "source": [
    "# First try : softmax hidden_state, then JS_divergence on all"
   ]
  },
  {
   "cell_type": "code",
   "execution_count": 80,
   "metadata": {
    "collapsed": true
   },
   "outputs": [],
   "source": [
    "def distance_JS_on_all_without_softmax(state1, state2):\n",
    "    \"\"\" state must be vectorized and softmaxed : use vectorize_state_with_softmax\"\"\"\n",
    "    output1 = state1[0].data.numpy()\n",
    "    hidden_state1, cell_state1 = state1[1]\n",
    "    hidden_state1, cell_state1 = F.softmax(hidden_state1).data.numpy(), F.softmax(cell_state1).data.numpy()\n",
    "    output2 = state2[0].data.numpy()\n",
    "    hidden_state2, cell_state2 = state2[1]\n",
    "    hidden_state2, cell_state2 = F.softmax(hidden_state2).data.numpy(), F.softmax(cell_state2).data.numpy()\n",
    "    # Should we take the mean ? the max ??\n",
    "    return np.mean([JS_divergence(hidden_state1, hidden_state2), JS_divergence(cell_state1, cell_state2)])"
   ]
  },
  {
   "cell_type": "code",
   "execution_count": 81,
   "metadata": {
    "collapsed": true
   },
   "outputs": [],
   "source": [
    "def euclidian_distance_on_state(state1, state2):\n",
    "    \"\"\"state must be of the form (output, (hidden, cell))\"\"\"\n",
    "    hidden1, cell1 = state1[1]\n",
    "    hidden2, cell2 = state2[1]\n",
    "    # mean ? max ? \n",
    "    return np.mean([(hidden1 - hidden2).norm(2).data.numpy(), (cell1 - cell2).norm(2).data.numpy()])"
   ]
  },
  {
   "cell_type": "code",
   "execution_count": 83,
   "metadata": {
    "collapsed": true
   },
   "outputs": [],
   "source": [
    "def euclidian_distance(state1, state2):\n",
    "    \"\"\"on vectorized states (pytorch tensor)\"\"\"\n",
    "    return (state1 - state2).norm(2)"
   ]
  },
  {
   "cell_type": "code",
   "execution_count": 168,
   "metadata": {
    "collapsed": true
   },
   "outputs": [],
   "source": [
    "# Second try : JS_div on output, euclidian distance on hidden states"
   ]
  },
  {
   "cell_type": "code",
   "execution_count": 1,
   "metadata": {
    "collapsed": true
   },
   "outputs": [],
   "source": [
    "def distance_JS_euclidian_mix(state1, state2):\n",
    "    \"\"\" TODO\"\"\""
   ]
  },
  {
   "cell_type": "markdown",
   "metadata": {},
   "source": [
    "### Test the distance"
   ]
  },
  {
   "cell_type": "code",
   "execution_count": 121,
   "metadata": {
    "collapsed": true
   },
   "outputs": [],
   "source": [
    "def test_distance(state_list, vectorized_state_list,  distance=euclidian_distance, verification_distance=JS_divergence, n_examples=10):\n",
    "    distance_list = list()\n",
    "    verification_distance_list = list()\n",
    "    for i in range(n_examples):\n",
    "        index1 = np.random.choice([i for i in range(len(state_list))], replace=False)  #be careful if n_example > len(state_list)\n",
    "        index2 = np.random.choice([i for i in range(len(state_list))], replace=False)\n",
    "        state1, state2 = vectorized_state_list[index1], vectorized_state_list[index2]\n",
    "        hidden1, hidden2 = state_list[index1][1], state_list[index2][1]\n",
    "        distance_list.append(distance(state1, state2))\n",
    "        l = list()\n",
    "        for char in char_vect[:30]:\n",
    "            input_tensor = Variable(text2input(char)[-1])\n",
    "            output1, new_hidden1 = rnn_vanilla(input_tensor,hidden1)\n",
    "            output2, new_hidden2 = rnn_vanilla(input_tensor, hidden2)\n",
    "            output1, output2 = F.softmax(output1), F.softmax(output2)\n",
    "            l.append(verification_distance(output1.data.numpy(), output2.data.numpy()))\n",
    "        verification_distance_list.append(np.mean(l))\n",
    "    plt.scatter(distance_list, verification_distance_list)\n",
    "    plt.show()\n",
    "    return distance_list, verification_distance_list"
   ]
  },
  {
   "cell_type": "code",
   "execution_count": 93,
   "metadata": {
    "collapsed": true
   },
   "outputs": [],
   "source": [
    "vectorized_state_list = [vectorize_state_without_softmax(state) for state in state_list]\n",
    "softmaxed_state_list = [vectorize_state_with_softmax(state) for state in state_list]"
   ]
  },
  {
   "cell_type": "code",
   "execution_count": 98,
   "metadata": {
    "collapsed": true
   },
   "outputs": [],
   "source": [
    "import sklearn.linear_model"
   ]
  },
  {
   "cell_type": "code",
   "execution_count": 129,
   "metadata": {
    "collapsed": true
   },
   "outputs": [],
   "source": [
    "model = sklearn.linear_model.LinearRegression(fit_intercept=False)"
   ]
  },
  {
   "cell_type": "code",
   "execution_count": 132,
   "metadata": {},
   "outputs": [
    {
     "data": {
      "image/png": "[encoded data removed]",
      "text/plain": [
       "<matplotlib.figure.Figure at 0x7fc39f792290>"
      ]
     },
     "metadata": {},
     "output_type": "display_data"
    },
    {
     "name": "stdout",
     "output_type": "stream",
     "text": [
      "CPU times: user 9min 55s, sys: 2.08 s, total: 9min 57s\n",
      "Wall time: 47.7 s\n"
     ]
    }
   ],
   "source": [
    "%%time\n",
    "plt.title(\"relationship between JS_divergence of memory states and JS_divergence of output\")\n",
    "distance_list, verification_distance_list = test_distance(state_list, softmaxed_state_list, distance = JS_divergence, n_examples=200, verification_distance=JS_divergence)"
   ]
  },
  {
   "cell_type": "code",
   "execution_count": 133,
   "metadata": {},
   "outputs": [
    {
     "data": {
      "text/plain": [
       "-0.84201680819545377"
      ]
     },
     "execution_count": 133,
     "metadata": {},
     "output_type": "execute_result"
    }
   ],
   "source": [
    "model.fit(np.array(distance_list).reshape(-1, 1), np.array(verification_distance_list).reshape(-1, 1))\n",
    "model.score(np.array(distance_list).reshape(-1, 1), np.array(verification_distance_list).reshape(-1, 1))"
   ]
  },
  {
   "cell_type": "code",
   "execution_count": 134,
   "metadata": {},
   "outputs": [
    {
     "data": {
      "text/plain": [
       "array([[ 8.10675093]])"
      ]
     },
     "execution_count": 134,
     "metadata": {},
     "output_type": "execute_result"
    }
   ],
   "source": [
    "model.coef_"
   ]
  },
  {
   "cell_type": "code",
   "execution_count": 137,
   "metadata": {},
   "outputs": [
    {
     "data": {
      "image/png": "[encoded data removed]",
      "text/plain": [
       "<matplotlib.figure.Figure at 0x7fc3a40854d0>"
      ]
     },
     "metadata": {},
     "output_type": "display_data"
    },
    {
     "name": "stdout",
     "output_type": "stream",
     "text": [
      "CPU times: user 9min 6s, sys: 1.88 s, total: 9min 8s\n",
      "Wall time: 46.3 s\n"
     ]
    }
   ],
   "source": [
    "%%time\n",
    "plt.title(\"relationship between euclidian distance of memory states and JS_divergence of output\")\n",
    "distance_list2, verification_distance_list2 = test_distance(state_list, vectorized_state_list, distance = euclidian_distance, n_examples=200, verification_distance=JS_divergence)"
   ]
  },
  {
   "cell_type": "code",
   "execution_count": 138,
   "metadata": {},
   "outputs": [
    {
     "data": {
      "text/plain": [
       "0.14231934385695455"
      ]
     },
     "execution_count": 138,
     "metadata": {},
     "output_type": "execute_result"
    }
   ],
   "source": [
    "model.fit(np.array(distance_list2).reshape(-1, 1), np.array(verification_distance_list2).reshape(-1, 1))\n",
    "model.score(np.array(distance_list2).reshape(-1, 1), np.array(verification_distance_list2).reshape(-1, 1))"
   ]
  },
  {
   "cell_type": "code",
   "execution_count": 139,
   "metadata": {},
   "outputs": [
    {
     "data": {
      "text/plain": [
       "array([[ 0.02198926]])"
      ]
     },
     "execution_count": 139,
     "metadata": {},
     "output_type": "execute_result"
    }
   ],
   "source": [
    "model.coef_"
   ]
  },
  {
   "cell_type": "code",
   "execution_count": 149,
   "metadata": {},
   "outputs": [
    {
     "data": {
      "image/png": "[encoded data removed]",
      "text/plain": [
       "<matplotlib.figure.Figure at 0x7fc39f641d10>"
      ]
     },
     "metadata": {},
     "output_type": "display_data"
    },
    {
     "name": "stdout",
     "output_type": "stream",
     "text": [
      "CPU times: user 8min 51s, sys: 1.7 s, total: 8min 52s\n",
      "Wall time: 49.1 s\n"
     ]
    }
   ],
   "source": [
    "%%time\n",
    "plt.title(\"relationship between hellinger distance of memory states and JS_divergence of output\")\n",
    "distance_list3, verification_distance_list3 = test_distance(state_list, softmaxed_state_list, distance = hellinger, n_examples=200, verification_distance=JS_divergence)"
   ]
  },
  {
   "cell_type": "code",
   "execution_count": 152,
   "metadata": {},
   "outputs": [
    {
     "data": {
      "text/plain": [
       "0.051176350285024208"
      ]
     },
     "execution_count": 152,
     "metadata": {},
     "output_type": "execute_result"
    }
   ],
   "source": [
    "model.fit(np.array(distance_list3).reshape(-1, 1), np.array(verification_distance_list3).reshape(-1, 1))\n",
    "model.score(np.array(distance_list3).reshape(-1, 1), np.array(verification_distance_list3).reshape(-1, 1))"
   ]
  },
  {
   "cell_type": "code",
   "execution_count": 153,
   "metadata": {},
   "outputs": [
    {
     "data": {
      "text/plain": [
       "array([[ 1.69741306]])"
      ]
     },
     "execution_count": 153,
     "metadata": {},
     "output_type": "execute_result"
    }
   ],
   "source": [
    "model.coef_"
   ]
  },
  {
   "cell_type": "code",
   "execution_count": 140,
   "metadata": {
    "collapsed": true
   },
   "outputs": [],
   "source": [
    "from scipy.stats import linregress"
   ]
  },
  {
   "cell_type": "code",
   "execution_count": 142,
   "metadata": {},
   "outputs": [
    {
     "data": {
      "text/plain": [
       "LinregressResult(slope=2.017881188030346, intercept=0.19819399607973714, rvalue=0.23703283324067098, pvalue=0.00072636453999109498, stderr=0.58775729315577807)"
      ]
     },
     "execution_count": 142,
     "metadata": {},
     "output_type": "execute_result"
    }
   ],
   "source": [
    "linregress(distance_list, verification_distance_list)"
   ]
  },
  {
   "cell_type": "code",
   "execution_count": 143,
   "metadata": {},
   "outputs": [
    {
     "data": {
      "text/plain": [
       "LinregressResult(slope=0.019856754482736872, intercept=0.024134211146764145, rvalue=0.37958339179671496, pvalue=2.9675048497525979e-08, stderr=0.0034394116267528227)"
      ]
     },
     "execution_count": 143,
     "metadata": {},
     "output_type": "execute_result"
    }
   ],
   "source": [
    "linregress(distance_list2, verification_distance_list2)"
   ]
  },
  {
   "cell_type": "markdown",
   "metadata": {},
   "source": [
    "## Test the clustering"
   ]
  },
  {
   "cell_type": "code",
   "execution_count": 144,
   "metadata": {
    "collapsed": true
   },
   "outputs": [],
   "source": [
    "import sklearn.cluster"
   ]
  },
  {
   "cell_type": "code",
   "execution_count": 90,
   "metadata": {
    "collapsed": true
   },
   "outputs": [],
   "source": [
    "import scipy.cluster"
   ]
  },
  {
   "cell_type": "code",
   "execution_count": 157,
   "metadata": {
    "collapsed": true
   },
   "outputs": [],
   "source": [
    "vectorized_state_list, softmaxed_state_list = 0, 0"
   ]
  },
  {
   "cell_type": "code",
   "execution_count": 166,
   "metadata": {
    "collapsed": true
   },
   "outputs": [],
   "source": [
    "kmeans = sklearn.cluster.KMeans(n_jobs=-1).fit(sample_matrix[:1000])"
   ]
  },
  {
   "cell_type": "code",
   "execution_count": null,
   "metadata": {},
   "outputs": [],
   "source": [
    "kmeans.labels_"
   ]
  },
  {
   "cell_type": "code",
   "execution_count": 170,
   "metadata": {
    "collapsed": true
   },
   "outputs": [],
   "source": [
    "def test_clustering(state_list, cluster_labels, nb_clusters=8, distance=JS_divergence):\n",
    "    state_list = np.array(state_list)\n",
    "    cluster_list = [state_list[np.nonzero(cluster_labels==i)] for i in range(nb_clusters)]\n",
    "    mean_intra_cluster_div_list = list()\n",
    "    for i in range(nb_clusters):\n",
    "        l = list()\n",
    "        for n in range(10):\n",
    "            index1 = np.random.choice(cluster_list[i], 1, replace=False)\n",
    "            index2 = np.random.choice(cluter_list[i], 1, replace=False)\n",
    "            hidden1, hidden2 = state_list[index1][1], state_list[index2][1]\n",
    "            for char in np.random.choice(char_vect, 20):\n",
    "                input_tensor = Variable(text2input(char)[-1])\n",
    "                output1, _ = rnn_vanilla(input_tensor, hidden1)\n",
    "                output2, _ = rnn_vanilla(input_tensor, hidden2)\n",
    "                output1, output2 = F.softmax(output1), F.softmax(output2)\n",
    "                l.append(distance(output1, output2))\n",
    "        mean_intra_cluster_div_list.append(np.mean(l))\n",
    "    return mean_intra_cluster_div_list"
   ]
  },
  {
   "cell_type": "code",
   "execution_count": 91,
   "metadata": {
    "collapsed": true
   },
   "outputs": [],
   "source": [
    "from scipy.cluster.hierarchy import fclusterdata\n",
    "\n",
    "%%time\n",
    "l = fclusterdata(sample_matrix[:500], 1.15,  metric=JS_divergence, method=\"average\")\n",
    "print(l)\n",
    "print(len(np.unique(l)))"
   ]
  },
  {
   "cell_type": "code",
   "execution_count": 78,
   "metadata": {
    "collapsed": true
   },
   "outputs": [],
   "source": [
    "sample_matrix = make_sklearn_compatible_matrix(vectorized_state_list)"
   ]
  },
  {
   "cell_type": "code",
   "execution_count": 86,
   "metadata": {
    "collapsed": true
   },
   "outputs": [],
   "source": [
    "clusterizer = sklearn.cluster.AgglomerativeClustering(n_clusters=10, affinity=JS_divergence, linkage=\"complete\")"
   ]
  },
  {
   "cell_type": "code",
   "execution_count": 87,
   "metadata": {},
   "outputs": [
    {
     "data": {
      "text/plain": [
       "AgglomerativeClustering(affinity='euclidean', compute_full_tree='auto',\n",
       "            connectivity=None, linkage='ward', memory=None, n_clusters=2,\n",
       "            pooling_func=<function mean at 0x7f618b53eb90>)"
      ]
     },
     "execution_count": 87,
     "metadata": {},
     "output_type": "execute_result"
    }
   ],
   "source": [
    "sklearn.cluster.AgglomerativeClustering()"
   ]
  },
  {
   "cell_type": "code",
   "execution_count": null,
   "metadata": {},
   "outputs": [],
   "source": [
    "%%time\n",
    "clusterizer.fit_predict(sample_matrix)"
   ]
  },
  {
   "cell_type": "code",
   "execution_count": null,
   "metadata": {
    "collapsed": true
   },
   "outputs": [],
   "source": []
  },
  {
   "cell_type": "code",
   "execution_count": null,
   "metadata": {
    "collapsed": true
   },
   "outputs": [],
   "source": []
  }
 ],
 "metadata": {
  "kernelspec": {
   "display_name": "Python 2",
   "language": "python",
   "name": "python2"
  },
  "language_info": {
   "codemirror_mode": {
    "name": "ipython",
    "version": 2
   },
   "file_extension": ".py",
   "mimetype": "text/x-python",
   "name": "python",
   "nbconvert_exporter": "python",
   "pygments_lexer": "ipython2",
   "version": "2.7.14"
  }
 },
 "nbformat": 4,
 "nbformat_minor": 1
}
