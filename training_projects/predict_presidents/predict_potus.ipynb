{
 "cells": [
  {
   "cell_type": "code",
   "execution_count": 1,
   "metadata": {},
   "outputs": [
    {
     "name": "stdout",
     "output_type": "stream",
     "text": [
      "Populating the interactive namespace from numpy and matplotlib\n"
     ]
    }
   ],
   "source": [
    "%pylab inline"
   ]
  },
  {
   "cell_type": "code",
   "execution_count": 2,
   "metadata": {
    "collapsed": true
   },
   "outputs": [],
   "source": [
    "import matplotlib.pyplot as plt"
   ]
  },
  {
   "cell_type": "code",
   "execution_count": 3,
   "metadata": {
    "collapsed": true
   },
   "outputs": [],
   "source": [
    "import numpy as np\n",
    "import pandas as pd\n",
    "import networkx as nx"
   ]
  },
  {
   "cell_type": "code",
   "execution_count": 4,
   "metadata": {
    "collapsed": true
   },
   "outputs": [],
   "source": [
    "from sklearn.model_selection import train_test_split"
   ]
  },
  {
   "cell_type": "code",
   "execution_count": 5,
   "metadata": {
    "collapsed": true
   },
   "outputs": [],
   "source": [
    "import functools"
   ]
  },
  {
   "cell_type": "markdown",
   "metadata": {},
   "source": [
    "# Load the datasets"
   ]
  },
  {
   "cell_type": "code",
   "execution_count": 6,
   "metadata": {},
   "outputs": [],
   "source": [
    "df_nodes = pd.read_csv(\"datasets/en-wikipedia.humans.ungraph.names.txt\", comment=\"#\", delimiter=\"\\t\", names=[\"id\", \"name\"])"
   ]
  },
  {
   "cell_type": "code",
   "execution_count": 7,
   "metadata": {
    "collapsed": true
   },
   "outputs": [],
   "source": [
    "df_edges = pd.read_csv(\"datasets/en-wikipedia.humans.ungraph.txt\", comment=\"#\", delimiter=\"\\t\", names=[\"id\", \"src\", \"dst\"])"
   ]
  },
  {
   "cell_type": "code",
   "execution_count": 8,
   "metadata": {},
   "outputs": [],
   "source": [
    "df_features = pd.read_csv(\"datasets/en-wikipedia.humans.ungraph.features.txt\", comment=\"#\", delimiter=\"\\t\", names=[\"id\", \"features\"])\n",
    "\n",
    "df_features[\"features\"] = df_features.features.str.split(\" \")"
   ]
  },
  {
   "cell_type": "code",
   "execution_count": 9,
   "metadata": {},
   "outputs": [
    {
     "data": {
      "text/html": [
       "<div>\n",
       "<style>\n",
       "    .dataframe thead tr:only-child th {\n",
       "        text-align: right;\n",
       "    }\n",
       "\n",
       "    .dataframe thead th {\n",
       "        text-align: left;\n",
       "    }\n",
       "\n",
       "    .dataframe tbody tr th {\n",
       "        vertical-align: top;\n",
       "    }\n",
       "</style>\n",
       "<table border=\"1\" class=\"dataframe\">\n",
       "  <thead>\n",
       "    <tr style=\"text-align: right;\">\n",
       "      <th></th>\n",
       "      <th>id</th>\n",
       "      <th>name</th>\n",
       "    </tr>\n",
       "  </thead>\n",
       "  <tbody>\n",
       "    <tr>\n",
       "      <th>0</th>\n",
       "      <td>0</td>\n",
       "      <td>United States</td>\n",
       "    </tr>\n",
       "    <tr>\n",
       "      <th>1</th>\n",
       "      <td>1</td>\n",
       "      <td>Association football</td>\n",
       "    </tr>\n",
       "    <tr>\n",
       "      <th>2</th>\n",
       "      <td>2</td>\n",
       "      <td>England</td>\n",
       "    </tr>\n",
       "    <tr>\n",
       "      <th>3</th>\n",
       "      <td>3</td>\n",
       "      <td>Germany</td>\n",
       "    </tr>\n",
       "    <tr>\n",
       "      <th>4</th>\n",
       "      <td>4</td>\n",
       "      <td>World War II</td>\n",
       "    </tr>\n",
       "  </tbody>\n",
       "</table>\n",
       "</div>"
      ],
      "text/plain": [
       "   id                  name\n",
       "0   0         United States\n",
       "1   1  Association football\n",
       "2   2               England\n",
       "3   3               Germany\n",
       "4   4          World War II"
      ]
     },
     "execution_count": 9,
     "metadata": {},
     "output_type": "execute_result"
    }
   ],
   "source": [
    "df_features_names = pd.read_csv(\"datasets/en-wikipedia.humans.ungraph.features.names.txt\", comment=\"#\", delimiter=\"\\t\", names=[\"id\", \"name\"])\n",
    "df_features_names.head()"
   ]
  },
  {
   "cell_type": "code",
   "execution_count": 10,
   "metadata": {
    "collapsed": true
   },
   "outputs": [],
   "source": [
    "df_lists_names = pd.read_csv(\"datasets/en-wikipedia.humans.lists.names\", comment=\"#\", delimiter=\"\\t\", names=[\"id\", \"name\", \"human_proportion\"])"
   ]
  },
  {
   "cell_type": "code",
   "execution_count": 11,
   "metadata": {
    "collapsed": true
   },
   "outputs": [],
   "source": [
    "df_lists = pd.read_csv(\"datasets/en-wikipedia.humans.lists\", comment=\"#\", delimiter=\"\\t\", names=[\"id\", \"list\"])"
   ]
  },
  {
   "cell_type": "code",
   "execution_count": 12,
   "metadata": {},
   "outputs": [],
   "source": [
    "def show_node(id, df_nodes, df_features, df_features_name, show_features=True):\n",
    "    id = int(id)\n",
    "    name = df_nodes[df_nodes[\"id\"]==id][\"name\"].values[0]\n",
    "    features = map(int, df_features[df_features[\"id\"]==id][\"features\"].values[0])\n",
    "    features_names = df_features_names[df_features_names[\"id\"].isin(features)][\"name\"]\n",
    "    if show_features:\n",
    "        print(\"name : {} \\n features:\\n{}\".format(name, features_names))\n",
    "    else:\n",
    "        print('name: {}'.format(name))\n",
    "\n",
    "#show_node(list_presidents_id[1], df_nodes, df_features, df_features_names)\n"
   ]
  },
  {
   "cell_type": "markdown",
   "metadata": {},
   "source": [
    "### Create lists of president and non-president"
   ]
  },
  {
   "cell_type": "code",
   "execution_count": 13,
   "metadata": {
    "collapsed": true
   },
   "outputs": [],
   "source": [
    "list_presidents_id = np.array(map(int, df_lists.iloc[10662][\"list\"].split()))\n",
    "np.random.shuffle(list_presidents_id)"
   ]
  },
  {
   "cell_type": "code",
   "execution_count": 14,
   "metadata": {},
   "outputs": [
    {
     "name": "stdout",
     "output_type": "stream",
     "text": [
      "1013729\n",
      "1013685\n",
      "0\n",
      "0\n"
     ]
    }
   ],
   "source": [
    "# Create the list of non-president\n",
    "all_id = df_features[\"id\"].values\n",
    "print(len(all_id))\n",
    "all_id = all_id[~np.isin(all_id, list_presidents_id)]\n",
    "print(len(all_id))\n",
    "np.random.shuffle(all_id)\n",
    "print(np.sum(np.isin(all_id, list_presidents_id)))\n",
    "print(len(np.intersect1d(all_id, list_presidents_id)))\n",
    "\n",
    "\n"
   ]
  },
  {
   "cell_type": "markdown",
   "metadata": {},
   "source": [
    "### Fight unbalanced labels with under sampling"
   ]
  },
  {
   "cell_type": "code",
   "execution_count": 15,
   "metadata": {
    "scrolled": true
   },
   "outputs": [],
   "source": [
    "def under_sampling(list_little_class_id, list_others_id, class_ratio=0.01):\n",
    "    global list_already_used\n",
    "    n = int(len(list_little_class_id) * (1 / class_ratio))\n",
    "    vect = np.array(list_others_id)\n",
    "    vect = vect[~ np.isin(vect, list_already_used)]\n",
    "    res = np.random.choice(vect, n, replace=False)\n",
    "    list_already_used = np.concatenate((list_already_used, res))\n",
    "    return res\n",
    "#under_sampling(list_presidents_id, list_losers_vect[\"id\"])"
   ]
  },
  {
   "cell_type": "code",
   "execution_count": 16,
   "metadata": {},
   "outputs": [],
   "source": [
    "def split(list_id, test_size=0.5, validation_size=0.25):\n",
    "    \"\"\"Split the data between train and test\"\"\"\n",
    "    vect_train_id, vect_test_id = train_test_split(list_id, test_size=test_size)\n",
    "    vect_train_id, vect_validation_id = train_test_split(vect_train_id, test_size=validation_size)\n",
    "    return vect_train_id, vect_validation_id, vect_test_id\n",
    "\n",
    "def construct_vect_label(vect_train_id_little, vect_test_id_litte, vect_validation_id_little, list_others_id):\n",
    "    \"\"\" under sample the big class on the little one, add the appropriate labels and shuffle\"\"\"\n",
    "    vect_train_id_others = under_sampling(vect_train_id_little, list_others_id)\n",
    "    vect_test_id_others = under_sampling(vect_test_id_little, list_others_id)\n",
    "    vect_validation_id_others = under_sampling(vect_validation_id_little, list_others_id)\n",
    "    vect_train_id = np.concatenate((vect_train_id_little, vect_train_id_others))\n",
    "    vect_test_id = np.concatenate((vect_test_id_little, vect_test_id_others))\n",
    "    vect_validation_id = np.concatenate((vect_validation_id_little, vect_validation_id_others))\n",
    "    vect_train_label = np.concatenate((np.ones(len(vect_train_id_little)), np.zeros(len(vect_train_id_others))))\n",
    "    vect_test_label = np.concatenate((np.ones(len(vect_test_id_little)), np.zeros(len(vect_test_id_others))))\n",
    "    vect_validation_label = np.concatenate((np.ones(len(vect_validation_id_little)), np.zeros(len(vect_validation_id_others))))\n",
    "    liste_indices_train = [i for i in range(len(vect_train_id))]\n",
    "    liste_indices_test = [i for i in range(len(vect_test_id))]\n",
    "    liste_indices_validation = [i for i in range(len(vect_validation_id))]\n",
    "    np.random.shuffle(liste_indices_train)\n",
    "    np.random.shuffle(liste_indices_test)\n",
    "    np.random.shuffle(liste_indices_validation)\n",
    "    vect_train_id, vect_train_label = vect_train_id[liste_indices_train], vect_train_label[liste_indices_train]\n",
    "    vect_test_id, vect_test_label = vect_test_id[liste_indices_test], vect_test_label[liste_indices_test]\n",
    "    vect_validation_id, vect_validation_label = vect_validation_id[liste_indices_validation], vect_validation_label[liste_indices_validation]\n",
    "    return vect_train_id, vect_validation_id, vect_test_id, vect_train_label, vect_validation_label, vect_test_label\n",
    "\n",
    "\n"
   ]
  },
  {
   "cell_type": "markdown",
   "metadata": {},
   "source": [
    "# First approach : features-based"
   ]
  },
  {
   "cell_type": "code",
   "execution_count": 17,
   "metadata": {
    "collapsed": true
   },
   "outputs": [],
   "source": [
    "def select_most_frequent_features(df_features, k):\n",
    "    list_features = list()\n",
    "    a = df_features[\"features\"].values\n",
    "    a = [elem for elem in a if type(elem) == list]\n",
    "    for l in a:\n",
    "        for feature in l:\n",
    "            list_features.append(feature)\n",
    "    features, counts = np.unique(list_features, return_counts=True)\n",
    "    return np.array(features)[np.argsort(counts)[::-1]][:k]\n",
    "\n",
    "def select_most_frequent_features_cheat(k):\n",
    "    return [str(i) for i in range(k)]\n",
    "\n",
    "#list_selected_features = select_most_frequent_features(df_features, 1000)\n",
    "list_selected_features = select_most_frequent_features_cheat(1000) #already sorted"
   ]
  },
  {
   "cell_type": "code",
   "execution_count": 18,
   "metadata": {},
   "outputs": [],
   "source": [
    "# Remove the feature \"President of the United States\" to make it harder\n",
    "\n",
    "potus_feature_id = df_features_names[df_features_names[\"name\"]==\"President of the United States\"][\"id\"].values[0]\n",
    "list_selected_features.remove(str(potus_feature_id))"
   ]
  },
  {
   "cell_type": "code",
   "execution_count": 19,
   "metadata": {},
   "outputs": [],
   "source": [
    "list_already_used = list()  # global variable to verify that the differents under sampling don't use the same data"
   ]
  },
  {
   "cell_type": "markdown",
   "metadata": {},
   "source": [
    "### Train-validation-test split + labels creations "
   ]
  },
  {
   "cell_type": "code",
   "execution_count": 20,
   "metadata": {},
   "outputs": [
    {
     "name": "stdout",
     "output_type": "stream",
     "text": [
      "44\n",
      "(16, 6, 22)\n",
      "22\n",
      "(1616, 606, 1013707, 1616, 606)\n"
     ]
    }
   ],
   "source": [
    "\n",
    "print(len(list_presidents_id))\n",
    "vect_train_id_little, vect_validation_id_little,  vect_test_id_little = split(list_presidents_id)\n",
    "print(len(vect_train_id_little), len(vect_validation_id_little), len(vect_test_id_little))\n",
    "vect_train_id, vect_validation_id, vect_test_id, vect_train_label, vect_validation_label, vect_test_label = construct_vect_label(vect_train_id_little, vect_test_id_little, vect_validation_id_little,all_id)\n",
    "vect_test_id = np.concatenate((all_id, vect_test_id_little))#Select only only some non-president for computation cost\n",
    "np.random.shuffle(vect_test_id)\n",
    "mask = numpy.isin(vect_test_id, vect_test_id_little)\n",
    "print(np.sum(mask))\n",
    "print(len(vect_train_id), len(vect_validation_id), len(vect_test_id), len(vect_train_label),  len(vect_validation_label))"
   ]
  },
  {
   "cell_type": "code",
   "execution_count": 21,
   "metadata": {},
   "outputs": [
    {
     "name": "stdout",
     "output_type": "stream",
     "text": [
      "(1479, 923993, 558)\n"
     ]
    }
   ],
   "source": [
    "%%time\n",
    "## Scrap the features of everybody and select only the interesting features\n",
    "\n",
    "vect_train_features  =  np.array([df_features[df_features[\"id\"] == a][\"features\"].values[0] for a in vect_train_id])\n",
    "vect_validation_features = np.array([df_features[df_features[\"id\"] == a][\"features\"].values[0] for a in vect_validation_id])\n",
    "vect_test_features = np.array([df_features[df_features[\"id\"] == a][\"features\"].values[0] for a in vect_test_id])\n",
    "vect_train_features = np.array(map(functools.partial(np.intersect1d, ar2=list_selected_features), vect_train_features))\n",
    "vect_test_features = np.array(map(functools.partial(np.intersect1d, ar2=list_selected_features), vect_test_features))\n",
    "vect_validation_features = np.array(map(functools.partial(np.intersect1d, ar2=list_selected_features), vect_validation_features))\n",
    "\n",
    "# Remove the pêople who don't have any of the selected features\n",
    "\n",
    "mask = np.array([(len(a) > 0) for a in vect_train_features])\n",
    "vect_train_features, vect_train_id, vect_train_label = vect_train_features[mask], vect_train_id[mask], vect_train_label[mask]\n",
    "\n",
    "mask = np.array([(len(a) > 0) for a in vect_test_features])\n",
    "vect_test_features, vect_test_id = vect_test_features[mask], vect_test_id[mask]\n",
    "\n",
    "mask = np.array([(len(a) > 0) for a in vect_validation_features])\n",
    "vect_validation_features, vect_validation_id, vect_validation_label = vect_validation_features[mask], vect_validation_id[mask], vect_validation_label[mask]\n",
    "\n",
    "print(len(vect_train_features), len(vect_test_features), len(vect_validation_features))"
   ]
  },
  {
   "cell_type": "code",
   "execution_count": null,
   "metadata": {},
   "outputs": [],
   "source": []
  },
  {
   "cell_type": "markdown",
   "metadata": {},
   "source": [
    "### Binarize the features"
   ]
  },
  {
   "cell_type": "code",
   "execution_count": 22,
   "metadata": {
    "collapsed": true
   },
   "outputs": [],
   "source": [
    "from sklearn import preprocessing"
   ]
  },
  {
   "cell_type": "code",
   "execution_count": 23,
   "metadata": {
    "collapsed": true
   },
   "outputs": [],
   "source": [
    "def binarize(list_features, lb):\n",
    "    list_binarized_features = [np.logical_or.reduce(lb.transform(np.array(a).astype(int))).astype(int) for a in list_features]\n",
    "    return np.array(list_binarized_features)"
   ]
  },
  {
   "cell_type": "code",
   "execution_count": 24,
   "metadata": {},
   "outputs": [
    {
     "data": {
      "text/plain": [
       "LabelBinarizer(neg_label=0, pos_label=1, sparse_output=False)"
      ]
     },
     "execution_count": 24,
     "metadata": {},
     "output_type": "execute_result"
    }
   ],
   "source": [
    "lb = preprocessing.LabelBinarizer()\n",
    "lb.fit(list_selected_features)"
   ]
  },
  {
   "cell_type": "code",
   "execution_count": 25,
   "metadata": {},
   "outputs": [
    {
     "name": "stderr",
     "output_type": "stream",
     "text": [
      "/usr/local/lib/python2.7/dist-packages/sklearn/utils/validation.py:444: DataConversionWarning: Data with input dtype int64 was converted to float64 by the scale function.\n",
      "  warnings.warn(msg, DataConversionWarning)\n"
     ]
    },
    {
     "name": "stdout",
     "output_type": "stream",
     "text": [
      "CPU times: user 12min 6s, sys: 14.5 s, total: 12min 20s\n",
      "Wall time: 12min 21s\n"
     ]
    }
   ],
   "source": [
    "%%time\n",
    "vect_train_bin_features = preprocessing.scale(binarize(vect_train_features, lb))\n",
    "vect_validation_bin_features = preprocessing.scale(binarize(vect_validation_features, lb))\n",
    "vect_test_bin_features = preprocessing.scale(binarize(vect_test_features, lb))"
   ]
  },
  {
   "cell_type": "code",
   "execution_count": 99,
   "metadata": {},
   "outputs": [
    {
     "name": "stdout",
     "output_type": "stream",
     "text": [
      "(1479, 558, 923993)\n"
     ]
    }
   ],
   "source": [
    "print(len(vect_train_bin_features), len(vect_validation_bin_features), len(vect_test_bin_features))\n",
    "import cPickle\n",
    "binarized_features_file = open(\"binarized_features_file\", \"wb\")\n",
    "cPickle.dump((vect_train_bin_features, vect_validation_bin_features), binarized_features_file)"
   ]
  },
  {
   "cell_type": "code",
   "execution_count": 96,
   "metadata": {
    "collapsed": true
   },
   "outputs": [],
   "source": []
  },
  {
   "cell_type": "markdown",
   "metadata": {},
   "source": [
    "# Import neural networks"
   ]
  },
  {
   "cell_type": "code",
   "execution_count": 26,
   "metadata": {},
   "outputs": [],
   "source": [
    "import numpy as np\n",
    "import functools\n",
    "import copy"
   ]
  },
  {
   "cell_type": "code",
   "execution_count": 1,
   "metadata": {},
   "outputs": [],
   "source": [
    "\n",
    "from predict_potus_classifier import MultiInitialisationClassifier"
   ]
  },
  {
   "cell_type": "code",
   "execution_count": 28,
   "metadata": {
    "collapsed": true
   },
   "outputs": [],
   "source": [
    "import torch\n",
    "from torch.autograd import Variable\n",
    "import torch.nn as nn\n",
    "import torch.nn.functional as F\n",
    "import torch.optim as optim\n",
    "from torch.utils.data import Dataset, DataLoader, TensorDataset\n",
    "from sklearn.base import BaseEstimator, ClassifierMixin"
   ]
  },
  {
   "cell_type": "code",
   "execution_count": 29,
   "metadata": {},
   "outputs": [],
   "source": [
    "class Net5(nn.Module):\n",
    "    \n",
    "    def __init__(self, n_features, n_classes, dropout=(0, 0)):\n",
    "        super(Net5, self).__init__()\n",
    "        self.p_init = dropout[0]\n",
    "        self.p_hidden = dropout[1]\n",
    "        self.fc1 = nn.Linear(n_features, 60, True)\n",
    "        self.fc2 = nn.Linear(60, 30, True)\n",
    "        self.fc3 = nn.Linear(30, 30, True)\n",
    "        self.fc4 = nn.Linear(30, 30, True)\n",
    "        self.fc5 = nn.Linear(30, 20, True)\n",
    "        #self.fc5 = nn.Linear(20, 20, True)\n",
    "        #self.fc6 = nn.Linear(10, 20, True)\n",
    "        #self.fc7 = nn.Linear(20, 20, True)\n",
    "        #self.fc11 = nn.Linear(20, 20, True)\n",
    "        #self.fc12 = nn.Linear(20, 20, True)\n",
    "        self.fc13 = nn.Linear(20, n_classes, True)\n",
    "        self.fc14 = nn.LogSoftmax()\n",
    "        self.criterion = nn.NLLLoss()\n",
    "\n",
    "    def forward(self, x):\n",
    "        x = x.view(x.size(0), -1)\n",
    "        x = F.relu(F.dropout(self.fc1(x), p=self.p_init, training=self.training))\n",
    "        x = F.relu(F.dropout(self.fc2(x), p=self.p_hidden, training=self.training))\n",
    "        x = F.relu(F.dropout(self.fc3(x), p=self.p_hidden, training=self.training))\n",
    "        x = F.relu(F.dropout(self.fc4(x), p=self.p_hidden, training=self.training))\n",
    "        x = F.relu(F.dropout(self.fc5(x), p=self.p_hidden, training=self.training))\n",
    "        #x = F.relu(self.fc5(x))\n",
    "        #x = F.relu(self.fc6(x))\n",
    "        #x = F.relu(self.fc7(x))\n",
    "        #x = F.relu(self.fc11(x))\n",
    "        #x = F.relu(self.fc12(x))\n",
    "        x = self.fc13(x)\n",
    "        x = self.fc14(x)\n",
    "        return x"
   ]
  },
  {
   "cell_type": "markdown",
   "metadata": {},
   "source": [
    "## Use the network on our features"
   ]
  },
  {
   "cell_type": "code",
   "execution_count": null,
   "metadata": {},
   "outputs": [],
   "source": [
    "%%time\n",
    "optimizer_classes = { #\"SGD lr=0.1 momentum=0.9\":functools.partial(optim.SGD, lr=1, momentum=0.9, weight_decay=0.01), \n",
    "                         #\"Adam lr=0.1\":functools.partial(optim.Adam, lr=0.1, weight_decay=0.01), \n",
    "                         \"Adadelta\":functools.partial(optim.Adadelta, weight_decay=0.04),\n",
    "                         #\"RMSprop lr=0.02\":functools.partial(optim.RMSprop, lr=1.2, weight_decay=0.01)\n",
    "                        }\n",
    "clf = MultiInitialisationClassifier(Net5, nn.NLLLoss(weight = torch.from_numpy(np.array((1, 1./ 0.01))).float()), dropout=(0.2, 0.6), optimizer_classes=optimizer_classes, n_epochs = 60 , n_inits_per_optimizer = 30, batch_size=32,\n",
    "       validation_set=[vect_validation_bin_features,vect_validation_label], max_fail = 4)\n",
    "l = clf.fit(vect_train_bin_features, vect_train_label, max_fail = 20, thresold_fail = 30)"
   ]
  },
  {
   "cell_type": "code",
   "execution_count": 87,
   "metadata": {},
   "outputs": [
    {
     "name": "stdout",
     "output_type": "stream",
     "text": [
      "0.281401797693\n",
      "0.516594171524\n"
     ]
    },
    {
     "data": {
      "text/plain": [
       "[<matplotlib.lines.Line2D at 0x7fad66c629d0>]"
      ]
     },
     "execution_count": 87,
     "metadata": {},
     "output_type": "execute_result"
    },
    {
     "data": {
      "image/png": "[encoded data removed]",
      "text/plain": [
       "<matplotlib.figure.Figure at 0x7fae43286990>"
      ]
     },
     "metadata": {},
     "output_type": "display_data"
    }
   ],
   "source": [
    "# Plot train/validation loss\n",
    "train_loss_list = l[0]\n",
    "test_loss_list = l[1]\n",
    "print(min(train_loss_list))\n",
    "print(min(test_loss_list))\n",
    "epochs = [i for i in range(len(train_loss_list))]\n",
    "f, ax = plt.subplots(2)\n",
    "f.subplots_adjust(wspace=0.5, hspace=0.5)\n",
    "ax[0].set_title(\"train loss\")\n",
    "ax[0].plot(epochs, train_loss_list)\n",
    "ax[1].set_title(\"validation loss\")\n",
    "ax[1].plot(epochs, test_loss_list)\n"
   ]
  },
  {
   "cell_type": "code",
   "execution_count": 88,
   "metadata": {},
   "outputs": [
    {
     "name": "stdout",
     "output_type": "stream",
     "text": [
      "10\n",
      "name: John J. Crittenden\n",
      "name: John C. Breckinridge\n",
      "name: Rutherford B. Hayes\n",
      "name: Daniel Webster\n",
      "name: John Tyler\n",
      "name: Benjamin Ogle Tayloe\n",
      "name: James A. Garfield\n",
      "name: Margaret Chase Smith\n",
      "name: Woodrow Wilson\n",
      "name: Rubel Phillips\n",
      "name: Theodore Roosevelt\n",
      "name: Benjamin Harrison\n",
      "name: John McCain\n",
      "name: Thomas R. Marshall\n",
      "name: Simon Bolivar Buckner\n",
      "name: Alben W. Barkley\n",
      "name: Harry S. Truman\n",
      "name: Pat Buchanan\n",
      "name: George W. Johnson (governor)\n",
      "name: Richard Mentor Johnson\n",
      "name: Barry Goldwater\n",
      "name: Chester A. Arthur\n",
      "name: Calvin Coolidge\n",
      "name: John W. Stevenson\n",
      "name: Al Gore\n",
      "name: Luke P. Blackburn\n",
      "name: Bill Clinton\n",
      "name: Mark Felt\n",
      "name: Jesse Helms\n",
      "name: John Breckinridge (U.S. Attorney General)\n",
      "Best F1 Score : 0.436363636364\n"
     ]
    },
    {
     "data": {
      "image/png": "[encoded data removed]",
      "text/plain": [
       "<matplotlib.figure.Figure at 0x7fae433c9890>"
      ]
     },
     "metadata": {},
     "output_type": "display_data"
    }
   ],
   "source": [
    "def precision_recall_plot(pagerank_sorted, true_list, k_max=100, title=None):\n",
    "    list_precision = list()\n",
    "    list_recall = list()\n",
    "    list_f1 = list()\n",
    "    k_max = min(k_max, len(pagerank_sorted))\n",
    "    for k in range(1, k_max):\n",
    "        y_pred = pagerank_sorted[:k]\n",
    "        precision = len(np.intersect1d(np.array(true_list), y_pred)) / float(k)\n",
    "        recall = len(np.intersect1d(np.array(true_list), y_pred)) / float(len(true_list))\n",
    "        if precision == 0 and recall== 0:\n",
    "            f1_score = 0\n",
    "        else:\n",
    "            f1_score = 2 * precision * recall / (precision + recall)\n",
    "        \n",
    "        list_precision.append(precision)\n",
    "        list_recall.append(recall)\n",
    "        list_f1.append(f1_score)\n",
    "        if recall == 1:\n",
    "            break\n",
    "    \n",
    "    print(\"Best F1 Score : {}\".format(np.max(list_f1)))\n",
    "    \n",
    "    list_abs = [k for k in range(len(list_precision))]\n",
    "    plt.figure(figsize = (12, 10))\n",
    "    plt.plot(list_abs, list_precision, c=\"b\", label=\"precision\")\n",
    "    plt.plot(list_abs, list_recall, c=\"r\", label=\"recall\")\n",
    "    plt.plot(list_abs, list_f1, c=\"g\", label=\"f1_score\")\n",
    "    plt.legend()\n",
    "    if title : \n",
    "        plt.title(title)\n",
    "    return np.max(list_f1)\n",
    "\n",
    "\n",
    "\n",
    "y_pred = np.argsort(np.exp(clf.predict_proba(vect_test_bin_features)[:, 1]))[::-1]\n",
    "print(len(np.intersect1d(vect_test_id[y_pred[:30]], list_presidents_id)))\n",
    "for a in y_pred[:30]:\n",
    "    id = vect_test_id[a]\n",
    "    show_node(int(id), df_nodes, df_features, df_features_names, show_features=False)\n",
    "NN_max_F1 = precision_recall_plot(vect_test_id[y_pred], vect_test_id_little, k_max=600)\n"
   ]
  },
  {
   "cell_type": "code",
   "execution_count": 89,
   "metadata": {
    "scrolled": false
   },
   "outputs": [
    {
     "name": "stdout",
     "output_type": "stream",
     "text": [
      "22\n",
      "22\n",
      "name: Rutherford B. Hayes\n",
      "2\n",
      "name: John Tyler\n",
      "4\n",
      "name: James A. Garfield\n",
      "6\n",
      "name: Woodrow Wilson\n",
      "8\n",
      "name: Theodore Roosevelt\n",
      "10\n",
      "name: Benjamin Harrison\n",
      "11\n",
      "name: Harry S. Truman\n",
      "16\n",
      "name: Chester A. Arthur\n",
      "21\n",
      "name: Calvin Coolidge\n",
      "22\n",
      "name: Bill Clinton\n",
      "26\n",
      "name: John Quincy Adams\n",
      "31\n",
      "name: Andrew Johnson\n",
      "32\n",
      "name: Zachary Taylor\n",
      "41\n",
      "name: Ulysses S. Grant\n",
      "43\n",
      "name: Jimmy Carter\n",
      "56\n",
      "name: Warren G. Harding\n",
      "59\n",
      "name: George W. Bush\n",
      "247\n",
      "name: Franklin D. Roosevelt\n",
      "344\n",
      "name: George Washington\n",
      "426\n",
      "name: Winfield Scott\n",
      "478\n",
      "name: Richard Nixon\n",
      "519\n",
      "name: John Adams\n",
      "899\n"
     ]
    }
   ],
   "source": [
    "def presidents_rank(pagerank_sorted, true_list):\n",
    "    mask = numpy.isin(pagerank_sorted, true_list)\n",
    "    print(np.sum(mask))\n",
    "    list_id = np.array(pagerank_sorted)[mask]\n",
    "    list_id = map(str, list_id)\n",
    "    list_indices = np.where(mask)\n",
    "    print(len(list_id))\n",
    "    for i in range(len(list_id)):\n",
    "        show_node(int(list_id[i]), df_nodes, df_features, df_features_names, show_features=False)        \n",
    "        print(list_indices[0][i])\n",
    "        \n",
    "presidents_rank(vect_test_id[y_pred], vect_test_id_little)"
   ]
  },
  {
   "cell_type": "code",
   "execution_count": 90,
   "metadata": {},
   "outputs": [
    {
     "name": "stdout",
     "output_type": "stream",
     "text": [
      "name: John J. Crittenden\n",
      "0\n",
      "name: John C. Breckinridge\n",
      "1\n",
      "name: Daniel Webster\n",
      "3\n",
      "name: Benjamin Ogle Tayloe\n",
      "5\n",
      "name: Margaret Chase Smith\n",
      "7\n",
      "name: Rubel Phillips\n",
      "9\n",
      "name: John McCain\n",
      "12\n",
      "name: Thomas R. Marshall\n",
      "13\n",
      "name: Simon Bolivar Buckner\n",
      "14\n",
      "name: Alben W. Barkley\n",
      "15\n"
     ]
    }
   ],
   "source": [
    "def non_presidents_rank(pagerank_sorted, true_list):\n",
    "        mask = numpy.isin(pagerank_sorted, true_list)\n",
    "        k_max = max(np.where(mask)[0])\n",
    "        k_max = 10\n",
    "        mask = ~numpy.isin(pagerank_sorted, true_list)\n",
    "        list_id = np.array(pagerank_sorted)[mask]\n",
    "        list_id = map(str, list_id)\n",
    "        list_indices = np.where(mask)\n",
    "        for i in range(k_max):\n",
    "            show_node(int(list_id[i]), df_nodes, df_features, df_features_names, show_features=False)  \n",
    "            print(list_indices[0][i])\n",
    "\n",
    "non_presidents_rank(vect_test_id[y_pred], vect_test_id_little)"
   ]
  },
  {
   "cell_type": "markdown",
   "metadata": {},
   "source": [
    "## Which features does our net consider \"important\" ?"
   ]
  },
  {
   "cell_type": "code",
   "execution_count": 77,
   "metadata": {},
   "outputs": [],
   "source": [
    "net = clf.trained_net"
   ]
  },
  {
   "cell_type": "code",
   "execution_count": 78,
   "metadata": {},
   "outputs": [
    {
     "name": "stdout",
     "output_type": "stream",
     "text": [
      "(60, 999)\n",
      "(60, 999)\n",
      "(999,)\n",
      "(0.018761925, 0.048556969)\n",
      "0.938095\n",
      "White House\n",
      "0.722961\n",
      "Supreme Court of the United States\n",
      "0.527832\n",
      "United States House of Representatives\n",
      "0.347108\n",
      "United States Senate\n",
      "0.264291\n",
      "United States\n",
      "0.24796\n",
      "Democratic Party (United States)\n",
      "0.241308\n",
      "Republican Party (United States)\n",
      "0.226934\n",
      "War of 1812\n",
      "0.200624\n",
      "Episcopal Church (United States)\n",
      "0.199806\n",
      "United States Navy\n",
      "0.197134\n",
      "Washington, D.C.\n",
      "0.182683\n",
      "Indiana\n",
      "0.154836\n",
      "Virginia\n",
      "0.126242\n",
      "Minnesota\n",
      "0.114724\n",
      "United States Army\n"
     ]
    }
   ],
   "source": [
    "print(np.abs(list(net.children())[0].weight.data.numpy()).shape)\n",
    "l = list(net.children())[0].weight.data.numpy()\n",
    "print(l.shape)\n",
    "l_pos = np.array([np.sum(l.T[i][l.T[i] > 0]) for i in range(len(l.T))] )\n",
    "print(l_pos.shape)\n",
    "print(np.mean(l_pos), np.std(l_pos))\n",
    "list_features_pos = np.argsort(l_pos)[::-1]\n",
    "\n",
    "for feature in list_features_pos[:15]:\n",
    "    print(l_pos[feature])\n",
    "    a = np.zeros(len(list_features_pos))\n",
    "    a[feature]=1\n",
    "    id = int(lb.inverse_transform(a.reshape(1, -1))[0])\n",
    "    print(df_features_names[df_features_names[\"id\"] == id][\"name\"].values[0])\n"
   ]
  },
  {
   "cell_type": "code",
   "execution_count": 79,
   "metadata": {},
   "outputs": [
    {
     "name": "stdout",
     "output_type": "stream",
     "text": [
      "(60, 999)\n",
      "(60, 999)\n",
      "(999,)\n",
      "(-0.21195549, 0.090848148)\n",
      "-0.629198\n",
      "Democratic Party (United States)\n",
      "-0.588005\n",
      "Supreme Court of the United States\n",
      "-0.579825\n",
      "United Kingdom\n",
      "-0.555238\n",
      "Major League Baseball\n",
      "-0.517461\n",
      "National Football League\n",
      "-0.493702\n",
      "Washington, D.C.\n",
      "-0.490679\n",
      "Italy\n",
      "-0.487078\n",
      "England\n",
      "-0.486333\n",
      "Japan\n",
      "-0.485646\n",
      "California\n",
      "-0.480271\n",
      "Defender (association football)\n",
      "-0.479705\n",
      "Scotland\n",
      "-0.47281\n",
      "Singing\n",
      "-0.457189\n",
      "The New York Times\n",
      "-0.451301\n",
      "Politician\n"
     ]
    }
   ],
   "source": [
    "print(np.abs(list(net.children())[0].weight.data.numpy()).shape)\n",
    "l = list(net.children())[0].weight.data.numpy()\n",
    "print(l.shape)\n",
    "l_neg = np.array([np.sum(l.T[i][l.T[i] < 0]) for i in range(len(l.T))] )\n",
    "print(l_neg.shape)\n",
    "print(np.mean(l_neg), np.std(l_neg))\n",
    "list_features_neg = np.argsort(l_neg)\n",
    "#real_features_names_abs = [\"United States\", \"President of the United States\", \"Democratic Party\", \"Republican Party\", \"Republican\"]\n",
    "#real_features_id_abs = [df_features_names[df_features_names[\"name\"] == a][\"id\"].values[0] for a in real_features_names_abs]\n",
    "#real_features_scores_abs = [l_abs[i] for i in real_features_id_abs]\n",
    "#for i in range(len(real_features_names_abs)):\n",
    " #   print(real_features_names_abs[i], real_features_scores_abs[i])\n",
    "\n",
    "for feature in list_features_neg[:15]:\n",
    "    print(l_neg[feature])\n",
    "    a = np.zeros(len(list_features_neg))\n",
    "    a[feature]=1\n",
    "    id = int(lb.inverse_transform(a.reshape(1, -1))[0])\n",
    "    print(df_features_names[df_features_names[\"id\"] == id][\"name\"].values[0])"
   ]
  },
  {
   "cell_type": "code",
   "execution_count": 80,
   "metadata": {},
   "outputs": [
    {
     "name": "stdout",
     "output_type": "stream",
     "text": [
      "(60, 999)\n",
      "(0.23071741, 0.11509827)\n",
      "1.31097\n",
      "Supreme Court of the United States\n",
      "1.26137\n",
      "White House\n",
      "0.898768\n",
      "United States House of Representatives\n",
      "0.877157\n",
      "Democratic Party (United States)\n",
      "0.717551\n",
      "United States Senate\n",
      "0.690836\n",
      "Washington, D.C.\n",
      "0.680535\n",
      "United Kingdom\n",
      "0.639143\n",
      "Major League Baseball\n",
      "0.60301\n",
      "Republican Party (United States)\n",
      "0.602568\n",
      "National Football League\n",
      "0.591155\n",
      "United States Navy\n",
      "0.565535\n",
      "The New York Times\n",
      "0.554919\n",
      "England\n",
      "0.540186\n",
      "Singing\n",
      "0.534796\n",
      "Italy\n"
     ]
    }
   ],
   "source": [
    "print(np.abs(list(net.children())[0].weight.data.numpy()).shape)\n",
    "l_abs = np.sum(np.abs(list(net.children())[0].weight.data.numpy()), axis=0)\n",
    "print(np.mean(l_abs), np.std(l_abs))\n",
    "list_features_abs = np.argsort(l_abs)[::-1]\n",
    "#real_features_names_abs = [\"United States\", \"President of the United States\", \"Democratic Party\", \"Republican Party\", \"Republican\"]\n",
    "#real_features_id_abs = [df_features_names[df_features_names[\"name\"] == a][\"id\"].values[0] for a in real_features_names_abs]\n",
    "#real_features_scores_abs = [l_abs[i] for i in real_features_id_abs]\n",
    "#for i in range(len(real_features_names_abs)):\n",
    " #   print(real_features_names_abs[i], real_features_scores_abs[i])\n",
    "\n",
    "for feature in list_features_abs[:15]:\n",
    "    print(l_abs[feature])\n",
    "    a = np.zeros(len(list_features_abs))\n",
    "    a[feature]=1\n",
    "    id = int(lb.inverse_transform(a.reshape(1, -1))[0])\n",
    "    print(df_features_names[df_features_names[\"id\"] == id][\"name\"].values[0])"
   ]
  },
  {
   "cell_type": "markdown",
   "metadata": {
    "collapsed": true
   },
   "source": [
    "# Second method : personalized page rank with presidents as seed set"
   ]
  },
  {
   "cell_type": "code",
   "execution_count": 39,
   "metadata": {
    "collapsed": true
   },
   "outputs": [],
   "source": [
    "import networkx as nx\n",
    "from collections import defaultdict"
   ]
  },
  {
   "cell_type": "code",
   "execution_count": 40,
   "metadata": {},
   "outputs": [],
   "source": [
    "list_presidents_id = map(str, list_presidents_id)"
   ]
  },
  {
   "cell_type": "code",
   "execution_count": 41,
   "metadata": {},
   "outputs": [],
   "source": [
    "#graph = nx.read_edgelist(\"datasets/en-wikipedia.humans.ungraph.txt\", comments=\"#\", delimiter=\"\\t\")\n"
   ]
  },
  {
   "cell_type": "code",
   "execution_count": 100,
   "metadata": {
    "collapsed": true
   },
   "outputs": [],
   "source": [
    "#graph_nx_file = open(\"graph_nx_file\", \"wb\")\n",
    "#cPickle.dump(graph, graph_nx_file)"
   ]
  },
  {
   "cell_type": "code",
   "execution_count": null,
   "metadata": {
    "collapsed": true
   },
   "outputs": [],
   "source": [
    "graph_nx_file = open(\"graph_nx_file\", \"rb\")\n",
    "graph = cPickle.load(graph_nx_file)"
   ]
  },
  {
   "cell_type": "code",
   "execution_count": 42,
   "metadata": {},
   "outputs": [],
   "source": [
    "df_graph = pd.read_csv(\"datasets/en-wikipedia.humans.ungraph.names.txt\", comment=\"#\", delimiter=\"\\t\", names=[\"id\", \"name\"])"
   ]
  },
  {
   "cell_type": "code",
   "execution_count": 43,
   "metadata": {
    "collapsed": true
   },
   "outputs": [],
   "source": [
    "df_graph2 = pd.read_csv(\"datasets/en-wikipedia.humans.ungraph.txt\", comment=\"#\", delimiter=\"\\t\", names=[\"source\", \"target\"])"
   ]
  },
  {
   "cell_type": "code",
   "execution_count": 44,
   "metadata": {},
   "outputs": [],
   "source": [
    "seed_set = set([id for id in np.concatenate((vect_train_id_little, vect_validation_id_little))])"
   ]
  },
  {
   "cell_type": "code",
   "execution_count": 45,
   "metadata": {},
   "outputs": [
    {
     "name": "stdout",
     "output_type": "stream",
     "text": [
      "set([239616, 239617, 239751, 280333, 281645, 282523, 281638, 281642, 281643, 241453, 281646, 281651, 281652, 281685, 848214, 281688, 281690, 238700, 286833, 239610, 239612, 280319])\n"
     ]
    }
   ],
   "source": [
    "print(seed_set)"
   ]
  },
  {
   "cell_type": "code",
   "execution_count": 46,
   "metadata": {
    "collapsed": true
   },
   "outputs": [],
   "source": [
    "def ppr(graph, seed_set, n_iter=10, alpha=0.85, threshold=1e-6):   \n",
    "    ppr = {str(node): 1. / float(len(seed_set)) for node in seed_set}\n",
    "    print(ppr)\n",
    "    for i in range(n_iter):\n",
    "        new_ppr = defaultdict(float)\n",
    "        for node in ppr:\n",
    "            new_ppr[node] += (1. - alpha) * ppr[node]\n",
    "            node_degree = graph.degree(node)\n",
    "            for neighbor in graph.neighbors(node):\n",
    "                new_ppr[neighbor] += (1. / float(node_degree)) * ppr[node]\n",
    "        ppr = dict()\n",
    "        for node in new_ppr:\n",
    "            if new_ppr[node] > threshold:\n",
    "                ppr[node] = new_ppr[node]\n",
    "    return ppr"
   ]
  },
  {
   "cell_type": "code",
   "execution_count": 47,
   "metadata": {},
   "outputs": [
    {
     "name": "stdout",
     "output_type": "stream",
     "text": [
      "{'848214': 0.045454545454545456, '281645': 0.045454545454545456, '281646': 0.045454545454545456, '281643': 0.045454545454545456, '281642': 0.045454545454545456, '282523': 0.045454545454545456, '286833': 0.045454545454545456, '239610': 0.045454545454545456, '281690': 0.045454545454545456, '239612': 0.045454545454545456, '239617': 0.045454545454545456, '239616': 0.045454545454545456, '238700': 0.045454545454545456, '241453': 0.045454545454545456, '239751': 0.045454545454545456, '281638': 0.045454545454545456, '280319': 0.045454545454545456, '281652': 0.045454545454545456, '281651': 0.045454545454545456, '280333': 0.045454545454545456, '281685': 0.045454545454545456, '281688': 0.045454545454545456}\n",
      "CPU times: user 35.9 s, sys: 368 ms, total: 36.3 s\n",
      "Wall time: 36 s\n"
     ]
    }
   ],
   "source": [
    "%%time\n",
    "ppr_rank = ppr(graph, seed_set)"
   ]
  },
  {
   "cell_type": "code",
   "execution_count": 48,
   "metadata": {},
   "outputs": [
    {
     "name": "stdout",
     "output_type": "stream",
     "text": [
      "203967\n"
     ]
    }
   ],
   "source": [
    "ppr_rank_sorted= sorted(ppr_rank, key=ppr_rank.get, reverse=True)\n",
    "for president in seed_set:\n",
    "    ppr_rank_sorted.remove(str(president))\n",
    "print(len(ppr_rank_sorted))"
   ]
  },
  {
   "cell_type": "code",
   "execution_count": 49,
   "metadata": {},
   "outputs": [
    {
     "name": "stdout",
     "output_type": "stream",
     "text": [
      "22\n"
     ]
    }
   ],
   "source": [
    "print(len(np.intersect1d(vect_test_id_little, ppr_rank_sorted[:40])))"
   ]
  },
  {
   "cell_type": "code",
   "execution_count": 50,
   "metadata": {},
   "outputs": [
    {
     "name": "stdout",
     "output_type": "stream",
     "text": [
      "name: George Washington\n",
      "name: Ulysses S. Grant\n",
      "name: George W. Bush\n",
      "name: Franklin D. Roosevelt\n",
      "name: David J. Eicher\n",
      "name: Theodore Roosevelt\n",
      "name: Andrew Johnson\n",
      "name: Bill Clinton\n",
      "name: Richard Nixon\n",
      "name: Robert E. Lee\n",
      "name: Woodrow Wilson\n",
      "name: Harry S. Truman\n",
      "name: John Quincy Adams\n",
      "name: Jimmy Carter\n",
      "name: Jefferson Davis\n",
      "name: Henry Clay\n",
      "name: Zachary Taylor\n",
      "name: William Tecumseh Sherman\n",
      "name: Benjamin Harrison\n",
      "name: Rutherford B. Hayes\n"
     ]
    }
   ],
   "source": [
    "for i in range(20):\n",
    "    show_node(int(ppr_rank_sorted[i]), df_nodes, df_features, df_features_names, show_features=False)"
   ]
  },
  {
   "cell_type": "markdown",
   "metadata": {
    "collapsed": true
   },
   "source": [
    "## Analyse results (precision-recall scores)"
   ]
  },
  {
   "cell_type": "code",
   "execution_count": 51,
   "metadata": {
    "collapsed": true
   },
   "outputs": [],
   "source": [
    "from sklearn.metrics import precision_score, recall_score, f1_score"
   ]
  },
  {
   "cell_type": "code",
   "execution_count": 52,
   "metadata": {},
   "outputs": [
    {
     "name": "stdout",
     "output_type": "stream",
     "text": [
      "Best F1 Score : 0.791666666667\n"
     ]
    },
    {
     "data": {
      "image/png": "[encoded data removed]",
      "text/plain": [
       "<matplotlib.figure.Figure at 0x7faec6b97490>"
      ]
     },
     "metadata": {},
     "output_type": "display_data"
    }
   ],
   "source": [
    "def precision_recall_plot(pagerank_sorted, true_list, k_max=100, title=None):\n",
    "    list_precision = list()\n",
    "    list_recall = list()\n",
    "    list_f1 = list()\n",
    "    for k in range(1, k_max):\n",
    "        y_pred = pagerank_sorted[:k]\n",
    "        precision = len(np.intersect1d(np.array(true_list), y_pred)) / float(k)\n",
    "        recall = len(np.intersect1d(np.array(true_list), y_pred)) / float(len(true_list))\n",
    "        if precision == 0 and recall== 0:\n",
    "            f1_score = 0\n",
    "        else:\n",
    "            f1_score = 2 * precision * recall / (precision + recall)\n",
    "        \n",
    "        list_precision.append(precision)\n",
    "        list_recall.append(recall)\n",
    "        list_f1.append(f1_score)\n",
    "    \n",
    "    print(\"Best F1 Score : {}\".format(np.max(list_f1)))\n",
    "    list_abs = [k for k in range(1, k_max)]\n",
    "    plt.figure(figsize = (12, 10))\n",
    "    plt.plot(list_abs, list_precision, c=\"b\", label=\"precision\")\n",
    "    plt.plot(list_abs, list_recall, c=\"r\", label=\"recall\")\n",
    "    plt.plot(list_abs, list_f1, c=\"g\", label=\"f1 score\")\n",
    "    plt.legend()\n",
    "    if title : \n",
    "        plt.title(title)\n",
    "    return np.max(list_f1)\n",
    "\n",
    "PPR_max_F1 = precision_recall_plot(ppr_rank_sorted, vect_test_id_little, title=\"alpha = 0.85\")"
   ]
  },
  {
   "cell_type": "code",
   "execution_count": 53,
   "metadata": {},
   "outputs": [
    {
     "name": "stdout",
     "output_type": "stream",
     "text": [
      "name: George Washington\n",
      "0\n",
      "name: Ulysses S. Grant\n",
      "1\n",
      "name: George W. Bush\n",
      "2\n",
      "name: Franklin D. Roosevelt\n",
      "3\n",
      "name: Theodore Roosevelt\n",
      "5\n",
      "name: Andrew Johnson\n",
      "6\n",
      "name: Bill Clinton\n",
      "7\n",
      "name: Richard Nixon\n",
      "8\n",
      "name: Woodrow Wilson\n",
      "10\n",
      "name: Harry S. Truman\n",
      "11\n",
      "name: John Quincy Adams\n",
      "12\n",
      "name: Jimmy Carter\n",
      "13\n",
      "name: Zachary Taylor\n",
      "16\n",
      "name: Benjamin Harrison\n",
      "18\n",
      "name: Rutherford B. Hayes\n",
      "19\n",
      "name: John Adams\n",
      "20\n",
      "name: John Tyler\n",
      "21\n",
      "name: Winfield Scott\n",
      "23\n",
      "name: Chester A. Arthur\n",
      "25\n",
      "name: Calvin Coolidge\n",
      "29\n",
      "name: James A. Garfield\n",
      "33\n",
      "name: Warren G. Harding\n",
      "34\n"
     ]
    }
   ],
   "source": [
    "def presidents_rank(pagerank_sorted, true_list):\n",
    "    mask = numpy.isin(pagerank_sorted, true_list)\n",
    "    list_id = np.array(pagerank_sorted)[mask]\n",
    "    list_id = map(str, list_id)\n",
    "    list_indices = np.where(mask)\n",
    "    for i in range(len(list_id)):\n",
    "        show_node(int(list_id[i]), df_nodes, df_features, df_features_names, show_features=False)        \n",
    "        print(list_indices[0][i])\n",
    "presidents_rank(ppr_rank_sorted, np.array(vect_test_id_little).astype(str))"
   ]
  },
  {
   "cell_type": "code",
   "execution_count": 54,
   "metadata": {},
   "outputs": [
    {
     "name": "stdout",
     "output_type": "stream",
     "text": [
      "[ True  True  True ..., False False False]\n",
      "name: David J. Eicher\n",
      "4\n",
      "name: Robert E. Lee\n",
      "9\n",
      "name: Jefferson Davis\n",
      "14\n",
      "name: Henry Clay\n",
      "15\n",
      "name: William Tecumseh Sherman\n",
      "17\n",
      "name: John C. Breckinridge\n",
      "22\n",
      "name: Benjamin Franklin\n",
      "24\n",
      "name: John C. Frémont\n",
      "26\n",
      "name: Stonewall Jackson\n",
      "27\n",
      "name: George B. McClellan\n",
      "28\n",
      "name: Gilbert du Motier, Marquis de Lafayette\n",
      "30\n",
      "name: Attorneys in the United States\n",
      "31\n",
      "name: John C. Calhoun\n",
      "32\n",
      "name: Daniel Webster\n",
      "35\n",
      "name: Aaron Burr\n",
      "36\n",
      "name: Stephen A. Douglas\n",
      "37\n",
      "name: Joseph E. Johnston\n",
      "38\n",
      "name: Alexander Hamilton\n",
      "39\n",
      "name: Philip Sheridan\n",
      "40\n",
      "name: Napoleon\n",
      "41\n",
      "name: John J. Crittenden\n",
      "42\n",
      "name: Sam Houston\n",
      "43\n",
      "name: William H. Seward\n",
      "44\n",
      "name: Horace Greeley\n",
      "45\n",
      "name: Lloyd Thurston\n",
      "46\n",
      "name: Braxton Bragg\n",
      "47\n",
      "name: James Longstreet\n",
      "48\n",
      "name: Lewis Cass\n",
      "49\n",
      "name: John Marshall\n",
      "50\n",
      "name: William Jennings Bryan\n",
      "51\n",
      "name: George Armstrong Custer\n",
      "52\n",
      "name: Ambrose Burnside\n",
      "53\n",
      "name: Mathew Brady\n",
      "54\n",
      "name: John McCain\n",
      "55\n"
     ]
    }
   ],
   "source": [
    "def non_presidents_rank(pagerank_sorted, true_list):\n",
    "        mask = numpy.isin(pagerank_sorted, true_list)\n",
    "        print(mask)\n",
    "        k_max = max(np.where(mask)[0])\n",
    "        mask = ~numpy.isin(pagerank_sorted, true_list)\n",
    "        list_id = np.array(pagerank_sorted)[mask]\n",
    "        list_id = map(str, list_id)\n",
    "        list_indices = np.where(mask)\n",
    "        for i in range(k_max):\n",
    "            show_node(int(list_id[i]), df_nodes, df_features, df_features_names, show_features=False)  \n",
    "            print(list_indices[0][i])\n",
    "\n",
    "non_presidents_rank(ppr_rank_sorted, np.array(vect_test_id_little).astype(str))"
   ]
  },
  {
   "cell_type": "markdown",
   "metadata": {
    "collapsed": true
   },
   "source": [
    "# Final results !! Neural network / personal page rank comparison :"
   ]
  },
  {
   "cell_type": "code",
   "execution_count": 55,
   "metadata": {},
   "outputs": [
    {
     "name": "stdout",
     "output_type": "stream",
     "text": [
      "PPR : \n",
      " Seed set : 22 presidents \n",
      " Presidents to find : 22 among 731293 people \n",
      " Best F1 Score : 0.791666666667 \n",
      "NN : \n",
      " Train set : 22 presidents \n",
      " Presidents to find : 22 among 923993 people \n",
      " Best F1 Score : 0.434782608696 \n"
     ]
    }
   ],
   "source": [
    "print( \"PPR : \\n Seed set : {} presidents \\n Presidents to find : {} among {} people \\n Best F1 Score : {} \".format(\n",
    "    len(seed_set), len(vect_test_id_little), len(list(graph.nodes())), PPR_max_F1))\n",
    "\n",
    "print( \"NN : \\n Train set : {} presidents \\n Presidents to find : {} among {} people \\n Best F1 Score : {} \".format(\n",
    "    len(vect_train_id_little) + len(vect_validation_id_little), len(vect_test_id_little), len(vect_test_id), NN_max_F1))"
   ]
  },
  {
   "cell_type": "code",
   "execution_count": null,
   "metadata": {
    "collapsed": true
   },
   "outputs": [],
   "source": []
  },
  {
   "cell_type": "code",
   "execution_count": null,
   "metadata": {
    "collapsed": true
   },
   "outputs": [],
   "source": []
  }
 ],
 "metadata": {
  "kernelspec": {
   "display_name": "Python 2",
   "language": "python",
   "name": "python2"
  },
  "language_info": {
   "codemirror_mode": {
    "name": "ipython",
    "version": 2
   },
   "file_extension": ".py",
   "mimetype": "text/x-python",
   "name": "python",
   "nbconvert_exporter": "python",
   "pygments_lexer": "ipython2",
   "version": "2.7.14"
  }
 },
 "nbformat": 4,
 "nbformat_minor": 1
}
