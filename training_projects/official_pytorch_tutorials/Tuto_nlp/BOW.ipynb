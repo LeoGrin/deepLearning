{
 "cells": [
  {
   "cell_type": "code",
   "execution_count": 44,
   "metadata": {
    "collapsed": true
   },
   "outputs": [],
   "source": [
    "data = [(\"me gusta comer en la cafeteria\".split(), \"SPANISH\"),\n",
    "        (\"Give it to me\".split(), \"ENGLISH\"),\n",
    "        (\"No creo que sea una buena idea\".split(), \"SPANISH\"),\n",
    "        (\"No it is not a good idea to get lost at sea\".split(), \"ENGLISH\")]\n",
    "\n",
    "test_data = [(\"Yo creo que si\".split(), \"SPANISH\"),\n",
    "             (\"it is lost on me\".split(), \"ENGLISH\")]"
   ]
  },
  {
   "cell_type": "code",
   "execution_count": 55,
   "metadata": {
    "collapsed": true
   },
   "outputs": [],
   "source": [
    "import torch\n",
    "import torch.nn as nn\n",
    "import torch.nn.functional as F\n",
    "import torch.optim as optim\n",
    "from torch.autograd import Variable"
   ]
  },
  {
   "cell_type": "code",
   "execution_count": 56,
   "metadata": {
    "collapsed": false
   },
   "outputs": [
    {
     "name": "stdout",
     "output_type": "stream",
     "text": [
      "{'en': 3, 'No': 9, 'buena': 14, 'it': 7, 'at': 22, 'sea': 12, 'cafeteria': 5, 'la': 4, 'to': 8, 'creo': 10, 'is': 16, 'a': 18, 'good': 19, 'get': 20, 'idea': 15, 'que': 11, 'not': 17, 'me': 0, 'gusta': 1, 'lost': 21, 'Give': 6, 'una': 13, 'comer': 2}\n"
     ]
    }
   ],
   "source": [
    "def word2index(sentences):\n",
    "    word_dict = {}\n",
    "    for sentence in sentences:\n",
    "        for word in sentence:\n",
    "            try:\n",
    "                word_dict[word]\n",
    "            except:\n",
    "                if word_dict.keys():\n",
    "                    word_dict[word] = max(word_dict.values()) + 1\n",
    "                else: \n",
    "                    word_dict[word] = 0\n",
    "    return word_dict\n",
    "                \n",
    "sentences_list = [a[0] for a in data]\n",
    "word_dict = word2index(sentences_list)\n",
    "print(word_dict)"
   ]
  },
  {
   "cell_type": "code",
   "execution_count": 57,
   "metadata": {
    "collapsed": true
   },
   "outputs": [],
   "source": [
    "import numpy as np"
   ]
  },
  {
   "cell_type": "code",
   "execution_count": 58,
   "metadata": {
    "collapsed": false
   },
   "outputs": [
    {
     "name": "stdout",
     "output_type": "stream",
     "text": [
      "[ 0.  0.  0.  0.  0.  0.  0.  0.  0.  0.  0.  0.  0.  0.  0.  0.  0.  0.\n",
      "  0.  0.  0.  0.  0.]\n"
     ]
    }
   ],
   "source": [
    "def sentence2vec(sentence, word_dict):\n",
    "    vect = np.zeros(len(word_dict.values()))\n",
    "    for word in sentence:\n",
    "        try:\n",
    "            vect[word_dict[word]] += 1\n",
    "        except:\n",
    "            pass\n",
    "    return vect\n",
    "\n",
    "print(sentence2vec(\"lol ptdr c hyper grand lol\".split(\" \"), word_dict))"
   ]
  },
  {
   "cell_type": "code",
   "execution_count": 59,
   "metadata": {
    "collapsed": false
   },
   "outputs": [
    {
     "name": "stdout",
     "output_type": "stream",
     "text": [
      "{'ENGLISH': 1, 'SPANISH': 0}\n"
     ]
    }
   ],
   "source": [
    "def language2index(language_list):\n",
    "    language_dict = {}\n",
    "    for language in language_list:\n",
    "        try:\n",
    "            language_dict[language]\n",
    "        except:\n",
    "            if language_dict.values():\n",
    "                language_dict[language] = max(language_dict.values()) + 1\n",
    "            else:\n",
    "                language_dict[language] = 0\n",
    "    return language_dict\n",
    "\n",
    "language_list = [a[1] for a in data]\n",
    "language_dict = language2index(language_list)\n",
    "print(language_dict)"
   ]
  },
  {
   "cell_type": "code",
   "execution_count": 90,
   "metadata": {
    "collapsed": false
   },
   "outputs": [
    {
     "name": "stdout",
     "output_type": "stream",
     "text": [
      "[ 0.  1.]\n"
     ]
    }
   ],
   "source": [
    "def language2vec(language, language_dict):\n",
    "    vect = np.zeros(len(language_dict.values()))\n",
    "    vect[language_dict[language]] = 1\n",
    "    return vect\n",
    "\n",
    "print(language2vec(\"ENGLISH\", language_dict))"
   ]
  },
  {
   "cell_type": "code",
   "execution_count": 84,
   "metadata": {
    "collapsed": false
   },
   "outputs": [],
   "source": [
    "class NN(nn.Module):\n",
    "    def __init__(self, input_size, output_size):\n",
    "        super(NN, self).__init__()\n",
    "        \n",
    "        self.lin = nn.Linear(input_size, output_size)\n",
    "        self.softmax = nn.LogSoftmax()\n",
    "    \n",
    "    def forward(self, input):\n",
    "        output = self.lin(input)\n",
    "        output = self.softmax(output)\n",
    "        return output\n",
    "\n",
    "input_size, output_size = len(word_dict.values()), 2\n",
    "model = NN(input_size, output_size)"
   ]
  },
  {
   "cell_type": "code",
   "execution_count": 88,
   "metadata": {
    "collapsed": false
   },
   "outputs": [],
   "source": [
    "criterion = nn.NLLLoss()\n",
    "learning_rate = 0.005\n",
    "optimizer = optim.SGD(model.parameters(), lr = learning_rate)\n",
    "n_epochs = 100\n",
    "\n",
    "for n in range(n_epochs):\n",
    "    for sentence, language in data:\n",
    "        optimizer.zero_grad()\n",
    "        input = Variable(torch.from_numpy(sentence2vec(sentence, word_dict)).float().view(1, -1))\n",
    "        target = Variable(torch.from_numpy(language2vec(language, language_dict)).long())\n",
    "\n",
    "        output = model(input).view(-1)\n",
    "\n",
    "        loss = criterion(output, target)\n",
    "        loss.backward()\n",
    "        optimizer.step()\n",
    "\n",
    "\n",
    "\n",
    "    "
   ]
  },
  {
   "cell_type": "code",
   "execution_count": 89,
   "metadata": {
    "collapsed": false
   },
   "outputs": [
    {
     "name": "stdout",
     "output_type": "stream",
     "text": [
      "[[ 0.2721377  0.7278623]]\n",
      "SPANISH\n",
      "['Yo', 'creo', 'que', 'si']\n",
      "[[ 0.8569876  0.1430124]]\n",
      "ENGLISH\n",
      "['it', 'is', 'lost', 'on', 'me']\n"
     ]
    }
   ],
   "source": [
    "for sentence, language in test_data:\n",
    "    input = Variable(torch.from_numpy(sentence2vec(sentence, word_dict)).float().view(1, -1))\n",
    "    output = np.exp(model(input).data.numpy())\n",
    "    print(output)\n",
    "    print(language)\n",
    "    print(sentence)"
   ]
  },
  {
   "cell_type": "code",
   "execution_count": null,
   "metadata": {
    "collapsed": true
   },
   "outputs": [],
   "source": []
  }
 ],
 "metadata": {
  "kernelspec": {
   "display_name": "Python 2",
   "language": "python",
   "name": "python2"
  },
  "language_info": {
   "codemirror_mode": {
    "name": "ipython",
    "version": 2
   },
   "file_extension": ".py",
   "mimetype": "text/x-python",
   "name": "python",
   "nbconvert_exporter": "python",
   "pygments_lexer": "ipython2",
   "version": "2.7.9"
  }
 },
 "nbformat": 4,
 "nbformat_minor": 1
}
