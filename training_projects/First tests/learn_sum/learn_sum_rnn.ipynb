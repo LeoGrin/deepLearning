{
 "cells": [
  {
   "cell_type": "code",
   "execution_count": 8,
   "metadata": {
    "collapsed": true
   },
   "outputs": [],
   "source": [
    "import torch\n",
    "import torch.nn as nn\n",
    "from torch.autograd import Variable\n",
    "import numpy as np\n",
    "import torch.nn.functional as F"
   ]
  },
  {
   "cell_type": "code",
   "execution_count": 10,
   "metadata": {
    "collapsed": true
   },
   "outputs": [],
   "source": [
    "def numberToTensor(n, n_max=1000):\n",
    "    tensor = torch.zeros(n_max).long().view(1, -1)\n",
    "    if n < n_max:\n",
    "        tensor[0][n] = 1\n",
    "    else:\n",
    "        raise RunTimeError(\"n > n_max\")\n",
    "    return tensor\n",
    "\n",
    "def variableToNumber(variable):\n",
    "    return np.argmax(variable.data.numpy())"
   ]
  },
  {
   "cell_type": "code",
   "execution_count": 11,
   "metadata": {},
   "outputs": [
    {
     "name": "stdout",
     "output_type": "stream",
     "text": [
      "(Variable containing:\n",
      " 1\n",
      " 1\n",
      "[torch.FloatTensor of size 2]\n",
      ", Variable containing:\n",
      " 2\n",
      "[torch.LongTensor of size 1]\n",
      ")\n"
     ]
    }
   ],
   "source": [
    "def generateExample():\n",
    "    list_example = list()\n",
    "    #while True:\n",
    "    #    l = np.random.multinomial(1, (0.45, 0.45, 0.1))\n",
    "    #    res = np.argmax(l)\n",
    "    #    if res == 0:\n",
    "    #        list_example.append(0)\n",
    "    #    elif res == 1:\n",
    "    #        list_example.append(1)\n",
    "    #    else:\n",
    "    #        if len(list_example) > 0:\n",
    "    #            break\n",
    "    n = np.random.randint(1, 20)\n",
    "    for i in range(n):\n",
    "        list_example.append(np.random.binomial(1, 0.65))\n",
    "    return Variable(torch.FloatTensor(list_example)), Variable(torch.LongTensor([sum(list_example)]))\n",
    "\n",
    "def generateExample2():\n",
    "    n = np.random.randint(1, 20)\n",
    "    list_example = [0 for i in range(n)]\n",
    "    k = np.random.randint(n + 1)\n",
    "    if k > 0:\n",
    "        one_indices_list = np.random.choice([i for i in range(n)], k, replace=False)\n",
    "        for i in one_indices_list:\n",
    "            list_example[i] = 1\n",
    "    return Variable(torch.FloatTensor(list_example)), Variable(torch.LongTensor([sum(list_example)]))\n",
    "\n",
    "print(generateExample2())"
   ]
  },
  {
   "cell_type": "code",
   "execution_count": 12,
   "metadata": {},
   "outputs": [
    {
     "name": "stdout",
     "output_type": "stream",
     "text": [
      "[0.4822805020442291, 0.43307766228730177, 1.1112941707648578, 1.8822321018429329, 4.046012623091953, 8.006717278940782, 11.540673897561094, 18.678023704280374, 42.84392472975761, 61.8788868038587, 96.97236303784658, 181.06369572148014, 317.67504540171694, 695.5742934836381, 1264.6001501742212, 3521.3448607609184, 10024.315748543226, 39853.61414262976, 190981.31528362405, 4665073.8020973345]\n"
     ]
    }
   ],
   "source": [
    "def loss_weights(n_outputs=10):\n",
    "    list_counts = [0 for i in range(n_outputs)]\n",
    "    n_iters = 50000\n",
    "    for i in range(n_iters):\n",
    "        target = generateExample2()[1].data[0]\n",
    "        list_counts[target] += 1\n",
    "    list_weight = list()\n",
    "    for a in list_counts:\n",
    "        if a:\n",
    "            list_weight.append(1e15 / float(a)**4)\n",
    "        else:\n",
    "            list_weight.append(0)\n",
    "    return list_weight\n",
    "    \n",
    "print(loss_weights(n_outputs=20))"
   ]
  },
  {
   "cell_type": "code",
   "execution_count": 13,
   "metadata": {},
   "outputs": [
    {
     "data": {
      "text/plain": [
       "\n",
       " 0\n",
       "[torch.FloatTensor of size 1]"
      ]
     },
     "execution_count": 13,
     "metadata": {},
     "output_type": "execute_result"
    }
   ],
   "source": [
    "torch.FloatTensor([0])"
   ]
  },
  {
   "cell_type": "code",
   "execution_count": 14,
   "metadata": {},
   "outputs": [],
   "source": [
    "class RNN(nn.Module):\n",
    "    def __init__(self, input_size, hidden_size, output_size):\n",
    "        super(RNN, self).__init__()\n",
    "        \n",
    "        self.hidden_size = hidden_size\n",
    "        \n",
    "        self.lstm = nn.LSTM(input_size, hidden_size)\n",
    "        self.lin = nn.Linear(hidden_size, output_size)\n",
    "        self.softmax = nn.LogSoftmax()\n",
    "    \n",
    "    def forward(self, input, hidden):\n",
    "        #combined = torch.cat((input, hidden), 1)\n",
    "        output, hidden = self.lstm(input.view(len(input), 1, -1), hidden)\n",
    "\n",
    "        output = self.lin(output.view(1, -1))\n",
    "\n",
    "        output = self.softmax(output)\n",
    "        return output, hidden\n",
    "    \n",
    "    def initHidden(self):\n",
    "        # Before we've done anything, we dont have any hidden state.\n",
    "        # Refer to the Pytorch documentation to see exactly\n",
    "        # why they have this dimensionality.\n",
    "        # The axes semantics are (num_layers, minibatch_size, hidden_dim)\n",
    "        return (Variable(torch.zeros(1, 1, self.hidden_size)),\n",
    "                Variable(torch.zeros(1, 1, self.hidden_size)))\n",
    "\n",
    "    \n",
    "n_hidden = 32\n",
    "rnn = RNN(1, n_hidden, 20)"
   ]
  },
  {
   "cell_type": "code",
   "execution_count": 15,
   "metadata": {},
   "outputs": [],
   "source": [
    "class RNN2(nn.Module):\n",
    "    def __init__(self, input_size, hidden_size, output_size):\n",
    "        super(RNN2, self).__init__()\n",
    "        \n",
    "        self.hidden = None\n",
    "        self.hidden_size = hidden_size\n",
    "        self.i2h = nn.Linear(input_size + hidden_size, hidden_size)\n",
    "        self.i2o = nn.Linear(input_size + hidden_size, output_size)\n",
    "        #self.softmax = nn.\n",
    "    \n",
    "    def forward(self, input, hidden):\n",
    "        combined = torch.cat([input.view(1, 1), hidden], 1)\n",
    "\n",
    "        hidden = self.i2h(combined)\n",
    "        if self.training == \"eval\":\n",
    "            print(\"yep\")\n",
    "            self.hidden = hidden\n",
    "        output = self.i2o(combined)\n",
    "        #output = self.softmax(output)\n",
    "        return output, hidden\n",
    "    \n",
    "    def initHidden(self):\n",
    "        return Variable(torch.zeros(1, self.hidden_size))\n",
    "    \n",
    "n_hidden = 32\n",
    "rnn2 = RNN2(1, n_hidden, 1)\n"
   ]
  },
  {
   "cell_type": "code",
   "execution_count": 16,
   "metadata": {},
   "outputs": [],
   "source": [
    "criterion = nn.NLLLoss(weight=torch.FloatTensor(loss_weights(20)))"
   ]
  },
  {
   "cell_type": "code",
   "execution_count": 33,
   "metadata": {},
   "outputs": [],
   "source": [
    "learning_rate = 0.0005\n",
    "optimizer = torch.optim.SGD(rnn.parameters(), lr = learning_rate)\n",
    "\n",
    "def train(category_tensor, line_tensor): \n",
    "    hidden = rnn.initHidden()\n",
    "\n",
    "    optimizer.zero_grad()\n",
    "    for i in range(line_tensor.size()[0]):\n",
    "        \n",
    "        output, hidden = rnn(line_tensor[i], hidden)\n",
    "\n",
    "    loss = criterion(output, category_tensor)\n",
    "    loss.backward()\n",
    "\n",
    "    #Add parameters' gradients to their values, multiplied by learning rate\n",
    "    optimizer.step()\n",
    "\n",
    "    return output, loss.data[0]"
   ]
  },
  {
   "cell_type": "code",
   "execution_count": 34,
   "metadata": {},
   "outputs": [],
   "source": [
    "sequence, target = generateExample()\n",
    "\n",
    "output, loss_data = train(target, sequence)"
   ]
  },
  {
   "cell_type": "code",
   "execution_count": 35,
   "metadata": {},
   "outputs": [
    {
     "data": {
      "text/plain": [
       "0.03545009344816208"
      ]
     },
     "execution_count": 35,
     "metadata": {},
     "output_type": "execute_result"
    }
   ],
   "source": [
    "loss_data"
   ]
  },
  {
   "cell_type": "code",
   "execution_count": 36,
   "metadata": {},
   "outputs": [],
   "source": [
    "import time\n",
    "import math"
   ]
  },
  {
   "cell_type": "code",
   "execution_count": 37,
   "metadata": {},
   "outputs": [],
   "source": [
    "n_iters = 100000\n",
    "print_every = 2000\n",
    "plot_every = 1000"
   ]
  },
  {
   "cell_type": "code",
   "execution_count": null,
   "metadata": {},
   "outputs": [],
   "source": [
    "# Keep track of losses for plotting\n",
    "current_loss = 0\n",
    "all_losses = []\n",
    "\n",
    "def timeSince(since):\n",
    "    now = time.time()\n",
    "    s = now - since\n",
    "    m = math.floor(s / 60)\n",
    "    s -= m * 60\n",
    "    return '%dm %ds' % (m, s)\n",
    "\n",
    "start = time.time()\n",
    "n_categories = 50\n",
    "list_guess = [0 for i in range(n_categories)]\n",
    "list_category = [0 for i in range(n_categories)]\n",
    "list_precision = [0 for i in range(n_categories)]\n",
    "list_recall = [0 for i in range(n_categories)]\n",
    "for iter in range(1, n_iters + 1):\n",
    "    line_tensor, category_tensor = generateExample2()\n",
    "    max_loss = 0\n",
    "    worst_example = None\n",
    "    output, loss = train(category_tensor, line_tensor)\n",
    "    category = category_tensor.data[0]\n",
    "    line = line_tensor.data.numpy()\n",
    "    current_loss += loss\n",
    "    guess = variableToNumber(output)\n",
    "    if loss > max_loss:\n",
    "        max_loss = loss\n",
    "        worst_example = (line_tensor.data.numpy(), guess, category)\n",
    "    list_guess[guess] += 1\n",
    "    list_category[category] += 1\n",
    "    if guess == category:\n",
    "        list_precision[guess] += 1\n",
    "        list_recall[category] += 1\n",
    "    # Print iter number, loss name and guess\n",
    "    if iter % print_every == 0:\n",
    "        correct =  '✓' if guess == category else '✗ (%s)' % category\n",
    "        print('%d %d%% (%s) %.4f %s / %s %s' % (iter, float(iter) / n_iters * 100, timeSince(start), loss, line, guess, correct))\n",
    "        for i in range(len(list_recall)):\n",
    "            if list_category[i]:\n",
    "                list_recall[i] = list_recall[i] / float(list_category[i])\n",
    "            else:\n",
    "                list_recall[i] = np.nan\n",
    "        for i in range(len(list_precision)):\n",
    "            if list_guess[i]:\n",
    "                list_precision[i] = list_precision[i] / float(list_guess[i])\n",
    "            else:\n",
    "                list_precision[i] = np.nan\n",
    "        print(list_guess)\n",
    "        print(list_precision)\n",
    "        print(list_category)\n",
    "        print(list_recall)\n",
    "        print(worst_example)\n",
    "        list_guess = [0 for i in range(n_categories)]\n",
    "        list_category = [0 for i in range(n_categories)]\n",
    "        list_precision = [0 for i in range(n_categories)]\n",
    "        list_recall = [0 for i in range(n_categories)]\n",
    "    # Add current loss avg to list of losses\n",
    "    if iter % plot_every == 0:\n",
    "        all_losses.append(current_loss / plot_every)\n",
    "        current_loss = 0\n"
   ]
  },
  {
   "cell_type": "markdown",
   "metadata": {},
   "source": [
    "# Plotting the results"
   ]
  },
  {
   "cell_type": "code",
   "execution_count": 40,
   "metadata": {},
   "outputs": [
    {
     "data": {
      "image/png": "[encoded data removed]",
      "text/plain": [
       "<matplotlib.figure.Figure at 0x7f99b9cfa750>"
      ]
     },
     "metadata": {},
     "output_type": "display_data"
    }
   ],
   "source": [
    "import matplotlib.pyplot as plt \n",
    "import matplotlib.ticker as ticker\n",
    "\n",
    "\n",
    "plt.plot(all_losses)\n",
    "plt.show()"
   ]
  },
  {
   "cell_type": "code",
   "execution_count": 31,
   "metadata": {
    "collapsed": true
   },
   "outputs": [],
   "source": [
    "def evaluate(line_tensor):\n",
    "    hidden = rnn.initHidden()\n",
    "    \n",
    "    for i in range(line_tensor.size()[0]):\n",
    "        output, hidden = rnn(line_tensor[i], hidden)\n",
    "        \n",
    "    return output"
   ]
  },
  {
   "cell_type": "code",
   "execution_count": 41,
   "metadata": {},
   "outputs": [
    {
     "name": "stdout",
     "output_type": "stream",
     "text": [
      "\n",
      "> [ 0.  0.  0.  1.  1.  0.  1.  1.  1.  0.  1.  1.  0.  1.  1.  1.  1.  0.\n",
      "  0.  1.  0.  1.  0.  0.]\n",
      "(0.52) 14\n",
      "(0.25) 13\n",
      "(0.10) 12\n",
      "\n",
      "> [ 0.  0.  0.  0.  0.  0.  0.  0.  0.  0.  0.  0.  0.  0.  0.  0.  0.  0.\n",
      "  0.  0.  0.  0.  0.  0.  0.  0.  0.  0.  0.  0.  0.  0.  0.  0.  0.  0.\n",
      "  0.  0.  0.  0.  0.  0.  0.  0.  0.  0.  0.  0.  0.  0.  0.  0.  0.  0.\n",
      "  0.  0.  0.  0.  0.  0.  0.  0.  0.  0.  0.  0.  0.  0.  0.  0.  0.  0.\n",
      "  0.  0.  0.  0.  0.  0.  0.  0.  0.  0.  0.  0.  0.  0.  0.  0.  0.  0.\n",
      "  0.  0.  0.  0.  0.  0.  0.  0.  0.  0.]\n",
      "(1.00) 0\n",
      "(0.00) 1\n",
      "(0.00) 2\n",
      "\n",
      "> [ 1.  1.  1.  1.  1.  1.  1.  1.  1.  1.  1.  1.  1.]\n",
      "(0.79) 13\n",
      "(0.10) 14\n",
      "(0.10) 12\n"
     ]
    }
   ],
   "source": [
    "def predict(input_line, n_predictions=3):\n",
    "    print('\\n> %s' % input_line.data.numpy())\n",
    "    output = evaluate(input_line)\n",
    "    \n",
    "    # Get top N categories\n",
    "    topv, topi = output.data.topk(n_predictions, 1, True)\n",
    "    predictions = []\n",
    "    \n",
    "    for i in range(n_predictions):\n",
    "        value = math.exp(topv[0][i])\n",
    "        category_index = topi[0][i]\n",
    "        print('(%.2f) %s' % (value, category_index))\n",
    "        predictions.append([value, category_index])\n",
    "    \n",
    "predict(Variable(torch.FloatTensor([0, 0,0, 1,1,  0, 1, 1, 1, 0, 1, 1, 0, 1, 1 ,  1, 1, 0, 0, 1, 0, 1,0, 0])))\n",
    "predict(Variable(torch.FloatTensor([0 for i in range(100)])))\n",
    "predict(Variable(torch.FloatTensor([1 for i in range(13)])))"
   ]
  },
  {
   "cell_type": "code",
   "execution_count": null,
   "metadata": {},
   "outputs": [],
   "source": [
    "list(rnn.children())[0].weight.data.numpy()"
   ]
  },
  {
   "cell_type": "code",
   "execution_count": 1,
   "metadata": {
    "collapsed": true
   },
   "outputs": [],
   "source": [
    "def train(input_line_tensor, target_line_tensor):\n",
    "    hidden = rnn.initHidden()\n",
    "    optimizer.zero_grad()\n",
    "\n",
    "    loss = 0\n",
    "\n",
    "    for i in range(input_line_tensor.size()[0]):\n",
    "        output, hidden = rnn(input_line_tensor[i], hidden)\n",
    "\n",
    "        loss += criterion(output, target_line_tensor[i])\n",
    "\n",
    "            \n",
    "\n",
    "    loss.backward()\n",
    "    optimizer.step()\n",
    "\n",
    "\n",
    "    return output, loss.data[0] / input_line_tensor.size()[0]"
   ]
  },
  {
   "cell_type": "code",
   "execution_count": 122,
   "metadata": {},
   "outputs": [
    {
     "data": {
      "text/plain": [
       "(Variable containing:\n",
       "  0\n",
       "  1\n",
       "  0\n",
       "  1\n",
       "  1\n",
       " [torch.FloatTensor of size 5],\n",
       " [[0.51439959, 0.34910899, 0.46802357, 0.43828213, 0.69733369],\n",
       "  [0.72301918, 0.6165787, 0.69856465, 0.71001267, 0.82991183],\n",
       "  [0.65378559, 0.89559823, 0.91417611, 0.95468724, 0.95147717],\n",
       "  [0.51479614, 0.19754966, 0.25212124, 0.18745415, 0.2833752],\n",
       "  [0.66619927, 0.76935124, 0.86564255, 0.88173443, 0.91953599]])"
      ]
     },
     "execution_count": 122,
     "metadata": {},
     "output_type": "execute_result"
    }
   ],
   "source": [
    "## WARNING : may not work for multiple layers\n",
    "def visualize(rnn, input_tensor, neurons):\n",
    "    hidden = rnn.initHidden()\n",
    "    activation_list = [[] for i in range(len(neurons))]\n",
    "    for i in range(input_tensor.size()[0]):\n",
    "        former_hidden = hidden\n",
    "        output, hidden = rnn(input_tensor[i], hidden)\n",
    "        for i, neuron in enumerate(neurons): \n",
    "\n",
    "            W_igate = rnn.lstm.weight_ih_l0\n",
    "            W_hgate = rnn.lstm.weight_hh_l0\n",
    "            b_igate = rnn.lstm.bias_ih_l0\n",
    "            b_hgate = rnn.lstm.bias_hh_l0 \n",
    "\n",
    "            input_part = torch.mm(W_igate, input_tensor[i].view(-1, 1)) + b_igate\n",
    "            hidden_part = Variable(torch.from_numpy(np.dot(W_hgate.data.numpy(), former_hidden[0].data.view(-1, 1).numpy())))\n",
    "            activation = F.sigmoid(input_part + hidden_part)[neuron[\"index\"]]\n",
    "            activation_list[i].append(activation.data.numpy()[0])\n",
    "    return input_tensor, activation_list\n",
    "            \n",
    "    \n",
    "\n",
    "neurons = [{\"gate\":0, \"layer\":1, \"index\":6}, {\"gate\":1, \"layer\":1, \"index\":19}, {\"gate\":0, \"layer\":1, \"index\":87}, {\"gate\":0, \"layer\":1, \"index\":9}, {\"gate\":0, \"layer\":1, \"index\":7}]\n",
    "visualize(rnn, Variable(torch.FloatTensor([0, 1,0, 1,1])), neurons)"
   ]
  },
  {
   "cell_type": "code",
   "execution_count": 170,
   "metadata": {},
   "outputs": [
    {
     "name": "stdout",
     "output_type": "stream",
     "text": [
      "Populating the interactive namespace from numpy and matplotlib\n"
     ]
    }
   ],
   "source": [
    "%pylab inline"
   ]
  },
  {
   "cell_type": "code",
   "execution_count": 233,
   "metadata": {
    "scrolled": true
   },
   "outputs": [
    {
     "name": "stdout",
     "output_type": "stream",
     "text": [
      "Ceci_n'est_pas_un_texte\n"
     ]
    },
    {
     "data": {
      "image/png": "[encoded data removed]",
      "text/plain": [
       "<matplotlib.figure.Figure at 0x7f99b8b7b890>"
      ]
     },
     "metadata": {},
     "output_type": "display_data"
    }
   ],
   "source": [
    "import matplotlib.pyplot as plt\n",
    "from matplotlib import cm\n",
    "\n",
    "def show_space(text):\n",
    "    new_text = \"\"\n",
    "    for letter in text:\n",
    "        if letter == \" \":\n",
    "            new_text += \"_\"\n",
    "        else:\n",
    "            new_text += letter\n",
    "    return new_text\n",
    "\n",
    "def text_color_map(text, value_list):\n",
    "    x_scale = 12\n",
    "    y_scale = 10\n",
    "    plt.figure(figsize=(x_scale, y_scale))\n",
    "    plt.axis(\"off\")\n",
    "    letter_size = 20\n",
    "    reset_corrector = 0\n",
    "    for i in range(200):\n",
    "        letter = text[i]\n",
    "        value = value_list[i]\n",
    "        x_pos = (i - reset_corrector)  * 1E-2 *  letter_size / x_scale\n",
    "        y_pos = 0\n",
    "        if x_pos + letter_size / x_scale < x_scale:\n",
    "            plt.text(x_pos , y_pos, letter, size = letter_size, color = cm.cool(value))\n",
    "        else:\n",
    "            reset_corrector = i\n",
    "            x_pos = 0\n",
    "            y_pos = 0\n",
    "            plt.text(x_pos , y_pos, letter, size = letter_size, color = cm.cool(value))\n",
    "    \n",
    "print(show_space(\"Ceci n'est pas un texte\"))\n",
    "text_color_map(show_space(\"Ceci n'est pas un texte hdjjsd jdhjqdh jdh jqsd qjdh jsdh jdh qsjdh dh jdhqs fhsdfhjfsdj sdjf jfj sfhsdj fhjksdfh s hdshf hdf sdfjh sjdf jqjdfhjfdh jdshfjfh ddjjsdhjkdfsdjfkfj ksdfj kfjk dfkdfk kfsd fh\"), [100 * i for i in range(1000)])"
   ]
  },
  {
   "cell_type": "code",
   "execution_count": 190,
   "metadata": {},
   "outputs": [
    {
     "data": {
      "text/plain": [
       "<matplotlib.text.Text at 0x7f99b96ab8d0>"
      ]
     },
     "execution_count": 190,
     "metadata": {},
     "output_type": "execute_result"
    },
    {
     "data": {
      "image/png": "[encoded data removed]",
      "text/plain": [
       "<matplotlib.figure.Figure at 0x7f99b9310950>"
      ]
     },
     "metadata": {},
     "output_type": "display_data"
    }
   ],
   "source": [
    "plt.text(0, 0, \"LOL\", size = 100)\n",
    "plt.text(1, 0, \"LOL\", size = 100)\n",
    "plt.text(2, 0, \"LOL\", size = 100)"
   ]
  },
  {
   "cell_type": "code",
   "execution_count": 198,
   "metadata": {},
   "outputs": [
    {
     "data": {
      "image/png": "[encoded data removed]",
      "text/plain": [
       "<matplotlib.figure.Figure at 0x7f99b9c16910>"
      ]
     },
     "metadata": {},
     "output_type": "display_data"
    }
   ],
   "source": [
    "text = \"LOL\"\n",
    "for i in range(3):\n",
    "    letter\n",
    "    plt.text(i, 0, text[i], size = 100, color = cm.cool(i *100))"
   ]
  },
  {
   "cell_type": "code",
   "execution_count": null,
   "metadata": {
    "collapsed": true
   },
   "outputs": [],
   "source": []
  }
 ],
 "metadata": {
  "kernelspec": {
   "display_name": "Python 2",
   "language": "python",
   "name": "python2"
  },
  "language_info": {
   "codemirror_mode": {
    "name": "ipython",
    "version": 2
   },
   "file_extension": ".py",
   "mimetype": "text/x-python",
   "name": "python",
   "nbconvert_exporter": "python",
   "pygments_lexer": "ipython2",
   "version": "2.7.14"
  }
 },
 "nbformat": 4,
 "nbformat_minor": 1
}
