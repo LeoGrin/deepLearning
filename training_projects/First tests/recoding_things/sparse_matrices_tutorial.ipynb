{
 "cells": [
  {
   "cell_type": "code",
   "execution_count": 1,
   "metadata": {
    "collapsed": false
   },
   "outputs": [
    {
     "name": "stdout",
     "output_type": "stream",
     "text": [
      "Populating the interactive namespace from numpy and matplotlib\n"
     ]
    }
   ],
   "source": [
    "%pylab inline"
   ]
  },
  {
   "cell_type": "code",
   "execution_count": 2,
   "metadata": {
    "collapsed": true
   },
   "outputs": [],
   "source": [
    "import matplotlib.pyplot as plt"
   ]
  },
  {
   "cell_type": "code",
   "execution_count": 3,
   "metadata": {
    "collapsed": true
   },
   "outputs": [],
   "source": [
    "import numpy as np\n",
    "import pandas as pd\n",
    "import networkx as nx"
   ]
  },
  {
   "cell_type": "code",
   "execution_count": 35,
   "metadata": {
    "collapsed": true
   },
   "outputs": [],
   "source": [
    "from collections import defaultdict"
   ]
  },
  {
   "cell_type": "markdown",
   "metadata": {},
   "source": [
    "# Load the datasets"
   ]
  },
  {
   "cell_type": "code",
   "execution_count": 4,
   "metadata": {
    "collapsed": false
   },
   "outputs": [],
   "source": [
    "df_nodes = pd.read_csv(\"datasets/en-wikipedia.humans.ungraph.names.txt\", comment=\"#\", delimiter=\"\\t\", names=[\"id\", \"name\"])"
   ]
  },
  {
   "cell_type": "code",
   "execution_count": 5,
   "metadata": {
    "collapsed": true
   },
   "outputs": [],
   "source": [
    "df_edges = pd.read_csv(\"datasets/en-wikipedia.humans.ungraph.txt\", comment=\"#\", delimiter=\"\\t\", names=[\"id\", \"src\", \"dst\"])"
   ]
  },
  {
   "cell_type": "code",
   "execution_count": 6,
   "metadata": {
    "collapsed": false
   },
   "outputs": [],
   "source": [
    "df_features = pd.read_csv(\"datasets/en-wikipedia.humans.ungraph.features.txt\", comment=\"#\", delimiter=\"\\t\", names=[\"id\", \"features\"])\n",
    "\n",
    "df_features[\"features\"] = df_features.features.str.split(\" \")"
   ]
  },
  {
   "cell_type": "code",
   "execution_count": 7,
   "metadata": {
    "collapsed": false
   },
   "outputs": [
    {
     "data": {
      "text/html": [
       "<div>\n",
       "<style>\n",
       "    .dataframe thead tr:only-child th {\n",
       "        text-align: right;\n",
       "    }\n",
       "\n",
       "    .dataframe thead th {\n",
       "        text-align: left;\n",
       "    }\n",
       "\n",
       "    .dataframe tbody tr th {\n",
       "        vertical-align: top;\n",
       "    }\n",
       "</style>\n",
       "<table border=\"1\" class=\"dataframe\">\n",
       "  <thead>\n",
       "    <tr style=\"text-align: right;\">\n",
       "      <th></th>\n",
       "      <th>id</th>\n",
       "      <th>name</th>\n",
       "    </tr>\n",
       "  </thead>\n",
       "  <tbody>\n",
       "    <tr>\n",
       "      <th>0</th>\n",
       "      <td>0</td>\n",
       "      <td>United States</td>\n",
       "    </tr>\n",
       "    <tr>\n",
       "      <th>1</th>\n",
       "      <td>1</td>\n",
       "      <td>Association football</td>\n",
       "    </tr>\n",
       "    <tr>\n",
       "      <th>2</th>\n",
       "      <td>2</td>\n",
       "      <td>England</td>\n",
       "    </tr>\n",
       "    <tr>\n",
       "      <th>3</th>\n",
       "      <td>3</td>\n",
       "      <td>Germany</td>\n",
       "    </tr>\n",
       "    <tr>\n",
       "      <th>4</th>\n",
       "      <td>4</td>\n",
       "      <td>World War II</td>\n",
       "    </tr>\n",
       "  </tbody>\n",
       "</table>\n",
       "</div>"
      ],
      "text/plain": [
       "   id                  name\n",
       "0   0         United States\n",
       "1   1  Association football\n",
       "2   2               England\n",
       "3   3               Germany\n",
       "4   4          World War II"
      ]
     },
     "execution_count": 7,
     "metadata": {},
     "output_type": "execute_result"
    }
   ],
   "source": [
    "df_features_names = pd.read_csv(\"datasets/en-wikipedia.humans.ungraph.features.names.txt\", comment=\"#\", delimiter=\"\\t\", names=[\"id\", \"name\"])\n",
    "df_features_names.head()"
   ]
  },
  {
   "cell_type": "code",
   "execution_count": 8,
   "metadata": {
    "collapsed": true
   },
   "outputs": [],
   "source": [
    "df_lists_names = pd.read_csv(\"datasets/en-wikipedia.humans.lists.names\", comment=\"#\", delimiter=\"\\t\", names=[\"id\", \"name\", \"human_proportion\"])"
   ]
  },
  {
   "cell_type": "code",
   "execution_count": 9,
   "metadata": {
    "collapsed": true
   },
   "outputs": [],
   "source": [
    "df_lists = pd.read_csv(\"datasets/en-wikipedia.humans.lists\", comment=\"#\", delimiter=\"\\t\", names=[\"id\", \"list\"])"
   ]
  },
  {
   "cell_type": "code",
   "execution_count": 10,
   "metadata": {
    "collapsed": true
   },
   "outputs": [],
   "source": [
    "list_presidents_id = map(int, df_lists.iloc[10662][\"list\"].split())"
   ]
  },
  {
   "cell_type": "code",
   "execution_count": 11,
   "metadata": {
    "collapsed": false
   },
   "outputs": [],
   "source": [
    "list_presidents_vect = df_features[df_features[\"id\"].isin(list_presidents_id)]\n",
    "list_losers_vect = df_features[~df_features[\"id\"].isin(list_presidents_id)]"
   ]
  },
  {
   "cell_type": "code",
   "execution_count": 12,
   "metadata": {
    "collapsed": true
   },
   "outputs": [],
   "source": [
    "import networkx as nx"
   ]
  },
  {
   "cell_type": "code",
   "execution_count": 13,
   "metadata": {
    "collapsed": false
   },
   "outputs": [],
   "source": [
    "list_presidents_id = map(str, list_presidents_id)"
   ]
  },
  {
   "cell_type": "code",
   "execution_count": 14,
   "metadata": {
    "collapsed": false
   },
   "outputs": [],
   "source": [
    "graph = nx.read_edgelist(\"datasets/en-wikipedia.humans.ungraph.txt\", comments=\"#\", delimiter=\"\\t\")\n"
   ]
  },
  {
   "cell_type": "code",
   "execution_count": 15,
   "metadata": {
    "collapsed": true
   },
   "outputs": [],
   "source": [
    "csr_graph = nx.adj_matrix(graph)"
   ]
  },
  {
   "cell_type": "code",
   "execution_count": 16,
   "metadata": {
    "collapsed": false
   },
   "outputs": [
    {
     "data": {
      "text/plain": [
       "scipy.sparse.csr.csr_matrix"
      ]
     },
     "execution_count": 16,
     "metadata": {},
     "output_type": "execute_result"
    }
   ],
   "source": [
    "type(csr_graph)"
   ]
  },
  {
   "cell_type": "code",
   "execution_count": 17,
   "metadata": {
    "collapsed": false
   },
   "outputs": [
    {
     "data": {
      "text/plain": [
       "(731293, 731293)"
      ]
     },
     "execution_count": 17,
     "metadata": {},
     "output_type": "execute_result"
    }
   ],
   "source": [
    "csr_graph.shape"
   ]
  },
  {
   "cell_type": "code",
   "execution_count": 18,
   "metadata": {
    "collapsed": true
   },
   "outputs": [],
   "source": [
    "n_nodes = csr_graph.shape[0]"
   ]
  },
  {
   "cell_type": "code",
   "execution_count": 19,
   "metadata": {
    "collapsed": false
   },
   "outputs": [],
   "source": [
    "nodename2nodeid = {node: i for i, node in enumerate(graph.nodes())}"
   ]
  },
  {
   "cell_type": "code",
   "execution_count": 20,
   "metadata": {
    "collapsed": false
   },
   "outputs": [
    {
     "name": "stdout",
     "output_type": "stream",
     "text": [
      "           id          name\n",
      "52338  238779  Bill Clinton\n",
      "            id             name\n",
      "202217  848214  Abraham Lincoln\n"
     ]
    }
   ],
   "source": [
    "print df_nodes[df_nodes[\"name\"]==\"Bill Clinton\"]\n",
    "print df_nodes[df_nodes[\"name\"]==\"Abraham Lincoln\"]"
   ]
  },
  {
   "cell_type": "code",
   "execution_count": 80,
   "metadata": {
    "collapsed": false
   },
   "outputs": [],
   "source": [
    "seed_set = set([\"238779\", \"848214\"])\n",
    "seed_set = set([id for id in list_presidents_id[: len(list_presidents_id)/ 2]])"
   ]
  },
  {
   "cell_type": "code",
   "execution_count": 81,
   "metadata": {
    "collapsed": false
   },
   "outputs": [],
   "source": [
    "n_iter = 10\n",
    "alpha = 0.85\n",
    "threshold = 1e-6\n",
    "\n",
    "ppr = {node: 1. / float(len(seed_set)) for node in seed_set}\n",
    "for i in range(n_iter):\n",
    "    new_ppr = defaultdict(float)\n",
    "    for node in ppr:\n",
    "        new_ppr[node] += (1. - alpha) * ppr[node]\n",
    "        node_degree = graph.degree(node)\n",
    "        for neighbor in graph.neighbors(node):\n",
    "            new_ppr[neighbor] += (1. / float(node_degree)) * ppr[node]\n",
    "    ppr = dict()\n",
    "    for node in new_ppr:\n",
    "        if new_ppr[node] > threshold:\n",
    "            ppr[node] = new_ppr[node]"
   ]
  },
  {
   "cell_type": "code",
   "execution_count": null,
   "metadata": {
    "collapsed": true
   },
   "outputs": [],
   "source": []
  },
  {
   "cell_type": "code",
   "execution_count": 87,
   "metadata": {
    "collapsed": false
   },
   "outputs": [
    {
     "name": "stdout",
     "output_type": "stream",
     "text": [
      "[u'238701', u'848214', u'238779', u'239617', u'238700', u'239609', u'277299', u'281645', u'239610', u'241453']\n",
      "44\n",
      "52301    George W. Bush\n",
      "Name: name, dtype: object\n",
      "202217    Abraham Lincoln\n",
      "Name: name, dtype: object\n",
      "52338    Bill Clinton\n",
      "Name: name, dtype: object\n",
      "52857    Ronald Reagan\n",
      "Name: name, dtype: object\n",
      "52300    Barack Obama\n",
      "Name: name, dtype: object\n",
      "52849    Richard Nixon\n",
      "Name: name, dtype: object\n",
      "64711    Franklin D. Roosevelt\n",
      "Name: name, dtype: object\n",
      "67698    Andrew Jackson\n",
      "Name: name, dtype: object\n",
      "52850    Lyndon B. Johnson\n",
      "Name: name, dtype: object\n",
      "53486    Dwight D. Eisenhower\n",
      "Name: name, dtype: object\n",
      "52852    John F. Kennedy\n",
      "Name: name, dtype: object\n",
      "201438    Ulysses S. Grant\n",
      "Name: name, dtype: object\n",
      "52855    Jimmy Carter\n",
      "Name: name, dtype: object\n",
      "52856    George H. W. Bush\n",
      "Name: name, dtype: object\n",
      "983357    George Washington\n",
      "Name: name, dtype: object\n",
      "52916    Harry S. Truman\n",
      "Name: name, dtype: object\n",
      "71596    Thomas Jefferson\n",
      "Name: name, dtype: object\n",
      "201442    David J. Eicher\n",
      "Name: name, dtype: object\n",
      "70285    Andrew Johnson\n",
      "Name: name, dtype: object\n",
      "67719    Theodore Roosevelt\n",
      "Name: name, dtype: object\n"
     ]
    }
   ],
   "source": [
    "sorted_ppr = sorted(ppr, key=ppr.get, reverse=True)\n",
    "print(sorted_ppr[:10])\n",
    "print(len(np.intersect1d(list_presidents_id, sorted_ppr[:63])))\n",
    "for i in range(20):\n",
    "    print(df_nodes[df_nodes[\"id\"]==int(sorted_ppr[i])][\"name\"])\n",
    "    \n"
   ]
  },
  {
   "cell_type": "code",
   "execution_count": 91,
   "metadata": {
    "collapsed": false
   },
   "outputs": [
    {
     "data": {
      "text/plain": [
       "array([False, False, False, False], dtype=bool)"
      ]
     },
     "execution_count": 91,
     "metadata": {},
     "output_type": "execute_result"
    }
   ],
   "source": [
    "a = [1, 2, 3]\n",
    "b = [\"1\", \"2\", \"3\", \"4\"]\n",
    "np.isin(b, a)"
   ]
  },
  {
   "cell_type": "code",
   "execution_count": 92,
   "metadata": {
    "collapsed": true
   },
   "outputs": [],
   "source": [
    "a= np.array([1, 2, 3, 4])"
   ]
  },
  {
   "cell_type": "code",
   "execution_count": 94,
   "metadata": {
    "collapsed": false
   },
   "outputs": [
    {
     "data": {
      "text/plain": [
       "array([2, 4])"
      ]
     },
     "execution_count": 94,
     "metadata": {},
     "output_type": "execute_result"
    }
   ],
   "source": [
    "mask = np.array([1, 3])\n",
    "a[mask]"
   ]
  },
  {
   "cell_type": "code",
   "execution_count": null,
   "metadata": {
    "collapsed": true
   },
   "outputs": [],
   "source": []
  }
 ],
 "metadata": {
  "kernelspec": {
   "display_name": "Python 2",
   "language": "python",
   "name": "python2"
  },
  "language_info": {
   "codemirror_mode": {
    "name": "ipython",
    "version": 2
   },
   "file_extension": ".py",
   "mimetype": "text/x-python",
   "name": "python",
   "nbconvert_exporter": "python",
   "pygments_lexer": "ipython2",
   "version": "2.7.9"
  }
 },
 "nbformat": 4,
 "nbformat_minor": 1
}
