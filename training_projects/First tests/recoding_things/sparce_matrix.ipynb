{
 "cells": [
  {
   "cell_type": "code",
   "execution_count": 2,
   "metadata": {
    "collapsed": true
   },
   "outputs": [],
   "source": [
    "import scipy\n",
    "import numpy as np"
   ]
  },
  {
   "cell_type": "code",
   "execution_count": 41,
   "metadata": {
    "collapsed": false
   },
   "outputs": [],
   "source": [
    "def code_CSR(matrix):\n",
    "    data = list()\n",
    "    indices = list()\n",
    "    indptr = np.zeros(matrix.shape[0] + 1).astype(int)\n",
    "    nb_non_null = 0\n",
    "    for i in range(matrix.shape[0]):\n",
    "        for j in range(matrix.shape[1]):\n",
    "            if matrix[i, j] != 0:\n",
    "                data.append(matrix[i, j])\n",
    "                indices.append(j)\n",
    "                nb_non_null += 1\n",
    "        indptr[i + 1] = nb_non_null\n",
    "    \n",
    "    return data, indices, indptr"
   ]
  },
  {
   "cell_type": "code",
   "execution_count": 78,
   "metadata": {
    "collapsed": false
   },
   "outputs": [],
   "source": [
    "def sparce_matrix_vector_multiplication(sparse_matrix_CSR, vector):\n",
    "    NNdata, NNindices, indptr = sparse_matrix_CSR\n",
    "    res = np.zeros(len(indptr) - 1)\n",
    "    for i in range(len(indptr) - 1):\n",
    "        res[i] = sum(vector[NNindices[k]] * NNdata[k] for k in range(indptr[i], indptr[i + 1]))\n",
    "    return res"
   ]
  },
  {
   "cell_type": "code",
   "execution_count": 69,
   "metadata": {
    "collapsed": true
   },
   "outputs": [],
   "source": [
    "matrix = np.matrix(\"0 0 1 0 2;0 2 3 0 0;0 0 0 0 4;0 0 1 0 0\")\n",
    "vector = np.array([1, 2, 3, 0, 2])"
   ]
  },
  {
   "cell_type": "code",
   "execution_count": 70,
   "metadata": {
    "collapsed": false
   },
   "outputs": [
    {
     "name": "stdout",
     "output_type": "stream",
     "text": [
      "([1, 2, 2, 3, 4, 1], [2, 4, 1, 2, 4, 2], array([0, 2, 4, 5, 6]))\n",
      "[2, 4]\n",
      "[1, 2]\n",
      "[1, 2]\n",
      "[2, 3]\n",
      "[4]\n",
      "[4]\n",
      "[2]\n",
      "[1]\n"
     ]
    },
    {
     "data": {
      "text/plain": [
       "array([  7.,  13.,   8.,   3.])"
      ]
     },
     "execution_count": 70,
     "metadata": {},
     "output_type": "execute_result"
    }
   ],
   "source": [
    "sparce_matrix_vector_multiplication(code_CSR(matrix), vector)"
   ]
  },
  {
   "cell_type": "code",
   "execution_count": 52,
   "metadata": {
    "collapsed": false
   },
   "outputs": [
    {
     "data": {
      "text/plain": [
       "matrix([[ 7, 13,  8,  3]])"
      ]
     },
     "execution_count": 52,
     "metadata": {},
     "output_type": "execute_result"
    }
   ],
   "source": [
    "scipy.dot(matrix, vector)"
   ]
  },
  {
   "cell_type": "code",
   "execution_count": 92,
   "metadata": {
    "collapsed": false
   },
   "outputs": [
    {
     "name": "stdout",
     "output_type": "stream",
     "text": [
      "CPU times: user 0 ns, sys: 0 ns, total: 0 ns\n",
      "Wall time: 52 µs\n"
     ]
    },
    {
     "data": {
      "text/plain": [
       "matrix([[ 7, 13,  8,  3]])"
      ]
     },
     "execution_count": 92,
     "metadata": {},
     "output_type": "execute_result"
    }
   ],
   "source": [
    "%%time\n",
    "scipy.dot(matrix, vector)"
   ]
  },
  {
   "cell_type": "code",
   "execution_count": 73,
   "metadata": {
    "collapsed": true
   },
   "outputs": [],
   "source": [
    "matrix_CSR = code_CSR(matrix)"
   ]
  },
  {
   "cell_type": "code",
   "execution_count": 85,
   "metadata": {
    "collapsed": false
   },
   "outputs": [
    {
     "name": "stdout",
     "output_type": "stream",
     "text": [
      "CPU times: user 0 ns, sys: 0 ns, total: 0 ns\n",
      "Wall time: 67 µs\n"
     ]
    },
    {
     "data": {
      "text/plain": [
       "array([  7.,  13.,   8.,   3.])"
      ]
     },
     "execution_count": 85,
     "metadata": {},
     "output_type": "execute_result"
    }
   ],
   "source": [
    "%%time\n",
    "sparce_matrix_vector_multiplication(matrix_CSR, vector)"
   ]
  },
  {
   "cell_type": "code",
   "execution_count": 94,
   "metadata": {
    "collapsed": false
   },
   "outputs": [],
   "source": [
    "import scipy.sparse"
   ]
  },
  {
   "cell_type": "code",
   "execution_count": 95,
   "metadata": {
    "collapsed": true
   },
   "outputs": [],
   "source": [
    "sparse_matrix = scipy.sparse.csr_matrix(matrix)"
   ]
  },
  {
   "cell_type": "code",
   "execution_count": null,
   "metadata": {
    "collapsed": true
   },
   "outputs": [],
   "source": [
    "%%time\n",
    "scipy.dot()"
   ]
  }
 ],
 "metadata": {
  "kernelspec": {
   "display_name": "Python 2",
   "language": "python",
   "name": "python2"
  },
  "language_info": {
   "codemirror_mode": {
    "name": "ipython",
    "version": 2
   },
   "file_extension": ".py",
   "mimetype": "text/x-python",
   "name": "python",
   "nbconvert_exporter": "python",
   "pygments_lexer": "ipython2",
   "version": "2.7.9"
  }
 },
 "nbformat": 4,
 "nbformat_minor": 1
}
