{
 "cells": [
  {
   "cell_type": "code",
   "execution_count": 1,
   "metadata": {
    "collapsed": true
   },
   "outputs": [],
   "source": [
    "import pandas as pd\n",
    "import networkx as nx\n",
    "import numpy as np\n",
    "import torch\n",
    "import torch.nn as nn\n",
    "from torch.autograd import Variable\n",
    "import time"
   ]
  },
  {
   "cell_type": "markdown",
   "metadata": {},
   "source": [
    "# Import the graph"
   ]
  },
  {
   "cell_type": "code",
   "execution_count": 2,
   "metadata": {
    "collapsed": true
   },
   "outputs": [],
   "source": [
    "graph = nx.read_graphml(\"LesMiserablesGraph.graphml\")"
   ]
  },
  {
   "cell_type": "code",
   "execution_count": 3,
   "metadata": {},
   "outputs": [
    {
     "name": "stdout",
     "output_type": "stream",
     "text": [
      "Name: \n",
      "Type: Graph\n",
      "Number of nodes: 77\n",
      "Number of edges: 254\n",
      "Average degree:   6.5974\n"
     ]
    }
   ],
   "source": [
    "print(nx.info(graph))"
   ]
  },
  {
   "cell_type": "markdown",
   "metadata": {},
   "source": [
    "# Or create toy graphs"
   ]
  },
  {
   "cell_type": "code",
   "execution_count": 4,
   "metadata": {},
   "outputs": [
    {
     "name": "stdout",
     "output_type": "stream",
     "text": [
      "Populating the interactive namespace from numpy and matplotlib\n"
     ]
    }
   ],
   "source": [
    "%pylab inline"
   ]
  },
  {
   "cell_type": "code",
   "execution_count": 5,
   "metadata": {
    "collapsed": true
   },
   "outputs": [],
   "source": [
    "import matplotlib.pyplot as plt"
   ]
  },
  {
   "cell_type": "code",
   "execution_count": 6,
   "metadata": {},
   "outputs": [],
   "source": [
    "def cliques(nb_cliques, clique_size, nb_links_btw_cliques=None):\n",
    "    graph = nx.caveman_graph(nb_cliques, clique_size)\n",
    "    cliques_list = [[i for i in range(a * clique_size, (a + 1) *  clique_size)] for a in range(nb_cliques)]\n",
    "    for i in range(len(cliques_list) - 1):\n",
    "        graph.add_edge(cliques_list[i][0], cliques_list[i + 1][0])\n",
    "    if cliques_list[-1][0] not in list(nx.all_neighbors(graph, cliques_list[0][0])):\n",
    "        graph.add_edge(cliques_list[-1][0], cliques_list[0][0])\n",
    "\n",
    "    return graph\n",
    "\n",
    "toy_graph = cliques(4, 10, None)"
   ]
  },
  {
   "cell_type": "code",
   "execution_count": 7,
   "metadata": {},
   "outputs": [],
   "source": [
    "nx.write_graphml(toy_graph, \"toy.graphml\")"
   ]
  },
  {
   "cell_type": "code",
   "execution_count": 7,
   "metadata": {},
   "outputs": [
    {
     "name": "stdout",
     "output_type": "stream",
     "text": [
      "Name: \n",
      "Type: Graph\n",
      "Number of nodes: 40\n",
      "Number of edges: 184\n",
      "Average degree:   9.2000\n"
     ]
    }
   ],
   "source": [
    "print(nx.info(toy_graph))"
   ]
  },
  {
   "cell_type": "markdown",
   "metadata": {},
   "source": [
    "# Create sequences of random walks for our RNN"
   ]
  },
  {
   "cell_type": "code",
   "execution_count": 8,
   "metadata": {},
   "outputs": [],
   "source": [
    "def random_walk(graph, p_stop=0.1, choose_stop = False, max_length=30):\n",
    "    nodes = list(graph.nodes)\n",
    "    edges = np.array(list(graph.edges))\n",
    "    start_node = np.random.choice(nodes, 1)[0]\n",
    "    walk_sequence = list()\n",
    "    current_node = start_node\n",
    "    max_length = np.random.randint(max_length / 2, max_length * 2)\n",
    "    i = 0\n",
    "    while True:\n",
    "        #print(graph.node[current_node][\"label\"])\n",
    "        walk_sequence.append(current_node)\n",
    "        if choose_stop:\n",
    "            if np.random.random() < p_stop:\n",
    "                return walk_sequence\n",
    "        \n",
    "        neighbors = np.unique(np.concatenate((edges[edges[:, 0] == current_node][:, 1], edges[edges[:, 1] == current_node][:, 0])))\n",
    "        current_node = np.random.choice(neighbors, 1)[0]\n",
    "        i+=1\n",
    "        if not choose_stop and i > max_length:\n",
    "            break\n",
    "    return walk_sequence\n",
    "        \n",
    "       \n",
    "    \n",
    "#random_walk(toy_graph);"
   ]
  },
  {
   "cell_type": "code",
   "execution_count": 9,
   "metadata": {},
   "outputs": [],
   "source": [
    "# index (nb_nodes) --> start   index(nb_nodes + 1) --> end\n",
    "\n",
    "def walk2input(walk_sequence, graph):\n",
    "    nb_nodes = len(list(graph.nodes))\n",
    "    walk_vec = torch.zeros(len(walk_sequence) + 1, 1, nb_nodes + 2)\n",
    "    for i, node in enumerate(walk_sequence):\n",
    "        walk_vec[i + 1][0][int(node)] = 1\n",
    "    walk_vec[0][0][-2] = 1\n",
    "    \n",
    "    return Variable(walk_vec).float()\n",
    "\n",
    "def walk2target(walk_sequence, graph):\n",
    "    nb_nodes = len(list(graph.nodes))\n",
    "    target_list = map(int, walk_sequence)\n",
    "    target_list.append(nb_nodes + 1)\n",
    "    return Variable(torch.LongTensor(target_list))\n",
    "\n",
    "def train_vecs(graph):\n",
    "    walk_sequence = random_walk(graph)\n",
    "    return walk2input(walk_sequence, graph), walk2target(walk_sequence, graph)\n",
    "    \n",
    "walk_sequence = random_walk(toy_graph)\n",
    "#print(walk_sequence)\n",
    "#print(walk2input(walk_sequence, graph))\n",
    "#print(walk2target(walk_sequence, graph))\n",
    "#train_vecs(toy_graph)"
   ]
  },
  {
   "cell_type": "code",
   "execution_count": 10,
   "metadata": {},
   "outputs": [],
   "source": [
    "def neighbors(node, graph):\n",
    "    edges = np.array(list(graph.edges))\n",
    "    return np.unique(np.concatenate((edges[edges[:, 0] == node][:, 1], edges[edges[:, 1] == node][:, 0])))"
   ]
  },
  {
   "cell_type": "markdown",
   "metadata": {},
   "source": [
    "# Put these sequences in a RNN"
   ]
  },
  {
   "cell_type": "code",
   "execution_count": 11,
   "metadata": {},
   "outputs": [],
   "source": [
    "import torch\n",
    "import torch.nn as nn\n",
    "from torch.autograd import Variable\n",
    "import torch.nn.functional as F\n",
    "\n",
    "class RNN(nn.Module):\n",
    "    def __init__(self, input_size, hidden_size, output_size):\n",
    "        super(RNN, self).__init__()\n",
    "        print(input_size, hidden_size)\n",
    "        self.hidden_size = hidden_size\n",
    "\n",
    "        self.lstm = nn.LSTM(input_size, hidden_size)\n",
    "        self.lin = nn.Linear(hidden_size, output_size)\n",
    "        #self.i2o = nn.Linear(n_categories + input_size + hidden_size, output_size)\n",
    "        #self.o2o = nn.Linear(hidden_size + output_size, output_size)\n",
    "        self.softmax = nn.LogSoftmax()\n",
    "\n",
    "    def forward(self, input, hidden):\n",
    "        #hidden = self.i2h(input_combined)\n",
    "        #output = self.i2o(input_combined)\n",
    "        #output_combined = torch.cat((hidden, output), 1)\n",
    "        output, hidden = self.lstm(input.view(len(input), 1, -1), hidden)\n",
    "        output = F.dropout(self.lin(output.view(1, -1)), 0.1,  training = self.training)\n",
    "        output = self.softmax(output)\n",
    "        return output, hidden\n",
    "\n",
    "    def initHidden(self):\n",
    "        # Before we've done anything, we dont have any hidden state.\n",
    "        # Refer to the Pytorch documentation to see exactly\n",
    "        # why they have this dimensionality.\n",
    "        # The axes semantics are (num_layers, minibatch_size, hidden_dim)\n",
    "        return (Variable(torch.zeros(1, 1, self.hidden_size)),\n",
    "                Variable(torch.zeros(1, 1, self.hidden_size)))"
   ]
  },
  {
   "cell_type": "code",
   "execution_count": 12,
   "metadata": {},
   "outputs": [
    {
     "name": "stdout",
     "output_type": "stream",
     "text": [
      "77\n",
      "(79, 100)\n"
     ]
    }
   ],
   "source": [
    "n_nodes = len(list(graph.nodes))\n",
    "print(n_nodes)\n",
    "hidden_size = 100\n",
    "rnn = RNN(n_nodes + 2, hidden_size, n_nodes + 2)\n"
   ]
  },
  {
   "cell_type": "markdown",
   "metadata": {},
   "source": [
    "## Train the model"
   ]
  },
  {
   "cell_type": "code",
   "execution_count": 13,
   "metadata": {},
   "outputs": [],
   "source": [
    "from training_func import training_iters\n",
    "import functools"
   ]
  },
  {
   "cell_type": "code",
   "execution_count": 18,
   "metadata": {},
   "outputs": [
    {
     "name": "stdout",
     "output_type": "stream",
     "text": [
      "0m 12s (100 0%) 3.9719\n",
      "0m 24s (200 1%) 3.6920\n",
      "0m 36s (300 2%) 3.4587\n",
      "0m 46s (400 3%) 3.3386\n",
      "0m 56s (500 4%) 3.2042\n",
      "1m 4s (600 5%) 3.1226\n",
      "1m 11s (700 5%) 3.0854\n",
      "1m 19s (800 6%) 3.0532\n",
      "1m 27s (900 7%) 2.9451\n",
      "1m 40s (1000 8%) 2.8559\n",
      "1m 48s (1100 9%) 2.9000\n",
      "1m 57s (1200 10%) 2.8563\n",
      "2m 10s (1300 10%) 2.8568\n",
      "2m 22s (1400 11%) 2.8043\n",
      "2m 31s (1500 12%) 2.8065\n",
      "2m 40s (1600 13%) 2.7566\n",
      "2m 49s (1700 14%) 2.7810\n",
      "2m 58s (1800 15%) 2.6910\n",
      "3m 7s (1900 15%) 2.7073\n",
      "3m 19s (2000 16%) 2.7217\n",
      "3m 26s (2100 17%) 2.7026\n",
      "3m 35s (2200 18%) 2.7264\n",
      "3m 43s (2300 19%) 2.7420\n",
      "3m 53s (2400 20%) 2.6476\n",
      "4m 2s (2500 20%) 2.7084\n",
      "4m 10s (2600 21%) 2.6735\n",
      "4m 21s (2700 22%) 2.6670\n",
      "4m 30s (2800 23%) 2.6906\n",
      "4m 41s (2900 24%) 2.6246\n",
      "5m 15s (3000 25%) 2.6995\n",
      "5m 23s (3100 25%) 2.5880\n",
      "5m 31s (3200 26%) 2.6695\n",
      "5m 41s (3300 27%) 2.6313\n"
     ]
    },
    {
     "data": {
      "image/png": "[encoded data removed]",
      "text/plain": [
       "<matplotlib.figure.Figure at 0x7fcd9863ed90>"
      ]
     },
     "metadata": {},
     "output_type": "display_data"
    }
   ],
   "source": [
    "rnn.train()\n",
    "n_iters = 12000\n",
    "criterion = nn.NLLLoss()\n",
    "all_losses = training_iters(n_iters, rnn, functools.partial(train_vecs, graph=graph), criterion, optimizer_name=\"Adadelta\")"
   ]
  },
  {
   "cell_type": "markdown",
   "metadata": {},
   "source": [
    "# Test the RNN walk generation"
   ]
  },
  {
   "cell_type": "code",
   "execution_count": 19,
   "metadata": {},
   "outputs": [
    {
     "data": {
      "text/plain": [
       "RNN (\n",
       "  (lstm): LSTM(79, 100)\n",
       "  (lin): Linear (100 -> 79)\n",
       "  (softmax): LogSoftmax ()\n",
       ")"
      ]
     },
     "execution_count": 19,
     "metadata": {},
     "output_type": "execute_result"
    }
   ],
   "source": [
    "rnn.eval()"
   ]
  },
  {
   "cell_type": "code",
   "execution_count": 21,
   "metadata": {},
   "outputs": [
    {
     "data": {
      "text/plain": [
       "[0, 1, 0, 2, 3, 2, 3, 2, 3, 2, 3, 2, 3, 2, 3, 2, 3, 2, 3, 2, 3, 2, 3, 2]"
      ]
     },
     "execution_count": 21,
     "metadata": {},
     "output_type": "execute_result"
    }
   ],
   "source": [
    "\n",
    "\n",
    "def sample(graph, rnn, start=None, choose_ending=True, max_length=20,):\n",
    "    rnn.eval()\n",
    "    start_input = walk2input(start, graph)\n",
    "    #print(input.data.size())\n",
    "    #print(graph.node[start][\"label\"])\n",
    "    hidden = rnn.initHidden()\n",
    "    if len(start_input) > 1:\n",
    "        for i in range(len(start_input) - 1):\n",
    "            output, hidden = rnn(start_input[i], hidden)\n",
    "    \n",
    "    output_walk = start\n",
    "    input = start_input\n",
    "    \n",
    "    for i in range(max_length):\n",
    "        output, hidden = rnn(input[-1], hidden)\n",
    "        topv, topi = output.data.topk(1)\n",
    "        #print(topi, topv)\n",
    "        topi = topi[0][0]\n",
    "        #print(topi)\n",
    "        if topi == n_nodes + 1:\n",
    "            if choose_ending:\n",
    "                return output_walk\n",
    "            else:\n",
    "                topi = output.data.topk(2)[1][0][1]\n",
    "        if type(start[0])== int:\n",
    "            node = topi\n",
    "        else:\n",
    "            node = str(topi)\n",
    "        #print(graph.node[node]['label'])\n",
    "        output_walk.append(node)\n",
    "        input = walk2input([node], graph)\n",
    "    return output_walk\n",
    "\n",
    "# Get multiple samples from one category and multiple starting letters\n",
    "def samples():\n",
    "    print(sample())\n",
    "    \n",
    "sample(graph, rnn,  [0, 1, 0, 2], choose_ending = False)"
   ]
  },
  {
   "cell_type": "markdown",
   "metadata": {},
   "source": [
    "## Metrics"
   ]
  },
  {
   "cell_type": "code",
   "execution_count": 30,
   "metadata": {},
   "outputs": [
    {
     "name": "stdout",
     "output_type": "stream",
     "text": [
      "3\n"
     ]
    }
   ],
   "source": [
    "def degree(node, graph):\n",
    "    edges = np.array(list(graph.edges))\n",
    "    degree = len(np.unique(np.concatenate((edges[edges[:, 0] == node][:, 1], edges[edges[:, 1] == node][:, 0]))))\n",
    "    return degree\n",
    "\n",
    "print(degree(\"2\", graph))"
   ]
  },
  {
   "cell_type": "code",
   "execution_count": 22,
   "metadata": {},
   "outputs": [
    {
     "name": "stdout",
     "output_type": "stream",
     "text": [
      "770 correct walks on 770 walks --> Accuracy : 1.0 /n Average walk length : 22.0\n"
     ]
    },
    {
     "data": {
      "text/plain": [
       "1.0"
      ]
     },
     "execution_count": 22,
     "metadata": {},
     "output_type": "execute_result"
    }
   ],
   "source": [
    "def nb_correct_walks(rnn, graph):\n",
    "    edges = list(graph.edges)\n",
    "    edges_array = np.array(edges)\n",
    "\n",
    "    nb_walks = 0\n",
    "    walk_length_sum = 0\n",
    "    wrong = 0\n",
    "    for start_node in list(graph.nodes):\n",
    "        neighbors = list(nx.all_neighbors(graph, start_node))\n",
    "        for k in range(10):\n",
    "            second_node = np.random.choice(neighbors, 1)[0]\n",
    "            walk_sequence = sample(graph, rnn, [start_node, second_node], False)\n",
    "            walk_length_sum += len(walk_sequence)\n",
    "            nb_walks += 1\n",
    "\n",
    "\n",
    "            for i in range(len(walk_sequence) - 1):\n",
    "                if (walk_sequence[i], walk_sequence[i + 1]) not in edges and (walk_sequence[i + 1], walk_sequence[i]) not in edges:\n",
    "                    wrong += 1\n",
    "                    break\n",
    "    print(\"{} correct walks on {} walks --> Accuracy : {} /n Average walk length : {}\".format((nb_walks - wrong), nb_walks, ((nb_walks - wrong)) / float(nb_walks), walk_length_sum / float(nb_walks)))\n",
    "    return ((nb_walks - wrong) / float(nb_walks))\n",
    "nb_correct_walks(rnn, graph)"
   ]
  },
  {
   "cell_type": "markdown",
   "metadata": {},
   "source": [
    "## How does the score depends on the RNN memory ?"
   ]
  },
  {
   "cell_type": "code",
   "execution_count": 32,
   "metadata": {
    "collapsed": true
   },
   "outputs": [
    {
     "name": "stdout",
     "output_type": "stream",
     "text": [
      "(22, 1)\n",
      "1m 39s (100 2%) 3.1582\n",
      "3m 19s (200 5%) 3.0820\n",
      "4m 59s (300 7%) 2.9819\n",
      "6m 42s (400 10%) 2.8565\n",
      "8m 27s (500 12%) 2.7387\n",
      "9m 59s (600 15%) 2.6957\n",
      "10m 51s (700 17%) 2.6540\n",
      "11m 45s (800 20%) 2.6187\n",
      "12m 40s (900 22%) 2.5928\n",
      "13m 36s (1000 25%) 2.5969\n",
      "14m 28s (1100 27%) 2.5798\n",
      "15m 24s (1200 30%) 2.5830\n",
      "16m 17s (1300 32%) 2.5765\n",
      "17m 11s (1400 35%) 2.5657\n",
      "18m 6s (1500 37%) 2.5532\n",
      "19m 0s (1600 40%) 2.5402\n",
      "19m 54s (1700 42%) 2.5569\n",
      "20m 45s (1800 45%) 2.5276\n",
      "21m 38s (1900 47%) 2.5294\n",
      "22m 32s (2000 50%) 2.5463\n",
      "23m 29s (2100 52%) 2.5380\n",
      "24m 20s (2200 55%) 2.5441\n",
      "25m 11s (2300 57%) 2.5425\n",
      "26m 4s (2400 60%) 2.5518\n",
      "26m 58s (2500 62%) 2.5244\n",
      "27m 52s (2600 65%) 2.5269\n",
      "28m 43s (2700 67%) 2.5318\n",
      "29m 37s (2800 70%) 2.5257\n",
      "30m 30s (2900 72%) 2.5294\n",
      "31m 23s (3000 75%) 2.5145\n",
      "32m 16s (3100 77%) 2.5181\n",
      "33m 9s (3200 80%) 2.5113\n",
      "34m 3s (3300 82%) 2.5104\n",
      "34m 57s (3400 85%) 2.5241\n",
      "35m 51s (3500 87%) 2.5272\n",
      "36m 43s (3600 90%) 2.5205\n",
      "37m 40s (3700 92%) 2.5162\n",
      "38m 31s (3800 95%) 2.5148\n",
      "39m 25s (3900 97%) 2.5031\n",
      "40m 21s (4000 100%) 2.5044\n",
      "0 correct walks on 200 walks --> Accuracy : 0.0 /n Average walk length : 22.0\n",
      "(22, 5)\n",
      "0m 55s (100 2%) 3.0466\n",
      "1m 49s (200 5%) 2.7767\n",
      "2m 40s (300 7%) 2.7166\n",
      "3m 35s (400 10%) 2.6248\n",
      "4m 28s (500 12%) 2.6026\n",
      "5m 22s (600 15%) 2.5805\n",
      "6m 14s (700 17%) 2.5698\n",
      "7m 3s (800 20%) 2.5528\n",
      "7m 57s (900 22%) 2.5454\n",
      "8m 49s (1000 25%) 2.5635\n",
      "9m 45s (1100 27%) 2.5284\n",
      "10m 38s (1200 30%) 2.5275\n",
      "11m 31s (1300 32%) 2.5368\n",
      "12m 24s (1400 35%) 2.5155\n",
      "13m 19s (1500 37%) 2.5271\n",
      "14m 8s (1600 40%) 2.5074\n",
      "15m 2s (1700 42%) 2.5141\n",
      "15m 56s (1800 45%) 2.5274\n",
      "16m 50s (1900 47%) 2.5071\n",
      "17m 44s (2000 50%) 2.5130\n",
      "18m 39s (2100 52%) 2.4974\n",
      "19m 35s (2200 55%) 2.4902\n",
      "20m 28s (2300 57%) 2.5078\n",
      "21m 21s (2400 60%) 2.5003\n",
      "22m 16s (2500 62%) 2.5222\n",
      "23m 9s (2600 65%) 2.4971\n",
      "24m 4s (2700 67%) 2.4842\n",
      "24m 58s (2800 70%) 2.4908\n",
      "25m 51s (2900 72%) 2.4924\n",
      "26m 43s (3000 75%) 2.4920\n",
      "27m 38s (3100 77%) 2.5068\n",
      "28m 31s (3200 80%) 2.4944\n",
      "29m 29s (3300 82%) 2.4959\n",
      "30m 26s (3400 85%) 2.5046\n",
      "31m 19s (3500 87%) 2.4833\n",
      "32m 15s (3600 90%) 2.4952\n",
      "33m 9s (3700 92%) 2.4871\n",
      "34m 3s (3800 95%) 2.5053\n",
      "34m 57s (3900 97%) 2.4851\n",
      "35m 49s (4000 100%) 2.4991\n",
      "141 correct walks on 200 walks --> Accuracy : 0.705 /n Average walk length : 22.0\n",
      "(22, 10)\n",
      "0m 54s (100 2%) 2.8501\n",
      "1m 46s (200 5%) 2.8584\n",
      "2m 38s (300 7%) 2.7883\n",
      "3m 29s (400 10%) 2.8129\n",
      "4m 23s (500 12%) 2.6182\n",
      "5m 18s (600 15%) 2.6344\n",
      "6m 8s (700 17%) 2.7049\n",
      "7m 1s (800 20%) 2.6237\n",
      "7m 53s (900 22%) 2.5875\n",
      "8m 47s (1000 25%) 2.5304\n",
      "9m 40s (1100 27%) 2.5525\n",
      "10m 35s (1200 30%) 2.5441\n",
      "11m 29s (1300 32%) 2.5341\n",
      "12m 22s (1400 35%) 2.5189\n",
      "13m 19s (1500 37%) 2.5112\n",
      "14m 12s (1600 40%) 2.5086\n",
      "15m 7s (1700 42%) 2.4762\n",
      "16m 3s (1800 45%) 2.4970\n",
      "16m 56s (1900 47%) 2.4945\n",
      "17m 51s (2000 50%) 2.4986\n",
      "18m 46s (2100 52%) 2.4803\n",
      "19m 38s (2200 55%) 2.4931\n",
      "20m 32s (2300 57%) 2.4866\n",
      "21m 26s (2400 60%) 2.4796\n",
      "22m 23s (2500 62%) 2.4733\n",
      "23m 16s (2600 65%) 2.4828\n",
      "24m 10s (2700 67%) 2.4809\n",
      "25m 8s (2800 70%) 2.4874\n",
      "26m 3s (2900 72%) 2.4605\n",
      "26m 54s (3000 75%) 2.4685\n",
      "27m 50s (3100 77%) 2.4635\n",
      "28m 44s (3200 80%) 2.4741\n",
      "29m 38s (3300 82%) 2.4639\n",
      "30m 28s (3400 85%) 2.4726\n",
      "31m 22s (3500 87%) 2.4593\n",
      "32m 17s (3600 90%) 2.4561\n",
      "33m 14s (3700 92%) 2.4551\n",
      "34m 9s (3800 95%) 2.4580\n",
      "35m 2s (3900 97%) 2.4443\n",
      "35m 53s (4000 100%) 2.4682\n",
      "199 correct walks on 200 walks --> Accuracy : 0.995 /n Average walk length : 22.0\n",
      "(22, 20)\n",
      "0m 52s (100 2%) 2.8917\n",
      "1m 49s (200 5%) 2.6458\n",
      "2m 42s (300 7%) 2.5707\n",
      "3m 35s (400 10%) 2.5767\n",
      "4m 34s (500 12%) 2.5414\n",
      "5m 29s (600 15%) 2.5185\n",
      "6m 24s (700 17%) 2.5078\n",
      "7m 18s (800 20%) 2.5030\n",
      "8m 10s (900 22%) 2.4955\n",
      "9m 3s (1000 25%) 2.5011\n",
      "9m 55s (1100 27%) 2.4933\n",
      "10m 49s (1200 30%) 2.4985\n",
      "11m 41s (1300 32%) 2.4715\n",
      "12m 30s (1400 35%) 2.4893\n",
      "13m 24s (1500 37%) 2.4739\n",
      "14m 15s (1600 40%) 2.4757\n",
      "15m 8s (1700 42%) 2.4709\n",
      "16m 1s (1800 45%) 2.4579\n",
      "16m 56s (1900 47%) 2.4549\n",
      "17m 53s (2000 50%) 2.4531\n",
      "18m 45s (2100 52%) 2.4635\n",
      "19m 36s (2200 55%) 2.4626\n",
      "20m 31s (2300 57%) 2.4529\n",
      "21m 25s (2400 60%) 2.4467\n",
      "22m 17s (2500 62%) 2.4376\n",
      "23m 17s (2600 65%) 2.4442\n",
      "24m 10s (2700 67%) 2.4193\n",
      "25m 1s (2800 70%) 2.4332\n",
      "25m 49s (2900 72%) 2.4515\n",
      "26m 46s (3000 75%) 2.4390\n",
      "27m 36s (3100 77%) 2.4239\n",
      "28m 28s (3200 80%) 2.4266\n",
      "29m 19s (3300 82%) 2.4311\n",
      "30m 12s (3400 85%) 2.4342\n",
      "31m 2s (3500 87%) 2.4345\n",
      "31m 58s (3600 90%) 2.4320\n",
      "32m 50s (3700 92%) 2.4153\n",
      "33m 43s (3800 95%) 2.4269\n",
      "34m 38s (3900 97%) 2.4245\n",
      "35m 33s (4000 100%) 2.4230\n",
      "200 correct walks on 200 walks --> Accuracy : 1.0 /n Average walk length : 22.0\n",
      "(22, 30)\n",
      "0m 55s (100 2%) 2.8018\n",
      "1m 49s (200 5%) 2.7192\n",
      "2m 44s (300 7%) 2.6067\n",
      "3m 37s (400 10%) 2.5560\n",
      "4m 31s (500 12%) 2.5294\n",
      "5m 25s (600 15%) 2.5066\n",
      "6m 18s (700 17%) 2.5229\n",
      "7m 13s (800 20%) 2.4897\n",
      "8m 8s (900 22%) 2.4855\n",
      "8m 59s (1000 25%) 2.4856\n",
      "9m 50s (1100 27%) 2.4900\n",
      "10m 42s (1200 30%) 2.4674\n",
      "11m 40s (1300 32%) 2.4617\n",
      "12m 33s (1400 35%) 2.4612\n",
      "13m 25s (1500 37%) 2.4687\n",
      "14m 20s (1600 40%) 2.4423\n",
      "15m 12s (1700 42%) 2.4529\n",
      "16m 9s (1800 45%) 2.4427\n",
      "16m 59s (1900 47%) 2.4552\n",
      "17m 55s (2000 50%) 2.4349\n",
      "18m 49s (2100 52%) 2.4332\n",
      "19m 41s (2200 55%) 2.4355\n",
      "20m 39s (2300 57%) 2.4424\n",
      "21m 32s (2400 60%) 2.4301\n",
      "22m 28s (2500 62%) 2.4451\n",
      "23m 24s (2600 65%) 2.4280\n",
      "24m 17s (2700 67%) 2.4209\n",
      "25m 13s (2800 70%) 2.4188\n",
      "26m 8s (2900 72%) 2.4250\n",
      "26m 59s (3000 75%) 2.4289\n",
      "27m 48s (3100 77%) 2.4167\n",
      "28m 42s (3200 80%) 2.4064\n",
      "29m 36s (3300 82%) 2.4272\n",
      "30m 27s (3400 85%) 2.4218\n",
      "31m 23s (3500 87%) 2.4123\n",
      "32m 19s (3600 90%) 2.4134\n",
      "33m 14s (3700 92%) 2.4061\n",
      "34m 7s (3800 95%) 2.4118\n",
      "34m 59s (3900 97%) 2.4139\n",
      "35m 54s (4000 100%) 2.3994\n",
      "200 correct walks on 200 walks --> Accuracy : 1.0 /n Average walk length : 22.0\n",
      "(22, 40)\n",
      "0m 53s (100 2%) 2.8549\n",
      "1m 47s (200 5%) 2.7133\n",
      "2m 43s (300 7%) 2.5939\n",
      "3m 36s (400 10%) 2.5545\n",
      "4m 30s (500 12%) 2.5176\n",
      "5m 22s (600 15%) 2.5140\n",
      "6m 14s (700 17%) 2.5046\n",
      "7m 9s (800 20%) 2.4931\n",
      "8m 1s (900 22%) 2.4859\n",
      "8m 54s (1000 25%) 2.4922\n",
      "9m 49s (1100 27%) 2.4802\n",
      "10m 39s (1200 30%) 2.4618\n",
      "11m 28s (1300 32%) 2.4798\n",
      "12m 23s (1400 35%) 2.4524\n",
      "13m 18s (1500 37%) 2.4674\n",
      "14m 10s (1600 40%) 2.4573\n",
      "15m 4s (1700 42%) 2.4378\n",
      "15m 59s (1800 45%) 2.4389\n",
      "16m 54s (1900 47%) 2.4380\n",
      "17m 49s (2000 50%) 2.4312\n",
      "18m 42s (2100 52%) 2.4235\n",
      "19m 33s (2200 55%) 2.4182\n",
      "20m 29s (2300 57%) 2.4244\n",
      "21m 26s (2400 60%) 2.4319\n",
      "22m 20s (2500 62%) 2.4197\n",
      "23m 16s (2600 65%) 2.4250\n",
      "24m 8s (2700 67%) 2.4260\n",
      "25m 4s (2800 70%) 2.4173\n",
      "25m 57s (2900 72%) 2.4218\n",
      "26m 51s (3000 75%) 2.4204\n",
      "27m 51s (3100 77%) 2.3996\n",
      "28m 43s (3200 80%) 2.4248\n",
      "29m 38s (3300 82%) 2.3972\n",
      "30m 31s (3400 85%) 2.4120\n",
      "31m 27s (3500 87%) 2.4027\n",
      "32m 23s (3600 90%) 2.4066\n",
      "33m 19s (3700 92%) 2.4061\n",
      "34m 14s (3800 95%) 2.4105\n",
      "35m 10s (3900 97%) 2.3929\n",
      "36m 4s (4000 100%) 2.4047\n",
      "200 correct walks on 200 walks --> Accuracy : 1.0 /n Average walk length : 22.0\n",
      "(22, 100)\n",
      "0m 55s (100 2%) 2.8162\n",
      "1m 48s (200 5%) 2.6249\n",
      "2m 44s (300 7%) 2.5489\n",
      "3m 40s (400 10%) 2.5102\n",
      "4m 32s (500 12%) 2.5152\n",
      "5m 26s (600 15%) 2.4980\n",
      "6m 17s (700 17%) 2.4921\n",
      "7m 10s (800 20%) 2.4787\n",
      "8m 6s (900 22%) 2.4584\n",
      "9m 0s (1000 25%) 2.4509\n",
      "9m 52s (1100 27%) 2.4477\n",
      "10m 46s (1200 30%) 2.4422\n",
      "11m 43s (1300 32%) 2.4375\n",
      "12m 35s (1400 35%) 2.4332\n",
      "13m 31s (1500 37%) 2.4352\n",
      "14m 28s (1600 40%) 2.4362\n",
      "15m 24s (1700 42%) 2.4336\n",
      "16m 17s (1800 45%) 2.4251\n",
      "17m 9s (1900 47%) 2.4272\n",
      "18m 4s (2000 50%) 2.4184\n",
      "18m 53s (2100 52%) 2.4265\n",
      "19m 50s (2200 55%) 2.4322\n",
      "20m 44s (2300 57%) 2.4314\n",
      "21m 38s (2400 60%) 2.4230\n",
      "22m 34s (2500 62%) 2.4102\n",
      "23m 28s (2600 65%) 2.4071\n",
      "24m 21s (2700 67%) 2.4122\n",
      "25m 18s (2800 70%) 2.4159\n",
      "26m 11s (2900 72%) 2.4049\n",
      "27m 2s (3000 75%) 2.4059\n",
      "27m 57s (3100 77%) 2.4112\n",
      "28m 53s (3200 80%) 2.4110\n",
      "29m 48s (3300 82%) 2.4107\n",
      "30m 48s (3400 85%) 2.4029\n",
      "31m 44s (3500 87%) 2.4168\n",
      "32m 39s (3600 90%) 2.4094\n",
      "33m 31s (3700 92%) 2.4038\n",
      "34m 22s (3800 95%) 2.4196\n",
      "35m 17s (3900 97%) 2.4112\n",
      "36m 12s (4000 100%) 2.4065\n",
      "200 correct walks on 200 walks --> Accuracy : 1.0 /n Average walk length : 22.0\n",
      "(22, 500)\n",
      "1m 5s (100 2%) 2.7605\n",
      "2m 14s (200 5%) 2.5685\n",
      "3m 21s (300 7%) 2.5388\n",
      "4m 30s (400 10%) 2.5063\n",
      "5m 31s (500 12%) 2.4919\n",
      "6m 38s (600 15%) 2.4668\n",
      "7m 46s (700 17%) 2.4588\n",
      "8m 51s (800 20%) 2.4626\n",
      "10m 2s (900 22%) 2.4517\n",
      "11m 11s (1000 25%) 2.4551\n",
      "12m 21s (1100 27%) 2.4414\n",
      "13m 29s (1200 30%) 2.4397\n",
      "14m 38s (1300 32%) 2.4454\n",
      "15m 46s (1400 35%) 2.4545\n",
      "16m 50s (1500 37%) 2.4510\n",
      "18m 0s (1600 40%) 2.4590\n",
      "19m 8s (1700 42%) 2.4275\n",
      "20m 10s (1800 45%) 2.4363\n",
      "21m 18s (1900 47%) 2.4204\n",
      "22m 30s (2000 50%) 2.4169\n",
      "23m 38s (2100 52%) 2.4102\n",
      "24m 46s (2200 55%) 2.4207\n",
      "25m 55s (2300 57%) 2.4145\n",
      "27m 2s (2400 60%) 2.4246\n",
      "28m 11s (2500 62%) 2.4271\n",
      "29m 21s (2600 65%) 2.4106\n",
      "30m 28s (2700 67%) 2.4186\n",
      "31m 33s (2800 70%) 2.4303\n",
      "32m 41s (2900 72%) 2.4140\n",
      "33m 49s (3000 75%) 2.4118\n",
      "34m 56s (3100 77%) 2.4194\n",
      "36m 5s (3200 80%) 2.4150\n",
      "37m 13s (3300 82%) 2.3949\n",
      "38m 19s (3400 85%) 2.4144\n",
      "39m 26s (3500 87%) 2.4168\n",
      "40m 35s (3600 90%) 2.4092\n",
      "41m 41s (3700 92%) 2.4213\n",
      "42m 48s (3800 95%) 2.4051\n",
      "43m 56s (3900 97%) 2.4057\n",
      "45m 5s (4000 100%) 2.4065\n",
      "200 correct walks on 200 walks --> Accuracy : 1.0 /n Average walk length : 22.0\n",
      "(22, 1000)\n",
      "1m 49s (100 2%) 2.7099\n",
      "3m 36s (200 5%) 2.5922\n",
      "5m 30s (300 7%) 2.5428\n",
      "7m 22s (400 10%) 2.5016\n",
      "9m 9s (500 12%) 2.4841\n",
      "10m 57s (600 15%) 2.4751\n",
      "12m 48s (700 17%) 2.4793\n",
      "14m 37s (800 20%) 2.4603\n",
      "16m 28s (900 22%) 2.4511\n",
      "18m 19s (1000 25%) 2.4625\n",
      "20m 7s (1100 27%) 2.4453\n",
      "21m 58s (1200 30%) 2.4571\n",
      "23m 45s (1300 32%) 2.4483\n",
      "25m 37s (1400 35%) 2.4285\n",
      "27m 21s (1500 37%) 2.4453\n",
      "29m 8s (1600 40%) 2.4287\n",
      "30m 57s (1700 42%) 2.4226\n",
      "32m 46s (1800 45%) 2.4351\n",
      "34m 35s (1900 47%) 2.4127\n",
      "36m 23s (2000 50%) 2.4522\n",
      "38m 10s (2100 52%) 2.4232\n",
      "40m 0s (2200 55%) 2.4115\n",
      "41m 47s (2300 57%) 2.4300\n",
      "43m 38s (2400 60%) 2.4270\n",
      "45m 26s (2500 62%) 2.4205\n",
      "47m 15s (2600 65%) 2.4392\n",
      "49m 2s (2700 67%) 2.4213\n",
      "50m 50s (2800 70%) 2.4282\n",
      "52m 40s (2900 72%) 2.4161\n",
      "54m 35s (3000 75%) 2.4127\n",
      "56m 26s (3100 77%) 2.4141\n",
      "58m 12s (3200 80%) 2.4259\n",
      "60m 4s (3300 82%) 2.4118\n",
      "61m 51s (3400 85%) 2.4203\n",
      "63m 47s (3500 87%) 2.4159\n",
      "65m 34s (3600 90%) 2.4188\n",
      "67m 21s (3700 92%) 2.4211\n",
      "69m 17s (3800 95%) 2.4031\n",
      "71m 9s (3900 97%) 2.4124\n",
      "72m 57s (4000 100%) 2.4190\n",
      "200 correct walks on 200 walks --> Accuracy : 1.0 /n Average walk length : 22.0\n"
     ]
    }
   ],
   "source": [
    "def score_memory(graph, hidden_size_range):\n",
    "    nb_nodes = len(list(graph.nodes))\n",
    "    loss_list = list()\n",
    "    accuracy_list = list()\n",
    "    for hidden_size in hidden_size_range:\n",
    "        rnn = RNN(n_nodes + 2, hidden_size, n_nodes + 2)\n",
    "        all_losses = training_iters(4000, rnn, functools.partial(train_vecs, graph=graph), criterion = nn.NLLLoss(), optimizer_name=\"Adadelta\")\n",
    "        loss_list.append(all_losses[-1])\n",
    "        accuracy = nb_correct_walks(rnn, graph)\n",
    "        accuracy_list.append(accuracy)\n",
    "    return loss_list, accuracy_list\n",
    "    \n",
    "hidden_size_range = [1, 5, 10, 20, 30, 40, 100, 500, 1000]\n",
    "loss_list, accuracy_list = score_memory(toy_graph,  [1, 5, 10, 20, 30, 40, 100, 500, 1000])"
   ]
  },
  {
   "cell_type": "code",
   "execution_count": 33,
   "metadata": {},
   "outputs": [
    {
     "data": {
      "text/plain": [
       "<matplotlib.text.Text at 0x7fdff7249910>"
      ]
     },
     "execution_count": 33,
     "metadata": {},
     "output_type": "execute_result"
    },
    {
     "data": {
      "image/png": "[encoded data removed]",
      "text/plain": [
       "<matplotlib.figure.Figure at 0x7fdff6f460d0>"
      ]
     },
     "metadata": {},
     "output_type": "display_data"
    }
   ],
   "source": [
    "\n",
    "\n",
    "plt.plot(hidden_size_range, loss_list)\n",
    "plt.plot((len(list(toy_graph.nodes)), len(list(toy_graph.nodes))), (min(loss_list), max(loss_list)))\n",
    "plt.xlabel(\"hidden_size\")\n",
    "plt.ylabel(\"best_loss\")"
   ]
  },
  {
   "cell_type": "code",
   "execution_count": 34,
   "metadata": {},
   "outputs": [
    {
     "data": {
      "text/plain": [
       "<matplotlib.text.Text at 0x7fdff6e59450>"
      ]
     },
     "execution_count": 34,
     "metadata": {},
     "output_type": "execute_result"
    },
    {
     "data": {
      "image/png": "[encoded data removed]",
      "text/plain": [
       "<matplotlib.figure.Figure at 0x7fdff7036a10>"
      ]
     },
     "metadata": {},
     "output_type": "display_data"
    }
   ],
   "source": [
    "plt.plot(hidden_size_range, accuracy_list)\n",
    "plt.plot((len(list(toy_graph.nodes)), len(list(toy_graph.nodes))), (min(accuracy_list), max(accuracy_list)))\n",
    "plt.xlabel(\"hidden_size\")\n",
    "plt.ylabel(\"accuracy\")"
   ]
  },
  {
   "cell_type": "code",
   "execution_count": 35,
   "metadata": {},
   "outputs": [
    {
     "name": "stdout",
     "output_type": "stream",
     "text": [
      "(1, 2.5043798925892475)\n",
      "(5, 2.4990783294481673)\n",
      "(10, 2.468235210839806)\n",
      "(20, 2.4230122994925782)\n",
      "(30, 2.3993636285199944)\n",
      "(40, 2.404731579663017)\n",
      "(100, 2.406522644829798)\n",
      "(500, 2.406541764557454)\n",
      "(1000, 2.4190411839026407)\n"
     ]
    }
   ],
   "source": [
    "for i in range(len(hidden_size_range)):\n",
    "    print(hidden_size_range[i], loss_list[i])"
   ]
  },
  {
   "cell_type": "markdown",
   "metadata": {},
   "source": [
    "# Does the LSTM output from a node depends on the node's position(time) ?"
   ]
  },
  {
   "cell_type": "code",
   "execution_count": 288,
   "metadata": {},
   "outputs": [],
   "source": [
    "# works only on undirected graph\n",
    "def construct_walk(node, time, graph):\n",
    "    current_node = node\n",
    "    walk = [current_node]\n",
    "    for t in range(time):\n",
    "        current_node = np.random.choice(list(nx.all_neighbors(graph, current_node)), 1)[0]\n",
    "        walk.append(current_node)\n",
    "    walk = walk[::-1]\n",
    "    return walk\n",
    "        "
   ]
  },
  {
   "cell_type": "code",
   "execution_count": 289,
   "metadata": {},
   "outputs": [],
   "source": [
    "def study_time_inflence_on_node(graph, node, rnn):\n",
    "    rnn.eval()\n",
    "    time_range = [i for i in range(20)]\n",
    "    nb_tries = 100\n",
    "    time_results = np.zeros((len(time_range), nb_tries))\n",
    "    hidden = rnn.initHidden()  \n",
    "    for time in time_range:\n",
    "        for trial in range(nb_tries):\n",
    "            walk = construct_walk(node, time, graph)\n",
    "            input_line_tensor = walk2input(walk, graph)\n",
    "            rnn.initHidden()\n",
    "            for i in range(input_line_tensor.size()[0]):\n",
    "                output, hidden = rnn(input_line_tensor[i], hidden)\n",
    "            topi = output.data.topk(1)[1][0][0]\n",
    "            time_results[time][trial] = topi\n",
    "    return time_results\n",
    "\n",
    "#n_nodes = len(list(toy_graph.nodes))\n",
    "#hidden_size = 50\n",
    "#rnn = RNN(n_nodes + 2, hidden_size, n_nodes + 2)\n",
    "#training_iters(4000, rnn, toy_graph, with_print=False))\n",
    "# or use the pretrained rnn"
   ]
  },
  {
   "cell_type": "code",
   "execution_count": 290,
   "metadata": {},
   "outputs": [],
   "source": [
    "time_results = study_time_inflence_on_node(toy_graph, 0, rnn)\n",
    "nb_nodes = len(list(toy_graph.nodes))\n",
    "time_results2 = np.zeros((time_results.shape[0], time_results.shape[1], nb_nodes + 2))\n",
    "for i in range(time_results.shape[0]):\n",
    "    for j in range(time_results.shape[1]):\n",
    "        time_results2[i][j][int(time_results[i][j])] = 1"
   ]
  },
  {
   "cell_type": "code",
   "execution_count": 291,
   "metadata": {},
   "outputs": [],
   "source": [
    "def dist(vect1, vect2):\n",
    "    vect1 = np.array(vect1)\n",
    "    vect2 = np.array(vect2)\n",
    "    return np.dot((vect1 - vect2), (vect1 - vect2).T)\n",
    "\n",
    "def intra_time_variance(m, t):\n",
    "    mean_mat = np.mean(time_results2, axis = 1)\n",
    "    return np.mean([dist(m[t][i], mean_mat[t]) for i in range(m.shape[1])])\n",
    "\n",
    "def inter_time_variance(m, trial):\n",
    "    mean_mat = np.mean(time_results2, axis = 0)\n",
    "    return np.mean([dist(m[i][trial], mean_mat[trial]) for i in range(m.shape[0])])"
   ]
  },
  {
   "cell_type": "code",
   "execution_count": 292,
   "metadata": {},
   "outputs": [
    {
     "name": "stdout",
     "output_type": "stream",
     "text": [
      "('Inter-time variance', 0.65639999999999987)\n",
      "('Intra-time variance', 0.27012999999999998)\n"
     ]
    }
   ],
   "source": [
    "print(\"Inter-time variance\", np.mean([inter_time_variance(time_results2, i) for i in range(100)]))\n",
    "print(\"Intra-time variance\", np.mean([intra_time_variance(time_results2, i) for i in range(20)]))"
   ]
  },
  {
   "cell_type": "code",
   "execution_count": 293,
   "metadata": {},
   "outputs": [
    {
     "name": "stdout",
     "output_type": "stream",
     "text": [
      "distribution of output from node 2 given node 2 position in sequence\n"
     ]
    },
    {
     "data": {
      "image/png": "[encoded data removed]",
      "text/plain": [
       "<matplotlib.figure.Figure at 0x7fdfd888c410>"
      ]
     },
     "metadata": {},
     "output_type": "display_data"
    }
   ],
   "source": [
    "def distribution_through_time(graph, rnn, node, time_range):\n",
    "    time_results = study_time_inflence_on_node(graph, node, rnn)\n",
    "    fig, axes = plt.subplots(4, (len(time_range) / 3), figsize=(10, 10))\n",
    "    fig.subplots_adjust(wspace=0.5, hspace=0.5)\n",
    "    print(\"distribution of output from node {} given node {} position in sequence\".format(node, node))\n",
    "    axes = axes.flatten()\n",
    "    for t in time_range:\n",
    "        data = np.unique(time_results[t].astype(int).astype(str), return_counts=True)\n",
    "        pos = [i for i in range(len(data[0]))]\n",
    "        axes[t].bar(pos, data[1])\n",
    "        plt.sca(axes[t])\n",
    "        plt.xticks(pos, data[0])\n",
    "    \n",
    "distribution_through_time(toy_graph, rnn, 2, [i for i in range(20)])"
   ]
  },
  {
   "cell_type": "markdown",
   "metadata": {},
   "source": [
    "# Tools for visualizing neurons and LSTM memory"
   ]
  },
  {
   "cell_type": "code",
   "execution_count": 25,
   "metadata": {},
   "outputs": [],
   "source": [
    "def list_weight_by_layer(rnn):\n",
    "\n",
    "    i = 0\n",
    "    weight_ih_l = list()\n",
    "    weight_hh_l = list()\n",
    "    bias_ih_l = list()\n",
    "    bias_hh_l = list()\n",
    "    while True:\n",
    "        try:\n",
    "                weight_ih_l.append(eval(\"rnn.lstm.weight_ih_l\" + str(i)))\n",
    "                weight_hh_l.append(eval(\"rnn.lstm.weight_hh_l\" + str(i)))\n",
    "                bias_ih_l.append(eval(\"rnn.lstm.bias_ih_l\" + str(i)))\n",
    "                bias_hh_l.append(eval(\"rnn.lstm.bias_hh_l\" + str(i)))\n",
    "        except:\n",
    "            break\n",
    "        i += 1\n",
    "    \n",
    "    return weight_ih_l, weight_hh_l, bias_ih_l, bias_hh_l\n",
    "def visualize(rnn, input_tensor, neurons):\n",
    "    gate_dict = {\"input\":0, \"forget\":1, \"output\":3}\n",
    "    hidden = rnn.initHidden()\n",
    "    rnn.eval()\n",
    "    activation_list = [[] for i in range(len(neurons))]\n",
    "    cell_state_list = list()\n",
    "    output_list = list()\n",
    "    start = time.time()\n",
    "    list_paramaters = list_weight_by_layer(rnn)\n",
    "    for i in range(input_tensor.size()[0]):\n",
    "        former_hidden = hidden\n",
    "        output, hidden = rnn(input_tensor[i], hidden)\n",
    "        cell_state_list.append(hidden[1])\n",
    "        output_list.append(hidden[0])\n",
    "        for j, neuron in enumerate(neurons):\n",
    "            gate = gate_dict[neuron[\"gate\"]]\n",
    "            layer = neuron[\"layer\"]\n",
    "            index = neuron[\"index\"]\n",
    "\n",
    "            # W_igate contains 4 concatained matrix Wii, Wfi, Wgi, Woi ! Same for other weight and bias\n",
    "            W_igate = list_paramaters[0][layer]\n",
    "\n",
    "            W_hgate = list_paramaters[1][layer]\n",
    "\n",
    "            b_igate = list_paramaters[2][layer]\n",
    "\n",
    "            b_hgate = list_paramaters[3][layer]\n",
    "\n",
    "\n",
    "            if layer == 0:\n",
    "                input_part = torch.mm(W_igate, input_tensor[i].view(-1, 1)) + b_igate\n",
    "            else:\n",
    "                input_part = torch.mm(W_igate, Variable(former_hidden[0][layer - 1].data.view(-1, 1)))\n",
    "            hidden_part = Variable(torch.from_numpy(np.dot(W_hgate.data.numpy(), former_hidden[0][layer].data.view(-1, 1).numpy())))\n",
    "            activation = F.sigmoid(input_part + hidden_part)[gate * rnn.hidden_size + index]\n",
    "            \n",
    "            activation_list[j].append(activation.data.numpy()[0])\n",
    "    return input_tensor, activation_list, cell_state_list, output_list\n",
    "            \n",
    "    \n"
   ]
  },
  {
   "cell_type": "code",
   "execution_count": 44,
   "metadata": {
    "collapsed": true
   },
   "outputs": [],
   "source": [
    "def show_cell_activation_by_clique(sequence, cliques_list, linking_node_list, activation_list1, second_list=False, activation_list2=None, with_text=False, figsize=(7, 7)):\n",
    "    plt.figure(figsize=figsize)\n",
    "    color_list = [\"red\", (0.5, 0.5, 1), (0, 0.8, 0), \"goldenrod\", \"pink\", \"purple\"]\n",
    "    for i, elem in enumerate(sequence):\n",
    "        edge_color = \"black\" if elem in linking_node_list else None\n",
    "        size = 80 if elem in linking_node_list else 60\n",
    "        activation = activation_list1[i]\n",
    "        color = \"yellow\"\n",
    "        for j, clique in enumerate(cliques_list):\n",
    "            if elem in clique:\n",
    "                color = color_list[j]\n",
    "        if not second_list:\n",
    "            plt.scatter([activation], [i], c=color, edgecolors=edge_color, s=size)\n",
    "        else:\n",
    "            activation2 = activation_list2[i]\n",
    "            plt.scatter([activation], [activation2], c=color, edgecolors=edge_color, s=size)\n",
    "            if with_text:\n",
    "                plt.text(activation, activation2, str(elem), fontsize=10)"
   ]
  },
  {
   "cell_type": "markdown",
   "metadata": {},
   "source": [
    "# Testing the low-memory networks "
   ]
  },
  {
   "cell_type": "code",
   "execution_count": 342,
   "metadata": {},
   "outputs": [
    {
     "data": {
      "text/plain": [
       "RNN (\n",
       "  (lstm): LSTM(22, 5)\n",
       "  (lin): Linear (5 -> 22)\n",
       "  (softmax): LogSoftmax ()\n",
       ")"
      ]
     },
     "execution_count": 342,
     "metadata": {},
     "output_type": "execute_result"
    }
   ],
   "source": [
    "rnn.eval()"
   ]
  },
  {
   "cell_type": "code",
   "execution_count": 42,
   "metadata": {},
   "outputs": [
    {
     "name": "stdout",
     "output_type": "stream",
     "text": [
      "20\n",
      "(22, 1)\n"
     ]
    }
   ],
   "source": [
    "hidden_size = 1\n",
    "n_nodes = len(list(toy_graph.nodes))\n",
    "print(n_nodes)\n",
    "rnn_low_memory = RNN(n_nodes + 2, hidden_size, n_nodes + 2)"
   ]
  },
  {
   "cell_type": "code",
   "execution_count": 43,
   "metadata": {},
   "outputs": [
    {
     "name": "stdout",
     "output_type": "stream",
     "text": [
      "0m 8s (100 2%) 3.2238\n",
      "0m 17s (200 5%) 3.1611\n",
      "0m 26s (300 7%) 3.1046\n",
      "0m 37s (400 10%) 3.0833\n",
      "0m 46s (500 12%) 3.0558\n",
      "0m 55s (600 15%) 3.0180\n",
      "1m 4s (700 17%) 2.9765\n",
      "1m 13s (800 20%) 2.9187\n",
      "1m 23s (900 22%) 2.8127\n",
      "1m 31s (1000 25%) 2.7356\n",
      "1m 38s (1100 27%) 2.6915\n",
      "1m 47s (1200 30%) 2.6577\n",
      "1m 56s (1300 32%) 2.6225\n",
      "2m 8s (1400 35%) 2.6044\n",
      "2m 16s (1500 37%) 2.5802\n",
      "2m 27s (1600 40%) 2.5749\n",
      "2m 37s (1700 42%) 2.5655\n",
      "2m 46s (1800 45%) 2.5490\n",
      "2m 54s (1900 47%) 2.5530\n",
      "3m 2s (2000 50%) 2.5521\n",
      "3m 9s (2100 52%) 2.5303\n",
      "3m 16s (2200 55%) 2.5376\n",
      "3m 23s (2300 57%) 2.5373\n",
      "3m 30s (2400 60%) 2.5432\n",
      "3m 38s (2500 62%) 2.5340\n",
      "3m 47s (2600 65%) 2.5364\n",
      "3m 56s (2700 67%) 2.5159\n",
      "4m 4s (2800 70%) 2.5108\n",
      "4m 13s (2900 72%) 2.5341\n",
      "4m 20s (3000 75%) 2.5289\n",
      "4m 27s (3100 77%) 2.5309\n",
      "4m 34s (3200 80%) 2.5447\n",
      "4m 42s (3300 82%) 2.5164\n",
      "4m 49s (3400 85%) 2.5278\n",
      "4m 57s (3500 87%) 2.5280\n",
      "5m 6s (3600 90%) 2.5149\n",
      "5m 15s (3700 92%) 2.5339\n",
      "5m 24s (3800 95%) 2.5141\n",
      "5m 33s (3900 97%) 2.5119\n",
      "5m 41s (4000 100%) 2.5240\n"
     ]
    }
   ],
   "source": [
    "all_losses = training_iters(4000, rnn_low_memory, functools.partial(train_vecs, graph=toy_graph), nn.NLLLoss(), optimizer_name=\"Adadelta\")"
   ]
  },
  {
   "cell_type": "code",
   "execution_count": 44,
   "metadata": {},
   "outputs": [
    {
     "name": "stdout",
     "output_type": "stream",
     "text": [
      "['6', '0', '0', '0', '0', '0', '0', '0', '0', '0', '0', '0', '0', '0', '0', '0', '0', '0', '0', '0', '0']\n"
     ]
    }
   ],
   "source": [
    "print(sample(toy_graph, rnn_low_memory, start=[\"6\"]))"
   ]
  },
  {
   "cell_type": "code",
   "execution_count": 43,
   "metadata": {},
   "outputs": [
    {
     "ename": "NameError",
     "evalue": "name 'rnn_low_memory' is not defined",
     "output_type": "error",
     "traceback": [
      "\u001b[0;31m---------------------------------------------------------------------------\u001b[0m",
      "\u001b[0;31mNameError\u001b[0m                                 Traceback (most recent call last)",
      "\u001b[0;32m<ipython-input-43-87bf9352ad76>\u001b[0m in \u001b[0;36m<module>\u001b[0;34m()\u001b[0m\n\u001b[1;32m      1\u001b[0m \u001b[0mneurons\u001b[0m \u001b[0;34m=\u001b[0m \u001b[0;34m[\u001b[0m\u001b[0;34m]\u001b[0m\u001b[0;34m\u001b[0m\u001b[0m\n\u001b[1;32m      2\u001b[0m \u001b[0mwalk\u001b[0m \u001b[0;34m=\u001b[0m \u001b[0;34m[\u001b[0m\u001b[0mi\u001b[0m \u001b[0;32mfor\u001b[0m \u001b[0mi\u001b[0m \u001b[0;32min\u001b[0m \u001b[0mrange\u001b[0m\u001b[0;34m(\u001b[0m\u001b[0;36m20\u001b[0m\u001b[0;34m)\u001b[0m\u001b[0;34m]\u001b[0m\u001b[0;34m\u001b[0m\u001b[0m\n\u001b[0;32m----> 3\u001b[0;31m \u001b[0mactivation_list_low_memory\u001b[0m\u001b[0;34m,\u001b[0m \u001b[0mcell_state_list_low_memory\u001b[0m\u001b[0;34m,\u001b[0m \u001b[0moutput_list_low_memory\u001b[0m \u001b[0;34m=\u001b[0m \u001b[0mvisualize\u001b[0m\u001b[0;34m(\u001b[0m\u001b[0mrnn_low_memory\u001b[0m\u001b[0;34m,\u001b[0m \u001b[0mwalk2input\u001b[0m\u001b[0;34m(\u001b[0m\u001b[0mwalk\u001b[0m\u001b[0;34m,\u001b[0m \u001b[0mtoy_graph\u001b[0m\u001b[0;34m)\u001b[0m\u001b[0;34m,\u001b[0m \u001b[0mneurons\u001b[0m\u001b[0;34m)\u001b[0m\u001b[0;34m[\u001b[0m\u001b[0;36m1\u001b[0m\u001b[0;34m:\u001b[0m\u001b[0;34m]\u001b[0m\u001b[0;34m\u001b[0m\u001b[0m\n\u001b[0m\u001b[1;32m      4\u001b[0m \u001b[0mcell_state_list_low_memory\u001b[0m \u001b[0;34m=\u001b[0m \u001b[0mmap\u001b[0m\u001b[0;34m(\u001b[0m\u001b[0;32mlambda\u001b[0m \u001b[0mx\u001b[0m\u001b[0;34m:\u001b[0m\u001b[0mx\u001b[0m\u001b[0;34m.\u001b[0m\u001b[0mdata\u001b[0m\u001b[0;34m.\u001b[0m\u001b[0mnumpy\u001b[0m\u001b[0;34m(\u001b[0m\u001b[0;34m)\u001b[0m\u001b[0;34m[\u001b[0m\u001b[0;36m0\u001b[0m\u001b[0;34m]\u001b[0m\u001b[0;34m[\u001b[0m\u001b[0;36m0\u001b[0m\u001b[0;34m]\u001b[0m\u001b[0;34m[\u001b[0m\u001b[0;36m0\u001b[0m\u001b[0;34m]\u001b[0m\u001b[0;34m,\u001b[0m \u001b[0mcell_state_list_low_memory\u001b[0m\u001b[0;34m)\u001b[0m\u001b[0;34m[\u001b[0m\u001b[0;36m1\u001b[0m\u001b[0;34m:\u001b[0m\u001b[0;34m]\u001b[0m\u001b[0;34m\u001b[0m\u001b[0m\n\u001b[1;32m      5\u001b[0m \u001b[0moutput_list_low_memory\u001b[0m \u001b[0;34m=\u001b[0m \u001b[0mmap\u001b[0m\u001b[0;34m(\u001b[0m\u001b[0;32mlambda\u001b[0m \u001b[0mx\u001b[0m\u001b[0;34m:\u001b[0m\u001b[0mx\u001b[0m\u001b[0;34m.\u001b[0m\u001b[0mdata\u001b[0m\u001b[0;34m.\u001b[0m\u001b[0mnumpy\u001b[0m\u001b[0;34m(\u001b[0m\u001b[0;34m)\u001b[0m\u001b[0;34m[\u001b[0m\u001b[0;36m0\u001b[0m\u001b[0;34m]\u001b[0m\u001b[0;34m[\u001b[0m\u001b[0;36m0\u001b[0m\u001b[0;34m]\u001b[0m\u001b[0;34m,\u001b[0m \u001b[0moutput_list_low_memory\u001b[0m\u001b[0;34m)\u001b[0m\u001b[0;34m[\u001b[0m\u001b[0;36m1\u001b[0m\u001b[0;34m:\u001b[0m\u001b[0;34m]\u001b[0m\u001b[0;34m\u001b[0m\u001b[0m\n",
      "\u001b[0;31mNameError\u001b[0m: name 'rnn_low_memory' is not defined"
     ]
    }
   ],
   "source": [
    "neurons = []\n",
    "walk = [i for i in range(20)]\n",
    "activation_list_low_memory, cell_state_list_low_memory, output_list_low_memory = visualize(rnn_low_memory, walk2input(walk, toy_graph), neurons)[1:]\n",
    "cell_state_list_low_memory = map(lambda x:x.data.numpy()[0][0][0], cell_state_list_low_memory)[1:]\n",
    "output_list_low_memory = map(lambda x:x.data.numpy()[0][0], output_list_low_memory)[1:]\n",
    "print(len(output_list_low_memory), len(cell_state_list_low_memory))"
   ]
  },
  {
   "cell_type": "code",
   "execution_count": 441,
   "metadata": {},
   "outputs": [
    {
     "ename": "IndexError",
     "evalue": "list index out of range",
     "output_type": "error",
     "traceback": [
      "\u001b[0;31m---------------------------------------------------------------------------\u001b[0m",
      "\u001b[0;31mIndexError\u001b[0m                                Traceback (most recent call last)",
      "\u001b[0;32m<ipython-input-441-9ad6cf6cb787>\u001b[0m in \u001b[0;36m<module>\u001b[0;34m()\u001b[0m\n\u001b[0;32m----> 1\u001b[0;31m \u001b[0mshow_cell_activation_by_clique\u001b[0m\u001b[0;34m(\u001b[0m\u001b[0mwalk\u001b[0m\u001b[0;34m,\u001b[0m \u001b[0;34m[\u001b[0m\u001b[0;34m[\u001b[0m\u001b[0mi\u001b[0m \u001b[0;32mfor\u001b[0m \u001b[0mi\u001b[0m \u001b[0;32min\u001b[0m \u001b[0mrange\u001b[0m\u001b[0;34m(\u001b[0m\u001b[0;36m10\u001b[0m\u001b[0;34m)\u001b[0m\u001b[0;34m]\u001b[0m\u001b[0;34m,\u001b[0m \u001b[0;34m[\u001b[0m\u001b[0mi\u001b[0m \u001b[0;32mfor\u001b[0m \u001b[0mi\u001b[0m \u001b[0;32min\u001b[0m \u001b[0mrange\u001b[0m\u001b[0;34m(\u001b[0m\u001b[0;36m10\u001b[0m\u001b[0;34m,\u001b[0m \u001b[0;36m20\u001b[0m\u001b[0;34m)\u001b[0m\u001b[0;34m]\u001b[0m\u001b[0;34m]\u001b[0m\u001b[0;34m,\u001b[0m\u001b[0;34m[\u001b[0m\u001b[0;36m0\u001b[0m\u001b[0;34m,\u001b[0m \u001b[0;36m10\u001b[0m\u001b[0;34m]\u001b[0m\u001b[0;34m,\u001b[0m \u001b[0mcell_state_list_low_memory\u001b[0m\u001b[0;34m)\u001b[0m\u001b[0;34m\u001b[0m\u001b[0m\n\u001b[0m",
      "\u001b[0;32m<ipython-input-438-3715d8f0ed38>\u001b[0m in \u001b[0;36mshow_cell_activation_by_clique\u001b[0;34m(sequence, cliques_list, linking_node_list, activation_list1, second_list, activation_list2, with_text, figsize)\u001b[0m\n\u001b[1;32m      5\u001b[0m         \u001b[0medge_color\u001b[0m \u001b[0;34m=\u001b[0m \u001b[0;34m\"black\"\u001b[0m \u001b[0;32mif\u001b[0m \u001b[0melem\u001b[0m \u001b[0;32min\u001b[0m \u001b[0mlinking_node_list\u001b[0m \u001b[0;32melse\u001b[0m \u001b[0mNone\u001b[0m\u001b[0;34m\u001b[0m\u001b[0m\n\u001b[1;32m      6\u001b[0m         \u001b[0msize\u001b[0m \u001b[0;34m=\u001b[0m \u001b[0;36m80\u001b[0m \u001b[0;32mif\u001b[0m \u001b[0melem\u001b[0m \u001b[0;32min\u001b[0m \u001b[0mlinking_node_list\u001b[0m \u001b[0;32melse\u001b[0m \u001b[0;36m60\u001b[0m\u001b[0;34m\u001b[0m\u001b[0m\n\u001b[0;32m----> 7\u001b[0;31m         \u001b[0mactivation\u001b[0m \u001b[0;34m=\u001b[0m \u001b[0mactivation_list1\u001b[0m\u001b[0;34m[\u001b[0m\u001b[0mi\u001b[0m\u001b[0;34m]\u001b[0m\u001b[0;34m\u001b[0m\u001b[0m\n\u001b[0m\u001b[1;32m      8\u001b[0m         \u001b[0mcolor\u001b[0m \u001b[0;34m=\u001b[0m \u001b[0;34m\"yellow\"\u001b[0m\u001b[0;34m\u001b[0m\u001b[0m\n\u001b[1;32m      9\u001b[0m         \u001b[0;32mfor\u001b[0m \u001b[0mj\u001b[0m\u001b[0;34m,\u001b[0m \u001b[0mclique\u001b[0m \u001b[0;32min\u001b[0m \u001b[0menumerate\u001b[0m\u001b[0;34m(\u001b[0m\u001b[0mcliques_list\u001b[0m\u001b[0;34m)\u001b[0m\u001b[0;34m:\u001b[0m\u001b[0;34m\u001b[0m\u001b[0m\n",
      "\u001b[0;31mIndexError\u001b[0m: list index out of range"
     ]
    },
    {
     "data": {
      "image/png": "[encoded data removed]",
      "text/plain": [
       "<matplotlib.figure.Figure at 0x7fdfd8e6afd0>"
      ]
     },
     "metadata": {},
     "output_type": "display_data"
    }
   ],
   "source": [
    "show_cell_activation_by_clique(walk, [[i for i in range(10)], [i for i in range(10, 20)]],[0, 10], cell_state_list_low_memory)"
   ]
  },
  {
   "cell_type": "code",
   "execution_count": 47,
   "metadata": {
    "collapsed": true
   },
   "outputs": [],
   "source": [
    "import matplotlib"
   ]
  },
  {
   "cell_type": "code",
   "execution_count": 50,
   "metadata": {},
   "outputs": [
    {
     "data": {
      "text/plain": [
       "u'/root/.cache/matplotlib'"
      ]
     },
     "execution_count": 50,
     "metadata": {},
     "output_type": "execute_result"
    }
   ],
   "source": [
    "matplotlib.font_manager.get_cachedir()"
   ]
  },
  {
   "cell_type": "code",
   "execution_count": 326,
   "metadata": {},
   "outputs": [
    {
     "data": {
      "image/png": "[encoded data removed]",
      "text/plain": [
       "<matplotlib.figure.Figure at 0x7fdfe419f8d0>"
      ]
     },
     "metadata": {},
     "output_type": "display_data"
    }
   ],
   "source": [
    "show_cell_activation_by_clique(walk, [[i for i in range(10)], [i for i in range(10, 20)]],[0, 10], output_list_low_memory)"
   ]
  },
  {
   "cell_type": "markdown",
   "metadata": {},
   "source": [
    "## For bigger graphs ?"
   ]
  },
  {
   "cell_type": "code",
   "execution_count": 67,
   "metadata": {
    "collapsed": true
   },
   "outputs": [],
   "source": [
    "graph_3_cliques = cliques(3, 10)\n",
    "graph_4_cliques = cliques(4, 10)"
   ]
  },
  {
   "cell_type": "code",
   "execution_count": 68,
   "metadata": {
    "collapsed": true
   },
   "outputs": [],
   "source": [
    "#nx.write_graphml(graph_4_cliques, \"graph_4_cliques.graphml\")"
   ]
  },
  {
   "cell_type": "code",
   "execution_count": 69,
   "metadata": {},
   "outputs": [
    {
     "name": "stdout",
     "output_type": "stream",
     "text": [
      "Name: \n",
      "Type: Graph\n",
      "Number of nodes: 30\n",
      "Number of edges: 138\n",
      "Average degree:   9.2000\n"
     ]
    }
   ],
   "source": [
    "print(nx.info(graph_3_cliques))"
   ]
  },
  {
   "cell_type": "code",
   "execution_count": 70,
   "metadata": {},
   "outputs": [
    {
     "name": "stdout",
     "output_type": "stream",
     "text": [
      "(32, 2)\n"
     ]
    }
   ],
   "source": [
    "hidden_size = 2\n",
    "nb_nodes = len(list(graph_3_cliques))\n",
    "rnn_3_cliques = RNN(nb_nodes + 2, hidden_size, nb_nodes + 2)\n"
   ]
  },
  {
   "cell_type": "code",
   "execution_count": 71,
   "metadata": {},
   "outputs": [
    {
     "name": "stdout",
     "output_type": "stream",
     "text": [
      "(42, 2)\n"
     ]
    }
   ],
   "source": [
    "hidden_size = 2\n",
    "nb_nodes = len(list(graph_4_cliques))\n",
    "rnn_4_cliques = RNN(nb_nodes + 2, hidden_size, nb_nodes + 2)"
   ]
  },
  {
   "cell_type": "code",
   "execution_count": 72,
   "metadata": {
    "collapsed": true
   },
   "outputs": [],
   "source": [
    "criterion = nn.NLLLoss()"
   ]
  },
  {
   "cell_type": "code",
   "execution_count": 73,
   "metadata": {},
   "outputs": [
    {
     "name": "stdout",
     "output_type": "stream",
     "text": [
      "0m 9s (100 2%) 3.8151\n",
      "0m 20s (200 5%) 3.7588\n",
      "0m 32s (300 7%) 3.6952\n",
      "0m 39s (400 10%) 3.6185\n",
      "0m 47s (500 12%) 3.5134\n",
      "0m 55s (600 15%) 3.4967\n",
      "1m 3s (700 17%) 3.4838\n",
      "1m 11s (800 20%) 3.4011\n",
      "1m 18s (900 22%) 3.4243\n",
      "1m 27s (1000 25%) 3.3941\n",
      "1m 35s (1100 27%) 3.4001\n",
      "1m 43s (1200 30%) 3.2674\n",
      "1m 50s (1300 32%) 3.2381\n",
      "2m 0s (1400 35%) 3.2032\n",
      "2m 8s (1500 37%) 3.1962\n",
      "2m 17s (1600 40%) 3.1073\n",
      "2m 25s (1700 42%) 3.1262\n",
      "2m 34s (1800 45%) 3.0904\n",
      "2m 42s (1900 47%) 3.0893\n",
      "2m 50s (2000 50%) 3.0098\n",
      "2m 59s (2100 52%) 2.9978\n",
      "3m 10s (2200 55%) 2.9719\n",
      "3m 21s (2300 57%) 2.9397\n",
      "3m 31s (2400 60%) 2.9447\n",
      "3m 41s (2500 62%) 2.8458\n",
      "3m 49s (2600 65%) 2.8399\n",
      "3m 59s (2700 67%) 2.8507\n",
      "4m 7s (2800 70%) 2.8118\n",
      "4m 14s (2900 72%) 2.8200\n",
      "4m 21s (3000 75%) 2.7876\n",
      "4m 29s (3100 77%) 2.8184\n",
      "4m 36s (3200 80%) 2.7480\n",
      "4m 43s (3300 82%) 2.7637\n",
      "4m 51s (3400 85%) 2.8113\n",
      "5m 1s (3500 87%) 2.7707\n",
      "5m 9s (3600 90%) 2.8104\n",
      "5m 17s (3700 92%) 2.7341\n",
      "5m 26s (3800 95%) 2.7362\n",
      "5m 35s (3900 97%) 2.7383\n",
      "5m 43s (4000 100%) 2.7208\n"
     ]
    }
   ],
   "source": [
    "all_losses_4_cliques = training_iters(4000, rnn_4_cliques, functools.partial(train_vecs, graph=graph_4_cliques), criterion, optimizer_name=\"Adadelta\")"
   ]
  },
  {
   "cell_type": "code",
   "execution_count": 74,
   "metadata": {},
   "outputs": [
    {
     "name": "stdout",
     "output_type": "stream",
     "text": [
      "0m 7s (100 2%) 3.5037\n",
      "0m 15s (200 5%) 3.4816\n",
      "0m 25s (300 7%) 3.4623\n",
      "0m 31s (400 10%) 3.4365\n",
      "0m 39s (500 12%) 3.3910\n",
      "0m 46s (600 15%) 3.2919\n",
      "0m 53s (700 17%) 3.2115\n",
      "1m 0s (800 20%) 3.1759\n",
      "1m 8s (900 22%) 3.0779\n",
      "1m 19s (1000 25%) 3.0194\n",
      "1m 27s (1100 27%) 3.0093\n",
      "1m 36s (1200 30%) 2.9503\n",
      "1m 44s (1300 32%) 2.8771\n",
      "1m 53s (1400 35%) 2.8694\n",
      "2m 1s (1500 37%) 2.8447\n",
      "2m 9s (1600 40%) 2.8343\n",
      "2m 17s (1700 42%) 2.7808\n",
      "2m 58s (1800 45%) 2.7606\n",
      "3m 6s (1900 47%) 2.7645\n",
      "3m 13s (2000 50%) 2.7583\n",
      "3m 20s (2100 52%) 2.7393\n",
      "3m 27s (2200 55%) 2.7272\n",
      "3m 34s (2300 57%) 2.6823\n",
      "3m 41s (2400 60%) 2.6843\n",
      "3m 48s (2500 62%) 2.7152\n",
      "3m 56s (2600 65%) 2.6852\n",
      "4m 3s (2700 67%) 2.6422\n",
      "4m 11s (2800 70%) 2.6870\n",
      "4m 18s (2900 72%) 2.6346\n",
      "4m 25s (3000 75%) 2.6471\n",
      "4m 32s (3100 77%) 2.6591\n",
      "4m 39s (3200 80%) 2.6779\n",
      "4m 47s (3300 82%) 2.6280\n",
      "4m 54s (3400 85%) 2.6316\n",
      "5m 1s (3500 87%) 2.6381\n",
      "5m 9s (3600 90%) 2.6288\n",
      "5m 16s (3700 92%) 2.6307\n",
      "5m 23s (3800 95%) 2.6277\n",
      "5m 31s (3900 97%) 2.6251\n",
      "5m 38s (4000 100%) 2.6221\n"
     ]
    }
   ],
   "source": [
    "all_losses_3_cliques = training_iters(4000, rnn_3_cliques, functools.partial(train_vecs, graph=graph_3_cliques), criterion, optimizer_name=\"Adadelta\")"
   ]
  },
  {
   "cell_type": "code",
   "execution_count": 75,
   "metadata": {},
   "outputs": [],
   "source": [
    "def cliques_list_func(nb_cliques, clique_size):\n",
    "    cliques_list = [[i for i in range(a * clique_size, (a + 1) *  clique_size)] for a in range(nb_cliques)]\n",
    "    return cliques_list"
   ]
  },
  {
   "cell_type": "code",
   "execution_count": 76,
   "metadata": {},
   "outputs": [],
   "source": [
    "neurons = []\n",
    "walk = [i for i in range(40)]\n",
    "activation_list_4_cliques, cell_state_list_4_cliques, output_list_4_cliques = visualize(rnn_4_cliques, walk2input(walk, graph_4_cliques), neurons)[1:]\n",
    "#print(len(walk), len(cell_state_list[1:]))"
   ]
  },
  {
   "cell_type": "code",
   "execution_count": 77,
   "metadata": {},
   "outputs": [
    {
     "data": {
      "text/plain": [
       "<matplotlib.text.Text at 0x7fcd827fa4d0>"
      ]
     },
     "execution_count": 77,
     "metadata": {},
     "output_type": "execute_result"
    },
    {
     "data": {
      "image/png": "[encoded data removed]",
      "text/plain": [
       "<matplotlib.figure.Figure at 0x7fcd828e7a50>"
      ]
     },
     "metadata": {},
     "output_type": "display_data"
    }
   ],
   "source": [
    "cell_state_list2 = np.array(map(lambda x:x.data.numpy(), cell_state_list_4_cliques)).reshape(-1, 2)\n",
    "memory1 = cell_state_list2[:, 0][1:]\n",
    "memory2 = cell_state_list2[:, 1][1:]\n",
    "\n",
    "show_cell_activation_by_clique(walk, cliques_list_func(4, 10), [10*i for i in range(4)], memory1, True, memory2)\n",
    "plt.title(\"LSTM cell state (size 2) after each node of a walk\")"
   ]
  },
  {
   "cell_type": "code",
   "execution_count": 78,
   "metadata": {},
   "outputs": [
    {
     "data": {
      "text/plain": [
       "<matplotlib.text.Text at 0x7fcd8278c050>"
      ]
     },
     "execution_count": 78,
     "metadata": {},
     "output_type": "execute_result"
    },
    {
     "data": {
      "image/png": "[encoded data removed]",
      "text/plain": [
       "<matplotlib.figure.Figure at 0x7fcd82528910>"
      ]
     },
     "metadata": {},
     "output_type": "display_data"
    }
   ],
   "source": [
    "output_list_4_cliques2 = np.array(map(lambda x:x.data.numpy(), output_list_4_cliques)).reshape(-1, 2)\n",
    "memory1 = output_list_4_cliques2[:, 0][1:]\n",
    "memory2 = output_list_4_cliques2[:, 1][1:]\n",
    "\n",
    "show_cell_activation_by_clique(walk, cliques_list_func(4, 10), [10*i for i in range(4)], memory1, True, memory2)\n",
    "plt.title(\"LSTM output (size 2) after each node of a walk\")"
   ]
  },
  {
   "cell_type": "code",
   "execution_count": 79,
   "metadata": {
    "collapsed": true
   },
   "outputs": [],
   "source": [
    "neurons = []\n",
    "walk = [i for i in range(30)]\n",
    "activation_list_3_cliques, cell_state_list_3_cliques, output_list_3_cliques = visualize(rnn_3_cliques, walk2input(walk, graph_3_cliques), neurons)[1:]\n",
    "#print(len(walk), len(cell_state_list[1:]))"
   ]
  },
  {
   "cell_type": "code",
   "execution_count": 80,
   "metadata": {},
   "outputs": [
    {
     "data": {
      "text/plain": [
       "<matplotlib.text.Text at 0x7fcd822b3910>"
      ]
     },
     "execution_count": 80,
     "metadata": {},
     "output_type": "execute_result"
    },
    {
     "data": {
      "image/png": "[encoded data removed]",
      "text/plain": [
       "<matplotlib.figure.Figure at 0x7fcd82510f50>"
      ]
     },
     "metadata": {},
     "output_type": "display_data"
    }
   ],
   "source": [
    "cell_state_list2 = np.array(map(lambda x:x.data.numpy(), cell_state_list_3_cliques)).reshape(-1, 2)\n",
    "memory1 = cell_state_list2[:, 0][1:]\n",
    "memory2 = cell_state_list2[:, 1][1:]\n",
    "\n",
    "show_cell_activation_by_clique(walk, cliques_list_func(3, 10), [10*i for i in range(3)], memory1, True, memory2)\n",
    "plt.title(\"LSTM cell state (size 2) after each node of a walk\")"
   ]
  },
  {
   "cell_type": "code",
   "execution_count": 81,
   "metadata": {},
   "outputs": [
    {
     "data": {
      "text/plain": [
       "<matplotlib.text.Text at 0x7fcd81e11590>"
      ]
     },
     "execution_count": 81,
     "metadata": {},
     "output_type": "execute_result"
    },
    {
     "data": {
      "image/png": "[encoded data removed]",
      "text/plain": [
       "<matplotlib.figure.Figure at 0x7fcd81f2f950>"
      ]
     },
     "metadata": {},
     "output_type": "display_data"
    }
   ],
   "source": [
    "output_list_3_cliques2 = np.array(map(lambda x:x.data.numpy(), output_list_3_cliques)).reshape(-1, 2)\n",
    "memory1 = output_list_3_cliques2[:, 0][1:]\n",
    "memory2 = output_list_3_cliques2[:, 1][1:]\n",
    "\n",
    "show_cell_activation_by_clique(walk, cliques_list_func(4, 10), [10*i for i in range(4)], memory1, True, memory2)\n",
    "plt.title(\"LSTM output (size 2) after each node of a walk\")"
   ]
  },
  {
   "cell_type": "code",
   "execution_count": 89,
   "metadata": {
    "collapsed": true
   },
   "outputs": [
    {
     "name": "stdout",
     "output_type": "stream",
     "text": [
      "(42, 80)\n",
      "0m 58s (100 2%) 3.5773\n",
      "1m 38s (200 4%) 3.0811\n",
      "1m 46s (300 6%) 2.9629\n",
      "1m 54s (400 8%) 2.8581\n",
      "2m 2s (500 10%) 2.6973\n",
      "2m 12s (600 12%) 2.7461\n",
      "2m 20s (700 14%) 2.6696\n",
      "2m 28s (800 16%) 2.6454\n",
      "2m 39s (900 18%) 2.6298\n",
      "2m 47s (1000 20%) 2.6391\n",
      "2m 57s (1100 22%) 2.6161\n",
      "3m 7s (1200 24%) 2.5984\n",
      "3m 15s (1300 26%) 2.6332\n",
      "3m 23s (1400 28%) 2.5959\n",
      "3m 33s (1500 30%) 2.6092\n",
      "3m 43s (1600 32%) 2.5650\n",
      "3m 53s (1700 34%) 2.5690\n",
      "4m 1s (1800 36%) 2.5763\n",
      "4m 11s (1900 38%) 2.5517\n",
      "4m 21s (2000 40%) 2.5388\n",
      "4m 30s (2100 42%) 2.5478\n",
      "4m 40s (2200 44%) 2.5300\n",
      "4m 49s (2300 46%) 2.5418\n",
      "4m 57s (2400 48%) 2.5469\n",
      "5m 9s (2500 50%) 2.5319\n",
      "5m 18s (2600 52%) 2.5445\n",
      "5m 30s (2700 54%) 2.5401\n",
      "5m 43s (2800 56%) 2.5532\n",
      "5m 52s (2900 57%) 2.5500\n",
      "6m 5s (3000 60%) 2.5286\n",
      "6m 14s (3100 62%) 2.5235\n",
      "6m 27s (3200 64%) 2.5288\n",
      "6m 35s (3300 66%) 2.5324\n",
      "6m 46s (3400 68%) 2.5306\n",
      "6m 54s (3500 70%) 2.5328\n",
      "7m 2s (3600 72%) 2.5258\n",
      "7m 10s (3700 74%) 2.5463\n",
      "7m 22s (3800 76%) 2.5259\n",
      "7m 29s (3900 78%) 2.5409\n",
      "7m 37s (4000 80%) 2.5332\n",
      "7m 45s (4100 82%) 2.5269\n",
      "7m 53s (4200 84%) 2.5326\n",
      "8m 1s (4300 86%) 2.5312\n",
      "8m 9s (4400 88%) 2.5186\n",
      "8m 16s (4500 90%) 2.5193\n",
      "8m 23s (4600 92%) 2.5292\n",
      "8m 30s (4700 94%) 2.5310\n",
      "8m 38s (4800 96%) 2.5163\n",
      "8m 46s (4900 98%) 2.5265\n",
      "8m 53s (5000 100%) 2.5252\n"
     ]
    }
   ],
   "source": [
    "n_nodes_toy_graph = len(list(toy_graph.nodes))\n",
    "hidden_size_rnn_toy_graph = 80\n",
    "rnn_toy_graph = RNN(n_nodes_toy_graph + 2, hidden_size_rnn_toy_graph, n_nodes_toy_graph + 2)\n",
    "criterion = nn.NLLLoss()\n",
    "all_losses_toy_graph = training_iters(5000, rnn_toy_graph, functools.partial(train_vecs, graph=toy_graph), criterion, optimizer_name=\"Adadelta\")"
   ]
  },
  {
   "cell_type": "code",
   "execution_count": 90,
   "metadata": {},
   "outputs": [
    {
     "data": {
      "text/plain": [
       "<matplotlib.text.Text at 0x7fcd81cbf710>"
      ]
     },
     "execution_count": 90,
     "metadata": {},
     "output_type": "execute_result"
    },
    {
     "data": {
      "image/png": "[encoded data removed]",
      "text/plain": [
       "<matplotlib.figure.Figure at 0x7fcd8215c050>"
      ]
     },
     "metadata": {},
     "output_type": "display_data"
    }
   ],
   "source": [
    "neurons = []\n",
    "walk = [i for i in range(40)]\n",
    "activation_list_high_memory, cell_state_list_high_memory, output_list_high_memory = visualize(rnn_toy_graph, walk2input(walk, toy_graph), neurons)[1:]\n",
    "pca = decomposition.PCA(n_components=2)\n",
    "cell_state_list_high_memory = map(lambda x:x.data.numpy().flatten(), cell_state_list_high_memory)[1:]\n",
    "cell_state_list_high_memory = np.array(cell_state_list_high_memory).reshape(len(walk), rnn_toy_graph.hidden_size)\n",
    "output_list_high_memory = map(lambda x:x.data.numpy().flatten(), output_list_high_memory)[1:]\n",
    "output_list_high_memory = np.array(output_list_high_memory).reshape(len(walk), rnn_toy_graph.hidden_size)\n",
    "reduced_cell_state_list_high_memory = pca.fit_transform(cell_state_list_high_memory)\n",
    "\n",
    "memory1, memory2 = reduced_cell_state_list_high_memory[:, 0], reduced_cell_state_list_high_memory[:, 1]\n",
    "show_cell_activation_by_clique(walk, cliques_list_func(4, 10), [10 * i for i in range(4)], memory1, True, memory2)\n",
    "plt.title(\"pca on cell state (size {}) after each node\".format(hidden_size_rnn_toy_graph))"
   ]
  },
  {
   "cell_type": "code",
   "execution_count": 91,
   "metadata": {},
   "outputs": [
    {
     "data": {
      "text/plain": [
       "<matplotlib.text.Text at 0x7fcd81883590>"
      ]
     },
     "execution_count": 91,
     "metadata": {},
     "output_type": "execute_result"
    },
    {
     "data": {
      "image/png": "[encoded data removed]",
      "text/plain": [
       "<matplotlib.figure.Figure at 0x7fcd81bf7850>"
      ]
     },
     "metadata": {},
     "output_type": "display_data"
    }
   ],
   "source": [
    "reduced_output_list_high_memory = pca.fit_transform(output_list_high_memory)\n",
    "memory1, memory2 = reduced_output_list_high_memory[:, 0], reduced_output_list_high_memory[:, 1]\n",
    "show_cell_activation_by_clique(walk, cliques_list_func(4, 10), [i * 10 for i in range(4)], memory1, True, memory2)\n",
    "plt.title(\"pca on LSTM output (dim {}) after each node\".format(hidden_size_rnn_toy_graph))"
   ]
  },
  {
   "cell_type": "code",
   "execution_count": 92,
   "metadata": {
    "collapsed": true
   },
   "outputs": [],
   "source": [
    "from sklearn import decomposition"
   ]
  },
  {
   "cell_type": "code",
   "execution_count": 95,
   "metadata": {},
   "outputs": [
    {
     "name": "stdout",
     "output_type": "stream",
     "text": [
      "[1, 1, 1, 1, 1, 1, 1, 1, 3, 3, 3, 3, 0, 0, 4, 4, 4, 4, 0, 2, 5, 5, 5, 5, 5, 1, 1, 0, 0, 0, 4, 0, 0, 4, 4, 4, 0, 1, 0, 0, 0, 0, 0, 0, 4, 1, 0, 1, 1, 0, 0, 3, 0, 3, 3, 5, 5, 5, 5, 5, 1, 3, 1, 1, 0, 3, 3, 0, 2, 0, 0, 0, 0, 2, 2, 2, 2]\n",
      "[[26, 27, 28, 11, 10, 13, 15, 14, 54, 56, 51, 50, 53, 52, 55, 49, 44, 45, 43, 72, 39, 33, 32, 31, 30], [60, 61, 62, 63, 64, 65, 66, 67, 59, 58, 57, 48, 46, 47, 76, 74, 73], [29, 38, 37, 36, 35, 34], [68, 69, 24, 25, 42, 40, 41, 75, 71, 70], [20, 21, 22, 23, 12, 17, 16, 19, 18], [0, 2, 4, 6, 8, 1, 3, 5, 7, 9]]\n"
     ]
    },
    {
     "data": {
      "text/plain": [
       "<matplotlib.figure.Figure at 0x7fcd82678a90>"
      ]
     },
     "metadata": {},
     "output_type": "display_data"
    },
    {
     "data": {
      "image/png": "[encoded data removed]",
      "text/plain": [
       "<matplotlib.figure.Figure at 0x7fcd8133de50>"
      ]
     },
     "metadata": {},
     "output_type": "display_data"
    }
   ],
   "source": [
    "import community.community_louvain as ct\n",
    "def embedd_graph(graph, rnn, show_output=True):\n",
    "    nb_nodes = len(list(graph.nodes))\n",
    "    walk= [i for i in range(nb_nodes)]\n",
    "    neurons = []\n",
    "    activation_list, cell_state_list, output_list = visualize(rnn, walk2input(walk, graph), neurons)[1:]\n",
    "    pca = decomposition.PCA(n_components=2)\n",
    "    cell_state_list = map(lambda x:x.data.numpy().flatten(), cell_state_list)[1:]\n",
    "    cell_state_list = np.array(cell_state_list).reshape(len(walk), rnn.hidden_size)\n",
    "    output_list = map(lambda x:x.data.numpy().flatten(), output_list)[1:]\n",
    "    output_list = np.array(output_list).reshape(len(walk), rnn.hidden_size)\n",
    "    if show_output:\n",
    "        reduced_output_list = pca.fit_transform(output_list)\n",
    "        res1, res2 = reduced_output_list[:, 0], reduced_output_list[:, 1]\n",
    "    else:\n",
    "        reduced_cell_state_list = pca.fit_transform(cell_state_list)\n",
    "        res1, res2 = reduced_cell_state_list[:, 0], reduced_cell_state_list[:, 1]\n",
    "    part = ct.best_partition(graph)\n",
    "    print([value for value in part.values()])\n",
    "    community_list = [[int(key) for key in part.keys() if part[key]==value] for value in np.unique(part.values())]\n",
    "    print(community_list)\n",
    "    plt.figure(figsize=(20, 20))\n",
    "    show_cell_activation_by_clique(walk, community_list, [], res1, True, res2, with_text=True, figsize=(15, 15)) # trick to reuse function\n",
    "    plt.title(\"PCA on LSTM output after each node of Les Miserables graph (LSTM hidden size : {})\".format(rnn.hidden_size))\n",
    "\n",
    "embedd_graph(graph, rnn)"
   ]
  },
  {
   "cell_type": "markdown",
   "metadata": {},
   "source": [
    "# Saving the network "
   ]
  },
  {
   "cell_type": "markdown",
   "metadata": {},
   "source": [
    "import pickle"
   ]
  },
  {
   "cell_type": "markdown",
   "metadata": {
    "collapsed": true
   },
   "source": [
    "file = open('rnn_random_walk', \"wb\")"
   ]
  },
  {
   "cell_type": "markdown",
   "metadata": {
    "collapsed": true
   },
   "source": [
    "pickle.dump(rnn, file)"
   ]
  }
 ],
 "metadata": {
  "kernelspec": {
   "display_name": "Python 2",
   "language": "python",
   "name": "python2"
  },
  "language_info": {
   "codemirror_mode": {
    "name": "ipython",
    "version": 2
   },
   "file_extension": ".py",
   "mimetype": "text/x-python",
   "name": "python",
   "nbconvert_exporter": "python",
   "pygments_lexer": "ipython2",
   "version": "2.7.14"
  }
 },
 "nbformat": 4,
 "nbformat_minor": 1
}
