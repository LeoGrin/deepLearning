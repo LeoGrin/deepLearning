{
 "cells": [
  {
   "cell_type": "code",
   "execution_count": 1,
   "metadata": {
    "collapsed": false
   },
   "outputs": [
    {
     "name": "stdout",
     "output_type": "stream",
     "text": [
      "Populating the interactive namespace from numpy and matplotlib\n"
     ]
    }
   ],
   "source": [
    "%pylab inline"
   ]
  },
  {
   "cell_type": "code",
   "execution_count": 2,
   "metadata": {
    "collapsed": true
   },
   "outputs": [],
   "source": [
    "import matplotlib.pyplot as plt"
   ]
  },
  {
   "cell_type": "code",
   "execution_count": 3,
   "metadata": {
    "collapsed": true
   },
   "outputs": [],
   "source": [
    "import numpy as np\n",
    "import pandas as pd\n",
    "import networkx as nx"
   ]
  },
  {
   "cell_type": "code",
   "execution_count": 4,
   "metadata": {
    "collapsed": true
   },
   "outputs": [],
   "source": [
    "from sklearn.model_selection import train_test_split"
   ]
  },
  {
   "cell_type": "markdown",
   "metadata": {},
   "source": [
    "# Load the datasets"
   ]
  },
  {
   "cell_type": "code",
   "execution_count": 5,
   "metadata": {
    "collapsed": false
   },
   "outputs": [],
   "source": [
    "df_nodes = pd.read_csv(\"datasets/en-wikipedia.humans.ungraph.names.txt\", comment=\"#\", delimiter=\"\\t\", names=[\"id\", \"name\"])"
   ]
  },
  {
   "cell_type": "code",
   "execution_count": 6,
   "metadata": {
    "collapsed": true
   },
   "outputs": [],
   "source": [
    "df_edges = pd.read_csv(\"datasets/en-wikipedia.humans.ungraph.txt\", comment=\"#\", delimiter=\"\\t\", names=[\"id\", \"src\", \"dst\"])"
   ]
  },
  {
   "cell_type": "code",
   "execution_count": 7,
   "metadata": {
    "collapsed": false
   },
   "outputs": [],
   "source": [
    "df_features = pd.read_csv(\"datasets/en-wikipedia.humans.ungraph.features.txt\", comment=\"#\", delimiter=\"\\t\", names=[\"id\", \"features\"])\n",
    "\n",
    "df_features[\"features\"] = df_features.features.str.split(\" \")"
   ]
  },
  {
   "cell_type": "code",
   "execution_count": 8,
   "metadata": {
    "collapsed": false
   },
   "outputs": [
    {
     "data": {
      "text/html": [
       "<div>\n",
       "<style>\n",
       "    .dataframe thead tr:only-child th {\n",
       "        text-align: right;\n",
       "    }\n",
       "\n",
       "    .dataframe thead th {\n",
       "        text-align: left;\n",
       "    }\n",
       "\n",
       "    .dataframe tbody tr th {\n",
       "        vertical-align: top;\n",
       "    }\n",
       "</style>\n",
       "<table border=\"1\" class=\"dataframe\">\n",
       "  <thead>\n",
       "    <tr style=\"text-align: right;\">\n",
       "      <th></th>\n",
       "      <th>id</th>\n",
       "      <th>name</th>\n",
       "    </tr>\n",
       "  </thead>\n",
       "  <tbody>\n",
       "    <tr>\n",
       "      <th>0</th>\n",
       "      <td>0</td>\n",
       "      <td>United States</td>\n",
       "    </tr>\n",
       "    <tr>\n",
       "      <th>1</th>\n",
       "      <td>1</td>\n",
       "      <td>Association football</td>\n",
       "    </tr>\n",
       "    <tr>\n",
       "      <th>2</th>\n",
       "      <td>2</td>\n",
       "      <td>England</td>\n",
       "    </tr>\n",
       "    <tr>\n",
       "      <th>3</th>\n",
       "      <td>3</td>\n",
       "      <td>Germany</td>\n",
       "    </tr>\n",
       "    <tr>\n",
       "      <th>4</th>\n",
       "      <td>4</td>\n",
       "      <td>World War II</td>\n",
       "    </tr>\n",
       "  </tbody>\n",
       "</table>\n",
       "</div>"
      ],
      "text/plain": [
       "   id                  name\n",
       "0   0         United States\n",
       "1   1  Association football\n",
       "2   2               England\n",
       "3   3               Germany\n",
       "4   4          World War II"
      ]
     },
     "execution_count": 8,
     "metadata": {},
     "output_type": "execute_result"
    }
   ],
   "source": [
    "df_features_names = pd.read_csv(\"datasets/en-wikipedia.humans.ungraph.features.names.txt\", comment=\"#\", delimiter=\"\\t\", names=[\"id\", \"name\"])\n",
    "df_features_names.head()"
   ]
  },
  {
   "cell_type": "code",
   "execution_count": 9,
   "metadata": {
    "collapsed": true
   },
   "outputs": [],
   "source": [
    "df_lists_names = pd.read_csv(\"datasets/en-wikipedia.humans.lists.names\", comment=\"#\", delimiter=\"\\t\", names=[\"id\", \"name\", \"human_proportion\"])"
   ]
  },
  {
   "cell_type": "code",
   "execution_count": 10,
   "metadata": {
    "collapsed": true
   },
   "outputs": [],
   "source": [
    "df_lists = pd.read_csv(\"datasets/en-wikipedia.humans.lists\", comment=\"#\", delimiter=\"\\t\", names=[\"id\", \"list\"])"
   ]
  },
  {
   "cell_type": "code",
   "execution_count": 11,
   "metadata": {
    "collapsed": true
   },
   "outputs": [],
   "source": [
    "list_presidents_id = map(int, df_lists.iloc[10662][\"list\"].split())"
   ]
  },
  {
   "cell_type": "code",
   "execution_count": 12,
   "metadata": {
    "collapsed": false
   },
   "outputs": [],
   "source": [
    "list_presidents_vect = df_features[df_features[\"id\"].isin(list_presidents_id)]\n",
    "list_losers_vect = df_features[~df_features[\"id\"].isin(list_presidents_id)]"
   ]
  },
  {
   "cell_type": "code",
   "execution_count": 13,
   "metadata": {
    "collapsed": false
   },
   "outputs": [
    {
     "name": "stdout",
     "output_type": "stream",
     "text": [
      "name : George W. Bush \n",
      " features:\n",
      "4                                             World War II\n",
      "5                                                   London\n",
      "28                        Democratic Party (United States)\n",
      "32                        Republican Party (United States)\n",
      "40                                        Bachelor of Arts\n",
      "42                                      The New York Times\n",
      "45                                                   China\n",
      "50                  United States House of Representatives\n",
      "109                                                  Texas\n",
      "112                                        Yale University\n",
      "133                                               Baseball\n",
      "136                                   2008 Summer Olympics\n",
      "137                                          Massachusetts\n",
      "151                                                   Iran\n",
      "159                                                   Ohio\n",
      "166                         President of the United States\n",
      "248                                                Houston\n",
      "257                                        Time (magazine)\n",
      "276                                    The Washington Post\n",
      "322                                                 Dallas\n",
      "323                                              Jerusalem\n",
      "324                                                   Iraq\n",
      "327                                              Louisiana\n",
      "358                                               Belgrade\n",
      "363                                            Connecticut\n",
      "377                                       Associated Press\n",
      "379                          University of Texas at Austin\n",
      "449                                         Businessperson\n",
      "451                     Supreme Court of the United States\n",
      "499                                       Great Depression\n",
      "                                ...                       \n",
      "507009                                        Bixby letter\n",
      "510327                  Texas gubernatorial election, 1998\n",
      "514320                                        Vision thing\n",
      "527624                  Texas gubernatorial election, 1994\n",
      "541328          Papahānaumokuākea Marine National Monument\n",
      "546615                                          Spectrum 7\n",
      "546654                          Alabama Air National Guard\n",
      "592447                     2008 State of the Union Address\n",
      "592464                    President's Surveillance Program\n",
      "592501                             Clear Skies Act of 2003\n",
      "592864                     2005 State of the Union Address\n",
      "593010                     2002 State of the Union Address\n",
      "598513          George W. Bush substance abuse controversy\n",
      "619843           Offshore oil and gas in the United States\n",
      "690055                           Operation Mountain Thrust\n",
      "692638             United States housing market correction\n",
      "699716                   Iraqi governorate elections, 2009\n",
      "717470              Political effects of Hurricane Katrina\n",
      "718447                           147th Reconnaissance Wing\n",
      "744223                     Wind power in the United States\n",
      "744224                                 Wind power in Texas\n",
      "778457                                     Battle Assembly\n",
      "782181                     Bibliography of Abraham Lincoln\n",
      "809157     List of George W. Bush legislation and programs\n",
      "809194               Political positions of George W. Bush\n",
      "809408                                     Peter D. Feaver\n",
      "1013492                                          Jesus Day\n",
      "1054347                Electoral history of George W. Bush\n",
      "1094059                Professional life of George W. Bush\n",
      "1094568                                 187th Fighter Wing\n",
      "Name: name, Length: 391, dtype: object\n"
     ]
    }
   ],
   "source": [
    "def show_node(id, df_nodes, df_features, df_features_name, show_features=True):\n",
    "    name = df_nodes[df_nodes[\"id\"]==id][\"name\"].values[0]\n",
    "    features = map(int, df_features[df_features[\"id\"]==id][\"features\"].values[0])\n",
    "    features_names = df_features_names[df_features_names[\"id\"].isin(features)][\"name\"]\n",
    "    if show_features:\n",
    "        print(\"name : {} \\n features:\\n{}\".format(name, features_names))\n",
    "    else:\n",
    "        print('name: {}'.format(name))\n",
    "\n",
    "show_node(list_presidents_id[1], df_nodes, df_features, df_features_names)\n"
   ]
  },
  {
   "cell_type": "markdown",
   "metadata": {},
   "source": [
    "## Fight unbalanced labels with under sampling"
   ]
  },
  {
   "cell_type": "code",
   "execution_count": 14,
   "metadata": {
    "collapsed": false,
    "scrolled": true
   },
   "outputs": [],
   "source": [
    "def under_sampling(list_little_class_id, list_others_id, class_ratio=1):\n",
    "    n = len(list_little_class_id) * (1 / class_ratio)\n",
    "    vect = np.array(list_others_id)\n",
    "    return np.random.choice(vect, n)\n",
    "#under_sampling(list_presidents_id, list_losers_vect[\"id\"])"
   ]
  },
  {
   "cell_type": "code",
   "execution_count": 15,
   "metadata": {
    "collapsed": false
   },
   "outputs": [],
   "source": [
    "def split(list_id, total_test_size=0.5, validation_size=0.25):\n",
    "    \"\"\"Split the data between train and test. TODO : validation vs test\"\"\"\n",
    "    vect_train_id, vect_test_id = train_test_split(list_id, test_size=total_test_size)\n",
    "    vect_train_id, vect_validation_id = train_test_split(vect_train_id, test_size=validation_size)\n",
    "    return vect_train_id, vect_validation_id, vect_test_id\n",
    "\n",
    "def construct_vect_label(vect_train_id_little, vect_test_id_litte, vect_validation_id_little, list_others_id):\n",
    "    \"\"\" under sample the big class on the little one, add the appropriate labels and shuffle\"\"\"\n",
    "    vect_train_id_others = under_sampling(vect_train_id_little, list_losers_vect[\"id\"])\n",
    "    vect_test_id_others = under_sampling(vect_test_id_little, list_losers_vect[\"id\"])\n",
    "    vect_validation_id_others = under_sampling(vect_validation_id_little, list_losers_vect[\"id\"])\n",
    "    vect_train_id = np.concatenate((vect_train_id_little, vect_train_id_others))\n",
    "    vect_test_id = np.concatenate((vect_test_id_little, vect_test_id_others))\n",
    "    vect_validation_id = np.concatenate((vect_validation_id_little, vect_validation_id_others))\n",
    "    vect_train_label = np.concatenate((np.ones(len(vect_train_id_little)), np.zeros(len(vect_train_id_others))))\n",
    "    vect_test_label = np.concatenate((np.ones(len(vect_test_id_little)), np.zeros(len(vect_test_id_others))))\n",
    "    vect_validation_label = np.concatenate((np.ones(len(vect_validation_id_little)), np.zeros(len(vect_validation_id_others))))\n",
    "    liste_indices_train = [i for i in range(len(vect_train_id))]\n",
    "    liste_indices_test = [i for i in range(len(vect_test_id))]\n",
    "    liste_indices_validation = [i for i in range(len(vect_validation_id))]\n",
    "    np.random.shuffle(liste_indices_train)\n",
    "    np.random.shuffle(liste_indices_test)\n",
    "    np.random.shuffle(liste_indices_validation)\n",
    "    vect_train_id, vect_train_label = vect_train_id[liste_indices_train], vect_train_label[liste_indices_train]\n",
    "    vect_test_id, vect_test_label = vect_test_id[liste_indices_test], vect_test_label[liste_indices_test]\n",
    "    vect_validation_id, vect_validation_label = vect_validation_id[liste_indices_validation], vect_validation_label[liste_indices_validation]\n",
    "    return vect_train_id, vect_validation_id, vect_test_id, vect_train_label, vect_validation_label, vect_test_label\n",
    "\n",
    "\n"
   ]
  },
  {
   "cell_type": "code",
   "execution_count": null,
   "metadata": {
    "collapsed": true
   },
   "outputs": [],
   "source": []
  },
  {
   "cell_type": "markdown",
   "metadata": {},
   "source": [
    "# First approach : features-based"
   ]
  },
  {
   "cell_type": "code",
   "execution_count": 53,
   "metadata": {
    "collapsed": false
   },
   "outputs": [],
   "source": [
    "list_president_id = np.random.shuffle(list_presidents_id)\n",
    "vect_train_id_little, vect_validation_id_little,  vect_test_id_little = split(list_presidents_id)\n",
    "\n",
    "vect_train_id, vect_test_id, vect_validation_id, vect_train_label, vect_validation_label, vect_test_label = construct_vect_label(vect_train_id_little, vect_test_id_little, vect_validation_id_little, list_losers_vect[\"id\"])\n"
   ]
  },
  {
   "cell_type": "code",
   "execution_count": 54,
   "metadata": {
    "collapsed": false
   },
   "outputs": [],
   "source": [
    "vect_train_features, vect_validation_features, vect_test_features = df_features[df_features[\"id\"].isin(vect_train_id)][\"features\"].values, df_features[df_features[\"id\"].isin(vect_validation_id)][\"features\"],  df_features[df_features[\"id\"].isin(vect_test_id)][\"features\"]"
   ]
  },
  {
   "cell_type": "markdown",
   "metadata": {},
   "source": [
    "### Binarize the features"
   ]
  },
  {
   "cell_type": "code",
   "execution_count": 543,
   "metadata": {
    "collapsed": true
   },
   "outputs": [],
   "source": [
    "from sklearn import preprocessing"
   ]
  },
  {
   "cell_type": "code",
   "execution_count": 544,
   "metadata": {
    "collapsed": true
   },
   "outputs": [],
   "source": [
    "def binarize(list_features, lb):\n",
    "    list_binarized_features = [np.logical_or.reduce(lb.transform(np.array(a).astype(int))).astype(int) for a in list_features]\n",
    "    return np.array(list_binarized_features)"
   ]
  },
  {
   "cell_type": "code",
   "execution_count": null,
   "metadata": {
    "collapsed": true
   },
   "outputs": [],
   "source": [
    "lb = preprocessing.LabelBinarizer()\n",
    "lb.fit(df_features_names[\"id\"].values)"
   ]
  },
  {
   "cell_type": "code",
   "execution_count": 595,
   "metadata": {
    "collapsed": false
   },
   "outputs": [],
   "source": [
    "vect_train_bin_features = binarize(vect_train_features, lb)\n",
    "vect_validation_bin_features = binarize(vect_validation_features, lb)\n",
    "vect_test_bin_features = binarize(vect_test_features, lb)"
   ]
  },
  {
   "cell_type": "code",
   "execution_count": 587,
   "metadata": {
    "collapsed": true
   },
   "outputs": [],
   "source": [
    "all_id = df_features[\"id\"].values\n",
    "all_id = all_id[~np.isin(all_id, list_presidents_id)]\n",
    "all_with_features = df_features[df_features[\"id\"].isin(all_id)][\"features\"].values\n",
    "all_with_features = all_with_features[~pd.isnull(all_with_features)]"
   ]
  },
  {
   "cell_type": "code",
   "execution_count": 588,
   "metadata": {
    "collapsed": false
   },
   "outputs": [
    {
     "name": "stdout",
     "output_type": "stream",
     "text": [
      "CPU times: user 11.5 s, sys: 1.18 s, total: 12.7 s\n",
      "Wall time: 12.7 s\n"
     ]
    }
   ],
   "source": [
    "%%time\n",
    "all_with_bin_features = binarize(all_with_features[:100], lb)"
   ]
  },
  {
   "cell_type": "code",
   "execution_count": 596,
   "metadata": {
    "collapsed": false
   },
   "outputs": [
    {
     "name": "stdout",
     "output_type": "stream",
     "text": [
      "((122,), (112, 1184763))\n"
     ]
    }
   ],
   "source": [
    "test_id = np.concatenate((all_id[:100], vect_test_id_little))\n",
    "test_features = np.concatenate((all_with_bin_features, vect_test_bin_features))\n",
    "print(test_id.shape, test_features.shape)"
   ]
  },
  {
   "cell_type": "code",
   "execution_count": 592,
   "metadata": {
    "collapsed": false
   },
   "outputs": [
    {
     "name": "stdout",
     "output_type": "stream",
     "text": [
      "[281659, 239617, 846031, 286833, 4121234, 238701]\n"
     ]
    }
   ],
   "source": [
    "print(vect_test_id_little)"
   ]
  },
  {
   "cell_type": "markdown",
   "metadata": {},
   "source": [
    "# Import neural networks"
   ]
  },
  {
   "cell_type": "code",
   "execution_count": 453,
   "metadata": {
    "collapsed": true
   },
   "outputs": [],
   "source": [
    "import torch\n",
    "from torch.autograd import Variable\n",
    "import torch.nn as nn\n",
    "import torch.nn.functional as F\n",
    "import torch.optim as optim\n",
    "from torch.utils.data import Dataset, DataLoader, TensorDataset\n",
    "import functools"
   ]
  },
  {
   "cell_type": "code",
   "execution_count": 454,
   "metadata": {
    "collapsed": true
   },
   "outputs": [],
   "source": [
    "def init_weights(m, i):\n",
    "    if type(m) == nn.Linear:\n",
    "        m.weight.data.fill_(i)\n",
    "\n",
    "def init_weight_normal(neuron, mean, std):\n",
    "    if type(neuron) == nn.Linear:\n",
    "        neuron.weight.data.normal_(mean, std)\n",
    "\n",
    "def init_weight_relu(neuron):\n",
    "    if type(neuron) == nn.Linear:\n",
    "        n = len(neuron.weight.data)\n",
    "        neuron.weight.data.normal_(0, np.sqrt(2. / n))\n",
    "        \n",
    "def init_normalized_bengio(neuron):\n",
    "    if type(neuron) == nn.Linear:\n",
    "        n_output, n_input = neuron.weight.data.numpy().shape\n",
    "        neuron.weight.data.uniform_(0, np.sqrt(6 / (n_input + n_output)))\n",
    "        \n",
    "def init_uniform(neuron):\n",
    "    if type(neuron) == nn.Linear:\n",
    "        n_output, n_input = neuron.weight.data.numpy().shape\n",
    "        neuron.weight.data.uniform_(0, np.sqrt(1 / (n_input)))\n",
    "        \n",
    "def normalize(vect):\n",
    "    vect = (vect - np.mean(vect)) / np.std(vect)\n",
    "    return vect\n",
    "\n",
    "    \n",
    "def weight_scaling_inference_rule(net, p_init, p_hidden):\n",
    "    \"\"\"Multiply the weight of each layer by its probability of not being droppped out during training to average bagging\"\"\"\n",
    "    list(net.children())[0].weight.data *= (1-p_init)\n",
    "    for neuron in list(net.children())[1:]:\n",
    "        if neuron.type == nn.Linear:\n",
    "            neuron.weight.data *= (1-p_hidden)\n",
    "        "
   ]
  },
  {
   "cell_type": "code",
   "execution_count": 455,
   "metadata": {
    "collapsed": true
   },
   "outputs": [],
   "source": [
    "class Net5(nn.Module):\n",
    "    \n",
    "    def __init__(self, n_features, n_classes, dropout=(0, 0)):\n",
    "        super(Net5, self).__init__()\n",
    "        self.p_init = dropout[0]\n",
    "        self.p_hidden = dropout[1]\n",
    "        self.fc1 = nn.Linear(n_features, 20, True)\n",
    "        self.fc2 = nn.Linear(20, 20, True)\n",
    "        self.fc3 = nn.Linear(20, 20, True)\n",
    "        self.fc4 = nn.Linear(20, 20, True)\n",
    "        #self.fc5 = nn.Linear(20, 20, True)\n",
    "        #self.fc6 = nn.Linear(10, 20, True)\n",
    "        #self.fc7 = nn.Linear(20, 20, True)\n",
    "        #self.fc11 = nn.Linear(20, 20, True)\n",
    "        #self.fc12 = nn.Linear(20, 20, True)\n",
    "        self.fc13 = nn.Linear(20, n_classes, True)\n",
    "        self.fc14 = nn.LogSoftmax()\n",
    "        self.criterion = nn.NLLLoss()\n",
    "\n",
    "    def forward(self, x):\n",
    "        x = x.view(x.size(0), -1)\n",
    "        x = F.relu(F.dropout(self.fc1(x), p=self.p_init, training=self.training))\n",
    "        x = F.relu(F.dropout(self.fc2(x), p=self.p_hidden, training=self.training))\n",
    "        x = F.relu(F.dropout(self.fc3(x), p=self.p_hidden, training=self.training))\n",
    "        x = F.relu(F.dropout(self.fc4(x), p=self.p_hidden, training=self.training))\n",
    "        #x = F.relu(self.fc5(x))\n",
    "        #x = F.relu(self.fc6(x))\n",
    "        #x = F.relu(self.fc7(x))\n",
    "        #x = F.relu(self.fc11(x))\n",
    "        #x = F.relu(self.fc12(x))\n",
    "        x = self.fc13(x)\n",
    "        x = self.fc14(x)\n",
    "        return x"
   ]
  },
  {
   "cell_type": "code",
   "execution_count": 518,
   "metadata": {
    "collapsed": true
   },
   "outputs": [],
   "source": [
    "from sklearn.base import BaseEstimator, ClassifierMixin\n",
    "import copy\n",
    "\n",
    "class MultiInitialisationClassifier(BaseEstimator, ClassifierMixin):\n",
    "    \"\"\" Sklearn-compatible classifier that implement a pytorch feedforward neural network \n",
    "    and tries several weight initialisation in its \"fit\" method\"\"\"\n",
    "    \n",
    "    \n",
    "    def __init__(self, net_class=nn.Sequential, criterion=nn.NLLLoss(), batch_size=32, n_epochs=10, \n",
    "                 n_inits_per_optimizer=15, max_fail=4, dropout = (0, 0), init_function=init_weight_relu, validation_set=None,\n",
    "                 optimizer_classes={\"Adadelta\":functools.partial(optim.Adadelta, weight_decay=0.01)}):\n",
    "        \n",
    "        self.trained_net = None\n",
    "        self.dropout = dropout\n",
    "        self.p_init = dropout[0]\n",
    "        self.p_hidden = dropout[1]\n",
    "        self.criterion = criterion\n",
    "        self.net_class = net_class\n",
    "        self.batch_size = batch_size\n",
    "        self.n_epochs = n_epochs\n",
    "        self.n_inits_per_optimizer= n_inits_per_optimizer\n",
    "        self.max_fail= max_fail\n",
    "        self.optimizer_classes = optimizer_classes\n",
    "        self.init_function = init_function\n",
    "        self.validation_set = validation_set\n",
    "    \n",
    "    def multi_init(self):\n",
    "        net_list = list()\n",
    "        for i, key in enumerate(self.optimizer_classes.keys()):\n",
    "            for k in range(self.n_inits_per_optimizer):\n",
    "                net = self.net_class_init()       \n",
    "                net.apply(self.init_function)\n",
    "                #net.apply(init_uniform)\n",
    "                net.train()\n",
    "                net_list.append([net, self.optimizer_classes[key](net.parameters()), 0.0])\n",
    "        return net_list\n",
    "    \n",
    "    def load_data(self, dataset):\n",
    "        trainloader = DataLoader(dataset, batch_size = self.batch_size, shuffle=True)\n",
    "        return trainloader\n",
    "    \n",
    "    def fit(self, X, y, n_epochs=None,\n",
    "            validation_set=None, max_fail=5, thresold_fail=1.5):\n",
    "        \n",
    "        print(self.dropout)\n",
    "        print(self.batch_size)\n",
    "        print(self.optimizer_classes)\n",
    "        self.p_init = self.dropout[0]\n",
    "        self.p_hidden = self.dropout[1]\n",
    "        self.net_class_init=functools.partial(self.net_class, n_features=X.shape[1], n_classes=len(np.unique(y)),dropout=self.dropout)\n",
    "        if n_epochs == None:\n",
    "            n_epochs = self.n_epochs\n",
    "        if validation_set == None:\n",
    "            validation_set = self.validation_set\n",
    "\n",
    "        ## Load the data\n",
    "        input, target = torch.from_numpy(X), torch.from_numpy(y)\n",
    "        dataset = TensorDataset(input, target)\n",
    "        trainloader = self.load_data(dataset)\n",
    "        \n",
    "        ## Create the different initialisation (i.e create different nets)\n",
    "        net_list = self.multi_init()\n",
    "\n",
    "        ## Train the nets\n",
    "        print(\"BEGINNING TRAINING\")\n",
    "        loss_list = list()\n",
    "        loss_list_validation = list()\n",
    "        best_net_on_validation = [None, np.inf]\n",
    "        for epoch in range(n_epochs):\n",
    "            for net in net_list :\n",
    "                net[2] = 0.0\n",
    "                n_iter = 0\n",
    "            for data in trainloader:\n",
    "                input, target = data\n",
    "                target = target.view(-1)\n",
    "                input, target = Variable(input).float(), Variable(target).long()\n",
    "                for i in range(len(net_list)):\n",
    "                    net, optimizer, _ = net_list[i]\n",
    "                    optimizer.zero_grad()\n",
    "                    output = net(input)\n",
    "                    loss = self.criterion(output, target)\n",
    "                    loss.backward()\n",
    "                    optimizer.step()\n",
    "                    net_list[i][2] += loss.data[0]\n",
    "                n_iter += 1\n",
    "            index_min = np.nanargmin([net[2] for net in net_list])\n",
    "            print(net_list[index_min][2] / n_iter)\n",
    "            loss_list.append(net_list[index_min][2] / n_iter)\n",
    "            ## Check the loss on the validation set and stop if it's increasing for at least max_fail epochs \n",
    "            #  or go back above thresold_fail * (minimum loss attained on the validation set)\n",
    "            if validation_set:\n",
    "                # copy the best net and make it in evaluation mode for scoring\n",
    "                best_net = copy.deepcopy(net_list[index_min][0])\n",
    "                weight_scaling_inference_rule(best_net, self.p_init, self.p_hidden)\n",
    "                best_net.eval()\n",
    "                score = self.score(validation_set[0], validation_set[1], best_net)\n",
    "                print(score)\n",
    "                loss_list_validation.append(score)\n",
    "                if score < best_net_on_validation[1]: #WARNING : loss or score ???\n",
    "                    best_net_on_validation = [best_net, score]\n",
    "                if (score > thresold_fail * best_net_on_validation[1] or\n",
    "                    max_fail < len(loss_list_validation) \n",
    "                    and (np.array([loss_list_validation[i] - loss_list_validation[i-1] for i in range(- 1, - max_fail - 1, - 1)]) > 0).all()\n",
    "                    ) :\n",
    "                    print(\"EARLY STOPPING\")\n",
    "                    self.trained_net = best_net_on_validation[0]\n",
    "                    return loss_list, loss_list_validation\n",
    "            ##\n",
    "            \n",
    "            if len(net_list) > 1:\n",
    "                del net_list[np.argmax([net[2] for net in net_list])]\n",
    "            print(epoch)\n",
    "            \n",
    "        #self.trained_net = best_net_on_validation[0]\n",
    "        self.trained_net = net_list[-1][0] # for training on train\n",
    "        l = loss_list, loss_list_validation #before\n",
    "        #return self #for sklearn\n",
    "        return l\n",
    "    \n",
    "    def predict(self, X):\n",
    "        if not self.trained_net:\n",
    "            raise RuntimeError(\"You must train the classifier before predicting !\")\n",
    "        previous_state = self.trained_net.training\n",
    "        self.trained_net.eval()\n",
    "        input = Variable(torch.from_numpy(X)).float()\n",
    "        output = self.trained_net(input)\n",
    "        predicted = torch.max(output.data, 1)[1]\n",
    "        self.trained_net.training = previous_state\n",
    "        return predicted.numpy()\n",
    "    \n",
    "        \n",
    "    def predict_proba(self, X, net=None):\n",
    "        if not net and  not self.trained_net:\n",
    "            raise RuntimeError(\"You must train the classifier before predicting !\")\n",
    "        if not net:\n",
    "            net = self.trained_net\n",
    "        previous_state = net.training\n",
    "        net.eval()\n",
    "        input = Variable(torch.from_numpy(X)).float()\n",
    "        output = net(input)\n",
    "        predicted = output.data\n",
    "        net.training = previous_state\n",
    "        return predicted.numpy()\n",
    "    \n",
    "    def score(self, X, y, net=None):\n",
    "        if not net and  not self.trained_net:\n",
    "            raise RuntimeError(\"You must train the classifier before scoring !\")\n",
    "        if not net:\n",
    "            net = self.trained_net\n",
    "        previous_state = net.training\n",
    "        net.eval()\n",
    "        input, target = Variable(torch.from_numpy(X)).float(), Variable(torch.from_numpy(y)).long()\n",
    "        output = net(input)\n",
    "        net.training = previous_state\n",
    "        return self.criterion(output, target).data[0]\n",
    "\n",
    "            \n"
   ]
  },
  {
   "cell_type": "markdown",
   "metadata": {},
   "source": [
    "## Use the network on our features"
   ]
  },
  {
   "cell_type": "code",
   "execution_count": 519,
   "metadata": {
    "collapsed": false
   },
   "outputs": [
    {
     "name": "stdout",
     "output_type": "stream",
     "text": [
      "(0.0, 0.0)\n",
      "64\n",
      "{'Adadelta': <functools.partial object at 0x7f012d114af8>}\n",
      "BEGINNING TRAINING\n",
      "2.09693551064\n",
      "1.1797901392\n",
      "0\n",
      "0.793516159058\n",
      "1.00081133842\n",
      "1\n",
      "0.52411031723\n",
      "0.973843514919\n",
      "2\n",
      "0.401229858398\n",
      "0.982237100601\n",
      "3\n",
      "0.331692188978\n",
      "1.00360631943\n",
      "4\n",
      "0.28460842371\n",
      "1.01981663704\n",
      "5\n",
      "0.242386385798\n",
      "1.03612220287\n",
      "6\n",
      "0.215521082282\n",
      "1.04788577557\n",
      "7\n",
      "0.191067159176\n",
      "1.06558179855\n",
      "8\n",
      "0.155723959208\n",
      "1.07663834095\n",
      "9\n",
      "0.141427263618\n",
      "1.08339929581\n",
      "10\n",
      "0.13139142096\n",
      "1.09137237072\n",
      "11\n",
      "0.122173517942\n",
      "1.09740436077\n",
      "12\n",
      "0.115887567401\n",
      "1.10260260105\n",
      "13\n",
      "0.107891656458\n",
      "1.11246061325\n",
      "14\n",
      "0.102390140295\n",
      "1.11300265789\n",
      "15\n",
      "0.0958781167865\n",
      "1.12244427204\n",
      "16\n",
      "0.0913858488202\n",
      "1.1258546114\n",
      "17\n",
      "0.0865251496434\n",
      "1.13415670395\n",
      "18\n",
      "0.0831307098269\n",
      "1.14129757881\n",
      "19\n",
      "0.0787162855268\n",
      "1.1456887722\n",
      "20\n",
      "0.0753917992115\n",
      "1.14957666397\n",
      "21\n",
      "0.072243720293\n",
      "1.14458990097\n",
      "22\n",
      "0.0693807825446\n",
      "1.14996898174\n",
      "23\n",
      "0.0659587979317\n",
      "1.15598380566\n",
      "24\n",
      "0.0634498596191\n",
      "1.16444063187\n",
      "25\n",
      "0.0609870217741\n",
      "1.15720033646\n",
      "26\n",
      "0.0576993077993\n",
      "1.1645052433\n",
      "27\n",
      "0.0549203492701\n",
      "1.16861450672\n",
      "28\n",
      "0.0524120181799\n",
      "1.17171406746\n",
      "29\n",
      "0.0501121170819\n",
      "1.17230927944\n",
      "30\n",
      "0.0483967401087\n",
      "1.17261993885\n",
      "31\n",
      "0.0465942956507\n",
      "1.17608880997\n",
      "32\n",
      "0.0447632111609\n",
      "1.18458414078\n",
      "33\n",
      "0.0430163107812\n",
      "1.18979024887\n",
      "34\n",
      "0.0409504175186\n",
      "1.19901645184\n",
      "35\n",
      "0.0388411954045\n",
      "1.19650638103\n",
      "36\n",
      "0.0374021492898\n",
      "1.20889806747\n",
      "37\n",
      "0.0358666218817\n",
      "1.21299862862\n",
      "38\n",
      "0.0344574786723\n",
      "1.21961295605\n",
      "39\n",
      "CPU times: user 3min 41s, sys: 49.4 s, total: 4min 30s\n",
      "Wall time: 1min 59s\n"
     ]
    }
   ],
   "source": [
    "%%time\n",
    "optimizer_classes = { #\"SGD lr=0.1 momentum=0.9\":functools.partial(optim.SGD, lr=1, momentum=0.9, weight_decay=0.01), \n",
    "                         #\"Adam lr=0.1\":functools.partial(optim.Adam, lr=0.1, weight_decay=0.01), \n",
    "                         \"Adadelta\":functools.partial(optim.Adadelta, weight_decay=0.01),\n",
    "                         #\"RMSprop lr=0.02\":functools.partial(optim.RMSprop, lr=1.2, weight_decay=0.01)\n",
    "                        }\n",
    "clf = MultiInitialisationClassifier(Net5, nn.NLLLoss(), dropout=(0., 0.), optimizer_classes=optimizer_classes, n_epochs = 40 , n_inits_per_optimizer = 7, batch_size=64,\n",
    "       validation_set=[vect_validation_bin_features,vect_validation_label], max_fail = 4)\n",
    "l = clf.fit(vect_train_bin_features, vect_train_label, max_fail = 80, thresold_fail = 25)"
   ]
  },
  {
   "cell_type": "code",
   "execution_count": 520,
   "metadata": {
    "collapsed": false
   },
   "outputs": [
    {
     "name": "stdout",
     "output_type": "stream",
     "text": [
      "Variable containing:\n",
      " 3.5858\n",
      "[torch.FloatTensor of size 1]\n",
      "\n"
     ]
    }
   ],
   "source": [
    "output0, target0 = clf.predict_proba(vect_test_bin_features), vect_test_label\n",
    "output = Variable(torch.from_numpy(output0)).float()\n",
    "target = Variable(torch.from_numpy(target0)).long()\n",
    "criterion = nn.NLLLoss()\n",
    "loss = criterion(output, target)\n",
    "print(loss)"
   ]
  },
  {
   "cell_type": "code",
   "execution_count": 521,
   "metadata": {
    "collapsed": false
   },
   "outputs": [
    {
     "name": "stdout",
     "output_type": "stream",
     "text": [
      "Variable containing:\n",
      "1.00000e-02 *\n",
      "  3.3070\n",
      "[torch.FloatTensor of size 1]\n",
      "\n"
     ]
    }
   ],
   "source": [
    "output0, target0 = clf.predict_proba(vect_train_bin_features), vect_train_label\n",
    "output = Variable(torch.from_numpy(output0)).float()\n",
    "target = Variable(torch.from_numpy(target0)).long()\n",
    "criterion = nn.NLLLoss()\n",
    "loss = criterion(output, target)\n",
    "print(loss)"
   ]
  },
  {
   "cell_type": "code",
   "execution_count": 522,
   "metadata": {
    "collapsed": false
   },
   "outputs": [
    {
     "name": "stdout",
     "output_type": "stream",
     "text": [
      "44 correct points for 44 points : accuracy = 1.0\n"
     ]
    }
   ],
   "source": [
    "predicted = clf.predict(vect_train_bin_features).reshape(-1)\n",
    "expected = vect_train_label\n",
    "print( \"{} correct points for {} points : accuracy = {}\".format(sum(predicted==expected), len(predicted), float(sum(predicted==expected))/ len(predicted)))"
   ]
  },
  {
   "cell_type": "code",
   "execution_count": 525,
   "metadata": {
    "collapsed": false
   },
   "outputs": [
    {
     "name": "stdout",
     "output_type": "stream",
     "text": [
      "8 correct points for 22 points : accuracy = 0.363636363636\n"
     ]
    }
   ],
   "source": [
    "predicted = clf.predict(vect_test_bin_features).reshape(-1)\n",
    "expected = vect_test_label\n",
    "print( \"{} correct points for {} points : accuracy = {}\".format(sum(predicted==expected), len(predicted), float(sum(predicted==expected))/ len(predicted)))"
   ]
  },
  {
   "cell_type": "code",
   "execution_count": 526,
   "metadata": {
    "collapsed": false
   },
   "outputs": [
    {
     "name": "stdout",
     "output_type": "stream",
     "text": [
      "0.0344574786723\n",
      "0.973843514919\n"
     ]
    },
    {
     "data": {
      "text/plain": [
       "[<matplotlib.lines.Line2D at 0x7f00b49f2d50>]"
      ]
     },
     "execution_count": 526,
     "metadata": {},
     "output_type": "execute_result"
    },
    {
     "data": {
      "image/png": "[encoded data removed]",
      "text/plain": [
       "<matplotlib.figure.Figure at 0x7f012efaaa10>"
      ]
     },
     "metadata": {},
     "output_type": "display_data"
    }
   ],
   "source": [
    "train_loss_list = l[0]\n",
    "test_loss_list = l[1]\n",
    "print(min(train_loss_list))\n",
    "print(min(test_loss_list))\n",
    "epochs = [i for i in range(len(train_loss_list))]\n",
    "f, ax = plt.subplots(2)\n",
    "f.subplots_adjust(wspace=0.5, hspace=0.5)\n",
    "ax[0].set_title(\"train loss\")\n",
    "ax[0].plot(epochs, train_loss_list)\n",
    "ax[1].set_title(\"test_loss\")\n",
    "ax[1].plot(epochs, test_loss_list)"
   ]
  },
  {
   "cell_type": "code",
   "execution_count": 537,
   "metadata": {
    "collapsed": false
   },
   "outputs": [
    {
     "name": "stdout",
     "output_type": "stream",
     "text": [
      "[  9.43451887e-05  -6.63438695e-05   9.42566403e-05   5.03344636e-04\n",
      "  -1.08120643e-04   8.17734472e-05   7.17704752e-05   2.52615100e-05\n",
      "   2.38761990e-04   3.97782751e-05  -2.46030657e-04  -1.25013452e-04\n",
      "   4.43691009e-04   5.66904964e-05   2.84783338e-04  -6.40032013e-05\n",
      "  -4.99656089e-05   1.16145551e-04   2.19537658e-04  -1.72068205e-04]\n",
      "[ 1.36200631  1.40164793  1.354357    1.48617363  1.41174734  1.34267294\n",
      "  1.55436254  1.3872273   1.29635847  1.44191766  1.34304655  1.45075905\n",
      "  1.45243025  1.29748976  1.49199057  1.3954885   1.34079552  1.36986709\n",
      "  1.4049561   1.40327942]\n"
     ]
    },
    {
     "data": {
      "text/plain": [
       "array([ 1.16704929,  1.04567254,  0.98785692,  1.14030731,  1.11004424,\n",
       "        0.95185798,  1.1703347 ,  1.1723274 ,  1.0514617 ,  1.01851702,\n",
       "        0.98270077,  1.05376279,  1.06103349,  1.01257789,  1.09887469,\n",
       "        1.00684547,  1.11781597,  1.07084405,  1.09472668,  1.04847634], dtype=float32)"
      ]
     },
     "execution_count": 537,
     "metadata": {},
     "output_type": "execute_result"
    }
   ],
   "source": [
    "net = clf.trained_net\n",
    "print(np.mean(list(net.children())[0].weight.data.numpy(), axis=1))\n",
    "print(np.max(list(net.children())[0].weight.data.numpy(), axis=1))\n",
    "np.max(list(net.children())[0].weight.data.numpy()[:, 1:10000], axis=1)"
   ]
  },
  {
   "cell_type": "code",
   "execution_count": 600,
   "metadata": {
    "collapsed": false
   },
   "outputs": [
    {
     "name": "stdout",
     "output_type": "stream",
     "text": [
      "[   320 239612 239617 281647    343 281638    303    322    454    520\n",
      "    368    536    386    379    108    297    296    319    389    381\n",
      "    370      0    326    407    293    315    328    305    376    298\n",
      "    455 281685    295    479    492    375    285    527    208    234\n",
      "    522    339    390    499 286833    468    198    200    258    501\n",
      "    383    171    317    483    354 239751    308    159    472    241\n",
      "    525    340    437    452    191    190    189    188    187    186\n",
      "    185    344    372    172    299    401    392    199    384    304\n",
      "    474    318 281646    387 239750    286    495    325    364    537\n",
      "    534    442 280319    292    493    484    365    369    469    174\n",
      "     31    518    497    523    515    446    337 281643    447    456\n",
      "    316 281642]\n",
      "name: James P. Brady\n",
      "name: John F. Kennedy\n",
      "name: Ronald Reagan\n",
      "name: John Tyler\n",
      "name: Yotam Haber\n",
      "name: William Henry Harrison\n",
      "name: Hilma Swedahl\n",
      "name: Jim Sinclair (politician)\n",
      "name: Burl Osborne\n",
      "name: Fabian Stoller\n",
      "name: Raymond Besse\n",
      "name: Louise Dear\n",
      "name: Charles William Glover\n",
      "name: Ken Krippene\n",
      "name: Albert P. Forsythe\n",
      "name: Bruno Fonseca\n",
      "name: Gonzalo Fonseca\n",
      "name: Malcolm Norris\n",
      "name: Ted Barris\n",
      "name: Johann August Nahl\n",
      "name: Eugène Galien-Laloue\n",
      "name: Alexander Seton (d. 1332)\n",
      "name: John B. Boucher\n",
      "name: Kirill Preobrazhenskiy\n",
      "name: Mazin Shooni\n",
      "name: Chevalier Alfredo Duprat\n",
      "name: Audrey Poitras\n",
      "name: Hilma Granqvist\n",
      "name: Elsie Fogerty\n",
      "name: Caio Fonseca\n",
      "name: Burl S. Watson\n",
      "name: Grover Cleveland\n",
      "name: Isabel Fonseca\n",
      "name: Krishnarao Jaisim\n",
      "name: Fergus Pollock\n",
      "name: Rosamund Stanhope\n",
      "name: Antonio Baratti\n",
      "name: Baruch Leib Rosowsky\n",
      "name: Noël Bernard (botanist)\n",
      "name: Raymond Duval\n",
      "name: Roger W. Stoller\n",
      "name: Lisa Wray\n",
      "name: Alex Barris\n",
      "name: Rupert Norfolk\n",
      "name: Thomas Jefferson\n",
      "name: Henrietta Leyser\n",
      "name: Daniel Conrad Reber\n",
      "name: George Ness Falkenstein\n",
      "name: George McCluskey (actor)\n",
      "name: Matt Calderwood\n",
      "name: Hugo Wilhelm Arthur Nahl\n",
      "name: Jacques Moeschal (architect)\n",
      "name: Patrick Duprat\n",
      "name: Paul Polak\n",
      "name: E. C. S. Shuttleworth\n",
      "name: Gerald Ford\n",
      "name: George Thiemeyer Hemmeter\n",
      "name: Luca Segantini\n",
      "name: James Hepokoski\n",
      "name: George Critchett (surgeon)\n",
      "name: Yuri Rasovsky\n",
      "name: Edward McHugh (artist)\n",
      "name: Steve Baker (illusionist)\n",
      "name: Tom Dine\n",
      "name: Edmund Bateman\n",
      "name: Thomas D'Oyly (priest)\n",
      "name: John Courtail\n",
      "name: Toby Henshaw\n",
      "name: Joseph Sayer\n",
      "name: Richard Bowchier\n",
      "name: James Williamson (priest)\n",
      "name: Mari Takano\n",
      "name: Roy Turner Durrant\n",
      "name: Jacques Moeschal (footballer)\n",
      "name: Daniel Pontet\n",
      "name: Geir Pollen\n",
      "name: David Fisher (architect)\n",
      "name: Isaac Newton Harvey Beahm\n",
      "name: Charles Christian Nahl\n",
      "name: Hilma Contreras\n",
      "name: Jeff Doyle (rugby league)\n",
      "name: Thomas Degos\n",
      "name: Martin Van Buren\n",
      "name: Stephen Glover (composer)\n",
      "name: Harry S. Truman\n",
      "name: Boris de Rachewiltz\n",
      "name: J. Donald Pollock\n",
      "name: Clément Chartier\n",
      "name: Neelamana Madhavan Nampoothiri\n",
      "name: Jeff Daly\n",
      "name: Arne Kvorning\n",
      "name: Gabriele Capellini\n",
      "name: James Buchanan\n",
      "name: Pedro Piedrabuena\n",
      "name: Edward Pollock\n",
      "name: Cheryl Heller\n",
      "name: Gerhard Marx\n",
      "name: Antoine Blanchard\n",
      "name: Ottoline Leyser\n",
      "name: Fred Armstrong (mayor)\n",
      "name: Ularbek Baitailaq\n",
      "name: Peter Clough\n",
      "name: Jean-Baptiste Sarlandière\n",
      "name: Ethan Stoller\n",
      "name: Joseph Messer Clough\n",
      "name: John Skeffington, 14th Viscount Massereene\n",
      "name: Léon Zack\n",
      "name: James K. Polk\n",
      "name: John Whyte-Melville-Skeffington, 13th Viscount Massereene\n",
      "name: W. Alton Jones\n",
      "name: Hubert Duprat\n",
      "name: James Monroe\n"
     ]
    },
    {
     "data": {
      "image/png": "[encoded data removed]",
      "text/plain": [
       "<matplotlib.figure.Figure at 0x7f01e36ca290>"
      ]
     },
     "metadata": {},
     "output_type": "display_data"
    }
   ],
   "source": [
    "def precision_recall_plot(pagerank_sorted, true_list, k_max=100, title=None):\n",
    "    list_precision = list()\n",
    "    list_recall = list()\n",
    "    for k in range(1, k_max):\n",
    "        y_pred = pagerank_sorted[:k]\n",
    "        list_precision.append(len(np.intersect1d(np.array(true_list), y_pred)) / float(k))\n",
    "        list_recall.append(len(np.intersect1d(np.array(true_list), y_pred)) / float(len(true_list)))\n",
    "\n",
    "    list_abs = [k for k in range(1, k_max)]\n",
    "    plt.figure(figsize = (12, 10))\n",
    "    plt.plot(list_abs, list_precision, c=\"b\", label=\"precision\")\n",
    "    plt.plot(list_abs, list_recall, c=\"r\", label=\"recall\")\n",
    "    plt.legend()\n",
    "    if title : \n",
    "        plt.title(title)\n",
    "\n",
    "\n",
    "y_pred = np.argsort(np.exp(clf.predict_proba(test_features)[:, 1]))\n",
    "print(test_id[y_pred])\n",
    "for a in test_id[y_pred]:\n",
    "    show_node(a, df_nodes, df_features, df_features_names, show_features=False)\n",
    "precision_recall_plot(y_pred, vect_test_id_little)\n"
   ]
  },
  {
   "cell_type": "markdown",
   "metadata": {
    "collapsed": true
   },
   "source": [
    "# Second method : personalized page rank with presidents as seed set"
   ]
  },
  {
   "cell_type": "code",
   "execution_count": 18,
   "metadata": {
    "collapsed": true
   },
   "outputs": [],
   "source": [
    "import networkx as nx"
   ]
  },
  {
   "cell_type": "code",
   "execution_count": 19,
   "metadata": {
    "collapsed": false
   },
   "outputs": [],
   "source": [
    "list_presidents_id = map(str, list_presidents_id)"
   ]
  },
  {
   "cell_type": "code",
   "execution_count": 20,
   "metadata": {
    "collapsed": false
   },
   "outputs": [],
   "source": [
    "graph = nx.read_edgelist(\"datasets/en-wikipedia.humans.ungraph.txt\", comments=\"#\", delimiter=\"\\t\")\n"
   ]
  },
  {
   "cell_type": "code",
   "execution_count": 21,
   "metadata": {
    "collapsed": false
   },
   "outputs": [],
   "source": [
    "df_graph = pd.read_csv(\"datasets/en-wikipedia.humans.ungraph.names.txt\", comment=\"#\", delimiter=\"\\t\", names=[\"id\", \"name\"])"
   ]
  },
  {
   "cell_type": "code",
   "execution_count": 22,
   "metadata": {
    "collapsed": true
   },
   "outputs": [],
   "source": [
    "df_graph2 = pd.read_csv(\"datasets/en-wikipedia.humans.ungraph.txt\", comment=\"#\", delimiter=\"\\t\", names=[\"source\", \"target\"])"
   ]
  },
  {
   "cell_type": "code",
   "execution_count": 23,
   "metadata": {
    "collapsed": true
   },
   "outputs": [],
   "source": [
    "vect_train_presidents_id, vect_test_presidents_id, _ = split(list_presidents_id, total_test_size=0.5, validation_size=0)"
   ]
  },
  {
   "cell_type": "code",
   "execution_count": 24,
   "metadata": {
    "collapsed": false
   },
   "outputs": [],
   "source": [
    "#personalization_dict = {a:(1. / len(list_presidents_id)) for a in list_presidents_id}\n",
    "personalization_dict = {a:(1. / len(vect_train_presidents_id)) for a in vect_train_presidents_id}\n",
    "#personalization_dict = {a:1 for a in [vect_train_presidents_id[0]]}"
   ]
  },
  {
   "cell_type": "markdown",
   "metadata": {},
   "source": [
    "### Construct a subgraph by BFS"
   ]
  },
  {
   "cell_type": "code",
   "execution_count": 106,
   "metadata": {
    "collapsed": false
   },
   "outputs": [
    {
     "name": "stdout",
     "output_type": "stream",
     "text": [
      "name: George Washington\n"
     ]
    }
   ],
   "source": [
    "DEPTH = 4\n",
    "SOURCE = vect_train_presidents_id[11]\n",
    "show_node(int(SOURCE), df_nodes, df_features, df_features_names, show_features=False)"
   ]
  },
  {
   "cell_type": "code",
   "execution_count": 100,
   "metadata": {
    "collapsed": true
   },
   "outputs": [],
   "source": [
    "d = dict(nx.bfs_successors(graph, source=SOURCE))"
   ]
  },
  {
   "cell_type": "code",
   "execution_count": 107,
   "metadata": {
    "collapsed": false
   },
   "outputs": [
    {
     "name": "stdout",
     "output_type": "stream",
     "text": [
      "202610\n",
      "202610\n"
     ]
    }
   ],
   "source": [
    "print(len(d.keys()))\n",
    "print(len(d.values()))\n"
   ]
  },
  {
   "cell_type": "code",
   "execution_count": null,
   "metadata": {
    "collapsed": false
   },
   "outputs": [],
   "source": [
    "nodes_subgraph = [SOURCE]\n",
    "def aux(node, d, depth):\n",
    "    global nodes_subgraph\n",
    "    if depth <= 0:\n",
    "        return None\n",
    "    try :\n",
    "        successors = d[node]\n",
    "    except:\n",
    "        return None\n",
    "    for succ in successors:\n",
    "        if succ not in nodes_subgraph:\n",
    "            nodes_subgraph.append(succ)\n",
    "            aux(succ, d, depth - 1)\n",
    "aux(SOURCE, d, DEPTH)\n",
    "print(len(nodes_subgraph))\n",
    "subgraph = nx.subgraph(graph, nodes_subgraph)\n",
    "nx.info(subgraph)"
   ]
  },
  {
   "cell_type": "code",
   "execution_count": null,
   "metadata": {
    "collapsed": false
   },
   "outputs": [],
   "source": [
    "for a in d[SOURCE]:\n",
    "    show_node(int(a), df_nodes, df_features, df_features_names, show_features=False)"
   ]
  },
  {
   "cell_type": "code",
   "execution_count": null,
   "metadata": {
    "collapsed": false
   },
   "outputs": [],
   "source": [
    "%%time\n",
    "#a = nx.pagerank_scipy(graph, max_iter = 300, tol=1e-2, personalization=personalization_dict, alpha=0.5)\n",
    "#a = nx.pagerank_numpy(graph)\n",
    "pagerank_perso_results = nx.pagerank(graph, personalization=personalization_dict)"
   ]
  },
  {
   "cell_type": "code",
   "execution_count": null,
   "metadata": {
    "collapsed": false
   },
   "outputs": [],
   "source": [
    "%%time\n",
    "pagerank_results = nx.pagerank(graph)"
   ]
  },
  {
   "cell_type": "code",
   "execution_count": 363,
   "metadata": {
    "collapsed": true
   },
   "outputs": [],
   "source": [
    "#pagerank_perso_results2 = nx.pagerank(graph, personalization=persoalization_dict, alpha=0.7)"
   ]
  },
  {
   "cell_type": "code",
   "execution_count": 353,
   "metadata": {
    "collapsed": false
   },
   "outputs": [],
   "source": [
    "pagerank_sorted = sorted(pagerank_results, key=pagerank_results.get, reverse=True)\n",
    "for president in vect_train_presidents_id:\n",
    "    pagerank_sorted.remove(president)"
   ]
  },
  {
   "cell_type": "code",
   "execution_count": 98,
   "metadata": {
    "collapsed": false
   },
   "outputs": [
    {
     "name": "stdout",
     "output_type": "stream",
     "text": [
      "True\n",
      "True\n",
      "[u'846031', u'1131371', u'3679463', u'2051469', u'2697750', u'2023151', u'2050026', u'846179', u'2051530', u'1784786']\n",
      "['277299' '281651' '281652' '281638' '281154' '239616' '238779' '282523'\n",
      " '281685' '281690']\n",
      "1\n"
     ]
    },
    {
     "ename": "ValueError",
     "evalue": "list.remove(x): x not in list",
     "output_type": "error",
     "traceback": [
      "\u001b[0;31m---------------------------------------------------------------------------\u001b[0m",
      "\u001b[0;31mValueError\u001b[0m                                Traceback (most recent call last)",
      "\u001b[0;32m<ipython-input-98-7ec88f9e7bfe>\u001b[0m in \u001b[0;36m<module>\u001b[0;34m()\u001b[0m\n\u001b[1;32m      6\u001b[0m \u001b[0;32mprint\u001b[0m\u001b[0;34m(\u001b[0m\u001b[0mlen\u001b[0m\u001b[0;34m(\u001b[0m\u001b[0mnp\u001b[0m\u001b[0;34m.\u001b[0m\u001b[0mintersect1d\u001b[0m\u001b[0;34m(\u001b[0m\u001b[0mnp\u001b[0m\u001b[0;34m.\u001b[0m\u001b[0marray\u001b[0m\u001b[0;34m(\u001b[0m\u001b[0mlist_presidents_id\u001b[0m\u001b[0;34m)\u001b[0m\u001b[0;34m,\u001b[0m \u001b[0mpagerank_perso_sorted\u001b[0m\u001b[0;34m)\u001b[0m \u001b[0;34m)\u001b[0m\u001b[0;34m)\u001b[0m\u001b[0;34m\u001b[0m\u001b[0m\n\u001b[1;32m      7\u001b[0m \u001b[0;32mfor\u001b[0m \u001b[0mpresident\u001b[0m \u001b[0;32min\u001b[0m \u001b[0mvect_train_presidents_id\u001b[0m\u001b[0;34m:\u001b[0m\u001b[0;34m\u001b[0m\u001b[0m\n\u001b[0;32m----> 8\u001b[0;31m     \u001b[0mpagerank_perso_sorted\u001b[0m\u001b[0;34m.\u001b[0m\u001b[0mremove\u001b[0m\u001b[0;34m(\u001b[0m\u001b[0mpresident\u001b[0m\u001b[0;34m)\u001b[0m\u001b[0;34m\u001b[0m\u001b[0m\n\u001b[0m",
      "\u001b[0;31mValueError\u001b[0m: list.remove(x): x not in list"
     ]
    }
   ],
   "source": [
    "pagerank_perso_sorted = sorted(pagerank_perso_results, key=pagerank_perso_results.get, reverse=True)\n",
    "print(SOURCE in list(subgraph.nodes()))\n",
    "print(SOURCE in pagerank_perso_sorted)\n",
    "print(pagerank_perso_sorted[:10])\n",
    "print(np.array(vect_train_presidents_id)[:10])\n",
    "print(len(np.intersect1d(np.array(list_presidents_id), pagerank_perso_sorted) ))\n",
    "for president in vect_train_presidents_id:\n",
    "    pagerank_perso_sorted.remove(president)"
   ]
  },
  {
   "cell_type": "markdown",
   "metadata": {
    "collapsed": true
   },
   "source": [
    "pagerank_perso_sorted2 = sorted(pagerank_perso_results2, key=pagerank_perso_results2.get, reverse=True)\n",
    "for president in vect_train_presidents_id:\n",
    "    pagerank_perso_sorted2.remove(president)"
   ]
  },
  {
   "cell_type": "markdown",
   "metadata": {
    "collapsed": false
   },
   "source": [
    "%%time\n",
    "combined_pagerank = {}\n",
    "M = max(pagerank_results.values())\n",
    "for key in pagerank_perso_results.keys():\n",
    "    combined_pagerank[key] = (pagerank_perso_results[key]**2 / pagerank_results[key])\n"
   ]
  },
  {
   "cell_type": "markdown",
   "metadata": {
    "collapsed": true
   },
   "source": [
    "combined_pagerank_sorted = sorted(combined_pagerank, key=combined_pagerank.get, reverse=True)\n",
    "for president in vect_train_presidents_id:\n",
    "    combined_pagerank_sorted.remove(president)"
   ]
  },
  {
   "cell_type": "code",
   "execution_count": 28,
   "metadata": {
    "collapsed": false
   },
   "outputs": [
    {
     "ename": "NameError",
     "evalue": "name 'pagerank_perso_sorted' is not defined",
     "output_type": "error",
     "traceback": [
      "\u001b[0;31m---------------------------------------------------------------------------\u001b[0m",
      "\u001b[0;31mNameError\u001b[0m                                 Traceback (most recent call last)",
      "\u001b[0;32m<ipython-input-28-03e895b66179>\u001b[0m in \u001b[0;36m<module>\u001b[0;34m()\u001b[0m\n\u001b[1;32m      1\u001b[0m \u001b[0;31m#best_pagerank = combined_pagerank_sorted[:50]\u001b[0m\u001b[0;34m\u001b[0m\u001b[0;34m\u001b[0m\u001b[0m\n\u001b[0;32m----> 2\u001b[0;31m \u001b[0mbest_pagerank\u001b[0m \u001b[0;34m=\u001b[0m \u001b[0mpagerank_perso_sorted\u001b[0m\u001b[0;34m[\u001b[0m\u001b[0;34m:\u001b[0m\u001b[0;36m50\u001b[0m\u001b[0;34m]\u001b[0m\u001b[0;34m\u001b[0m\u001b[0m\n\u001b[0m",
      "\u001b[0;31mNameError\u001b[0m: name 'pagerank_perso_sorted' is not defined"
     ]
    }
   ],
   "source": [
    "#best_pagerank = combined_pagerank_sorted[:50]\n",
    "best_pagerank = pagerank_perso_sorted[:50]"
   ]
  },
  {
   "cell_type": "code",
   "execution_count": null,
   "metadata": {
    "collapsed": false
   },
   "outputs": [],
   "source": [
    "len(np.intersect1d(np.array(vect_test_presidents_id), best_pagerank))"
   ]
  },
  {
   "cell_type": "code",
   "execution_count": null,
   "metadata": {
    "collapsed": false
   },
   "outputs": [],
   "source": [
    "len(vect_test_presidents_id)"
   ]
  },
  {
   "cell_type": "code",
   "execution_count": null,
   "metadata": {
    "collapsed": false
   },
   "outputs": [],
   "source": [
    "for i in range(20):\n",
    "    show_node(int(best_pagerank[i]), df_nodes, df_features, df_features_names, show_features=False)\n"
   ]
  },
  {
   "cell_type": "markdown",
   "metadata": {
    "collapsed": true
   },
   "source": [
    "## Analyse results (precision-recall scores)"
   ]
  },
  {
   "cell_type": "code",
   "execution_count": null,
   "metadata": {
    "collapsed": true
   },
   "outputs": [],
   "source": [
    "from sklearn.metrics import precision_score, recall_score, f1_score"
   ]
  },
  {
   "cell_type": "code",
   "execution_count": null,
   "metadata": {
    "collapsed": false
   },
   "outputs": [],
   "source": [
    "def precision_recall_plot(pagerank_sorted, true_list, k_max=100, title=None):\n",
    "    list_precision = list()\n",
    "    list_recall = list()\n",
    "    for k in range(1, k_max):\n",
    "        y_pred = pagerank_sorted[:k]\n",
    "        list_precision.append(len(np.intersect1d(np.array(true_list), y_pred)) / float(k))\n",
    "        list_recall.append(len(np.intersect1d(np.array(true_list), y_pred)) / float(len(true_list)))\n",
    "\n",
    "    list_abs = [k for k in range(1, k_max)]\n",
    "    plt.figure(figsize = (12, 10))\n",
    "    plt.plot(list_abs, list_precision, c=\"b\", label=\"precision\")\n",
    "    plt.plot(list_abs, list_recall, c=\"r\", label=\"recall\")\n",
    "    plt.legend()\n",
    "    if title : \n",
    "        plt.title(title)\n",
    "\n",
    "precision_recall_plot(pagerank_sorted, vect_test_presidents_id, title=\"alpha = 0.85\")"
   ]
  },
  {
   "cell_type": "code",
   "execution_count": null,
   "metadata": {
    "collapsed": false
   },
   "outputs": [],
   "source": [
    "precision_recall_plot(pagerank_sorted2, vect_test_presidents_id, title=\"alpha = 0.70\")"
   ]
  },
  {
   "cell_type": "code",
   "execution_count": 388,
   "metadata": {
    "collapsed": false
   },
   "outputs": [
    {
     "name": "stdout",
     "output_type": "stream",
     "text": [
      "name: George W. Bush\n",
      "0\n",
      "0.00051517014534\n",
      "0.000441383310448\n",
      "0.000378164822835\n",
      "name: Abraham Lincoln\n",
      "1\n",
      "0.000224747130062\n",
      "0.000353271920605\n",
      "0.000555295410684\n",
      "name: Bill Clinton\n",
      "2\n",
      "0.000404404831393\n",
      "0.000339264288948\n",
      "0.000284616425968\n",
      "name: Franklin D. Roosevelt\n",
      "5\n",
      "0.00026391154368\n",
      "0.000265891036409\n",
      "0.000267885376504\n",
      "name: Andrew Jackson\n",
      "9\n",
      "7.52478168638e-05\n",
      "0.000209252991708\n",
      "0.000581901460581\n",
      "name: James Buchanan\n",
      "11\n",
      "3.92940742225e-05\n",
      "0.000193665663332\n",
      "0.00095450497043\n",
      "name: Martin Van Buren\n",
      "12\n",
      "2.90519499945e-05\n",
      "0.000178852724643\n",
      "0.0011010722901\n",
      "name: Ulysses S. Grant\n",
      "13\n",
      "0.000125677720689\n",
      "0.000178604326179\n",
      "0.000253819890709\n",
      "name: Harry S. Truman\n",
      "14\n",
      "0.000165333505429\n",
      "0.00017743323675\n",
      "0.000190418472178\n",
      "name: George Washington\n",
      "15\n",
      "0.000148535426395\n",
      "0.000171855393601\n",
      "0.000198836580784\n",
      "name: Lyndon B. Johnson\n",
      "17\n",
      "0.000180777388803\n",
      "0.000157463569132\n",
      "0.00013715639864\n",
      "name: Zachary Taylor\n",
      "19\n",
      "3.4841648025e-05\n",
      "0.000147598365796\n",
      "0.000625265417123\n",
      "name: Herbert Hoover\n",
      "20\n",
      "7.74290969595e-05\n",
      "0.00014497012286\n",
      "0.000271426858215\n",
      "name: William McKinley\n",
      "26\n",
      "7.51774906725e-05\n",
      "0.0001325888926\n",
      "0.000233844123869\n",
      "name: Rutherford B. Hayes\n",
      "30\n",
      "4.15277209749e-05\n",
      "0.00012244408449\n",
      "0.000361025201349\n",
      "name: James Monroe\n",
      "34\n",
      "3.44425940614e-05\n",
      "0.000115248344877\n",
      "0.000385632422841\n",
      "name: Gerald Ford\n",
      "36\n",
      "9.99240632544e-05\n",
      "0.000107631557446\n",
      "0.000115933557753\n",
      "name: Franklin Pierce\n",
      "41\n",
      "3.77335327137e-05\n",
      "0.000105833099436\n",
      "0.00029683531148\n",
      "name: Benjamin Harrison\n",
      "48\n",
      "4.96739432597e-05\n",
      "9.83938190082e-05\n",
      "0.000194897827386\n",
      "name: William Howard Taft\n",
      "53\n",
      "6.39636383295e-05\n",
      "9.64950227684e-05\n",
      "0.00014557160384\n",
      "name: Winfield Scott\n",
      "63\n",
      "2.32322895198e-05\n",
      "9.24979080135e-05\n",
      "0.000368274636884\n",
      "name: James Madison\n",
      "65\n",
      "3.94968947071e-05\n",
      "9.01486370456e-05\n",
      "0.000205757359444\n"
     ]
    }
   ],
   "source": [
    "def presidents_rank(pagerank_sorted, true_list):\n",
    "    mask = numpy.isin(pagerank_sorted, true_list)\n",
    "    list_id = np.array(pagerank_sorted)[mask]\n",
    "    list_id = map(str, list_id)\n",
    "    list_indices = np.where(mask)\n",
    "    for i in range(len(list_id)):\n",
    "        show_node(int(list_id[i]), df_nodes, df_features, df_features_names, show_features=False)        \n",
    "        print(list_indices[0][i])\n",
    "        print(pagerank_results[list_id[i]])\n",
    "        print(pagerank_perso_results[list_id[i]])\n",
    "        print(combined_pagerank[list_id[i]])\n",
    "presidents_rank(pagerank_perso_sorted, vect_test_presidents_id)"
   ]
  },
  {
   "cell_type": "code",
   "execution_count": 362,
   "metadata": {
    "collapsed": false
   },
   "outputs": [
    {
     "name": "stdout",
     "output_type": "stream",
     "text": [
      "name: Elizabeth II\n",
      "3\n",
      "0.000378501860731\n",
      "0.000320054614908\n",
      "name: William Shakespeare\n",
      "4\n",
      "0.00033939275967\n",
      "0.000266172247542\n",
      "name: Adolf Hitler\n",
      "6\n",
      "0.000329890718545\n",
      "0.000257496541343\n",
      "name: Pope John Paul II\n",
      "7\n",
      "0.00029558803759\n",
      "0.000219133440264\n",
      "name: Queen Victoria\n",
      "8\n",
      "0.000239000563746\n",
      "0.000215229984909\n",
      "name: Napoleon\n",
      "10\n",
      "0.000246227086524\n",
      "0.00019975907738\n",
      "name: Jesus\n",
      "16\n",
      "0.000208242060373\n",
      "0.000161934627112\n",
      "name: Henry Clay\n",
      "18\n",
      "3.016751695e-05\n",
      "0.000153576878275\n",
      "name: Joseph Stalin\n",
      "21\n",
      "0.000178284201512\n",
      "0.000140483609623\n",
      "name: Daniel Webster\n",
      "22\n",
      "2.20193761939e-05\n",
      "0.000137763513326\n",
      "name: George V\n",
      "23\n",
      "0.000173112943961\n",
      "0.000136516310003\n",
      "name: Thurlow Weed\n",
      "24\n",
      "3.60846380886e-06\n",
      "0.00013404402434\n",
      "name: Winston Churchill\n",
      "25\n",
      "0.000153013321475\n",
      "0.000133394019981\n",
      "name: Pope Benedict XVI\n",
      "27\n",
      "0.000177497802757\n",
      "0.000131373556857\n",
      "name: Thomas Hart Benton (politician)\n",
      "28\n",
      "9.88447345879e-06\n",
      "0.000130813254182\n",
      "name: John J. Crittenden\n",
      "29\n",
      "1.25941451085e-05\n",
      "0.000129072151571\n",
      "name: Wolfgang Amadeus Mozart\n",
      "31\n",
      "0.000159197286029\n",
      "0.0001205681626\n",
      "name: John Bell (Tennessee politician)\n",
      "32\n",
      "9.16740657073e-06\n",
      "0.000118930470981\n",
      "name: James B. Longacre\n",
      "33\n",
      "6.39866421478e-06\n",
      "0.000118054953445\n",
      "name: Johann Sebastian Bach\n",
      "35\n",
      "0.000142140947232\n",
      "0.000109785784201\n",
      "name: Margaret Thatcher\n",
      "37\n",
      "0.000113320376221\n",
      "0.000107613843137\n",
      "name: Walther-Peer Fellgiebel\n",
      "38\n",
      "0.000235532510975\n",
      "0.000107175007549\n",
      "name: Elvis Presley\n",
      "39\n",
      "0.000128776020943\n",
      "0.000106209439496\n",
      "name: Charles Darwin\n",
      "40\n",
      "0.000102435859062\n",
      "0.00010594137226\n",
      "name: Joseph B. Foraker\n",
      "42\n",
      "9.08767907238e-06\n",
      "0.000102592311771\n",
      "name: John C. Calhoun\n",
      "43\n",
      "1.70853116058e-05\n",
      "0.000100408646375\n",
      "name: Robert P. Letcher\n",
      "44\n",
      "3.49434440233e-06\n",
      "0.000100267384308\n",
      "name: Mark Hanna\n",
      "45\n",
      "1.15250626623e-05\n",
      "9.90696335008e-05\n",
      "name: Philip Richard Fendall II\n",
      "46\n",
      "2.78097456818e-06\n",
      "9.86396829631e-05\n",
      "name: Richard Mentor Johnson\n",
      "47\n",
      "8.63811627759e-06\n",
      "9.85071937061e-05\n",
      "name: Isaac Leffler\n",
      "49\n",
      "1.52078866436e-06\n",
      "9.73085189653e-05\n",
      "name: William Cranch\n",
      "50\n",
      "2.56791546602e-06\n",
      "9.69756251984e-05\n",
      "name: Washington Irving\n",
      "51\n",
      "2.1109274791e-05\n",
      "9.68831341177e-05\n",
      "name: Ludwig van Beethoven\n",
      "52\n",
      "0.00012199493155\n",
      "9.66670218878e-05\n",
      "name: Tony Blair\n",
      "54\n",
      "0.000107230470966\n",
      "9.6139207933e-05\n",
      "name: Elizabeth I of England\n",
      "55\n",
      "0.00012595589535\n",
      "9.59481759068e-05\n",
      "name: Charles I of England\n",
      "56\n",
      "0.000121268787527\n",
      "9.59193759896e-05\n",
      "name: Fidel Castro\n",
      "57\n",
      "9.79089398354e-05\n",
      "9.53365527093e-05\n",
      "name: Jefferson Davis\n",
      "58\n",
      "4.10052634857e-05\n",
      "9.46483024826e-05\n",
      "name: Muhammad\n",
      "59\n",
      "0.000129701195742\n",
      "9.44986631793e-05\n",
      "name: Bob Dylan\n",
      "60\n",
      "0.000111305769714\n",
      "9.44196981113e-05\n",
      "name: Thomas Ewing\n",
      "61\n",
      "4.63488708218e-06\n",
      "9.43480530805e-05\n",
      "name: Rob Portman\n",
      "62\n",
      "9.43962883057e-06\n",
      "9.2817329402e-05\n",
      "name: Thomas Clayton\n",
      "64\n",
      "3.21261201378e-06\n",
      "9.09275212915e-05\n",
      "name: Al Gore\n",
      "66\n",
      "7.25625576704e-05\n",
      "9.00922324509e-05\n",
      "name: Philip Sheridan\n",
      "67\n",
      "2.50621246042e-05\n",
      "8.900383812e-05\n",
      "name: Charles II of England\n",
      "68\n",
      "0.000111554311263\n",
      "8.82912445706e-05\n",
      "name: Karl Marx\n",
      "69\n",
      "0.000109946786944\n",
      "8.82259180844e-05\n",
      "name: Andrew Jackson Donelson\n",
      "70\n",
      "2.22394149334e-06\n",
      "8.79718329783e-05\n",
      "name: Michael Jackson\n",
      "71\n",
      "0.000105390807908\n",
      "8.78957036557e-05\n",
      "name: John C. Breckinridge\n",
      "72\n",
      "2.43096455983e-05\n",
      "8.6768079374e-05\n",
      "name: George III of the United Kingdom\n",
      "73\n",
      "9.06249839166e-05\n",
      "8.63638216725e-05\n",
      "name: Johann Wolfgang von Goethe\n",
      "74\n",
      "9.96462100974e-05\n",
      "8.61754175835e-05\n",
      "name: Aristotle\n",
      "75\n",
      "0.000103582545966\n",
      "8.60008919519e-05\n",
      "name: Frederick Douglass\n",
      "76\n",
      "2.39441561755e-05\n",
      "8.47255390102e-05\n",
      "name: George M. Dallas\n",
      "77\n",
      "5.9688484947e-06\n",
      "8.47150614155e-05\n",
      "name: John Alexander McClernand\n",
      "78\n",
      "5.99805655823e-06\n",
      "8.44236392593e-05\n",
      "name: James G. Blaine\n",
      "79\n",
      "1.59253992972e-05\n",
      "8.42813400997e-05\n",
      "name: Edward VII\n",
      "80\n",
      "0.000103414231838\n",
      "8.4238498396e-05\n",
      "name: Benito Mussolini\n",
      "81\n",
      "0.000100990209164\n",
      "8.40881234615e-05\n",
      "name: Roscoe Conkling\n",
      "82\n",
      "8.27923843628e-06\n",
      "8.37922463738e-05\n",
      "name: Frank Sinatra\n",
      "83\n",
      "9.3654333157e-05\n",
      "8.35752990388e-05\n",
      "name: Edgar Allan Poe\n",
      "84\n",
      "6.0597628466e-05\n",
      "8.34569003786e-05\n",
      "name: Napoleon III\n",
      "85\n",
      "6.71924224271e-05\n",
      "8.33091879403e-05\n",
      "name: Samuel Finley Vinton\n",
      "86\n",
      "2.69202771692e-06\n",
      "8.2914099703e-05\n"
     ]
    }
   ],
   "source": [
    "def non_presidents_rank(pagerank_sorted, true_list):\n",
    "        mask = numpy.isin(pagerank_sorted, true_list)\n",
    "        k_max = max(np.where(mask)[0])\n",
    "        mask = ~numpy.isin(pagerank_sorted, true_list)\n",
    "        list_id = np.array(pagerank_sorted)[mask]\n",
    "        list_id = map(str, list_id)\n",
    "        list_indices = np.where(mask)\n",
    "        for i in range(k_max):\n",
    "            show_node(int(list_id[i]), df_nodes, df_features, df_features_names, show_features=False)  \n",
    "            print(list_indices[0][i])\n",
    "            print(pagerank_results[list_id[i]])\n",
    "            print(pagerank_perso_results[list_id[i]])\n",
    "\n",
    "non_presidents_rank(pagerank_perso_sorted, vect_test_presidents_id)"
   ]
  },
  {
   "cell_type": "code",
   "execution_count": null,
   "metadata": {
    "collapsed": false
   },
   "outputs": [],
   "source": [
    "nx.modularity_spectrum"
   ]
  },
  {
   "cell_type": "code",
   "execution_count": 391,
   "metadata": {
    "collapsed": true
   },
   "outputs": [],
   "source": [
    "import community.community_louvain as ct"
   ]
  },
  {
   "cell_type": "code",
   "execution_count": 401,
   "metadata": {
    "collapsed": false,
    "scrolled": true
   },
   "outputs": [
    {
     "ename": "KeyboardInterrupt",
     "evalue": "",
     "output_type": "error",
     "traceback": [
      "\u001b[0;31m---------------------------------------------------------------------------\u001b[0m",
      "\u001b[0;31mKeyboardInterrupt\u001b[0m                         Traceback (most recent call last)",
      "\u001b[0;32m<ipython-input-401-a718d4150c17>\u001b[0m in \u001b[0;36m<module>\u001b[0;34m()\u001b[0m\n\u001b[0;32m----> 1\u001b[0;31m \u001b[0mlouvain_commnities\u001b[0m \u001b[0;34m=\u001b[0m \u001b[0mct\u001b[0m\u001b[0;34m.\u001b[0m\u001b[0mbest_partition\u001b[0m\u001b[0;34m(\u001b[0m\u001b[0mgraph\u001b[0m\u001b[0;34m)\u001b[0m\u001b[0;34m\u001b[0m\u001b[0m\n\u001b[0m",
      "\u001b[0;32m/home/graphs/community/community_louvain.py\u001b[0m in \u001b[0;36mbest_partition\u001b[0;34m(graph, partition, weight, resolution)\u001b[0m\n\u001b[1;32m    201\u001b[0m     \u001b[0;34m>>\u001b[0m\u001b[0;34m>\u001b[0m \u001b[0mplt\u001b[0m\u001b[0;34m.\u001b[0m\u001b[0mshow\u001b[0m\u001b[0;34m(\u001b[0m\u001b[0;34m)\u001b[0m\u001b[0;34m\u001b[0m\u001b[0m\n\u001b[1;32m    202\u001b[0m     \"\"\"\n\u001b[0;32m--> 203\u001b[0;31m     \u001b[0mdendo\u001b[0m \u001b[0;34m=\u001b[0m \u001b[0mgenerate_dendrogram\u001b[0m\u001b[0;34m(\u001b[0m\u001b[0mgraph\u001b[0m\u001b[0;34m,\u001b[0m \u001b[0mpartition\u001b[0m\u001b[0;34m,\u001b[0m \u001b[0mweight\u001b[0m\u001b[0;34m,\u001b[0m \u001b[0mresolution\u001b[0m\u001b[0;34m)\u001b[0m\u001b[0;34m\u001b[0m\u001b[0m\n\u001b[0m\u001b[1;32m    204\u001b[0m     \u001b[0;32mreturn\u001b[0m \u001b[0mpartition_at_level\u001b[0m\u001b[0;34m(\u001b[0m\u001b[0mdendo\u001b[0m\u001b[0;34m,\u001b[0m \u001b[0mlen\u001b[0m\u001b[0;34m(\u001b[0m\u001b[0mdendo\u001b[0m\u001b[0;34m)\u001b[0m \u001b[0;34m-\u001b[0m \u001b[0;36m1\u001b[0m\u001b[0;34m)\u001b[0m\u001b[0;34m\u001b[0m\u001b[0m\n\u001b[1;32m    205\u001b[0m \u001b[0;34m\u001b[0m\u001b[0m\n",
      "\u001b[0;32m/home/graphs/community/community_louvain.py\u001b[0m in \u001b[0;36mgenerate_dendrogram\u001b[0;34m(graph, part_init, weight, resolution)\u001b[0m\n\u001b[1;32m    274\u001b[0m         \u001b[0;32mreturn\u001b[0m \u001b[0;34m[\u001b[0m\u001b[0mpart\u001b[0m\u001b[0;34m]\u001b[0m\u001b[0;34m\u001b[0m\u001b[0m\n\u001b[1;32m    275\u001b[0m \u001b[0;34m\u001b[0m\u001b[0m\n\u001b[0;32m--> 276\u001b[0;31m     \u001b[0mcurrent_graph\u001b[0m \u001b[0;34m=\u001b[0m \u001b[0mgraph\u001b[0m\u001b[0;34m.\u001b[0m\u001b[0mcopy\u001b[0m\u001b[0;34m(\u001b[0m\u001b[0;34m)\u001b[0m\u001b[0;34m\u001b[0m\u001b[0m\n\u001b[0m\u001b[1;32m    277\u001b[0m     \u001b[0mstatus\u001b[0m \u001b[0;34m=\u001b[0m \u001b[0mStatus\u001b[0m\u001b[0;34m(\u001b[0m\u001b[0;34m)\u001b[0m\u001b[0;34m\u001b[0m\u001b[0m\n\u001b[1;32m    278\u001b[0m     \u001b[0mstatus\u001b[0m\u001b[0;34m.\u001b[0m\u001b[0minit\u001b[0m\u001b[0;34m(\u001b[0m\u001b[0mcurrent_graph\u001b[0m\u001b[0;34m,\u001b[0m \u001b[0mweight\u001b[0m\u001b[0;34m,\u001b[0m \u001b[0mpart_init\u001b[0m\u001b[0;34m)\u001b[0m\u001b[0;34m\u001b[0m\u001b[0m\n",
      "\u001b[0;32m/usr/local/lib/python2.7/dist-packages/networkx/classes/graph.pyc\u001b[0m in \u001b[0;36mcopy\u001b[0;34m(self, as_view)\u001b[0m\n\u001b[1;32m   1419\u001b[0m         \u001b[0mG\u001b[0m\u001b[0;34m.\u001b[0m\u001b[0madd_nodes_from\u001b[0m\u001b[0;34m(\u001b[0m\u001b[0;34m(\u001b[0m\u001b[0mn\u001b[0m\u001b[0;34m,\u001b[0m \u001b[0md\u001b[0m\u001b[0;34m.\u001b[0m\u001b[0mcopy\u001b[0m\u001b[0;34m(\u001b[0m\u001b[0;34m)\u001b[0m\u001b[0;34m)\u001b[0m \u001b[0;32mfor\u001b[0m \u001b[0mn\u001b[0m\u001b[0;34m,\u001b[0m \u001b[0md\u001b[0m \u001b[0;32min\u001b[0m \u001b[0mself\u001b[0m\u001b[0;34m.\u001b[0m\u001b[0m_node\u001b[0m\u001b[0;34m.\u001b[0m\u001b[0mitems\u001b[0m\u001b[0;34m(\u001b[0m\u001b[0;34m)\u001b[0m\u001b[0;34m)\u001b[0m\u001b[0;34m\u001b[0m\u001b[0m\n\u001b[1;32m   1420\u001b[0m         G.add_edges_from((u, v, datadict.copy())\n\u001b[0;32m-> 1421\u001b[0;31m                          \u001b[0;32mfor\u001b[0m \u001b[0mu\u001b[0m\u001b[0;34m,\u001b[0m \u001b[0mnbrs\u001b[0m \u001b[0;32min\u001b[0m \u001b[0mself\u001b[0m\u001b[0;34m.\u001b[0m\u001b[0madj\u001b[0m\u001b[0;34m.\u001b[0m\u001b[0mitems\u001b[0m\u001b[0;34m(\u001b[0m\u001b[0;34m)\u001b[0m\u001b[0;34m\u001b[0m\u001b[0m\n\u001b[0m\u001b[1;32m   1422\u001b[0m                          for v, datadict in nbrs.items())\n\u001b[1;32m   1423\u001b[0m         \u001b[0;32mreturn\u001b[0m \u001b[0mG\u001b[0m\u001b[0;34m\u001b[0m\u001b[0m\n",
      "\u001b[0;32m/usr/local/lib/python2.7/dist-packages/networkx/classes/graph.pyc\u001b[0m in \u001b[0;36madd_edges_from\u001b[0;34m(self, ebunch, **attr)\u001b[0m\n\u001b[1;32m    937\u001b[0m                 \u001b[0mself\u001b[0m\u001b[0;34m.\u001b[0m\u001b[0m_adj\u001b[0m\u001b[0;34m[\u001b[0m\u001b[0mv\u001b[0m\u001b[0;34m]\u001b[0m \u001b[0;34m=\u001b[0m \u001b[0mself\u001b[0m\u001b[0;34m.\u001b[0m\u001b[0madjlist_inner_dict_factory\u001b[0m\u001b[0;34m(\u001b[0m\u001b[0;34m)\u001b[0m\u001b[0;34m\u001b[0m\u001b[0m\n\u001b[1;32m    938\u001b[0m                 \u001b[0mself\u001b[0m\u001b[0;34m.\u001b[0m\u001b[0m_node\u001b[0m\u001b[0;34m[\u001b[0m\u001b[0mv\u001b[0m\u001b[0;34m]\u001b[0m \u001b[0;34m=\u001b[0m \u001b[0;34m{\u001b[0m\u001b[0;34m}\u001b[0m\u001b[0;34m\u001b[0m\u001b[0m\n\u001b[0;32m--> 939\u001b[0;31m             \u001b[0mdatadict\u001b[0m \u001b[0;34m=\u001b[0m \u001b[0mself\u001b[0m\u001b[0;34m.\u001b[0m\u001b[0m_adj\u001b[0m\u001b[0;34m[\u001b[0m\u001b[0mu\u001b[0m\u001b[0;34m]\u001b[0m\u001b[0;34m.\u001b[0m\u001b[0mget\u001b[0m\u001b[0;34m(\u001b[0m\u001b[0mv\u001b[0m\u001b[0;34m,\u001b[0m \u001b[0mself\u001b[0m\u001b[0;34m.\u001b[0m\u001b[0medge_attr_dict_factory\u001b[0m\u001b[0;34m(\u001b[0m\u001b[0;34m)\u001b[0m\u001b[0;34m)\u001b[0m\u001b[0;34m\u001b[0m\u001b[0m\n\u001b[0m\u001b[1;32m    940\u001b[0m             \u001b[0mdatadict\u001b[0m\u001b[0;34m.\u001b[0m\u001b[0mupdate\u001b[0m\u001b[0;34m(\u001b[0m\u001b[0mattr\u001b[0m\u001b[0;34m)\u001b[0m\u001b[0;34m\u001b[0m\u001b[0m\n\u001b[1;32m    941\u001b[0m             \u001b[0mdatadict\u001b[0m\u001b[0;34m.\u001b[0m\u001b[0mupdate\u001b[0m\u001b[0;34m(\u001b[0m\u001b[0mdd\u001b[0m\u001b[0;34m)\u001b[0m\u001b[0;34m\u001b[0m\u001b[0m\n",
      "\u001b[0;31mKeyboardInterrupt\u001b[0m: "
     ]
    }
   ],
   "source": [
    "louvain_commnities = ct.best_partition(graph)"
   ]
  },
  {
   "cell_type": "code",
   "execution_count": null,
   "metadata": {
    "collapsed": true
   },
   "outputs": [],
   "source": []
  }
 ],
 "metadata": {
  "kernelspec": {
   "display_name": "Python 2",
   "language": "python",
   "name": "python2"
  },
  "language_info": {
   "codemirror_mode": {
    "name": "ipython",
    "version": 2
   },
   "file_extension": ".py",
   "mimetype": "text/x-python",
   "name": "python",
   "nbconvert_exporter": "python",
   "pygments_lexer": "ipython2",
   "version": "2.7.9"
  }
 },
 "nbformat": 4,
 "nbformat_minor": 1
}
